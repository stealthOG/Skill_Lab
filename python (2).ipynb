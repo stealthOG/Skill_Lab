{
 "cells": [
  {
   "cell_type": "markdown",
   "id": "042850a3-672d-4d51-9b66-93587a16e561",
   "metadata": {},
   "source": [
    "## Python\n",
    "##### Ekwe Collins Odinaka\n",
    "\n",
    "This is python as understood by collins and kind of keeps track of my python journey. Definitely a lot has happened before this notebook and alot afterwards, but decided to put it up here cause it lets me see how far i've come and how far i can go."
   ]
  },
  {
   "cell_type": "markdown",
   "id": "0a0c1164-a0be-43c0-9e47-e95e7d484519",
   "metadata": {},
   "source": [
    "## For Loop"
   ]
  },
  {
   "cell_type": "code",
   "execution_count": 1,
   "id": "bd0d2948-debc-4883-b763-2a5ebdb7765b",
   "metadata": {},
   "outputs": [],
   "source": [
    "book_title =  ['great', 'expectations','the', 'adventures', 'of', 'sherlock','holmes','the','great','gasby','hamlet','adventures','of','huckleberry','fin']"
   ]
  },
  {
   "cell_type": "markdown",
   "id": "46fcab11-a8b8-4e8a-ad50-0003c959e1d2",
   "metadata": {},
   "source": [
    "Step 1: Create an empty dictionary."
   ]
  },
  {
   "cell_type": "code",
   "execution_count": 2,
   "id": "778cc8e3-e37a-4cf9-a252-df56d9fb413f",
   "metadata": {},
   "outputs": [],
   "source": [
    "word_counter = {}"
   ]
  },
  {
   "cell_type": "markdown",
   "id": "25c127e2-db21-435d-a36c-1397211abaa6",
   "metadata": {},
   "source": [
    "Step 2. Iterate through each element in the list. If an element is already included in the dictionary, add 1 to its value. If not, add the element to the dictionary and set its value to 1.\n"
   ]
  },
  {
   "cell_type": "code",
   "execution_count": 3,
   "id": "a344aab1-1c19-4e03-a276-dbb32f2311d5",
   "metadata": {},
   "outputs": [],
   "source": [
    "for word in book_title:\n",
    "    if word not in word_counter:\n",
    "        word_counter[word] = 1\n",
    "    else:\n",
    "        word_counter[word] += 1"
   ]
  },
  {
   "cell_type": "markdown",
   "id": "375ccd3e-3300-4784-82e1-2f6e07950c02",
   "metadata": {},
   "source": [
    "What's happening here?\n",
    "The for loop iterates through each element in the list. For the first iteration, word takes the value 'great'.\n",
    "Next, the if statement checks if word is in the word_counter dictionary.\n",
    "Since it doesn't yet, the statement word_counter[word] = 1 adds great as a key to the dictionary with a value of 1.\n",
    "Then, it leaves the if else statement and moves on to the next iteration of the for loop. word now takes the value expectations and repeats the process.\n",
    "When the if condition is not met, it is because thatword already exists in the word_counter dictionary, and the statement word_counter[word] = word_counter[word] + 1 increases the count of that word by 1.\n",
    "Once the for loop finishes iterating through the list, the for loop is complete.\n",
    "We can see the output by printing out the dictionary. Printing word_counter results in the following output."
   ]
  },
  {
   "cell_type": "code",
   "execution_count": 4,
   "id": "0309e9df-17a0-47de-ade2-668486861a0d",
   "metadata": {},
   "outputs": [
    {
     "name": "stdout",
     "output_type": "stream",
     "text": [
      "{'great': 2, 'expectations': 1, 'the': 2, 'adventures': 2, 'of': 2, 'sherlock': 1, 'holmes': 1, 'gasby': 1, 'hamlet': 1, 'huckleberry': 1, 'fin': 1}\n"
     ]
    }
   ],
   "source": [
    "print(word_counter)"
   ]
  },
  {
   "cell_type": "markdown",
   "id": "63fdb444-7dde-4728-83ef-83f5ed906a28",
   "metadata": {},
   "source": [
    "Method 2: Using the get method\n",
    "We will use the same list for this example:"
   ]
  },
  {
   "cell_type": "code",
   "execution_count": 5,
   "id": "3ef9a54e-d022-44ec-9cb4-ff47380b757b",
   "metadata": {},
   "outputs": [],
   "source": [
    "for word in book_title:\n",
    "    word_counter[word] = word_counter.get(word, 0) + 1"
   ]
  },
  {
   "cell_type": "markdown",
   "id": "2b1e0c7a-0ec8-4cae-890f-b96682408848",
   "metadata": {},
   "source": [
    "What's happening here?\n",
    "The for loop iterates through the list as we saw earlier. The for loop feeds 'great' to the next statement in the body of the for loop.\n",
    "In this line: word_counter[word] = word_counter.get(word,0) + 1, since the key 'great' doesn't yet exist in the dictionary, get() will return the value 0 and word_counter[word] will be set to 1.\n",
    "Once it encounters a word that already exists in word_counter (e.g. the second appearance of 'the'), the value for that key is incremented by 1. On the second appearance of 'the', the key's value would add 1 again, resulting in 2.\n",
    "Once the for loop finishes iterating through the list, the for loop is complete.\n",
    "Printing word_counter shows us we get the same result as we did in method 1."
   ]
  },
  {
   "cell_type": "markdown",
   "id": "cbba5f4d-1a8f-4704-9b46-902b27543211",
   "metadata": {},
   "source": [
    "# Iterating Through Dictionaries with For Loops\n",
    "\n",
    "When you iterate through a dictionary using a for loop, doing it the normal way (for n in some_dict) will only give you access to the keys in the dictionary - which is what you'd want in some situations. In other cases, you'd want to iterate through both the keys and values in the dictionary. Let's see how this is done in an example. Consider this dictionary that uses names of actors as keys and their characters as values."
   ]
  },
  {
   "cell_type": "code",
   "execution_count": 6,
   "id": "31a290a6-cdd9-449d-8762-f2f81e2afb52",
   "metadata": {},
   "outputs": [],
   "source": [
    "cast = {\n",
    "           \"Jerry Seinfeld\": \"Jerry Seinfeld\",\n",
    "           \"Julia Louis-Dreyfus\": \"Elaine Benes\",\n",
    "           \"Jason Alexander\": \"George Costanza\",\n",
    "           \"Michael Richards\": \"Cosmo Kramer\"\n",
    "       }"
   ]
  },
  {
   "cell_type": "markdown",
   "id": "ae72912d-b70b-42b1-a7ac-29fbdc417fd0",
   "metadata": {},
   "source": [
    "Iterating through it in the usual way with a for loop would give you just the keys, as shown below:\n"
   ]
  },
  {
   "cell_type": "code",
   "execution_count": 7,
   "id": "c6516c68-39e4-45aa-b532-a26373bef111",
   "metadata": {},
   "outputs": [
    {
     "name": "stdout",
     "output_type": "stream",
     "text": [
      "Jerry Seinfeld\n",
      "Julia Louis-Dreyfus\n",
      "Jason Alexander\n",
      "Michael Richards\n"
     ]
    }
   ],
   "source": [
    "for key in cast:\n",
    "    print(key)"
   ]
  },
  {
   "cell_type": "markdown",
   "id": "c305c247-14a5-4a94-b13c-461b347f4d21",
   "metadata": {},
   "source": [
    "If you wish to iterate through both keys and values, you can use the built-in method items like this"
   ]
  },
  {
   "cell_type": "code",
   "execution_count": 8,
   "id": "dad8232a-46ab-428a-a1ba-33ce52453210",
   "metadata": {},
   "outputs": [
    {
     "name": "stdout",
     "output_type": "stream",
     "text": [
      "Actor: Jerry Seinfeld, Role: Jerry Seinfeld\n",
      "Actor: Julia Louis-Dreyfus, Role: Elaine Benes\n",
      "Actor: Jason Alexander, Role: George Costanza\n",
      "Actor: Michael Richards, Role: Cosmo Kramer\n"
     ]
    }
   ],
   "source": [
    "for key, value in cast.items():\n",
    "    print(\"Actor: {}, Role: {}\".format(key, value))"
   ]
  },
  {
   "cell_type": "markdown",
   "id": "d23b1ad7-98be-419b-9ad8-080ce543c3b1",
   "metadata": {},
   "source": [
    "# Quiz: Fruit Basket - Task 1\n",
    "\n",
    "You would like to count the number of fruits in your basket. In order to do this, you have the following dictionary and list of fruits. Use the dictionary and list to count the total number of fruits, but you do not want to count the other items in your basket."
   ]
  },
  {
   "cell_type": "code",
   "execution_count": 9,
   "id": "82a73442-02f4-4c52-9e5f-7b927ffd0e85",
   "metadata": {},
   "outputs": [
    {
     "name": "stdout",
     "output_type": "stream",
     "text": [
      "There are 23 fruits in the basket.\n"
     ]
    }
   ],
   "source": [
    "result = 0\n",
    "basket_items = {'apples': 4, 'oranges': 19, 'kites': 3, 'sandwiches': 8}\n",
    "fruits = ['apples', 'oranges', 'pears', 'peaches', 'grapes', 'bananas']\n",
    "\n",
    "for fruit, count in basket_items.items():\n",
    "    if fruit in fruits:\n",
    "       result += count\n",
    "\n",
    "print(\"There are {} fruits in the basket.\".format(result))"
   ]
  },
  {
   "cell_type": "markdown",
   "id": "a87006bd-09fa-421c-b46e-b6041474115f",
   "metadata": {},
   "source": [
    "# While loop\n",
    "\n",
    "this is an indefinite iteration which is when a loop repeats an unknown number of times and ends when some condition is met "
   ]
  },
  {
   "cell_type": "code",
   "execution_count": 10,
   "id": "c999c3a1-9c8b-4085-863b-a4190dd0ca52",
   "metadata": {},
   "outputs": [],
   "source": [
    "card_deck = [4,11,8,5,13,2,8,10]\n",
    "hand = []\n",
    "\n",
    "while sum(hand) < 19:\n",
    "    hand.append(card_deck.pop())"
   ]
  },
  {
   "cell_type": "code",
   "execution_count": 11,
   "id": "75485272-902d-432b-9101-23886243de68",
   "metadata": {},
   "outputs": [
    {
     "name": "stdout",
     "output_type": "stream",
     "text": [
      "[10, 8, 2]\n"
     ]
    }
   ],
   "source": [
    "print(hand)"
   ]
  },
  {
   "cell_type": "code",
   "execution_count": 12,
   "id": "3b421078-b843-4dbc-84fb-0f33c34024c5",
   "metadata": {},
   "outputs": [
    {
     "name": "stdout",
     "output_type": "stream",
     "text": [
      "56\n"
     ]
    }
   ],
   "source": [
    "start_num = 2 \n",
    "end_num = 54\n",
    "break_num = start_num\n",
    "count_by = 3\n",
    "\n",
    "while break_num < end_num:\n",
    "    break_num += count_by\n",
    "    \n",
    "print(break_num)"
   ]
  },
  {
   "cell_type": "code",
   "execution_count": null,
   "id": "26b798ee-b82c-46fb-b0e9-c4509f473fb1",
   "metadata": {},
   "outputs": [],
   "source": [
    "start = 30\n",
    "end = 45\n",
    "count = 4\n",
    "\n",
    "if start > end:\n",
    "    result = 'Oops! Start greater than end, please try again later.'\n",
    "else:\n",
    "    breaks = start\n",
    "    while start < end:\n",
    "        breaks += count\n",
    "        \n",
    "    print(result)"
   ]
  },
  {
   "cell_type": "markdown",
   "id": "771db5ff-6fc9-4afe-ae6f-e1c6215416da",
   "metadata": {},
   "source": [
    "write a while loop that produces the largest square number next to a limit of 100\n"
   ]
  },
  {
   "cell_type": "code",
   "execution_count": null,
   "id": "5faee153-4998-4799-a8b1-a1d02e8ac967",
   "metadata": {},
   "outputs": [],
   "source": [
    "limit = 100\n",
    "num = 0\n",
    "\n",
    "while (num+1)**2 < limit:\n",
    "    num += 1\n",
    "    nearest_square = num**2\n",
    "    \n",
    "print(nearest_square)"
   ]
  },
  {
   "cell_type": "markdown",
   "id": "830c29f8-eff8-4a0b-8cce-6f10bd436a0c",
   "metadata": {},
   "source": [
    "# Question: What type of loop should we use?\n",
    "You need to write a loop that takes the numbers in a given list named num_list:\n",
    "num_list = [422, 136, 524, 85, 96, 719, 85, 92, 10, 17, 312, 542, 87, 23, 86, 191, 116, 35, 173, 45, 149, 59, 84, 69, 113, 166]\n",
    "\n",
    "Your code should add up the odd numbers in the list, but only up to the first 5 odd numbers together. If there are more than 5 odd numbers, you should stop at the fifth. If there are fewer than 5 odd numbers, add all of the odd numbers.\n",
    "\n",
    "## Solution\n",
    "\n",
    "We don't need a break statement that a for loop will require. Without a break statement, a for loop will iterate through the whole list, which is not efficient.\n",
    "We don't want to iterate over the entire list, but only over the required number of elements in the list that meets our condition.\n",
    "It is easier to understand because you explicitly control the exit conditions for the loop.\n",
    "\n",
    "Here's the code we wrote:"
   ]
  },
  {
   "cell_type": "code",
   "execution_count": null,
   "id": "df92c73b-ddb1-46b7-ab65-34a8efdf5ab7",
   "metadata": {},
   "outputs": [],
   "source": [
    "num_list = [422, 136, 524, 85, 96, 719, 85, 92, 10, 17, 312, 542, 87, 23, 86, 191, 116, 35, 173, 45, 149, 59, 84, 69, 113, 166]\n",
    "\n",
    "count_odd = 0\n",
    "list_sum = 0\n",
    "i = 0\n",
    "len_num_list = len(num_list)\n",
    "\n",
    "while (count_odd < 5) and (i < len_num_list): \n",
    "    if num_list[i] % 2 != 0:\n",
    "        list_sum += num_list[i]\n",
    "        count_odd += 1\n",
    "    i += 1\n",
    "\n",
    "print (\"The numbers of odd numbers added are: {}\".format(count_odd))\n",
    "print (\"The sum of the odd numbers added is: {}\".format(list_sum))"
   ]
  },
  {
   "cell_type": "markdown",
   "id": "6662e7b5-78fd-4f30-b79c-ec3b3dfaf8d1",
   "metadata": {},
   "source": [
    "# Logic for our solution:\n",
    "\n",
    "We loop through each number in the check_prime list.\n",
    "Create a \"search-for-factors\" loop beginning at 2, and continuing up to the (number-1)\n",
    "Use a conditional statement with themodulo operator to check if our number when divided by the possible factor yields any remainder besides 0.\n",
    "If we ever find one factor, we can declare that the number is not prime, and state the factor we found. Then we can break out of the loop for that number.\n",
    "If we get up to the (number - 1) and haven't broken out of the loop, then we can declare that the number is prime."
   ]
  },
  {
   "cell_type": "code",
   "execution_count": null,
   "id": "48abd2da-30e8-4871-b89d-c72e9b4da41e",
   "metadata": {},
   "outputs": [],
   "source": [
    "for prime in check_prime:\n",
    "    for i in range(2, prime):\n",
    "        if (prime % i) == 0:\n",
    "            print(\"{} is not a prime number\".format(prime))\n",
    "            break\n",
    "        if i == prime -1:    \n",
    "            print(\"{} IS a prime number\".format(prime))"
   ]
  },
  {
   "cell_type": "markdown",
   "id": "6cd64749-b902-42b7-bf41-9182098fc3cc",
   "metadata": {},
   "source": [
    "# zip"
   ]
  },
  {
   "cell_type": "code",
   "execution_count": null,
   "id": "016b52f9-7939-4a76-bacf-834dba1005fa",
   "metadata": {},
   "outputs": [],
   "source": [
    "x_coord = [23, 53, 2, -12, 95, 103, 14, -5]\n",
    "y_coord = [677, 233, 405, 433, 905, 376, 432, 445]\n",
    "z_coord = [4, 16, -6, -42, 3, -6, 23, -1]\n",
    "labels = [\"F\", \"J\", \"A\", \"Q\", \"Y\", \"B\", \"W\", \"X\"]\n",
    "\n",
    "points = []\n",
    "# write your for loop here\n",
    "for x, y, z, label in zip(x_coord, y_coord, z_coord, labels):\n",
    "    points.append(\"{} : {} {} {}\".format(label, x, y, z))\n",
    "\n",
    "for point in points:\n",
    "    print(point)"
   ]
  },
  {
   "cell_type": "markdown",
   "id": "e9ddc46c-1263-458d-8c69-86899bbd8cc0",
   "metadata": {},
   "source": [
    "# Transpose with Zip"
   ]
  },
  {
   "cell_type": "code",
   "execution_count": null,
   "id": "3cb7fbc4-f05a-44e6-acf7-dccd1dd8ae34",
   "metadata": {},
   "outputs": [],
   "source": [
    "data = ((0, 1, 2), (3, 4, 5), (6, 7, 8), (9, 10, 11))\n",
    "\n",
    "data_transpose = tuple(zip(*data))\n",
    "print(data_transpose)"
   ]
  },
  {
   "cell_type": "code",
   "execution_count": null,
   "id": "f878fa39-fa17-4031-934f-63471cedf348",
   "metadata": {},
   "outputs": [],
   "source": [
    "cast = [\"Barney Stinson\", \"Robin Scherbatsky\", \"Ted Mosby\", \"Lily Aldrin\", \"Marshall Eriksen\"]\n",
    "heights = [72, 68, 72, 66, 76]\n",
    "\n",
    "for i, character in enumerate(cast):\n",
    "    cast[i] = character + \" \" + str(heights[i])\n",
    "\n",
    "print(cast)"
   ]
  },
  {
   "cell_type": "markdown",
   "id": "85123d18-0732-433c-a87c-ae939a26ebfa",
   "metadata": {},
   "source": [
    "to get the multiples of 3 from 0 - 20 use the code below"
   ]
  },
  {
   "cell_type": "code",
   "execution_count": null,
   "id": "f3b38d7e-2086-4065-bbd4-778a0dd53241",
   "metadata": {},
   "outputs": [],
   "source": [
    "multiples_3 = [x for x in range(0, 20, 3)]"
   ]
  },
  {
   "cell_type": "markdown",
   "id": "f9982fbf-a68f-4c6c-bd74-99dff5affb68",
   "metadata": {},
   "source": [
    "to get the first 20 multiples of 3 use the code below"
   ]
  },
  {
   "cell_type": "code",
   "execution_count": null,
   "id": "541ce56c-58ef-488e-bfc6-9fb0123fb7d0",
   "metadata": {},
   "outputs": [],
   "source": [
    "multiples_3 = [x*3 for x in range(1, 20)]"
   ]
  },
  {
   "cell_type": "code",
   "execution_count": null,
   "id": "3e504d94-0e06-42f2-b5a6-883ecfe1ddfa",
   "metadata": {},
   "outputs": [],
   "source": [
    "scores = {\n",
    "             \"Rick Sanchez\": 70,\n",
    "             \"Morty Smith\": 35,\n",
    "             \"Summer Smith\": 82,\n",
    "             \"Jerry Smith\": 23,\n",
    "             \"Beth Smith\": 98\n",
    "          }\n",
    "\n",
    "passed = [name for name, score in scores.items() if score >= 65]\n",
    "print(passed)"
   ]
  },
  {
   "cell_type": "code",
   "execution_count": null,
   "id": "b40d9f91-592e-40d0-af98-194c4900c07e",
   "metadata": {},
   "outputs": [],
   "source": [
    "nominated = {1931: ['Norman Taurog', 'Wesley Ruggles', 'Clarence Brown', 'Lewis Milestone', 'Josef Von Sternberg'], 1932: ['Frank Borzage', 'King Vidor', 'Josef Von Sternberg'], 1933: ['Frank Lloyd', 'Frank Capra', 'George Cukor'], 1934: ['Frank Capra', 'Victor Schertzinger', 'W. S. Van Dyke'], 1935: ['John Ford', 'Michael Curtiz', 'Henry Hathaway', 'Frank Lloyd'], 1936: ['Frank Capra', 'William Wyler', 'Robert Z. Leonard', 'Gregory La Cava', 'W. S. Van Dyke'], 1937: ['Leo McCarey', 'Sidney Franklin', 'William Dieterle', 'Gregory La Cava', 'William Wellman'], 1938: ['Frank Capra', 'Michael Curtiz', 'Norman Taurog', 'King Vidor', 'Michael Curtiz'], 1939: ['Sam Wood', 'Frank Capra', 'John Ford', 'William Wyler', 'Victor Fleming'], 1940: ['John Ford', 'Sam Wood', 'William Wyler', 'George Cukor', 'Alfred Hitchcock'], 1941: ['John Ford', 'Orson Welles', 'Alexander Hall', 'William Wyler', 'Howard Hawks'], 1942: ['Sam Wood', 'Mervyn LeRoy', 'John Farrow', 'Michael Curtiz', 'William Wyler'], 1943: ['Michael Curtiz', 'Ernst Lubitsch', 'Clarence Brown', 'George Stevens', 'Henry King'], 1944: ['Leo McCarey', 'Billy Wilder', 'Otto Preminger', 'Alfred Hitchcock', 'Henry King'], 1945: ['Billy Wilder', 'Leo McCarey', 'Clarence Brown', 'Jean Renoir', 'Alfred Hitchcock'], 1946: ['David Lean', 'Frank Capra', 'Robert Siodmak', 'Clarence Brown', 'William Wyler'], 1947: ['Elia Kazan', 'Henry Koster', 'Edward Dmytryk', 'George Cukor', 'David Lean'], 1948: ['John Huston', 'Laurence Olivier', 'Jean Negulesco', 'Fred Zinnemann', 'Anatole Litvak'], 1949: ['Joseph L. Mankiewicz', 'Robert Rossen', 'William A. Wellman', 'Carol Reed', 'William Wyler'], 1950: ['Joseph L. Mankiewicz', 'John Huston', 'George Cukor', 'Billy Wilder', 'Carol Reed'], 1951: ['George Stevens', 'John Huston', 'Vincente Minnelli', 'William Wyler', 'Elia Kazan'], 1952: ['John Ford', 'Joseph L. Mankiewicz', 'Cecil B. DeMille', 'Fred Zinnemann', 'John Huston'], 1953: ['Fred Zinnemann', 'Charles Walters', 'William Wyler', 'George Stevens', 'Billy Wilder'], 1954: ['Elia Kazan', 'George Seaton', 'William Wellman', 'Alfred Hitchcock', 'Billy Wilder'], 1955: ['Delbert Mann', 'John Sturges', 'Elia Kazan', 'Joshua Logan', 'David Lean'], 1956: ['George Stevens', 'Michael Anderson', 'William Wyler', 'Walter Lang', 'King Vidor'], 1957: ['David Lean', 'Mark Robson', 'Joshua Logan', 'Sidney Lumet', 'Billy Wilder'], 1958: ['Richard Brooks', 'Stanley Kramer', 'Robert Wise', 'Mark Robson', 'Vincente Minnelli'], 1959: ['George Stevens', 'Fred Zinnemann', 'Jack Clayton', 'Billy Wilder', 'William Wyler'], 1960: ['Billy Wilder', 'Jules Dassin', 'Alfred Hitchcock', 'Jack Cardiff', 'Fred Zinnemann'], 1961: ['J. Lee Thompson', 'Robert Rossen', 'Stanley Kramer', 'Federico Fellini', 'Robert Wise', 'Jerome Robbins'], 1962: ['David Lean', 'Frank Perry', 'Pietro Germi', 'Arthur Penn', 'Robert Mulligan'], 1963: ['Elia Kazan', 'Otto Preminger', 'Federico Fellini', 'Martin Ritt', 'Tony Richardson'], 1964: ['George Cukor', 'Peter Glenville', 'Stanley Kubrick', 'Robert Stevenson', 'Michael Cacoyannis'], 1965: ['William Wyler', 'John Schlesinger', 'David Lean', 'Hiroshi Teshigahara', 'Robert Wise'], 1966: ['Fred Zinnemann', 'Michelangelo Antonioni', 'Claude Lelouch', 'Richard Brooks', 'Mike Nichols'], 1967: ['Arthur Penn', 'Stanley Kramer', 'Richard Brooks', 'Norman Jewison', 'Mike Nichols'], 1968: ['Carol Reed', 'Gillo Pontecorvo', 'Anthony Harvey', 'Franco Zeffirelli', 'Stanley Kubrick'], 1969: ['John Schlesinger', 'Arthur Penn', 'George Roy Hill', 'Sydney Pollack', 'Costa-Gavras'], 1970: ['Franklin J. Schaffner', 'Federico Fellini', 'Arthur Hiller', 'Robert Altman', 'Ken Russell'], 1971: ['Stanley Kubrick', 'Norman Jewison', 'Peter Bogdanovich', 'John Schlesinger', 'William Friedkin'], 1972: ['Bob Fosse', 'John Boorman', 'Jan Troell', 'Francis Ford Coppola', 'Joseph L. Mankiewicz'], 1973: ['George Roy Hill', 'George Lucas', 'Ingmar Bergman', 'William Friedkin', 'Bernardo Bertolucci'], 1974: ['Francis Ford Coppola', 'Roman Polanski', 'Francois Truffaut', 'Bob Fosse', 'John Cassavetes'], 1975: ['Federico Fellini', 'Stanley Kubrick', 'Sidney Lumet', 'Robert Altman', 'Milos Forman'], 1976: ['Alan J. Pakula', 'Ingmar Bergman', 'Sidney Lumet', 'Lina Wertmuller', 'John G. Avildsen'], 1977: ['Steven Spielberg', 'Fred Zinnemann', 'George Lucas', 'Herbert Ross', 'Woody Allen'], 1978: ['Hal Ashby', 'Warren Beatty', 'Buck Henry', 'Woody Allen', 'Alan Parker', 'Michael Cimino'], 1979: ['Bob Fosse', 'Francis Coppola', 'Peter Yates', 'Edouard Molinaro', 'Robert Benton'], 1980: ['David Lynch', 'Martin Scorsese', 'Richard Rush', 'Roman Polanski', 'Robert Redford'], 1981: ['Louis Malle', 'Hugh Hudson', 'Mark Rydell', 'Steven Spielberg', 'Warren Beatty'], 1982: ['Wolfgang Petersen', 'Steven Spielberg', 'Sydney Pollack', 'Sidney Lumet', 'Richard Attenborough'], 1983: ['Peter Yates', 'Ingmar Bergman', 'Mike Nichols', 'Bruce Beresford', 'James L. Brooks'], 1984: ['Woody Allen', 'Roland Joffe', 'David Lean', 'Robert Benton', 'Milos Forman'], 1985: ['Hector Babenco', 'John Huston', 'Akira Kurosawa', 'Peter Weir', 'Sydney Pollack'], 1986: ['David Lynch', 'Woody Allen', 'Roland Joffe', 'James Ivory', 'Oliver Stone'], 1987: ['Bernardo Bertolucci', 'Adrian Lyne', 'John Boorman', 'Norman Jewison', 'Lasse Hallstrom'], 1988: ['Barry Levinson', 'Charles Crichton', 'Martin Scorsese', 'Alan Parker', 'Mike Nichols'], 1989: ['Woody Allen', 'Peter Weir', 'Kenneth Branagh', 'Jim Sheridan', 'Oliver Stone'], 1990: ['Francis Ford Coppola', 'Martin Scorsese', 'Stephen Frears', 'Barbet Schroeder', 'Kevin Costner'], 1991: ['John Singleton', 'Barry Levinson', 'Oliver Stone', 'Ridley Scott', 'Jonathan Demme'], 1992: ['Clint Eastwood', 'Neil Jordan', 'James Ivory', 'Robert Altman', 'Martin Brest'], 1993: ['Jim Sheridan', 'Jane Campion', 'James Ivory', 'Robert Altman', 'Steven Spielberg'], 1994: ['Woody Allen', 'Quentin Tarantino', 'Robert Redford', 'Krzysztof Kieslowski', 'Robert Zemeckis'], 1995: ['Chris Noonan', 'Tim Robbins', 'Mike Figgis', 'Michael Radford', 'Mel Gibson'], 1996: ['Anthony Minghella', 'Joel Coen', 'Milos Forman', 'Mike Leigh', 'Scott Hicks'], 1997: ['Peter Cattaneo', 'Gus Van Sant', 'Curtis Hanson', 'Atom Egoyan', 'James Cameron'], 1998: ['Roberto Benigni', 'John Madden', 'Terrence Malick', 'Peter Weir', 'Steven Spielberg'], 1999: ['Spike Jonze', 'Lasse Hallstrom', 'Michael Mann', 'M. Night Shyamalan', 'Sam Mendes'], 2000: ['Stephen Daldry', 'Ang Lee', 'Steven Soderbergh', 'Ridley Scott', 'Steven Soderbergh'], 2001: ['Ridley Scott', 'Robert Altman', 'Peter Jackson', 'David Lynch', 'Ron Howard'], 2002: ['Rob Marshall', 'Martin Scorsese', 'Stephen Daldry', 'Pedro Almodovar', 'Roman Polanski'], 2003: ['Fernando Meirelles', 'Sofia Coppola', 'Peter Weir', 'Clint Eastwood', 'Peter Jackson'], 2004: ['Martin Scorsese', 'Taylor Hackford', 'Alexander Payne', 'Mike Leigh', 'Clint Eastwood'], 2005: ['Ang Lee', 'Bennett Miller', 'Paul Haggis', 'George Clooney', 'Steven Spielberg'], 2006: ['Alejandro Gonzaalez Inarritu', 'Clint Eastwood', 'Stephen Frears', 'Paul Greengrass', 'Martin Scorsese'], 2007: ['Julian Schnabel', 'Jason Reitman', 'Tony Gilroy', 'Paul Thomas Anderson', 'Joel Coen', 'Ethan Coen'], 2008: ['David Fincher', 'Ron Howard', 'Gus Van Sant', 'Stephen Daldry', 'Danny Boyle'], 2009: ['James Cameron', 'Quentin Tarantino', 'Lee Daniels', 'Jason Reitman', 'Kathryn Bigelow'], 2010: ['Darren Aronofsky', 'David O. Russell', 'David Fincher', 'Ethan Coen', 'Joel Coen', 'Tom Hooper']}\n",
    "winners = {1931: ['Norman Taurog'], 1932: ['Frank Borzage'], 1933: ['Frank Lloyd'], 1934: ['Frank Capra'], 1935: ['John Ford'], 1936: ['Frank Capra'], 1937: ['Leo McCarey'], 1938: ['Frank Capra'], 1939: ['Victor Fleming'], 1940: ['John Ford'], 1941: ['John Ford'], 1942: ['William Wyler'], 1943: ['Michael Curtiz'], 1944: ['Leo McCarey'], 1945: ['Billy Wilder'], 1946: ['William Wyler'], 1947: ['Elia Kazan'], 1948: ['John Huston'], 1949: ['Joseph L. Mankiewicz'], 1950: ['Joseph L. Mankiewicz'], 1951: ['George Stevens'], 1952: ['John Ford'], 1953: ['Fred Zinnemann'], 1954: ['Elia Kazan'], 1955: ['Delbert Mann'], 1956: ['George Stevens'], 1957: ['David Lean'], 1958: ['Vincente Minnelli'], 1959: ['William Wyler'], 1960: ['Billy Wilder'], 1961: ['Jerome Robbins', 'Robert Wise'], 1962: ['David Lean'], 1963: ['Tony Richardson'], 1964: ['George Cukor'], 1965: ['Robert Wise'], 1966: ['Fred Zinnemann'], 1967: ['Mike Nichols'], 1968: ['Carol Reed'], 1969: ['John Schlesinger'], 1970: ['Franklin J. Schaffner'], 1971: ['William Friedkin'], 1972: ['Bob Fosse'], 1973: ['George Roy Hill'], 1974: ['Francis Ford Coppola'], 1975: ['Milos Forman'], 1976: ['John G. Avildsen'], 1977: ['Woody Allen'], 1978: ['Michael Cimino'], 1979: ['Robert Benton'], 1980: ['Robert Redford'], 1981: ['Warren Beatty'], 1982: ['Richard Attenborough'], 1983: ['James L. Brooks'], 1984: ['Milos Forman'], 1985: ['Sydney Pollack'], 1986: ['Oliver Stone'], 1987: ['Bernardo Bertolucci'], 1988: ['Barry Levinson'], 1989: ['Oliver Stone'], 1990: ['Kevin Costner'], 1991: ['Jonathan Demme'], 1992: ['Clint Eastwood'], 1993: ['Steven Spielberg'], 1994: ['Robert Zemeckis'], 1995: ['Mel Gibson'], 1996: ['Anthony Minghella'], 1997: ['James Cameron'], 1998: ['Steven Spielberg'], 1999: ['Sam Mendes'], 2000: ['Steven Soderbergh'], 2001: ['Ron Howard'], 2002: ['Roman Polanski'], 2003: ['Peter Jackson'], 2004: ['Clint Eastwood'], 2005: ['Ang Lee'], 2006: ['Martin Scorsese'], 2007: ['Ethan Coen', 'Joel Coen'], 2008: ['Danny Boyle'], 2009: ['Kathryn Bigelow'], 2010: ['Tom Hooper']}\n"
   ]
  },
  {
   "cell_type": "markdown",
   "id": "9214dc5f-7c31-4de2-a4a4-77d286e1beb3",
   "metadata": {},
   "source": [
    "# Provide a dictionary with the count of nominations for each director.\n",
    "\n",
    "Here's the logic for my solution:\n",
    "To solve this question, I use the .items method for dictionaries. Remember, the key in our nominated dictionary is a list of nominated directors. Think Compound Data Structures!\n",
    "I know I need to create a dictionary where the key is a director and the value is the number of nominations.\n",
    "But to get each director as a key, I will have to use two for loops.\n",
    "First, to iterate through the nominated dictionary's value (which here is a list of nominations) .\n",
    "But I have do to this again to iterate through each element (what I'm trying to get to - a nominated director) in the nominated list.\n",
    "After that, if the director isn't yet in our dictionary, we give that director a count of one. If the director is in the dictionary, we increment that director's count by one."
   ]
  },
  {
   "cell_type": "code",
   "execution_count": null,
   "id": "35974c34-d79e-4d29-9e46-4b53862810b8",
   "metadata": {},
   "outputs": [],
   "source": [
    "nom_count_dict = {}\n",
    "for year, list_dir in nominated.items():\n",
    "    for director in list_dir:\n",
    "        if director not in nom_count_dict:\n",
    "            nom_count_dict[director] = 1\n",
    "        else:\n",
    "            nom_count_dict[director] += 1"
   ]
  },
  {
   "cell_type": "markdown",
   "id": "45309c08-8f29-494a-9901-8701abde3bd5",
   "metadata": {},
   "source": [
    "# Provide a dictionary with the count of wins for each director.\n",
    "\n",
    "*Essentially, it is the same logic as above, with the other dictionary.*\n",
    "\n",
    "We could use the same approach as in question 1a and it would work fine, but I've provided a shorter alternative here. Instead of the last 4 lines as above, I've just written 1 line, by using the .get method. In this line, we find the director in the win_count_dict dictionary and return the value for that director (the number of times they've won). If they aren't in the dictionary, get returns 0 for that director. Then we increment that director's count by one."
   ]
  },
  {
   "cell_type": "code",
   "execution_count": null,
   "id": "cffeabdb-eeea-4803-b864-f87d0bd6e8e9",
   "metadata": {},
   "outputs": [],
   "source": [
    "win_count_dict = {}\n",
    "for year, winnerlist in winners.items():\n",
    "    for winner in winnerlist:\n",
    "        win_count_dict[winner] = win_count_dict.get(winner, 0) + 1"
   ]
  },
  {
   "cell_type": "markdown",
   "id": "05b1a457-f303-4d7b-ab20-51f99f8c817a",
   "metadata": {},
   "source": [
    "# Provide a list with the name(s) of the director(s) with the most Oscar wins.\n",
    "\n",
    "Here's the logic for my solution:\n",
    "To address this question, I will need to first create a dictionary with the number of wins by each winning director. For that I can use the code we wrote for Question 1b above.\n",
    "\n",
    "# FIRST PART OF SOLUTION\n",
    "\n",
    "win_count_dict = {}\n",
    "for year, winnerlist in winners.items():\n",
    "    for winner in winnerlist:\n",
    "        win_count_dict[winner] = win_count_dict.get(winner, 0) + 1\n",
    "        \n",
    "This win_count_dict dictionary provides a dictionary with the win count for the directors. We will need this to then identify which key (here, director name) has the highest value (here, win count).\n",
    "To perform this task, we use a variable highest_count to keep track of the highest count of wins.\n",
    "We iterate through the dictionary to see if the value for a key (i.e., wins for a director) is more than the highest count.\n",
    "If it is, we replace that value as the highest_count.\n",
    "Plus we add that key (here, director name) to our list tracking the most_win_director.\n",
    "Every time we come upon a value higher than the current highest_count, we replace highest_count with the new higher value, empty the most_win_director and replace it with the new key (i.e., director's name).\n"
   ]
  },
  {
   "cell_type": "code",
   "execution_count": null,
   "id": "48e5de74-d4d7-4a34-b17e-134947774f08",
   "metadata": {},
   "outputs": [],
   "source": [
    "#SECOND PART OF SOLUTION\n",
    "highest_count = 0\n",
    "most_win_director = []\n",
    "\n",
    "for key, value in win_count_dict.items():\n",
    "    if value > highest_count:\n",
    "        highest_count = value\n",
    "        most_win_director.clear()\n",
    "        most_win_director.append(key)\n",
    "    elif value == highest_count:\n",
    "        most_win_director.append(key)\n",
    "    else:\n",
    "        continue"
   ]
  },
  {
   "cell_type": "markdown",
   "id": "c2a68047-749e-4fb4-834f-7cdbf01736e9",
   "metadata": {},
   "source": [
    "# Here is an alternative\n",
    "\n",
    "compact solution to replace the 12 lines above for the second part of the solution, using the built-in function max(), and a list comprehension with a condition:"
   ]
  },
  {
   "cell_type": "code",
   "execution_count": null,
   "id": "1b81b299-5a47-46c8-bf04-fc3749c08bac",
   "metadata": {
    "tags": []
   },
   "outputs": [],
   "source": [
    "#ALTERNATIVE SECOND PART OF SOLUTION\n",
    "highest_count = max(win_count_dict.values())\n",
    "\n",
    "most_win_director = [key for key, value in win_count_dict.items() if value == highest_count]"
   ]
  },
  {
   "cell_type": "markdown",
   "id": "fe6dd781-43b7-4801-93b0-3dfa3cc1f29e",
   "metadata": {},
   "source": [
    "# Functions\n",
    "\n",
    "A function definition includes several important parts.\n",
    "\n",
    "You can define functions to provide the required functionality. Here are simple rules to define a function in Python:\n",
    "\n",
    "Functions blocks begin def followed by the function name and parentheses ().\n",
    "There are input parameters or arguments that should be placed within these parentheses.\n",
    "You can also define parameters inside these parentheses.\n",
    "There is a body within every function that starts with a colon (:) and is indented.\n",
    "You can also place documentation before the body.\n",
    "The statement return exits a function, optionally passing back a value\n",
    "\n",
    "## Function Header\n",
    "\n",
    "Let's start with the function header, which is the first line of a function definition.\n",
    "\n",
    "The function header always starts with the def keyword, which indicates that this is a function definition.\n",
    "Then comes the function name (here, cylinder_volume), which follows the same naming conventions as variables. You can revisit the naming conventions below.\n",
    "Immediately after the name are parentheses that may include arguments separated by commas (here, height and radius). Arguments, or parameters, are values that are passed in as inputs when the function is called, and are used in the function body. If a function doesn't take arguments, these parentheses are left empty.\n",
    "The header always end with a colon :.\n",
    "\n",
    "## Function Body\n",
    "\n",
    "The rest of the function is contained in the body, which is where the function does its work.\n",
    "\n",
    "The body of a function is the code indented after the header line. Here, it's the two lines that define pi and return the volume.\n",
    "Within this body, we can refer to the argument variables and define new variables, which can only be used within these indented lines.\n",
    "The body will often include a return statement, which is used to send back an output value from the function to the statement that called the function. A return statement consists of the return keyword followed by an expression that is evaluated to get the output value for the function. If there is no return statement, the function simply returns None.\n",
    "Below, you'll find a code editor where you can experiment with this.\n",
    "\n",
    "# Naming Conventions for Functions\n",
    "\n",
    "Function names follow the same naming conventions as variables.\n",
    "\n",
    "Only use ordinary letters, numbers and underscores in your function names. They can’t have spaces, and need to start with a letter or underscore.\n",
    "You can’t use Python's reserved words or keywords for function names, as discussed earlier with variable names. Here again is that table of Python's reserved words.\n",
    "Try to use descriptive names that can help readers understand what the function does."
   ]
  },
  {
   "cell_type": "code",
   "execution_count": null,
   "id": "88fd123f-b415-4429-9601-697c7f10dad3",
   "metadata": {},
   "outputs": [],
   "source": [
    "def population_density(population, land_area):\n",
    "    return population / land_area\n",
    "\n",
    "\n",
    "\n",
    "# test cases for your function\n",
    "test1 = population_density(10, 1)\n",
    "expected_result1 = 10\n",
    "print(\"expected result: {}, actual result: {}\".format(expected_result1, test1))\n",
    "\n",
    "test2 = population_density(864816, 121.4)\n",
    "expected_result2 = 7123.6902801\n",
    "print(\"expected result: {}, actual result: {}\".format(expected_result2, test2))"
   ]
  },
  {
   "cell_type": "markdown",
   "id": "2fa9445f-3217-49f9-b7ba-daeff258c64e",
   "metadata": {},
   "source": [
    "Write a function named readable_timedelta. The function should take one argument, an integer days, and return a string that says how many weeks and days that is. For example, calling the function and printing the result like this:"
   ]
  },
  {
   "cell_type": "code",
   "execution_count": null,
   "id": "2cfeeebc-f11a-416a-93c1-f986d3962812",
   "metadata": {},
   "outputs": [],
   "source": [
    "def readable_timedelta(days):\n",
    "    weeks = days // 7\n",
    "    remainder = days % 7\n",
    "    print(\"{} week(s) and {} days\".format(weeks, remainder))\n",
    "          \n"
   ]
  },
  {
   "cell_type": "markdown",
   "id": "f11cf0c6-8e56-4da7-85d9-b0b6c197cbea",
   "metadata": {},
   "source": [
    "# More on Variable Scope\n",
    "\n",
    "When you program, you'll often find that similar ideas come up again and again. You'll use variables for things like counting, iterating and accumulating values to return. In order to write readable code, you'll find yourself wanting to use similar names for similar ideas. As soon as you put multiple piece of code together (for instance, multiple functions or function calls in a single script) you might find that you want to use the same name for two separate concepts.\n",
    "\n",
    "Fortunately, you don't need to come up with new names endlessly. Reusing names for objects is OK as long as you keep them in separate scope.\n",
    "\n",
    "**Good practice**: It is best to define variables in the smallest scope they will be needed in. While functions can refer to variables defined in a larger scope, this is very rarely a good idea since you may not know what variables you have defined if your program has a lot of variables."
   ]
  },
  {
   "cell_type": "code",
   "execution_count": null,
   "id": "7b13a4e1-b0e2-481f-8319-cd219f25f421",
   "metadata": {},
   "outputs": [],
   "source": [
    "egg_count = 0\n",
    "\n",
    "def buy_eggs(count):\n",
    "    return count + 12  # purchase a dozen eggs\n",
    "\n",
    "egg_count = buy_eggs(egg_count)"
   ]
  },
  {
   "cell_type": "markdown",
   "id": "972ffa88-8377-4867-942a-da137584fc2b",
   "metadata": {},
   "source": [
    "# Documentation\n",
    "\n",
    "Documentation is used to make your code easier to understand and use. Functions are especially readable because they often use documentation strings, or docstrings. Docstrings are a type of comment used to explain the purpose of a function, and how it should be used. Here's a function for population density with a docstring.\n",
    "\n",
    "def population_density(population, land_area):\n",
    "    \"\"\"Calculate the population density of an area. \"\"\"\n",
    "    return population / land_area\n",
    "Docstrings are surrounded by triple quotes. The first line of the docstring is a brief explanation of the function's purpose. If you feel that this is sufficient documentation you can end the docstring at this point; single line docstrings are perfectly acceptable, as in the example above.\n",
    "\n",
    "def population_density(population, land_area):\n",
    "    \"\"\"Calculate the population density of an area.\n",
    "\n",
    "    INPUT:\n",
    "    population: int. The population of that area\n",
    "    land_area: int or float. This function is unit-agnostic, if you pass in values in terms\n",
    "    of square km or square miles the function will return a density in those units.\n",
    "\n",
    "    OUTPUT: \n",
    "    population_density: population / land_area. The population density of a particular area.\n",
    "    \"\"\"\n",
    "    return population / land_area\n",
    "If you think that a longer description would be appropriate for the function, you can add more information after the one-line summary. In the example above, you can see that we wrote an explanation of the function's arguments, stating the purpose and types of each one. It's also common to provide some description of the function's output.\n",
    "\n",
    "Every piece of the docstring is optional, however, docstrings are a part of good coding practice. You can read more about docstring conventions here.\n",
    "\n",
    "\n",
    "Functions"
   ]
  },
  {
   "cell_type": "markdown",
   "id": "110c6977-a37e-4764-8cf5-25ee8b6886ea",
   "metadata": {},
   "source": [
    "# Lambda Expressions\n",
    "\n",
    "You can use lambda expressions to create anonymous functions. That is, functions that don’t have a name. They are helpful for creating quick functions that aren’t needed later in your code. This can be especially useful for higher order functions, or functions that take in other functions as arguments.\n",
    "\n",
    "With a lambda expression, this function:\n",
    "\n",
    "def multiply(x, y):\n",
    "    return x * y\n",
    "can be reduced to:\n",
    "\n",
    "multiply = lambda x, y: x * y\n",
    "Both of these functions are used in the same way. "
   ]
  },
  {
   "cell_type": "markdown",
   "id": "f4d5ac30-a900-4b58-aa0f-aa5e59b5fc52",
   "metadata": {},
   "source": [
    "# Components of a Lambda Function\n",
    "\n",
    "The lambda keyword is used to indicate that this is a lambda expression.\n",
    "Following lambda are one or more arguments for the anonymous function separated by commas, followed by a colon :. Similar to functions, the way the arguments are named in a lambda expression is arbitrary.\n",
    "Last is an expression that is evaluated and returned in this function. This is a lot like an expression you might see as a return statement in a function.\n",
    "With this structure, lambda expressions aren’t ideal for complex functions, but can be very useful for short, simple functions."
   ]
  },
  {
   "cell_type": "code",
   "execution_count": null,
   "id": "cbe8a570-b560-4367-a5b4-58d971220a68",
   "metadata": {},
   "outputs": [],
   "source": [
    "numbers = [\n",
    "              [34, 63, 88, 71, 29],\n",
    "              [90, 78, 51, 27, 45],\n",
    "              [63, 37, 85, 46, 22],\n",
    "              [51, 22, 34, 11, 18]\n",
    "           ]\n",
    "\n",
    "def mean(num_list):\n",
    "    return sum(num_list) / len(num_list)\n",
    "\n",
    "averages = list(map(mean, numbers))\n",
    "print(averages)"
   ]
  },
  {
   "cell_type": "markdown",
   "id": "35b7e2de-ded4-440c-8514-34bf47c874d2",
   "metadata": {},
   "source": [
    "# Generate Messages\n",
    "Imagine you're a teacher who needs to send a message to each of your students reminding them of their missing assignments and grade in the class. You have each of their names, number of missing assignments, and grades on a spreadsheet and just have to insert them into placeholders in this message you came up with:\n",
    "\n",
    "Hi [insert student name],\n",
    "\n",
    "This is a reminder that you have [insert number of missing assignments] assignments left to submit before you can graduate. Your current grade is [insert current grade] and can increase to [insert potential grade] if you submit all assignments before the due date.\n",
    "\n",
    "You can just copy and paste this message to each student and manually insert the appropriate values each time, but instead you're going to write a program that does this for you.\n",
    "\n",
    "Write a script that does the following:\n",
    "\n",
    "Ask for user input 3 times. Once for a list of names, once for a list of missing assignment counts, and once for a list of grades. Use this input to create lists for names, assignments, and grades.\n",
    "Use a loop to print the message for each student with the correct values. The potential grade is simply the current grade added to two times the number of missing assignments.\n"
   ]
  },
  {
   "cell_type": "code",
   "execution_count": null,
   "id": "6329e5df-d9c1-4e74-8cef-8dbc1773b8f0",
   "metadata": {
    "tags": []
   },
   "outputs": [],
   "source": [
    "names = input(\"Enter names separated by commas: \").title().split(\",\")\n",
    "assignments = input(\"Enter assignment counts separated by commas: \").split(\",\")\n",
    "grades = input(\"Enter grades separated by commas: \").split(\",\")\n",
    "\n",
    "message = \"Hi {},\\n\\nThis is a reminder that you have {} assignments left to \\\n",
    "submit before you can graduate. You're current grade is {} and can increase \\\n",
    "to {} if you submit all assignments before the due date.\\n\\n\"\n",
    "\n",
    "for name, assignment, grade in zip(names, assignments, grades):\n",
    "    print(message.format(name, assignment, grade, int(grade) + int(assignment)*2))"
   ]
  },
  {
   "cell_type": "markdown",
   "id": "a2229b66-6360-44cc-9b5d-be031f64d2cf",
   "metadata": {},
   "source": [
    "# Try Statement\n",
    "\n",
    "We can use try statements to handle exceptions. There are four clauses you can use (one more in addition to those shown in the video).\n",
    "\n",
    "try: This is the only mandatory clause in a try statement. The code in this block is the first thing that Python runs in a try statement.\n",
    "\n",
    "except: If Python runs into an exception while running the try block, it will jump to the except block that handles that exception.\n",
    "\n",
    "else: If Python runs into no exceptions while running the try block, it will run the code in this block after running the try block.\n",
    "\n",
    "finally: Before Python leaves this try statement, it will run the code in this finally block under any conditions, even if it's ending the program. E.g., if Python ran into an error while running code in the except or else block, this finally block will still be executed before stopping the program."
   ]
  },
  {
   "cell_type": "code",
   "execution_count": null,
   "id": "f06f0e7a-be39-4c83-b163-3aeaacbfcab0",
   "metadata": {},
   "outputs": [],
   "source": [
    "def party_planner(cookies, people):\n",
    "    leftovers = None\n",
    "    num_each = None\n",
    "    # TODO: Add a try-except block here to\n",
    "    #       make sure no ZeroDivisionError occurs.\n",
    "    try:\n",
    "        num_each = cookies // people\n",
    "        leftovers = cookies % people\n",
    "    except ZeroDivisionError:\n",
    "        print('Oops you entered 0 people will be attending')\n",
    "        print('Please enter a good number of people for the party')\n",
    "\n",
    "    return(num_each, leftovers)"
   ]
  },
  {
   "cell_type": "code",
   "execution_count": null,
   "id": "3fc1d95b-38f9-46d8-86c6-7cfd54edde5c",
   "metadata": {},
   "outputs": [],
   "source": [
    "import sys\n",
    "print(sys.version)"
   ]
  },
  {
   "cell_type": "markdown",
   "id": "16c1e85c-c72c-4b4d-960b-a01257cce2cc",
   "metadata": {},
   "source": [
    "# What is while loop?\n",
    "\n",
    "As you can see, the for loop is used for a controlled flow of repetition. However, what if we don't know when we want to stop the loop? What if we want to keep executing a code block until a certain condition is met? The while loop exists as a tool for repeated execution based on a condition. The code block will keep being executed until the given logical condition returns a False boolean value.\n",
    "\n",
    "Let’s say we would like to iterate through list dates and stop at the year 1973, then print out the number of iterations. This can be done with the following block of code:"
   ]
  },
  {
   "cell_type": "code",
   "execution_count": null,
   "id": "07e15261-76ca-4579-9c1b-366a06bbebe7",
   "metadata": {},
   "outputs": [],
   "source": [
    "dates = [1982, 1980, 1973, 2000]\n",
    "\n",
    "i = 0\n",
    "year = dates[0]\n",
    "\n",
    "while(year != 1973):    \n",
    "    print(year)\n",
    "    i = i + 1\n",
    "    year = dates[i]\n",
    "    \n",
    "\n",
    "print(\"It took \", i ,\"repetitions to get out of loop.\")"
   ]
  },
  {
   "cell_type": "code",
   "execution_count": null,
   "id": "f0d9b5c7-4ab2-49b9-b438-bc933bf92698",
   "metadata": {},
   "outputs": [],
   "source": [
    "genres=[ 'rock', 'R&B', 'Soundtrack', 'R&B', 'soul', 'pop']\n",
    "\n",
    "for genre in genres:\n",
    "    print(genre.title())"
   ]
  },
  {
   "cell_type": "code",
   "execution_count": null,
   "id": "3dc928b7-2532-49a8-a5aa-41958684ef78",
   "metadata": {},
   "outputs": [],
   "source": [
    "squares=['red', 'yellow', 'green', 'purple', 'blue']\n",
    "\n",
    "for square in squares:\n",
    "    print(square.title())"
   ]
  },
  {
   "cell_type": "code",
   "execution_count": null,
   "id": "2df2f85c-f528-4d90-b0f6-0ff066171148",
   "metadata": {},
   "outputs": [],
   "source": [
    "PlayListRatings = [10, 9.5, 10, 8, 7.5, 5, 10, 10]\n",
    "rating = PlayListRatings[0]\n",
    "i = 0\n",
    "\n",
    "while (i < len(PlayListRatings) and rating >= 6):\n",
    "    print(rating)\n",
    "    i += 1\n",
    "    rating = PlayListRatings[i]\n",
    "   "
   ]
  },
  {
   "cell_type": "code",
   "execution_count": null,
   "id": "98192f3d-f832-4edb-bc0c-914e1a8c5974",
   "metadata": {},
   "outputs": [],
   "source": [
    "squares = ['orange', 'orange', 'purple', 'blue ', 'orange']\n",
    "new_squares = []\n",
    "i = 0\n",
    "\n",
    "while(i < len(squares) and squares[i] == 'orange'):\n",
    "    new_squares.append(squares[i])\n",
    "    i = i + 1\n",
    "print (new_squares)"
   ]
  },
  {
   "cell_type": "markdown",
   "id": "32b2f332-6e85-4127-a2f4-8175781b9e02",
   "metadata": {},
   "source": [
    "# Loops in Function\n",
    "\n",
    "when defining a function, you can include a loop code on the body of the function, so that whenever you call the function on an input a loop function is run and the result is returned. examples below."
   ]
  },
  {
   "cell_type": "code",
   "execution_count": null,
   "id": "63f7066c-e4d4-4514-ac38-f1509dc1d24d",
   "metadata": {},
   "outputs": [],
   "source": [
    "def printstuff(stuffs):\n",
    "    for i, s in enumerate(stuffs):\n",
    "        print('Album {} rating is {}'.format(i, s))"
   ]
  },
  {
   "cell_type": "code",
   "execution_count": null,
   "id": "87a7b01f-cc64-4bb9-9a84-2338a6eaf4f9",
   "metadata": {},
   "outputs": [],
   "source": [
    "ratings = [7.0, 7.0, 8.5, 9.0, 9.5, 9.5, 9.5, 10]\n",
    "\n",
    "printstuff(ratings)"
   ]
  },
  {
   "cell_type": "markdown",
   "id": "d6b28169-01ee-4c83-8294-1f8fb7346573",
   "metadata": {},
   "source": [
    "**Example of a function using global scope variable when thee is no asigned/defined local scope variable**"
   ]
  },
  {
   "cell_type": "code",
   "execution_count": null,
   "id": "253c7a0d-917a-48a0-8503-e45e3f71497d",
   "metadata": {},
   "outputs": [],
   "source": [
    "def ACDC(y):\n",
    "    print(rating)\n",
    "    return rating + y\n",
    "\n",
    "    print(rating + y)"
   ]
  },
  {
   "cell_type": "code",
   "execution_count": null,
   "id": "3517a20d-9448-43e1-9598-72e3595eebba",
   "metadata": {},
   "outputs": [],
   "source": [
    "rating = 9\n",
    "z = ACDC(1)"
   ]
  },
  {
   "cell_type": "code",
   "execution_count": null,
   "id": "76c90f9b-fc57-4c1a-89cb-23ab71b9361e",
   "metadata": {},
   "outputs": [],
   "source": [
    "z\n"
   ]
  },
  {
   "cell_type": "markdown",
   "id": "26c9af8d-afb4-46c5-a612-f5a8bd50918f",
   "metadata": {},
   "source": [
    "When defining a function, you can assign a global variable to it using the keyword **global**"
   ]
  },
  {
   "cell_type": "code",
   "execution_count": null,
   "id": "5c7a8a08-aead-4021-a820-57a81f5c2e81",
   "metadata": {},
   "outputs": [],
   "source": [
    "def odi():\n",
    "    global collins\n",
    "    collins = \"World Best!\"\n",
    "    print(collins)"
   ]
  },
  {
   "cell_type": "code",
   "execution_count": null,
   "id": "ec91ec3c-7268-46ca-ab38-97f95b1c8f92",
   "metadata": {},
   "outputs": [],
   "source": [
    "odi()"
   ]
  },
  {
   "cell_type": "code",
   "execution_count": null,
   "id": "bc7ca91e-29f6-4170-b7a0-236d6c2c04df",
   "metadata": {},
   "outputs": [],
   "source": [
    "collins"
   ]
  },
  {
   "cell_type": "markdown",
   "id": "5dd05e3b-765b-444e-a1bc-839d1c9b364f",
   "metadata": {},
   "source": [
    "# More Exception Handling (Try..Except Statement)"
   ]
  },
  {
   "cell_type": "markdown",
   "id": "055b42a4-5267-49b2-9814-46dcbae74a96",
   "metadata": {},
   "source": [
    "A try except will allow you to execute code that might raise an exception and in the case of any exception or a specific one we can handle or catch the exception and execute specific code. This will allow us to continue the execution of our program even if there is an exception.\n",
    "\n",
    "Python tries to execute the code in the try block. In this case if there is any exception raised by the code in the try block, it will be caught and the code block in the except block will be executed. After that, the code that comes after the try except will be executed."
   ]
  },
  {
   "cell_type": "markdown",
   "id": "6c0cfb71-c4ca-4271-a196-426a7649fd42",
   "metadata": {},
   "source": [
    "### Example\n",
    "\n",
    "In this example we are trying to divide a number given by the user, save the outcome in the variable a, and then we would like to print the result of the operation. When taking user input and dividing a number by it there are a couple of exceptions that can be raised. For example if we divide by zero. Try running the following block of code with b as a number. An exception will only be raised if b is zero."
   ]
  },
  {
   "cell_type": "code",
   "execution_count": null,
   "id": "10b52495-af25-4510-9b59-29203619795c",
   "metadata": {},
   "outputs": [],
   "source": [
    "a = 1\n",
    "\n",
    "try:\n",
    "    b = int(input(\"Please enter a number to divide a\"))\n",
    "    a = a/b\n",
    "    print(\"Success a=\",a)\n",
    "except:\n",
    "    print(\"There was an error\")\n",
    "        \n"
   ]
  },
  {
   "cell_type": "markdown",
   "id": "b366987b-b25b-47ac-be8d-a95dc1e59d26",
   "metadata": {},
   "source": [
    "A specific try except allows you to catch certain exceptions and also execute certain code depending on the exception. This is useful if you do not want to deal with some exceptions and the execution should halt. It can also help you find errors in your code that you might not be aware of. Furthermore, it can help you differentiate responses to different exceptions. In this case, the code after the try except might not run depending on the error."
   ]
  },
  {
   "cell_type": "code",
   "execution_count": null,
   "id": "1514706b-83e8-449a-8e03-c42faa6368bb",
   "metadata": {},
   "outputs": [],
   "source": [
    "a = 1\n",
    "\n",
    "try:\n",
    "    b = int(input(\"Please enter a number to divide a\"))\n",
    "    a = a/b\n",
    "    print(\"Success a=\",a)\n",
    "except ZeroDivisionError:\n",
    "    print(\"The number you provided cant divide 1 because it is 0\")\n",
    "except ValueError:\n",
    "    print(\"You did not provide a number\")\n",
    "except:\n",
    "    print(\"Something went wrong\")\n",
    "        "
   ]
  },
  {
   "cell_type": "markdown",
   "id": "7977bd88-14c5-4c75-8115-d9fe4e86dcf9",
   "metadata": {},
   "source": [
    "# Else\n",
    "\n",
    "else allows one to check if there was no exception when executing the try block. This is useful when we want to execute something only if there were no errors.\n",
    "\n",
    "# Finally\n",
    "\n",
    "finally allows us to always execute something even if there is an exception or not. This is usually used to signify the end of the try except.\n",
    "\n",
    "Example below"
   ]
  },
  {
   "cell_type": "code",
   "execution_count": null,
   "id": "bc1a77e4-1946-4d73-9936-32f144db2e0e",
   "metadata": {},
   "outputs": [],
   "source": [
    "a = 1\n",
    "\n",
    "try:\n",
    "    b = int(input(\"Please enter a number to divide a\"))\n",
    "    a = a/b\n",
    "except ZeroDivisionError:\n",
    "    print(\"The number you provided cant divide 1 because it is 0\")\n",
    "except ValueError:\n",
    "    print(\"You did not provide a number\")\n",
    "except:\n",
    "    print(\"Something went wrong\")\n",
    "else:\n",
    "    print(\"success a=\",a)"
   ]
  },
  {
   "cell_type": "code",
   "execution_count": null,
   "id": "953104d5-2604-4e10-a1ff-f3ab3b049efb",
   "metadata": {},
   "outputs": [],
   "source": [
    "a = 1\n",
    "\n",
    "try:\n",
    "    b = int(input(\"Please enter a number to divide a\"))\n",
    "    a = a/b\n",
    "except ZeroDivisionError:\n",
    "    print(\"The number you provided cant divide 1 because it is 0\")\n",
    "except ValueError:\n",
    "    print(\"You did not provide a number\")\n",
    "except:\n",
    "    print(\"Something went wrong\")\n",
    "else:\n",
    "    print(\"success a=\",a)\n",
    "finally:\n",
    "    print(\"Processing Complete\")"
   ]
  },
  {
   "cell_type": "markdown",
   "id": "2346eda2-5b03-4fd4-9088-d4a3968ccb7a",
   "metadata": {},
   "source": [
    "# Classes and Object \n",
    "\n",
    "## Creating a Class\n",
    "\n",
    "The first step in creating a class is giving it a name. In this notebook, we will create two classes: Circle and Rectangle. We need to determine all the data that make up that class, which we call attributes. Think about this step as creating a blue print that we will use to create objects. In figure 1 we see two classes, Circle and Rectangle. Each has their attributes, which are variables. The class Circle has the attribute radius and color, while the Rectangle class has the attribute height and width. Let’s use the visual examples of these shapes before we get to the code, as this will help you get accustomed to the vocabulary.\n",
    "\n",
    "\n",
    "<img src=\"https://cf-courses-data.s3.us.cloud-object-storage.appdomain.cloud/IBMDeveloperSkillsNetwork-PY0101EN-SkillsNetwork/labs/Module%203/images/ClassesClass.png\" width=\"500\" />\n",
    "\n"
   ]
  },
  {
   "cell_type": "markdown",
   "id": "77a8ba7d-4702-4505-a575-d29831f029a8",
   "metadata": {},
   "source": [
    "## Instances of a Class: Objects and Attributes\n",
    "\n",
    "An instance of an object is the realisation of a class, and in Figure 2 we see three instances of the class circle. We give each object a name: red circle, yellow circle, and green circle. Each object has different attributes, so let's focus on the color attribute for each object.\n",
    "\n",
    "<img src=\"https://cf-courses-data.s3.us.cloud-object-storage.appdomain.cloud/IBMDeveloperSkillsNetwork-PY0101EN-SkillsNetwork/labs/Module%203/images/ClassesObj.png\" width=\"500\" />\n",
    "\n",
    "\n",
    "The colour attribute for the red Circle is the colour red, for the green Circle object the colour attribute is green, and for the yellow Circle the colour attribute is yellow."
   ]
  },
  {
   "cell_type": "markdown",
   "id": "999c6c54-504f-4326-ad7b-218321843b92",
   "metadata": {},
   "source": [
    "## Methods\n",
    "\n",
    "Methods give you a way to change or interact with the object; they are functions that interact with objects. For example, let’s say we would like to increase the radius of a circle by a specified amount. We can create a method called add_radius(r) that increases the radius by r. This is shown in figure 3, where after applying the method to the \"orange circle object\", the radius of the object increases accordingly. The “dot” notation means to apply the method to the object, which is essentially applying a function to the information in the object.\n",
    "\n",
    "<img src=\"https://cf-courses-data.s3.us.cloud-object-storage.appdomain.cloud/IBMDeveloperSkillsNetwork-PY0101EN-SkillsNetwork/labs/Module%203/images/ClassesMethod.png\" width=\"500\" /> \n"
   ]
  },
  {
   "cell_type": "markdown",
   "id": "31b4008d-d20a-4258-b509-2ebbcca85e30",
   "metadata": {},
   "source": [
    "## Creating a Class\n",
    "\n",
    "Now we are going to create a class Circle, but first, we are going to import a library to draw the objects:"
   ]
  },
  {
   "cell_type": "code",
   "execution_count": null,
   "id": "ccef4399-2846-495c-b924-bc292aadac3f",
   "metadata": {},
   "outputs": [],
   "source": [
    "\n",
    "import matplotlib.pyplot as plt\n",
    "%matplotlib inline  "
   ]
  },
  {
   "cell_type": "markdown",
   "id": "302a0358-a471-4e7b-b0ad-7bf94b770435",
   "metadata": {},
   "source": [
    "The first step in creating your own class is to use the class keyword, then the name of the class\n",
    "\n",
    "<img src=\"https://cf-courses-data.s3.us.cloud-object-storage.appdomain.cloud/IBMDeveloperSkillsNetwork-PY0101EN-SkillsNetwork/labs/Module%203/images/ClassesDefine.png\" width=\"400\" />\n"
   ]
  },
  {
   "cell_type": "markdown",
   "id": "9e949b15-7212-42aa-b347-d2a0c5098403",
   "metadata": {},
   "source": [
    "The next step is a special method called a constructor __init__, which is used to initialize the object. The inputs are data attributes. The term self contains all the attributes in the set. For example the self.color gives the value of the attribute color and self.radius will give you the radius of the object. We also have the method add_radius() with the parameter r, the method adds the value of r to the attribute radius. To access the radius we use the syntax self.radius. The labeled syntax is summarized in Figure 5:\n",
    "\n",
    "<img src=\"https://cf-courses-data.s3.us.cloud-object-storage.appdomain.cloud/IBMDeveloperSkillsNetwork-PY0101EN-SkillsNetwork/labs/Module%203/images/ClassesCircle.png\" width=\"600\" />\n"
   ]
  },
  {
   "cell_type": "code",
   "execution_count": null,
   "id": "991a6acf-8d79-4686-b93e-dda2e11c5742",
   "metadata": {},
   "outputs": [],
   "source": [
    "class Circle(object):\n",
    "    \n",
    "    # Constructor\n",
    "    def __init__(self, radius=3, color='blue'):\n",
    "        self.radius = radius\n",
    "        self.color = color \n",
    "    \n",
    "    # Method\n",
    "    def add_radius(self, r):\n",
    "        self.radius = self.radius + r\n",
    "        return(self.radius)\n",
    "    \n",
    "    # Method\n",
    "    def drawCircle(self):\n",
    "        plt.gca().add_patch(plt.Circle((0, 0), radius=self.radius, fc=self.color))\n",
    "        plt.axis('scaled')\n",
    "        plt.show() "
   ]
  },
  {
   "cell_type": "markdown",
   "id": "b614136f-7682-418d-b420-d7dc803971b9",
   "metadata": {},
   "source": [
    "**Lets create an instance of a class Circle**"
   ]
  },
  {
   "cell_type": "code",
   "execution_count": null,
   "id": "5f5268a2-8952-4d2d-acc6-86025c8d91ee",
   "metadata": {},
   "outputs": [],
   "source": [
    "PinkCircle = Circle(2, 'pink')\n",
    "\n",
    "PinkCircle.drawCircle()"
   ]
  },
  {
   "cell_type": "code",
   "execution_count": null,
   "id": "56fb12e1-05d4-42a2-883a-72207cdcf302",
   "metadata": {},
   "outputs": [],
   "source": [
    "dir(PinkCircle)"
   ]
  },
  {
   "cell_type": "code",
   "execution_count": null,
   "id": "bdaa30e1-7e91-479e-9762-bee8c598a1e5",
   "metadata": {},
   "outputs": [],
   "source": [
    "PinkCircle.radius"
   ]
  },
  {
   "cell_type": "code",
   "execution_count": null,
   "id": "36d44e32-7769-4342-8ada-dacfe830c3f6",
   "metadata": {},
   "outputs": [],
   "source": [
    "PinkCircle.color"
   ]
  },
  {
   "cell_type": "markdown",
   "id": "e6423f6f-d45a-46b8-bf50-7195a2d24955",
   "metadata": {},
   "source": [
    "**Let's create an instance of a class Rectangle**"
   ]
  },
  {
   "cell_type": "code",
   "execution_count": null,
   "id": "784ebafb-8267-4603-9cb1-214084b6297a",
   "metadata": {},
   "outputs": [],
   "source": [
    "class Rectangle(object):\n",
    "    \n",
    "    # Constructor\n",
    "    def __init__(self, width=2, height=3, color='r'):\n",
    "        self.height = height \n",
    "        self.width = width\n",
    "        self.color = color\n",
    "    \n",
    "    # Method\n",
    "    def drawRectangle(self):\n",
    "        plt.gca().add_patch(plt.Rectangle((0, 0), self.width, self.height ,fc=self.color))\n",
    "        plt.axis('scaled')\n",
    "        plt.show()\n",
    "        "
   ]
  },
  {
   "cell_type": "code",
   "execution_count": null,
   "id": "9a2d6dd2-6fdf-477a-b58a-7998efa5fdaa",
   "metadata": {},
   "outputs": [],
   "source": [
    "BlueRectangle = Rectangle(4, 6, 'blue')\n",
    "\n",
    "BlueRectangle.drawRectangle()"
   ]
  },
  {
   "cell_type": "markdown",
   "id": "12209bfd-23b8-4dd9-9324-09f412a350ff",
   "metadata": {},
   "source": [
    "# Text Analysis\n",
    "\n",
    "You have been recruited by your friend, a linguistics enthusiast, to create a utility tool that can perform analysis on a given piece of text. Complete the class 'analysedText' with the following methods -\n",
    "\n",
    "Constructor (__init__) - This method should take the argument text, make it lower case, and remove all punctuation. Assume only the following punctuation is used: period (.), exclamation mark (!), comma (,) and question mark (?). Assign this newly formatted text to a new attribute called fmtText.\n",
    "freqAll - This method should create and return dictionary of all unique words in the text, along with the number of times they occur in the text. Each key in the dictionary should be the unique word appearing in the text and the associated value should be the number of times it occurs in the text. Create this dictionary from the fmtText attribute.\n",
    "freqOf - This method should take a word as an argument and return the number of occurrences of that word in fmtText.\n",
    "The skeleton code has been given to you. Docstrings can be ignored for the purpose of the exercise.\n",
    "Hint: Some useful functions are replace(), lower(), split(), count()"
   ]
  },
  {
   "cell_type": "code",
   "execution_count": null,
   "id": "1acde9e9-0957-4ae0-9841-d596199353e7",
   "metadata": {},
   "outputs": [],
   "source": [
    "class analysedText(object):\n",
    "    \n",
    "    def _init_(self, text):\n",
    "        \n",
    "        formattedText = text.replace(\".\", \"\").replace(\",\", \"\").replace(\"!\", \"\").replace(\"?\", \"\")\n",
    "        \n",
    "        formattedText = text.lower()\n",
    "        \n",
    "        self.fmtText = formattedText\n",
    "        \n",
    "    def freqAll(self):\n",
    "         # split text into words\n",
    "        wordList = self.fmtText.split(' ')\n",
    "        \n",
    "        # Create dictionary\n",
    "        freqMap = {}\n",
    "        for word in set(wordList): # use set to remove duplicates in list\n",
    "            freqMap[word] = wordList.count(word)\n",
    "        \n",
    "        return freqMap\n",
    "    \n",
    "     \n",
    "    def freqOf(self,word):\n",
    "        # get frequency map\n",
    "        freqDict = self.freqAll()\n",
    "        \n",
    "        if word in freqDict:\n",
    "            return freqDict[word]\n",
    "        else:\n",
    "            return 0\n",
    "        \n",
    "        \n",
    "        "
   ]
  },
  {
   "cell_type": "code",
   "execution_count": null,
   "id": "8a84040f-a280-425f-969c-f733d926c5cb",
   "metadata": {},
   "outputs": [],
   "source": [
    "import sys\n",
    "\n",
    "sampleMap = {'eirmod': 1,'sed': 1, 'amet': 2, 'diam': 5, 'consetetur': 1, 'labore': 1, 'tempor': 1, 'dolor': 1, 'magna': 2, 'et': 3, 'nonumy': 1, 'ipsum': 1, 'lorem': 2}\n",
    "\n",
    "def testMsg(passed):\n",
    "    if passed:\n",
    "       return 'Test Passed'\n",
    "    else :\n",
    "       return 'Test Failed'\n",
    "\n",
    "print(\"Constructor: \")\n",
    "try:\n",
    "    samplePassage = analysedText(\"Lorem ipsum dolor! diam amet, consetetur Lorem magna. sed diam nonumy eirmod tempor. diam et labore? et diam magna. et diam amet.\")\n",
    "    print(testMsg(samplePassage.fmtText == \"lorem ipsum dolor diam amet consetetur lorem magna sed diam nonumy eirmod tempor diam et labore et diam magna et diam amet\"))\n",
    "except:\n",
    "    print(\"Error detected. Recheck your function \" )\n",
    "print(\"freqAll: \")\n",
    "try:\n",
    "    wordMap = samplePassage.freqAll()\n",
    "    print(testMsg(wordMap==sampleMap))\n",
    "except:\n",
    "    print(\"Error detected. Recheck your function \" )\n",
    "print(\"freqOf: \")\n",
    "try:\n",
    "    passed = True\n",
    "    for word in sampleMap:\n",
    "        if samplePassage.freqOf(word) != sampleMap[word]:\n",
    "            passed = False\n",
    "            break\n",
    "    print(testMsg(passed))\n",
    "    \n",
    "except:\n",
    "    print(\"Error detected. Recheck your function  \" )\n",
    "    "
   ]
  },
  {
   "cell_type": "markdown",
   "id": "232e54d8-7674-47f5-b3b8-d8cc4fafdcb5",
   "metadata": {
    "tags": []
   },
   "source": [
    "# Reading files\n",
    "\n",
    "One way to read or write a file in Python is to use the built-in open function. The open function provides a File object that contains the methods and attributes you need in order to read, save, and manipulate the file. In this notebook, we will only cover .txt files. The first parameter you need is the file path and the file name. An example is shown as follow:\n",
    "\n",
    "The mode argument is optional and the default value is r. \n",
    "\n",
    "**r**: Read mode for reading files\n",
    "**w**: Write mode for writing files\n",
    "**a**: Append mode for writing files"
   ]
  },
  {
   "cell_type": "markdown",
   "id": "830f5fd9-909d-491f-aa6b-906051941b8d",
   "metadata": {},
   "source": []
  },
  {
   "cell_type": "code",
   "execution_count": null,
   "id": "6b43a0a0-c07a-4195-a3cd-fac207f8342d",
   "metadata": {},
   "outputs": [],
   "source": [
    "dept = open(\"C:\\\\Users\\\\hp\\Downloads\\\\departments.csv\")\n"
   ]
  },
  {
   "cell_type": "code",
   "execution_count": null,
   "id": "738516a9-72be-42ad-871f-28cb56dd14a4",
   "metadata": {},
   "outputs": [],
   "source": [
    "dept.name"
   ]
  },
  {
   "cell_type": "code",
   "execution_count": null,
   "id": "075001af-d99b-4da2-bd6c-eded91f415a1",
   "metadata": {},
   "outputs": [],
   "source": [
    "dept.mode"
   ]
  },
  {
   "cell_type": "code",
   "execution_count": null,
   "id": "e200092f-377f-448c-a7e5-bb35ad4b9bfe",
   "metadata": {},
   "outputs": [],
   "source": [
    "department = dept.read()\n",
    "department"
   ]
  },
  {
   "cell_type": "code",
   "execution_count": null,
   "id": "dc3e48b7-3d3c-42ea-845a-97eb537af5ca",
   "metadata": {},
   "outputs": [],
   "source": [
    "print(department)"
   ]
  },
  {
   "cell_type": "code",
   "execution_count": null,
   "id": "fa467071-78ec-435c-95dd-da5b334791a0",
   "metadata": {},
   "outputs": [],
   "source": [
    "dept.close()"
   ]
  },
  {
   "cell_type": "markdown",
   "id": "18925205-ec78-47d7-b63d-b9e8d47eda28",
   "metadata": {},
   "source": [
    "# Open file using the WITH statement\n",
    "\n",
    "Using the with statement is better practice, it automatically closes the file even if the code encounters an exception. The code will run everything in the indent block then close the file object."
   ]
  },
  {
   "cell_type": "code",
   "execution_count": null,
   "id": "362440e1-4dee-4fd9-994f-a0c9902142d6",
   "metadata": {},
   "outputs": [],
   "source": [
    "dept1 = \"C:\\\\Users\\\\hp\\Downloads\\\\departments.csv\"\n",
    "\n",
    "with open(dept1, 'r') as dept:\n",
    "    dept_file = dept.read()\n",
    "    print(dept_file)"
   ]
  },
  {
   "cell_type": "code",
   "execution_count": null,
   "id": "230cb98f-6028-4c37-9eb0-a4237706d6bf",
   "metadata": {},
   "outputs": [],
   "source": [
    "dept.closed"
   ]
  },
  {
   "cell_type": "code",
   "execution_count": null,
   "id": "f035aea9-1915-457b-912d-06691f0334bb",
   "metadata": {},
   "outputs": [],
   "source": [
    "print(dept_file)"
   ]
  },
  {
   "cell_type": "markdown",
   "id": "d0c3ad7b-126a-4c0a-ab77-d0be2f7bffe3",
   "metadata": {},
   "source": [
    "<img src=\"https://cf-courses-data.s3.us.cloud-object-storage.appdomain.cloud/IBMDeveloperSkillsNetwork-PY0101EN-SkillsNetwork/labs/Module%204/images/ReadWith.png\" width=\"500\" />"
   ]
  },
  {
   "cell_type": "markdown",
   "id": "11f5a14d-d138-476e-b63d-e40bfc8ad287",
   "metadata": {},
   "source": [
    "We don’t have to read the entire file, for example, we can read the first 4 characters by entering four as a parameter to the method \n",
    "\n",
    "**.read():**"
   ]
  },
  {
   "cell_type": "code",
   "execution_count": null,
   "id": "50f2434a-5ef1-4090-925f-1fcdf4619ef8",
   "metadata": {},
   "outputs": [],
   "source": [
    "with open(dept1, 'r') as dept:\n",
    "    print(dept.read(4))"
   ]
  },
  {
   "cell_type": "markdown",
   "id": "996d49fe-a6b4-4ea1-b367-094fb0c5c726",
   "metadata": {},
   "source": [
    "Once the method .read(4) is called the first 4 characters are called. If we call the method again, the next 4 characters are called. The output for the following cell will demonstrate the process for different inputs to the method read():\n",
    "\n"
   ]
  },
  {
   "cell_type": "code",
   "execution_count": null,
   "id": "2f975cc7-33fb-4745-829d-9a70fde4cd70",
   "metadata": {},
   "outputs": [],
   "source": [
    "with open(dept1, 'r') as dept:\n",
    "    print(dept.read(4))\n",
    "    print(dept.read(4))\n",
    "    print(dept.read(7))\n",
    "    print(dept.read(15))\n",
    "    print(dept.read(100))"
   ]
  },
  {
   "cell_type": "markdown",
   "id": "446109f1-c169-4864-995d-cd247adda507",
   "metadata": {},
   "source": [
    "<img src=\"https://cf-courses-data.s3.us.cloud-object-storage.appdomain.cloud/IBMDeveloperSkillsNetwork-PY0101EN-SkillsNetwork/labs/Module%204/images/read.png\" width=\"500\" />\n"
   ]
  },
  {
   "cell_type": "markdown",
   "id": "a8676ee8-b237-49b6-89f1-2ec726f92fc0",
   "metadata": {},
   "source": [
    "We can read 1 line of the file at a time using the .rteadline() method"
   ]
  },
  {
   "cell_type": "code",
   "execution_count": null,
   "id": "831aa262-e3d4-46dc-b547-c42a56e845ec",
   "metadata": {},
   "outputs": [],
   "source": [
    "with open(dept1, 'r') as dept:\n",
    "    print(dept.readline())"
   ]
  },
  {
   "cell_type": "markdown",
   "id": "64eb3404-ed1d-4976-a0fa-f1b2b1ca7c56",
   "metadata": {},
   "source": [
    "We can loop to iterate through each line, using the for loop function"
   ]
  },
  {
   "cell_type": "code",
   "execution_count": null,
   "id": "abe940cf-a2a9-4cfa-ae02-153fa4bb5a2c",
   "metadata": {},
   "outputs": [],
   "source": [
    "with open(dept1, 'r') as dept:\n",
    "    for line in dept:\n",
    "        print(line)"
   ]
  },
  {
   "cell_type": "markdown",
   "id": "1b638f89-db99-4602-8633-711bb281c14f",
   "metadata": {},
   "source": [
    "We can use the method readlines() to save the text file to a list:"
   ]
  },
  {
   "cell_type": "code",
   "execution_count": null,
   "id": "4f5dd0b8-da68-4da0-8d93-c15e34856219",
   "metadata": {},
   "outputs": [],
   "source": [
    "with open(dept1, 'r') as dept:\n",
    "    dept_list = dept.readlines()"
   ]
  },
  {
   "cell_type": "code",
   "execution_count": null,
   "id": "7c4b1ef0-c38d-4266-a841-cc9e49ec69ec",
   "metadata": {},
   "outputs": [],
   "source": [
    "print(dept_list)"
   ]
  },
  {
   "cell_type": "markdown",
   "id": "70da6cb5-77b9-4393-bab5-5e2218e2cf9d",
   "metadata": {},
   "source": [
    "# Writing Files\n",
    "\n",
    "We can open a file object using the method write() to save the text file to a list. To write to a file, the mode argument must be set to w. The write option creates a new file and writes on it. you can use an old file but it will overwrite the data found in the previous file"
   ]
  },
  {
   "cell_type": "code",
   "execution_count": null,
   "id": "c02f94d7-2cef-4a5d-bd90-cb6cbfdb696a",
   "metadata": {},
   "outputs": [],
   "source": [
    "data = 'Example2.txt'\n",
    "with open(data, 'w') as write_data:\n",
    "    write_data.write(\"This is line A\")"
   ]
  },
  {
   "cell_type": "markdown",
   "id": "d6d72739-22b1-465f-8ce2-39d9f2a24f92",
   "metadata": {},
   "source": [
    "We can check to see if it worked"
   ]
  },
  {
   "cell_type": "code",
   "execution_count": null,
   "id": "ebf81f64-881c-4313-a55e-45eab7e239ea",
   "metadata": {},
   "outputs": [],
   "source": [
    "with open(data, 'r') as read_data:\n",
    "    print(read_data.read())"
   ]
  },
  {
   "cell_type": "code",
   "execution_count": null,
   "id": "e6a5f07d-cd45-489a-a1d9-6b6c1510759f",
   "metadata": {},
   "outputs": [],
   "source": [
    "with open(data, 'w') as write_data:\n",
    "    write_data.write(\"This little life of mine\\n\")\n",
    "    write_data.write(\"I'm gonna let it shine\\n\")\n",
    "    write_data.write(\"This little light of mine\\n\")\n",
    "    write_data.write(\"I'm gonna let it shine\\n\")\n",
    "    write_data.write(\"Let it shine, let it shine, let it shine!!!\")"
   ]
  },
  {
   "cell_type": "code",
   "execution_count": null,
   "id": "a348b3d9-70df-4dc6-a733-dbc9210972ea",
   "metadata": {},
   "outputs": [],
   "source": [
    "with open(data, 'r') as read_data:\n",
    "    print(read_data.read())"
   ]
  },
  {
   "cell_type": "code",
   "execution_count": null,
   "id": "83550146-8fa2-4d75-9a1e-24a4f3cac6f3",
   "metadata": {},
   "outputs": [],
   "source": [
    "songs = [\"This little life of mine\\n\", \"I'm gonna let it shine\\n\", \"This little light of mine\\n\", \"I'm gonna let it shine\\n\", \"Let it shine, let it shine, let it shine!!!\"]\n",
    "\n",
    "songs"
   ]
  },
  {
   "cell_type": "code",
   "execution_count": null,
   "id": "2ff894a4-c818-443d-a736-5610abcf1aed",
   "metadata": {},
   "outputs": [],
   "source": [
    "with open(data, 'w') as write_data:\n",
    "    for song in songs:\n",
    "        write_data.write(song)\n",
    "        print(song)"
   ]
  },
  {
   "cell_type": "code",
   "execution_count": null,
   "id": "0bc8bbcb-ac97-411c-bab2-3de924c5f123",
   "metadata": {},
   "outputs": [],
   "source": [
    "with open(data, 'r') as read_data:\n",
    "    print(read_data.read())\n",
    "   "
   ]
  },
  {
   "cell_type": "markdown",
   "id": "616bd4df-dfb0-4e0b-89ba-702434807425",
   "metadata": {},
   "source": [
    "# Appending Files\n",
    "\n",
    "We can write to files without losing any of the existing data as follows by setting the mode argument to append: a. you can append a new line as follows:"
   ]
  },
  {
   "cell_type": "code",
   "execution_count": null,
   "id": "cbf3aabf-0011-45f3-a9b5-f8e842e14bff",
   "metadata": {},
   "outputs": [],
   "source": [
    "with open(data, 'a') as write_data:\n",
    "    write_data.write(\"\\nSong by the greatest Odinaka\")"
   ]
  },
  {
   "cell_type": "code",
   "execution_count": null,
   "id": "fa5de466-c4e4-4f34-8674-2fe3897c651c",
   "metadata": {},
   "outputs": [],
   "source": [
    "with open(data, 'r') as read_data:\n",
    "    print(read_data.read())"
   ]
  },
  {
   "cell_type": "markdown",
   "id": "b77c795e-a362-4450-9167-9f3a5c3b13a7",
   "metadata": {},
   "source": [
    "# Additional mode\n",
    "\n",
    "It's fairly ineffecient to open the file in a or w and then reopening it in r to read any lines. Luckily we can access the file in the following modes:\n",
    "\n",
    "r+ : Reading and writing. Cannot truncate the file.\n",
    "\n",
    "w+ : Writing and reading. Truncates the file.\n",
    "\n",
    "a+ : Appending and Reading. Creates a new file, if none exists.\n",
    "\n",
    "You dont have to dwell on the specifics of each mode for this lab."
   ]
  },
  {
   "cell_type": "code",
   "execution_count": null,
   "id": "0cae2fcf-ed16-43e2-9ee6-58d6995298b0",
   "metadata": {},
   "outputs": [],
   "source": [
    "with open(data, 'a+') as write_data:\n",
    "    write_data.write(\"GOD DID!!\")\n",
    "    print(write_data.read())"
   ]
  },
  {
   "cell_type": "markdown",
   "id": "3f8050e5-a3cf-4f0e-b3f5-0d1d9917f780",
   "metadata": {},
   "source": [
    "There were no errors but read() also did not output anything. This is because of our location in the file.\n",
    "\n",
    "Most of the file methods we've looked at work in a certain location in the file. .write()  writes at a certain location in the file. .read() reads at a certain location in the file and so on. You can think of this as moving your pointer around in the notepad to make changes at specific location.\n",
    "\n",
    "Opening the file in w is akin to opening the .txt file, moving your cursor to the beginning of the text file, writing new text and deleting everything that follows. Whereas opening the file in a is similiar to opening the .txt file, moving your cursor to the very end and then adding the new pieces of text.\n",
    "It is often very useful to know where the 'cursor' is in a file and be able to control it. The following methods allow us to do precisely this -\n",
    "\n",
    ".tell() - returns the current position in bytes\n",
    ".seek(offset,from) - changes the position by 'offset' bytes with respect to 'from'. From can take the value of 0,1,2 corresponding to beginning, relative to current position and end\n",
    "\n",
    "lets try the a+ mode again"
   ]
  },
  {
   "cell_type": "code",
   "execution_count": null,
   "id": "51c1a6bf-8537-41e2-97a6-87a1c038481d",
   "metadata": {},
   "outputs": [],
   "source": [
    "with open('Example2.txt', 'a+') as write_data:\n",
    "    print(\"Initial Location: {}\".format(write_data.tell()))\n",
    "    \n",
    "    data_write = write_data.read()\n",
    "    if (not data_write):  #empty strings return false in python\n",
    "            print('Read nothing') \n",
    "    else: \n",
    "            print(write_data.read())\n",
    "            \n",
    "    write_data.seek(0,0) # move 0 bytes from beginning.\n",
    "    \n",
    "    print(\"\\nNew Location : {}\".format(write_data.tell()))\n",
    "    data_write = write_data.read()\n",
    "    if (not data_write): \n",
    "            print('Read nothing') \n",
    "    else: \n",
    "            print(data_write)\n",
    "    \n",
    "    print(\"Location after read: {}\".format(write_data.tell()) )"
   ]
  },
  {
   "cell_type": "markdown",
   "id": "5295d7f2-27a9-4657-8cbe-9615bb319e46",
   "metadata": {},
   "source": [
    "# Difference between w+ and r+\n",
    "\n",
    "Finally, a note on the difference between w+ and r+. Both of these modes allow access to read and write methods, however, opening a file in w+ overwrites it and deletes all pre-existing data.\n",
    "To work with a file on existing data, use r+ and a+. While using r+, it can be useful to add a .truncate() method at the end of your data. This will reduce the file to your data and delete everything that follows.\n",
    "In the following code block, Run the code as it is first and then run it with the .truncate()."
   ]
  },
  {
   "cell_type": "code",
   "execution_count": null,
   "id": "f28010d8-8840-4b28-acc5-21166afc770c",
   "metadata": {},
   "outputs": [],
   "source": [
    "with open('Example2.txt', 'r+') as write_data:\n",
    "    data_write =  write_data.readlines()\n",
    "    write_data.seek(0,0) #write at beginning of file\n",
    "    \n",
    "    write_data.write(\"They didnt believe in us\\n\")\n",
    "    write_data.write(\"But GOD DID!!\\n\")\n",
    "    write_data.write(\"Billionaire crib\\n\")\n",
    "    \n",
    "    #Uncomment the line below\n",
    "    #testwritefile.truncate()\n",
    "    write_data.seek(0,0)\n",
    "    print(write_data.read())"
   ]
  },
  {
   "cell_type": "markdown",
   "id": "8dded7cf-8b9e-4bef-a9b0-e4cb3c4b7e24",
   "metadata": {},
   "source": [
    "# Copy a file\n",
    "\n",
    "Let's copy the file Example2.txt to the file Example3.txt:"
   ]
  },
  {
   "cell_type": "code",
   "execution_count": null,
   "id": "d81f7dc5-6906-4598-a9a3-0d8db3e3e879",
   "metadata": {},
   "outputs": [],
   "source": [
    "with open('Example2.txt','r') as readfile:\n",
    "    with open('Example3.txt','w') as writefile:\n",
    "          for line in readfile:\n",
    "                writefile.write(line)"
   ]
  },
  {
   "cell_type": "code",
   "execution_count": null,
   "id": "a2de76f1-f461-4758-8e83-ad170637d928",
   "metadata": {},
   "outputs": [],
   "source": [
    "with open('Example3.txt','r') as read_data:\n",
    "    print(read_data.read())"
   ]
  },
  {
   "cell_type": "markdown",
   "id": "fd920cc7-ef0d-41f1-92a2-caea01fbb84a",
   "metadata": {},
   "source": [
    "**Note**: After reading files, we can also write data into files and save them in different file formats like .txt, .csv, .xls (for excel files) etc. You will come across these in further examples"
   ]
  },
  {
   "cell_type": "markdown",
   "id": "e0ce0b28-3e1c-4961-8a5c-d40a35308098",
   "metadata": {},
   "source": [
    "# Exercise\n",
    "\n",
    "Your local university's Raptors fan club maintains a register of its active members on a .txt document. Every month they update the file by removing the members who are not active. You have been tasked with automating this with your Python skills.\n",
    "Given the file currentMem, Remove each member with a 'no' in their Active column. Keep track of each of the removed members and append them to the exMem file. Make sure that the format of the original files in preserved. (Hint: Do this by reading/writing whole lines and ensuring the header remains )\n",
    "Run the code block below prior to starting the exercise. The skeleton code has been provided for you. Edit only the cleanFiles function."
   ]
  },
  {
   "cell_type": "code",
   "execution_count": null,
   "id": "dbd79837-8f80-4e10-b3c5-51859ed9ca95",
   "metadata": {},
   "outputs": [],
   "source": [
    "from random import randint as rnd\n",
    "\n",
    "memReg = 'members.txt'\n",
    "exReg = 'inactive.txt'\n",
    "fee =('yes','no')\n",
    "\n",
    "def genFiles(current,old):\n",
    "    with open(current,'w+') as writefile: \n",
    "        writefile.write('Membership No  Date Joined  Active  \\n')\n",
    "        data = \"{:^13}  {:<11}  {:<6}\\n\"\n",
    "\n",
    "        for rowno in range(20):\n",
    "            date = str(rnd(2015,2020))+ '-' + str(rnd(1,12))+'-'+str(rnd(1,25))\n",
    "            writefile.write(data.format(rnd(10000,99999),date,fee[rnd(0,1)]))\n",
    "\n",
    "\n",
    "    with open(old,'w+') as writefile: \n",
    "        writefile.write('Membership No  Date Joined  Active  \\n')\n",
    "        data = \"{:^13}  {:<11}  {:<6}\\n\"\n",
    "        for rowno in range(3):\n",
    "            date = str(rnd(2015,2020))+ '-' + str(rnd(1,12))+'-'+str(rnd(1,25))\n",
    "            writefile.write(data.format(rnd(10000,99999),date,fee[1]))\n",
    "\n",
    "\n",
    "genFiles(memReg,exReg)\n"
   ]
  },
  {
   "cell_type": "code",
   "execution_count": null,
   "id": "5eaef1e7-bcb4-41bd-99a0-4d839e8b15f0",
   "metadata": {},
   "outputs": [],
   "source": [
    "def cleanFiles(currentMem,exMem):\n",
    "    with open(currentMem,'r+') as writeFile: \n",
    "        with open(exMem,'a+') as appendFile:\n",
    "            #get the data\n",
    "            writeFile.seek(0)\n",
    "            members = writeFile.readlines()\n",
    "            #remove header\n",
    "            header = members[0]\n",
    "            members.pop(0)\n",
    "                \n",
    "            inactive = [member for member in members if ('no' in member)]\n",
    "            '''\n",
    "            The above is the same as \n",
    "\n",
    "            for member in members:\n",
    "            if 'no' in member:\n",
    "                inactive.append(member)\n",
    "            '''\n",
    "            #go to the beginning of the write file\n",
    "            writeFile.seek(0) \n",
    "            writeFile.write(header)\n",
    "            for member in members:\n",
    "                if (member in inactive):\n",
    "                    appendFile.write(member)\n",
    "                else:\n",
    "                    writeFile.write(member)      \n",
    "            writeFile.truncate()\n",
    "                \n",
    "memReg = 'members.txt'\n",
    "exReg = 'inactive.txt'\n",
    "cleanFiles(memReg,exReg)\n",
    "\n",
    "# code to help you see the files\n",
    "\n",
    "headers = \"Membership No  Date Joined  Active  \\n\"\n",
    "\n",
    "with open(memReg,'r') as readFile:\n",
    "    print(\"Active Members: \\n\\n\")\n",
    "    print(readFile.read())\n",
    "    \n",
    "with open(exReg,'r') as readFile:\n",
    "    print(\"Inactive Members: \\n\\n\")\n",
    "    print(readFile.read())\n",
    "    \n"
   ]
  },
  {
   "cell_type": "markdown",
   "id": "84cd2df2-ffa8-4d6d-9780-f12c676b4842",
   "metadata": {},
   "source": [
    "# Pandas\n",
    "\n",
    "Pandas: DataFrame and Series\n",
    "\n",
    "Pandas is a popular library for data analysis built on top of the Python programming language. Pandas generally provide two data structures for manipulating data, They are:\n",
    "\n",
    "DataFrame\n",
    "Series\n",
    "A DataFrame is a two-dimensional data structure, i.e., data is aligned in a tabular fashion in rows and columns.\n",
    "\n",
    "A Pandas DataFrame will be created by loading the datasets from existing storage.\n",
    "Storage can be SQL Database, CSV file, an Excel file, etc.\n",
    "It can also be created from the lists, dictionary, and from a list of dictionaries.\n",
    "\n",
    "Series represents a one-dimensional array of indexed data. It has two main components :\n",
    "\n",
    "An array of actual data.\n",
    "An associated array of indexes or data labels.\n",
    "The index is used to access individual data values. You can also get a column of a dataframe as a Series. You can think of a Pandas series as a 1-D dataframe."
   ]
  },
  {
   "cell_type": "code",
   "execution_count": null,
   "id": "cea491f4-b618-4c6e-9cc0-818a3bfcd988",
   "metadata": {},
   "outputs": [],
   "source": [
    "import pandas as pd"
   ]
  },
  {
   "cell_type": "code",
   "execution_count": null,
   "id": "282b936c-0f73-406b-b693-432f0ab3f2d7",
   "metadata": {},
   "outputs": [],
   "source": [
    "x = {'Name': ['Rose','John', 'Jane', 'Mary'], 'ID': [1, 2, 3, 4], 'Department': ['Architect Group', 'Software Group', 'Design Team', 'Infrastructure'], \n",
    "      'Salary':[100000, 80000, 50000, 60000]}\n",
    "\n",
    "#casting the dictionary to a DataFrame\n",
    "df = pd.DataFrame(x)\n",
    "\n",
    "#display the result df\n",
    "df.head()"
   ]
  },
  {
   "cell_type": "markdown",
   "id": "89e568db-744e-4312-bdec-ae106a6f07ab",
   "metadata": {},
   "source": [
    "To select a column in Pandas DataFrame, we can access the columns by calling them by their columns name.\n",
    "\n",
    "Let's Retrieve the data present in the ID column."
   ]
  },
  {
   "cell_type": "code",
   "execution_count": null,
   "id": "6b6a0804-4f96-4a39-9902-e0135b68a9b7",
   "metadata": {},
   "outputs": [],
   "source": [
    "Id = df[['ID']]\n",
    "Id"
   ]
  },
  {
   "cell_type": "markdown",
   "id": "c6ac2502-b66f-4ee8-a8f4-158665f20334",
   "metadata": {},
   "source": [
    "we can also access multiuple columns the same way"
   ]
  },
  {
   "cell_type": "code",
   "execution_count": null,
   "id": "7887efac-7e40-43cd-8c52-e075822b64f7",
   "metadata": {},
   "outputs": [],
   "source": [
    "multi = df[['Name', 'ID', 'Salary']]\n",
    "multi"
   ]
  },
  {
   "cell_type": "code",
   "execution_count": null,
   "id": "42099cae-e71c-4f4c-9734-79df91ed1577",
   "metadata": {},
   "outputs": [],
   "source": [
    "df_dict = {'Student': ['David', 'Samuel', 'Terry', 'Evan'], 'Age': [27, 24, 22, 32], 'Country': ['UK', 'Canada', 'China', 'USA'], 'Course': ['Python', 'Data Structures', 'Machine Learning', 'Web Development'], 'Marks': [85, 72, 89, 76]}\n",
    "\n",
    "df = pd.DataFrame(df_dict)\n",
    "\n",
    "df"
   ]
  },
  {
   "cell_type": "code",
   "execution_count": null,
   "id": "7654b991-ba4a-4da3-bb44-2de30c47f64b",
   "metadata": {},
   "outputs": [],
   "source": [
    "c = df[['Country']]\n",
    "c"
   ]
  },
  {
   "cell_type": "code",
   "execution_count": null,
   "id": "fa3bc5c2-0e43-4e9c-885b-f22029ce0511",
   "metadata": {},
   "outputs": [],
   "source": [
    "d = df['Student']\n",
    "d"
   ]
  },
  {
   "cell_type": "markdown",
   "id": "b248df98-52ff-4e34-b9bd-96a7cec1c904",
   "metadata": {},
   "source": [
    "As shhown above, to get a series instead of a dataframe use just 1 square bracket"
   ]
  },
  {
   "cell_type": "markdown",
   "id": "7e86bbaf-dd69-44d1-aa49-f8ab67a31023",
   "metadata": {},
   "source": [
    "# loc() and iloc() functions\n",
    "\n",
    "loc() is a label-based data selecting method which means that we have to pass the name of the row or column that we want to select. This method includes the last element of the range passed in it.\n",
    "\n",
    "Simple syntax for your understanding:\n",
    "\n",
    "loc[row_label, column_label]\n",
    "iloc() is an indexed-based selecting method which means that we have to pass integer index in the method to select a specific row/column. This method does not include the last element of the range passed in it.\n",
    "\n",
    "Simple syntax for your understanding:\n",
    "\n",
    "iloc[row_index, column_index]"
   ]
  },
  {
   "cell_type": "code",
   "execution_count": null,
   "id": "7a0e4b6f-9c71-4691-a3d3-68dbedd272cf",
   "metadata": {},
   "outputs": [],
   "source": [
    "df.iloc[0, 0]"
   ]
  },
  {
   "cell_type": "code",
   "execution_count": null,
   "id": "5f0f0d0b-aaf2-482f-9cb7-987478a911c8",
   "metadata": {},
   "outputs": [],
   "source": [
    "df.loc[0, 'Student']"
   ]
  },
  {
   "cell_type": "markdown",
   "id": "a9dc8696-74b1-462f-beb1-907ee7159770",
   "metadata": {},
   "source": [
    "# Slicing\n",
    "\n",
    "Slicing uses the [ ] operator to select a set of rows and/or columns from a DataFrame.\n",
    "\n",
    "To slice out a set of rows, you use this syntax: data[start:stop],\n",
    "\n",
    "here the start represents the index from where to consider, and stop represents the index one step BEYOND the row you want to select. You can perform slicing using both the index and the name of the column.\n",
    "\n",
    "NOTE: When slicing in pandas, the start bound is included in the output.\n",
    "\n",
    "So if you want to select rows 0, 1, and 2 your code would look like this: df.iloc[0:3].\n",
    "\n",
    "It means you are telling Python to start at index 0 and select rows 0, 1, 2 up to but not including 3.\n",
    "\n",
    "NOTE: Labels must be found in the DataFrame or you will get a KeyError.\n",
    "\n",
    "Indexing by labels(i.e. using loc()) differs from indexing by integers (i.e. using iloc()). With loc(), both the start bound and the stop bound are inclusive. When using loc(), integers can be used, but the integers refer to the index label and not the position.\n",
    "\n",
    "For example, using loc() and select 1:4 will get a different result than using iloc() to select rows 1:4.\n",
    "\n",
    "We can also select a specific data value using a row and column location within the DataFrame and iloc indexing. \n"
   ]
  },
  {
   "cell_type": "code",
   "execution_count": null,
   "id": "287b67c1-0653-4247-8938-8c6e2f967c7b",
   "metadata": {},
   "outputs": [],
   "source": [
    "df.iloc[0:2, 0:3]"
   ]
  },
  {
   "cell_type": "code",
   "execution_count": null,
   "id": "e9f252af-ef93-4273-b229-89a1d02fe80a",
   "metadata": {},
   "outputs": [],
   "source": [
    "df.loc[0:2,'Age':'Course']"
   ]
  },
  {
   "cell_type": "code",
   "execution_count": null,
   "id": "bb25e4d3-5240-4d87-a1dd-3862f0812ec0",
   "metadata": {},
   "outputs": [],
   "source": [
    "import pandas as pd\n",
    "\n",
    "csv_path = 'https://cf-courses-data.s3.us.cloud-object-storage.appdomain.cloud/IBMDeveloperSkillsNetwork-PY0101EN-SkillsNetwork/labs/Module%204/data/TopSellingAlbums.csv'\n",
    "df = pd.read_csv(csv_path)"
   ]
  },
  {
   "cell_type": "code",
   "execution_count": null,
   "id": "61cef7d0-1e2f-4c81-a1c1-d587758b3c2d",
   "metadata": {},
   "outputs": [],
   "source": [
    "df.head()"
   ]
  },
  {
   "cell_type": "code",
   "execution_count": null,
   "id": "2de43db2-9ed5-4887-9f90-645901026e2a",
   "metadata": {},
   "outputs": [],
   "source": [
    "xlsx_path = 'https://s3-api.us-geo.objectstorage.softlayer.net/cf-courses-data/CognitiveClass/PY0101EN/Chapter%204/Datasets/TopSellingAlbums.xlsx'\n",
    "\n",
    "df = pd.read_excel(xlsx_path)\n",
    "df.head()"
   ]
  },
  {
   "cell_type": "code",
   "execution_count": null,
   "id": "e5d0cbfe-9d6c-4044-aed2-64532703d224",
   "metadata": {},
   "outputs": [],
   "source": [
    "x = df[['Length']]\n",
    "x"
   ]
  },
  {
   "cell_type": "code",
   "execution_count": null,
   "id": "f0616520-02b2-458c-a98b-7e601b9c1eca",
   "metadata": {},
   "outputs": [],
   "source": [
    "\n",
    "y = df[['Artist','Length','Genre']]\n",
    "y"
   ]
  },
  {
   "cell_type": "code",
   "execution_count": null,
   "id": "364e9656-582e-448b-a551-cdfff3bc52e4",
   "metadata": {},
   "outputs": [],
   "source": [
    "df.iloc[0, 0]"
   ]
  },
  {
   "cell_type": "code",
   "execution_count": null,
   "id": "b1544a9c-c3ff-4404-92a0-ecd87c65bbc7",
   "metadata": {},
   "outputs": [],
   "source": [
    "df.iloc[1,0]"
   ]
  },
  {
   "cell_type": "code",
   "execution_count": null,
   "id": "5ddf711c-e5fd-4414-b48d-a3e179c475e1",
   "metadata": {},
   "outputs": [],
   "source": [
    "df.loc[1, 'Artist']"
   ]
  },
  {
   "cell_type": "code",
   "execution_count": null,
   "id": "c7a1d71e-566c-4dac-a521-af7b50cefd05",
   "metadata": {},
   "outputs": [],
   "source": [
    "df.loc[0, 'Released']"
   ]
  },
  {
   "cell_type": "code",
   "execution_count": null,
   "id": "75031d02-bc6d-4b74-ac10-319c2b0b3fe5",
   "metadata": {},
   "outputs": [],
   "source": [
    "z = df.iloc[0:2, 0:3]\n",
    "z"
   ]
  },
  {
   "cell_type": "code",
   "execution_count": null,
   "id": "4fd449c4-69e4-4275-a8c1-eaab9bdce00c",
   "metadata": {},
   "outputs": [],
   "source": [
    "q = df[['Rating']]\n",
    "q"
   ]
  },
  {
   "cell_type": "code",
   "execution_count": null,
   "id": "e49ab74f-bff5-483f-a21d-a12083ceb9f4",
   "metadata": {},
   "outputs": [],
   "source": [
    "p = df[['Released', 'Artist']]\n",
    "p"
   ]
  },
  {
   "cell_type": "markdown",
   "id": "b5f2b086-28e2-4ef6-9b78-c95745fe5de7",
   "metadata": {},
   "source": [
    "Use the following list to convert the dataframe index df to characters and assign it to df_new; find the element corresponding to the row index a and column 'Artist'. Then select the rows a through d for the column 'Artist'\n",
    "\n"
   ]
  },
  {
   "cell_type": "code",
   "execution_count": null,
   "id": "567b2316-df97-48d3-97fe-17a32e02f9ed",
   "metadata": {},
   "outputs": [],
   "source": [
    "new_index=['a','b','c','d','e','f','g','h']\n",
    "\n",
    "df_new=df\n",
    "df_new.index=new_index\n",
    "df_new.loc['a', 'Artist']\n",
    "df_new.loc['a':'d', 'Artist']"
   ]
  },
  {
   "cell_type": "code",
   "execution_count": null,
   "id": "c69d06af-1187-4ba4-bc58-2b9e049a65e9",
   "metadata": {},
   "outputs": [],
   "source": [
    "df\n",
    "df.loc['e', 'Music Recording Sales (millions)']"
   ]
  },
  {
   "cell_type": "code",
   "execution_count": null,
   "id": "afd61505-d223-4178-bbe2-e1556c1630e0",
   "metadata": {},
   "outputs": [],
   "source": [
    "df.iloc[6,5]"
   ]
  },
  {
   "cell_type": "code",
   "execution_count": null,
   "id": "09734cbe-d5cd-4e9c-ba02-bf00567fa03e",
   "metadata": {},
   "outputs": [],
   "source": [
    "\n",
    "df.iloc[4,5]"
   ]
  },
  {
   "cell_type": "markdown",
   "id": "e890082e-43bd-41a7-936a-5b5b7f5d6f3a",
   "metadata": {},
   "source": [
    "# Numpy (1 dimension)\n",
    "\n",
    "NumPy is a Python library used for working with arrays, linear algebra, fourier transform, and matrices.A numpy array is similar to a list. NumPy stands for Numerical Python and it is an open source project.The array object in NumPy is called ndarray, it provides a lot of supporting functions that make working with ndarray very easy.\n",
    "\n",
    "Arrays are very frequently used in data science, where speed and resources are very important.\n",
    "\n",
    "NumPy is usually imported under the np alias.\n",
    "\n",
    "It's usually fixed in size and each element is of the same type. We can cast a list to a numpy array by first importing numpy\n"
   ]
  },
  {
   "cell_type": "code",
   "execution_count": null,
   "id": "ebaeb4d1-dcac-42c2-ba03-c543508a70b6",
   "metadata": {},
   "outputs": [],
   "source": [
    "import numpy as np\n",
    "\n",
    "print(np.__version__)"
   ]
  },
  {
   "cell_type": "code",
   "execution_count": null,
   "id": "59a868c7-7edb-49e8-b62a-bf5592dc4ca9",
   "metadata": {},
   "outputs": [],
   "source": [
    "a = np.array([0, 1, 2, 3, 4])\n",
    "a"
   ]
  },
  {
   "cell_type": "code",
   "execution_count": null,
   "id": "867b9893-7cc5-4595-93cd-77f3b68bb196",
   "metadata": {},
   "outputs": [],
   "source": [
    "a.dtype"
   ]
  },
  {
   "cell_type": "code",
   "execution_count": null,
   "id": "9bf771e6-1e1d-47ac-bf62-0aff8ecfc35f",
   "metadata": {},
   "outputs": [],
   "source": [
    "a.ndim\n",
    "\n",
    "a.shape"
   ]
  },
  {
   "cell_type": "code",
   "execution_count": null,
   "id": "544a58da-b9ed-43de-8222-ec368e3295c1",
   "metadata": {},
   "outputs": [],
   "source": [
    "b = np.array([3.1, 11.02, 6.2, 213.2, 5.2])\n",
    "b\n",
    "b.dtype"
   ]
  },
  {
   "cell_type": "code",
   "execution_count": null,
   "id": "1f7be2a0-7bdd-422c-8ebd-3c7ff2b4a871",
   "metadata": {},
   "outputs": [],
   "source": [
    "c = np.array([20, 1, 2, 3, 4])\n",
    "c[0] = 100\n",
    "c"
   ]
  },
  {
   "cell_type": "markdown",
   "id": "1537013a-cff7-47dc-9ed7-97e18ee73748",
   "metadata": {},
   "source": [
    "# Slicing\n",
    "\n",
    "Like lists, we can slice the numpy array. Slicing in python means taking the elements from the given index to another given index.\n",
    "\n",
    "We pass slice like this: [start:end].\n",
    "\n",
    "We can select the elements from 1 to 3 and assign it to a new numpy array d as follows:"
   ]
  },
  {
   "cell_type": "code",
   "execution_count": null,
   "id": "9f0b6b9e-ba3f-4a18-8822-4705bd7fc5c4",
   "metadata": {},
   "outputs": [],
   "source": [
    "c[3:5] = 300, 400\n",
    "c"
   ]
  },
  {
   "cell_type": "code",
   "execution_count": null,
   "id": "fe9d9beb-0045-4e04-b603-9ec2c5e4b1eb",
   "metadata": {},
   "outputs": [],
   "source": [
    "d = c[1:4]\n",
    "d"
   ]
  },
  {
   "cell_type": "code",
   "execution_count": null,
   "id": "b9cb9a69-46e0-4bae-a7a5-1ce0f41c1b18",
   "metadata": {},
   "outputs": [],
   "source": [
    "arr = np.array([1, 2, 3, 4, 5, 6, 7])\n",
    "\n",
    "print(arr[1:5:2])"
   ]
  },
  {
   "cell_type": "code",
   "execution_count": null,
   "id": "fbbef203-4d48-40ce-b3d4-f9b61ef7c0a0",
   "metadata": {},
   "outputs": [],
   "source": [
    "print(arr[:4])"
   ]
  },
  {
   "cell_type": "markdown",
   "id": "7cfd6f3c-eb20-4e20-af94-09033018f8d2",
   "metadata": {},
   "source": [
    "# Vector addition and substraction in Numpy\n",
    "\n",
    "if u is a vector with coordinate 0, 1 and v is a vector also with coordinate 1, 0. if we are to find z which is equal to u + v [z = u + v] we will need to run a loop function as shown below using a list"
   ]
  },
  {
   "cell_type": "code",
   "execution_count": null,
   "id": "eb308f08-247f-4ade-a0e1-8371d532c238",
   "metadata": {},
   "outputs": [],
   "source": [
    "u = [0, 1]\n",
    "v = [1, 0]\n",
    "z = []\n",
    "\n",
    "for n, m in zip(u, v):\n",
    "    z.append(n + m)"
   ]
  },
  {
   "cell_type": "code",
   "execution_count": null,
   "id": "af40a6f2-d7e3-44dd-87a9-161630ceaa23",
   "metadata": {},
   "outputs": [],
   "source": [
    "z"
   ]
  },
  {
   "cell_type": "markdown",
   "id": "f79e8d03-bd0b-4495-8d8b-f955d9dfa9d2",
   "metadata": {},
   "source": [
    "This can be done using 1 line of code when the list is cast to a numpy array"
   ]
  },
  {
   "cell_type": "code",
   "execution_count": null,
   "id": "42265065-6cee-4691-8d2d-f19e2f8289aa",
   "metadata": {},
   "outputs": [],
   "source": [
    "u = np.array([0, 1])\n",
    "v = np.array([1, 0])\n",
    "\n",
    "z = u + v\n",
    "z"
   ]
  },
  {
   "cell_type": "markdown",
   "id": "61c1d64a-6618-4d7c-bdf8-31755fc2d51c",
   "metadata": {},
   "source": [
    "# Array Multiplication with a scalar\n",
    "\n",
    "using normal python to find the multiplication of 2 times y when y = [1, 2] will require the block of code below"
   ]
  },
  {
   "cell_type": "code",
   "execution_count": null,
   "id": "966b451c-bb73-4f6c-a1bc-56f3e92b164d",
   "metadata": {},
   "outputs": [],
   "source": [
    "y = [1, 2]\n",
    "z = []\n",
    "\n",
    "for n in y:\n",
    "    z.append(2*n)\n",
    "\n",
    "z"
   ]
  },
  {
   "cell_type": "markdown",
   "id": "073ee0aa-2d50-40ef-af81-2d278b49c568",
   "metadata": {},
   "source": [
    "Using numpy array the same multiplication will be run with a simpler block of code"
   ]
  },
  {
   "cell_type": "code",
   "execution_count": null,
   "id": "3c84c64e-13b6-4d77-a0d8-86dbae74dec8",
   "metadata": {},
   "outputs": [],
   "source": [
    "y = np.array([1, 2])\n",
    "z = 2*y\n",
    "z"
   ]
  },
  {
   "cell_type": "markdown",
   "id": "1b3be941-8522-4dae-86ee-e719918b97f6",
   "metadata": {},
   "source": [
    "# Product of two numpy arrays"
   ]
  },
  {
   "cell_type": "code",
   "execution_count": null,
   "id": "71301e92-824c-4ede-a53c-242479e073ac",
   "metadata": {},
   "outputs": [],
   "source": [
    "u = np.array([1, 2])\n",
    "v = np.array([3, 2])\n",
    "\n",
    "z = u*v\n",
    "z"
   ]
  },
  {
   "cell_type": "markdown",
   "id": "ae652c5f-3728-42a7-a8cc-b774814c3717",
   "metadata": {},
   "source": [
    "# Dot Product"
   ]
  },
  {
   "cell_type": "code",
   "execution_count": null,
   "id": "b0e235dc-3678-41ac-843d-78c888957c2b",
   "metadata": {},
   "outputs": [],
   "source": [
    "u = np.array([1, 2])\n",
    "v = np.array([3, 1])\n",
    "\n",
    "result = np.dot(u, v)\n",
    "result"
   ]
  },
  {
   "cell_type": "markdown",
   "id": "d3b92e2e-3bd4-49e8-a750-6543b58693f3",
   "metadata": {},
   "source": [
    "# Adding Constant to a Numpy array"
   ]
  },
  {
   "cell_type": "code",
   "execution_count": null,
   "id": "13eb53fd-aac0-4a26-aeff-eacc244e5e68",
   "metadata": {},
   "outputs": [],
   "source": [
    "u = np.array([1, 2, 3, -1])\n",
    "z = u + 1 # adds 1 to every element\n",
    "z"
   ]
  },
  {
   "cell_type": "markdown",
   "id": "26c662f4-f321-4609-9c02-983ab4df2ff3",
   "metadata": {},
   "source": [
    "# Universal Functions"
   ]
  },
  {
   "cell_type": "code",
   "execution_count": null,
   "id": "a1ae6a32-b433-4e1e-9709-9b34420d23de",
   "metadata": {},
   "outputs": [],
   "source": [
    "a = np.array([1, -1, 1, -1])\n",
    "mean_a = a.mean()\n",
    "mean_a\n",
    "\n",
    "b = np.array([1, -2, 3, 4, 5])\n",
    "max_b = b.max()\n",
    "max_b\n",
    "\n",
    "print(np.pi) # this is equilavent to pi\n",
    "print(mean_a)\n",
    "print(max_b)"
   ]
  },
  {
   "cell_type": "markdown",
   "id": "9ab3777a-4304-4f12-afd5-1da2d6d90698",
   "metadata": {},
   "source": [
    "# Linspace\n",
    "\n",
    "A useful function for plotting mathematical functions is linspace. Linspace returns evenly spaced numbers over a specified interval.\n",
    "\n",
    "numpy.linspace(start, stop, num = int value)\n",
    "\n",
    "start : start of interval range\n",
    "\n",
    "stop : end of interval range\n",
    "\n",
    "num : Number of samples to generate."
   ]
  },
  {
   "cell_type": "code",
   "execution_count": null,
   "id": "295673f5-e3c7-48e3-bdb5-80cfb7b10c0e",
   "metadata": {},
   "outputs": [],
   "source": [
    "np.linspace(-2, 8, num=5)"
   ]
  },
  {
   "cell_type": "markdown",
   "id": "e3018224-1913-4c8e-b798-e03a9bb32152",
   "metadata": {},
   "source": [
    "# Plotting with Matplotlib"
   ]
  },
  {
   "cell_type": "code",
   "execution_count": null,
   "id": "44af13d9-eced-4cd5-b0a2-bb99f9555b97",
   "metadata": {},
   "outputs": [],
   "source": [
    "import matplotlib.pyplot as plt\n",
    "\n",
    "%matplotlib inline\n",
    "\n",
    "x = np.linspace(0, 2*np.pi, 100)\n",
    "y = np.sin(x)\n",
    "\n",
    "plt.plot(x,y)"
   ]
  },
  {
   "cell_type": "code",
   "execution_count": null,
   "id": "7434f51f-4f04-4620-a446-347eddf65fc7",
   "metadata": {},
   "outputs": [],
   "source": [
    "import matplotlib.pyplot as plt\n",
    "\n",
    "%matplotlib inline\n",
    "\n",
    "\n",
    "x = np.array([0, np.pi/2, np.pi])\n",
    "y = np.sin(x)\n",
    "\n",
    "plt.plot(x, y)"
   ]
  },
  {
   "cell_type": "code",
   "execution_count": null,
   "id": "3f04aebb-d13c-40e9-a550-4cbe1702bd7c",
   "metadata": {},
   "outputs": [],
   "source": [
    "u = np.array([1, 0])\n",
    "v = np.array([0, 1])\n",
    "z = np.add(u, v)\n",
    "\n",
    "z"
   ]
  },
  {
   "cell_type": "code",
   "execution_count": null,
   "id": "bbbb9a9d-5578-4cc9-a424-2807e2327d8d",
   "metadata": {},
   "outputs": [],
   "source": [
    "import time \n",
    "import sys\n",
    "import numpy as np \n",
    "\n",
    "import matplotlib.pyplot as plt\n",
    "%matplotlib inline  \n",
    "\n",
    "def Plotvec1(u, z, v):\n",
    "    \n",
    "    ax = plt.axes() # to generate the full window axes\n",
    "    ax.arrow(0, 0, *u, head_width=0.05, color='r', head_length=0.1)# Add an arrow to the  U Axes with arrow head width 0.05, color red and arrow head length 0.1\n",
    "    plt.text(*(u + 0.1), 'u')#Adds the text u to the Axes \n",
    "    \n",
    "    ax.arrow(0, 0, *v, head_width=0.05, color='b', head_length=0.1)# Add an arrow to the  v Axes with arrow head width 0.05, color red and arrow head length 0.1\n",
    "    plt.text(*(v + 0.1), 'v')#Adds the text v to the Axes \n",
    "    \n",
    "    ax.arrow(0, 0, *z, head_width=0.05, head_length=0.1)\n",
    "    plt.text(*(z + 0.1), 'z')#Adds the text z to the Axes \n",
    "    plt.ylim(-2, 2)#set the ylim to bottom(-2), top(2)\n",
    "    plt.xlim(-2, 2)#set the xlim to left(-2), right(2)\n",
    "\n",
    "  \n"
   ]
  },
  {
   "cell_type": "code",
   "execution_count": null,
   "id": "fd018f4c-37b2-4871-9f58-57289d26278c",
   "metadata": {},
   "outputs": [],
   "source": [
    "Plotvec1(u, z, v)"
   ]
  },
  {
   "cell_type": "markdown",
   "id": "c7aa67c1-e515-41f0-ae38-55a52466288c",
   "metadata": {},
   "source": [
    "# Addition, Subtraction and Multiplication of Numpy"
   ]
  },
  {
   "cell_type": "code",
   "execution_count": null,
   "id": "24040aa4-57ef-4094-9b9d-a70f6b490618",
   "metadata": {},
   "outputs": [],
   "source": [
    "arr1 = np.array([10, 20, 30, 40, 50, 60])\n",
    "arr2 = np.array([20, 21, 22, 23, 24, 25])\n",
    "\n",
    "# Enter your code here\n",
    "arr3 = np.subtract(arr1, arr2)\n",
    "\n",
    "print(arr3)"
   ]
  },
  {
   "cell_type": "code",
   "execution_count": null,
   "id": "7462de27-1b9b-443d-a268-96e1ff443568",
   "metadata": {},
   "outputs": [],
   "source": [
    "x = np.array([1, 2])\n",
    "y = np.array([2, 1])\n",
    "\n",
    "z = np.multiply(x, y)\n",
    "z"
   ]
  },
  {
   "cell_type": "code",
   "execution_count": null,
   "id": "f48854a8-a685-4adf-9df3-04dc6c49fb90",
   "metadata": {},
   "outputs": [],
   "source": [
    "a = np.array([10, 20, 30])\n",
    "b = np.array([2, 10, 5])\n",
    "c = np.divide(a, b)\n",
    "c"
   ]
  },
  {
   "cell_type": "markdown",
   "id": "241c60b6-1cf7-4d2c-b8b6-5f0be7fdf047",
   "metadata": {},
   "source": [
    "# Numpy (2 dimension)"
   ]
  },
  {
   "cell_type": "code",
   "execution_count": null,
   "id": "dfc514cb-ea55-42d2-8e14-6608822cd165",
   "metadata": {},
   "outputs": [],
   "source": [
    "import numpy as np\n",
    "\n",
    "a = [[11, 12, 13], [21, 22, 23], [31, 32, 33]]\n",
    "A = np.array(a)\n",
    "A"
   ]
  },
  {
   "cell_type": "code",
   "execution_count": null,
   "id": "c9d6876a-08f1-42ad-8c27-1ab7eccc6420",
   "metadata": {},
   "outputs": [],
   "source": [
    "A.ndim"
   ]
  },
  {
   "cell_type": "code",
   "execution_count": null,
   "id": "3967f12c-320c-41de-bb71-cb11870ee717",
   "metadata": {},
   "outputs": [],
   "source": [
    "A.shape"
   ]
  },
  {
   "cell_type": "code",
   "execution_count": null,
   "id": "5713bf2a-f194-45ac-9a61-fc1da8d5c561",
   "metadata": {},
   "outputs": [],
   "source": [
    "A.size"
   ]
  },
  {
   "cell_type": "code",
   "execution_count": null,
   "id": "1dfa0db5-494f-4800-9a28-9810d8406dd6",
   "metadata": {},
   "outputs": [],
   "source": [
    "A = np.array([[0, 1, 1], [1, 0, 1]])\n",
    "B = np.array([[1, 1], [1, 1], [-1, 1]])\n",
    "C = np.dot(A, B)\n",
    "C"
   ]
  },
  {
   "cell_type": "markdown",
   "id": "8b9ada21-3a43-4f00-baa8-8c8ec374f884",
   "metadata": {},
   "source": [
    "# Create a 2D Numpy Array\n",
    "\n",
    "Accessing different elements of a Numpy Array\n",
    "\n",
    "We can use rectangular brackets to access the different elements of the array. The correspondence between the rectangular brackets and the list and the rectangular representation is shown in the following figure for a 3x3 array:"
   ]
  },
  {
   "cell_type": "markdown",
   "id": "5769ef0c-cf98-45dc-be24-9ded3c141480",
   "metadata": {},
   "source": [
    "import numpy as np\n",
    "import matplotlib.pyplot as plt "
   ]
  },
  {
   "cell_type": "markdown",
   "id": "e978e9a5-11b2-44b5-a0fc-368a310b34b1",
   "metadata": {},
   "source": [
    "<img src=\"https://cf-courses-data.s3.us.cloud-object-storage.appdomain.cloud/IBMDeveloperSkillsNetwork-PY0101EN-SkillsNetwork/labs/Module%205/images/NumTwoEg.png\" width=\"500\" />\n",
    "\n",
    "We can access the 2nd-row, 3rd column as shown in the following figure:\n",
    "    \n",
    "<img src=\"https://cf-courses-data.s3.us.cloud-object-storage.appdomain.cloud/IBMDeveloperSkillsNetwork-PY0101EN-SkillsNetwork/labs/Module%205/images/NumTwoFT.png\" width=\"400\" />\n"
   ]
  },
  {
   "cell_type": "code",
   "execution_count": null,
   "id": "1b1d3fa1-67ca-4339-af81-67e3ea79231b",
   "metadata": {},
   "outputs": [],
   "source": [
    "a = [[11, 12, 13], [21, 22, 23], [31, 32, 33]]\n",
    "A = np.array(a)\n",
    "\n",
    "A[1, 2]"
   ]
  },
  {
   "cell_type": "markdown",
   "id": "826e8796-ec60-4014-baaf-d3f01038377e",
   "metadata": {},
   "source": [
    "This can also be used"
   ]
  },
  {
   "cell_type": "code",
   "execution_count": null,
   "id": "f33be6a8-74fb-4a0b-ac0c-f97bbf33346f",
   "metadata": {},
   "outputs": [],
   "source": [
    "A[1][2]"
   ]
  },
  {
   "cell_type": "code",
   "execution_count": null,
   "id": "80f09f68-f250-4135-a909-39d37ddcd641",
   "metadata": {},
   "outputs": [],
   "source": [
    "A[0:2, 2]"
   ]
  },
  {
   "cell_type": "code",
   "execution_count": null,
   "id": "9b5983e0-3a00-4505-a0d3-3fd069db7a89",
   "metadata": {},
   "outputs": [],
   "source": [
    "A[0, 0:2]"
   ]
  },
  {
   "cell_type": "code",
   "execution_count": null,
   "id": "ad7d9b1a-392d-4aec-8ab6-e6b396e41555",
   "metadata": {},
   "outputs": [],
   "source": [
    "X = np.array([[1, 0], [0, 1]])\n",
    "Y = np.array([[2, 1], [1, 2]])\n"
   ]
  },
  {
   "cell_type": "code",
   "execution_count": null,
   "id": "ae173f16-81f3-4859-acff-bafbc6f11b82",
   "metadata": {},
   "outputs": [],
   "source": [
    "Z = X + Y\n",
    "Z"
   ]
  },
  {
   "cell_type": "code",
   "execution_count": null,
   "id": "dfe24d2f-6983-48a6-9b72-cfe6e9ed79d7",
   "metadata": {},
   "outputs": [],
   "source": [
    "Z = 2*Y\n",
    "Z"
   ]
  },
  {
   "cell_type": "code",
   "execution_count": null,
   "id": "8547494a-ada4-463f-ad01-b03a7ec9d634",
   "metadata": {},
   "outputs": [],
   "source": [
    "Z = X * Y\n",
    "Z"
   ]
  },
  {
   "cell_type": "code",
   "execution_count": null,
   "id": "92f49a20-b35e-4ba0-927d-aefd0cef77f5",
   "metadata": {},
   "outputs": [],
   "source": [
    "A = np.array([[0, 1, 1], [1, 0, 1]])\n",
    "B = np.array([[1, 1], [1, 1], [-1, 1]])\n"
   ]
  },
  {
   "cell_type": "code",
   "execution_count": null,
   "id": "99f190e8-9633-464f-b44a-ddaf099ba3e8",
   "metadata": {},
   "outputs": [],
   "source": [
    "Z = np.dot(A,B)\n",
    "Z"
   ]
  },
  {
   "cell_type": "code",
   "execution_count": null,
   "id": "4b915cd5-37ac-401c-bdce-c469a02c34bd",
   "metadata": {},
   "outputs": [],
   "source": [
    "np.sin(Z)"
   ]
  },
  {
   "cell_type": "markdown",
   "id": "180f461e-2596-4be1-b257-9a367037ac8c",
   "metadata": {},
   "source": [
    "To find the **Transpose of a 2-d numpy array**"
   ]
  },
  {
   "cell_type": "code",
   "execution_count": null,
   "id": "5dbf7172-32c1-4a5a-9dfc-a67ee90b97cc",
   "metadata": {},
   "outputs": [],
   "source": [
    "\n",
    "C = np.array([[1,1],[2,2],[3,3]])\n",
    "C"
   ]
  },
  {
   "cell_type": "code",
   "execution_count": null,
   "id": "51e8e899-9134-4c47-9e4f-3be1fd009f61",
   "metadata": {},
   "outputs": [],
   "source": [
    "C.T"
   ]
  },
  {
   "cell_type": "code",
   "execution_count": null,
   "id": "2f0f0e9f-b4bf-4fb9-b2bd-95def6d0ea7b",
   "metadata": {},
   "outputs": [],
   "source": [
    "a=np.array([-1,1])\n",
    "b=np.array([1,1])\n",
    "np.dot(a,b)"
   ]
  },
  {
   "cell_type": "code",
   "execution_count": null,
   "id": "3b0365e6-4a35-420a-bdba-ba37d124a42a",
   "metadata": {},
   "outputs": [],
   "source": [
    "X=np.array([[1,0],[0,1]])\n",
    "Y=np.array([[0,1],[1,0]])\n",
    "Z=X+Y"
   ]
  },
  {
   "cell_type": "code",
   "execution_count": null,
   "id": "54df1fd8-7f52-4196-9929-65089376c539",
   "metadata": {},
   "outputs": [],
   "source": [
    "Z"
   ]
  },
  {
   "cell_type": "code",
   "execution_count": null,
   "id": "3d2961c0-6735-44e4-a239-dd0526c70f8b",
   "metadata": {},
   "outputs": [],
   "source": [
    "X=np.array([[1,0,1],[2,2,2]]) \n",
    "out=X[0,1:3]\n",
    "out"
   ]
  },
  {
   "cell_type": "code",
   "execution_count": null,
   "id": "ff462549-5195-468d-b683-7e32ba24feed",
   "metadata": {},
   "outputs": [],
   "source": [
    "\n",
    "X=np.array([[1,0],[0,1]])\n",
    "Y=np.array([[2,1],[1,2]]) \n",
    "Z=np.dot(X,Y)"
   ]
  },
  {
   "cell_type": "code",
   "execution_count": null,
   "id": "b458a9c8-33b7-461c-b215-88809662d39a",
   "metadata": {},
   "outputs": [],
   "source": [
    "Z"
   ]
  },
  {
   "cell_type": "code",
   "execution_count": null,
   "id": "4210aed5-8e23-4484-b6e1-60d91ae39c61",
   "metadata": {},
   "outputs": [],
   "source": [
    "with open(\"Example3.txt\",\"w\") as file1:\n",
    "  \n",
    "     file1.write(\"This is line C\\n\")"
   ]
  },
  {
   "cell_type": "markdown",
   "id": "9e5bfc54-e616-4963-a400-a56900941dc1",
   "metadata": {},
   "source": [
    "# APIs"
   ]
  },
  {
   "cell_type": "code",
   "execution_count": null,
   "id": "d26e4984-b538-4eeb-96f1-bdf48b0532d8",
   "metadata": {},
   "outputs": [],
   "source": [
    "!pip install pycoingecko\n",
    "from pycoingecko import CoinGeckoAPI\n",
    "cg = CoinGeckoAPI()"
   ]
  },
  {
   "cell_type": "code",
   "execution_count": null,
   "id": "8810da57-20f9-489c-bd9d-cc73b9bdb62c",
   "metadata": {},
   "outputs": [],
   "source": [
    "bitcoin_data = cg.get_coin_market_chart_by_id(id='bitcoin', vs_currency='usd', days=30)"
   ]
  },
  {
   "cell_type": "code",
   "execution_count": null,
   "id": "85cba8e6-d0b1-474c-94fe-95b703a19a4b",
   "metadata": {},
   "outputs": [],
   "source": [
    "steem_data = cg.get_coin_market_chart_by_id(id='steem', vs_currency='ngn', days=30)\n"
   ]
  },
  {
   "cell_type": "code",
   "execution_count": null,
   "id": "789e1763-ebef-4c51-87a2-a793f793f8c2",
   "metadata": {
    "tags": []
   },
   "outputs": [],
   "source": [
    "bit_price = bitcoin_data['prices']"
   ]
  },
  {
   "cell_type": "code",
   "execution_count": null,
   "id": "9508dfc0-7897-4861-8e29-424cb8dca185",
   "metadata": {},
   "outputs": [],
   "source": [
    "import pandas as pd"
   ]
  },
  {
   "cell_type": "code",
   "execution_count": null,
   "id": "6df135ef-2ce5-49f1-af88-643995130e31",
   "metadata": {},
   "outputs": [],
   "source": [
    "data = pd.DataFrame(bit_price, columns=['Timestamp', 'Price'])\n",
    "data"
   ]
  },
  {
   "cell_type": "markdown",
   "id": "6bbfd24b-0d66-4455-9d9c-4e09ab118dd0",
   "metadata": {},
   "source": [
    "Converting the timestamp data to date using the time method .to_datetime"
   ]
  },
  {
   "cell_type": "code",
   "execution_count": null,
   "id": "1082f154-2043-4b35-828b-577a14b20b50",
   "metadata": {},
   "outputs": [],
   "source": [
    "data['Date'] = pd.to_datetime(bit_data['Timestamp'], unit='ms')\n",
    "data"
   ]
  },
  {
   "cell_type": "code",
   "execution_count": null,
   "id": "64e145f9-29c7-4566-b422-32c76264980b",
   "metadata": {},
   "outputs": [],
   "source": [
    "candlestick_data = data.groupby(bit_data.Date.dt.date).agg({'Price': ['min', 'max', 'first', 'last']})"
   ]
  },
  {
   "cell_type": "code",
   "execution_count": null,
   "id": "dbcfb41e-5d37-4397-bcb6-38770d76cb2a",
   "metadata": {},
   "outputs": [],
   "source": [
    "candlestick_data"
   ]
  },
  {
   "cell_type": "code",
   "execution_count": null,
   "id": "b13d9b54-ac80-496d-b956-4cd42a5ab716",
   "metadata": {},
   "outputs": [],
   "source": [
    "!pip install pycoingecko\n",
    "!pip install plotly\n",
    "!pip install mplfinance"
   ]
  },
  {
   "cell_type": "code",
   "execution_count": null,
   "id": "d9090ab6-7309-49ce-85d5-3eaad8646025",
   "metadata": {},
   "outputs": [],
   "source": [
    "import matplotlib.pyplot as plt\n",
    "%matplotlib inline\n",
    "import pandas as pd\n",
    "import numpy as np\n",
    "import plotly.graph_objects as go\n",
    "from plotly.offline import plot\n",
    "import matplotlib.pyplot as plt\n",
    "import datetime\n",
    "from pycoingecko import CoinGeckoAPI\n",
    "from mplfinance.original_flavor import candlestick2_ohlc"
   ]
  },
  {
   "cell_type": "code",
   "execution_count": null,
   "id": "c08d12de-61f0-4ce8-88fa-1b704710a7c3",
   "metadata": {
    "tags": []
   },
   "outputs": [],
   "source": [
    "fig = go.Figure(data=[go.Candlestick(x=candlestick_data.index,\n",
    "                open=candlestick_data['Price']['first'], \n",
    "                high=candlestick_data['Price']['max'],\n",
    "                low=candlestick_data['Price']['min'], \n",
    "                close=candlestick_data['Price']['last'])\n",
    "                ])\n",
    "\n",
    "fig.update_layout(xaxis_rangeslider_visible=False, xaxis_title='Date', yaxis_title='Price USD ($)',\n",
    "                  title='Bitcoin Chart over 30 days')\n",
    "\n",
    "plot(fig, filename='bitcoin_candlestick_graph.html')\n"
   ]
  },
  {
   "cell_type": "markdown",
   "id": "c885ebf5-73be-4ddb-9028-5c91ade266e2",
   "metadata": {},
   "source": [
    "# API "
   ]
  },
  {
   "cell_type": "code",
   "execution_count": null,
   "id": "e236f018-80b8-44ff-a88f-41664d88d590",
   "metadata": {},
   "outputs": [],
   "source": [
    "!pip install pycoingecko\n",
    "!pip install plotly\n",
    "!pip install mplfinance"
   ]
  },
  {
   "cell_type": "code",
   "execution_count": null,
   "id": "6f434bcc-5766-4b5c-9b9a-2b12ee5fcdd6",
   "metadata": {},
   "outputs": [],
   "source": [
    "import pandas as pd\n",
    "import numpy as np\n",
    "import plotly.graph_objects as go\n",
    "from plotly.offline import plot\n",
    "import matplotlib.pyplot as plt\n",
    "import datetime\n",
    "from pycoingecko import CoinGeckoAPI\n",
    "from mplfinance.original_flavor import candlestick2_ohlc"
   ]
  },
  {
   "cell_type": "markdown",
   "id": "c952efa7-5d48-4e72-b13b-7e97dbb58d13",
   "metadata": {},
   "source": [
    "Create a dictionary"
   ]
  },
  {
   "cell_type": "code",
   "execution_count": null,
   "id": "fde52335-d5e8-4d4c-9ec7-6f560f2fbb2a",
   "metadata": {},
   "outputs": [],
   "source": [
    "dict_={'a':[11,21,31],'b':[12,22,32]}"
   ]
  },
  {
   "cell_type": "code",
   "execution_count": null,
   "id": "2795e000-23a2-4091-84ff-02abbcea2f79",
   "metadata": {},
   "outputs": [],
   "source": [
    "df=pd.DataFrame(dict_)\n",
    "type(df)"
   ]
  },
  {
   "cell_type": "markdown",
   "id": "428e05fa-b48f-4d81-badd-1f7cfe66c065",
   "metadata": {},
   "source": [
    "<img src = \"https://cf-courses-data.s3.us.cloud-object-storage.appdomain.cloud/IBMDeveloperSkillsNetwork-PY0101EN-SkillsNetwork/labs/Module%205/images/pandas_api.png\" width = 800, align = \"center\" alt=\"logistic regression block diagram\" />\n"
   ]
  },
  {
   "cell_type": "markdown",
   "id": "d38e11e1-a631-4dd7-9c87-119086cca6e4",
   "metadata": {},
   "source": [
    "# REST API's\n",
    "\n",
    "Rest API’s function by sending a request, the request is communicated via HTTP message. The HTTP message usually contains a JSON file. This contains instructions for what operation we would like the service or resource to perform. In a similar manner, API returns a response, via an HTTP message, this response is usually contained within a JSON.\n",
    "\n",
    "In cryptocurrency a popular method to display the movements of the price of a currency."
   ]
  },
  {
   "cell_type": "markdown",
   "id": "e248c73f-aadc-4336-8cf5-31b3206b4946",
   "metadata": {},
   "source": [
    "![Example Candlestick Graph](https://cf-courses-data.s3.us.cloud-object-storage.appdomain.cloud/IBMDeveloperSkillsNetwork-PY0101EN-SkillsNetwork/labs/Module%205/candlestick.png)\n",
    "\n",
    "Here is a description of the candle sticks.\n",
    "\n",
    "<img src=\"https://cf-courses-data.s3.us.cloud-object-storage.appdomain.cloud/IBMDeveloperSkillsNetwork-PY0101EN-SkillsNetwork/labs/Module%205/explanation.png\" alt=\"Candle Stick Definition\" width=\"800\" height=\"600\">\n",
    "\n",
    "In this lab, we will be using the <a href=https://www.coingecko.com/en/api?utm_medium=Exinfluencer&utm_source=Exinfluencer&utm_content=000026UJ&utm_term=10006555&utm_id=NA-SkillsNetwork-Channel-SkillsNetworkCoursesIBMDeveloperSkillsNetworkPY0101ENSkillsNetwork19487395-2022-01-01>CoinGecko API</a> to create one of these candlestick graphs for Bitcoin. We will use the API to get the price data for 30 days with 24 observation per day, 1 per hour. We will find the max, min, open, and close price per day meaning we will have 30 candlesticks and use that to generate the candlestick graph. Although we are using the CoinGecko API we will use a Python client/wrapper for the API called <a href=https://github.com/man-c/pycoingecko?utm_medium=Exinfluencer&utm_source=Exinfluencer&utm_content=000026UJ&utm_term=10006555&utm_id=NA-SkillsNetwork-Channel-SkillsNetworkCoursesIBMDeveloperSkillsNetworkPY0101ENSkillsNetwork19487395-2022-01-01>PyCoinGecko</a>. PyCoinGecko will make performing the requests easy and it will deal with the enpoint targeting.\n"
   ]
  },
  {
   "cell_type": "markdown",
   "id": "80a09ca7-dd9e-4a18-9e70-712940999040",
   "metadata": {},
   "source": [
    "Lets start off by getting the data we need. Using the get_coin_market_chart_by_id(id, vs_currency, days). id is the name of the coin you want, vs_currency is the currency you want the price in, and days is how many days back from today you want."
   ]
  },
  {
   "cell_type": "code",
   "execution_count": null,
   "id": "b9b0add6-b713-4302-b787-5f111b784fdb",
   "metadata": {},
   "outputs": [],
   "source": [
    "cg = CoinGeckoAPI()\n",
    "\n",
    "bitcoin_data = cg.get_coin_market_chart_by_id(id='bitcoin', vs_currency='usd', days=30)"
   ]
  },
  {
   "cell_type": "markdown",
   "id": "9da32f6c-1d66-4864-a196-84549a4e9f74",
   "metadata": {},
   "source": [
    "The response we get is in the form of a JSON which includes the price, market caps, and total volumes along with timestamps for each observation. We are focused on the prices so we will select that data."
   ]
  },
  {
   "cell_type": "code",
   "execution_count": null,
   "id": "d0f93f94-1b8c-4211-af59-a649dba06dac",
   "metadata": {},
   "outputs": [],
   "source": [
    "bitcoin_price_data = bitcoin_data['prices']\n",
    "\n",
    "bitcoin_price_data[0:5]"
   ]
  },
  {
   "cell_type": "markdown",
   "id": "d968d692-db8b-4fd7-9a36-d18300354f9c",
   "metadata": {},
   "source": [
    "Turning the data into a pandas dataframe"
   ]
  },
  {
   "cell_type": "code",
   "execution_count": null,
   "id": "2aa4ad90-43fe-43a7-ad2d-7c949b4c7943",
   "metadata": {},
   "outputs": [],
   "source": [
    "data = pd.DataFrame(bitcoin_price_data, columns=['TimeStamp', 'Price'])"
   ]
  },
  {
   "cell_type": "markdown",
   "id": "c4407b25-2fae-4888-9fc7-e34d1cd2c24f",
   "metadata": {},
   "source": [
    "Now that we have the DataFrame we will convert the timestamp to datetime and save it as a column called Date. We will map our unix_to_datetime to each timestamp and convert it to a readable datetime."
   ]
  },
  {
   "cell_type": "code",
   "execution_count": null,
   "id": "87ddc78a-6fda-4f07-aa42-58944faf5b30",
   "metadata": {},
   "outputs": [],
   "source": [
    "data['date'] = data['TimeStamp'].apply(lambda d: datetime.date.fromtimestamp(d/1000.0))"
   ]
  },
  {
   "cell_type": "markdown",
   "id": "540235bd-1547-4fe9-919f-82cdadf9d1b6",
   "metadata": {},
   "source": [
    "Using this modified dataset we can now group by the <code>Date</code> and find the min, max, open, and close for the candlesticks.\n"
   ]
  },
  {
   "cell_type": "code",
   "execution_count": null,
   "id": "9850ebb2-9992-41e1-a326-189a01335880",
   "metadata": {},
   "outputs": [],
   "source": [
    "candlestick_data = data.groupby(data.date, as_index=False).agg({\"Price\": ['min', 'max', 'first', 'last']})"
   ]
  },
  {
   "cell_type": "markdown",
   "id": "48aa6abc-fcbd-4047-ba00-5345b5f03767",
   "metadata": {},
   "source": [
    "Now we are ready to use plotly to create our candlesticks chart"
   ]
  },
  {
   "cell_type": "code",
   "execution_count": null,
   "id": "78f1afb1-ebdd-4957-9a5b-e63d7f67c79e",
   "metadata": {},
   "outputs": [],
   "source": [
    "fig = go.Figure(data=[go.Candlestick(x=candlestick_data['date'],\n",
    "                open=candlestick_data['Price']['first'], \n",
    "                high=candlestick_data['Price']['max'],\n",
    "                low=candlestick_data['Price']['min'], \n",
    "                close=candlestick_data['Price']['last'])\n",
    "                ])\n",
    "\n",
    "fig.update_layout(xaxis_rangeslider_visible=False)\n",
    "\n",
    "fig.show()"
   ]
  },
  {
   "cell_type": "markdown",
   "id": "cd57f02b-b952-4724-af79-8a87e5d5417a",
   "metadata": {},
   "source": [
    "# Overview of HTTP\n",
    "\n",
    "When you, the client, use a web page your browser sends an HTTP request to the server where the page is hosted. The server tries to find the desired resource by default \"index.html\". If your request is successful, the server will send the object to the client in an HTTP response. This includes information like the type of the resource, the length of the resource, and other information.\n",
    "\n",
    "The figure below represents the process. The circle on the left represents the client, the circle on the right represents the Web server. The table under the Web server represents a list of resources stored in the web server. In this case an HTML file, png image, and txt file .\n",
    "\n",
    "The HTTP protocol allows you to send and receive information through the web including webpages, images, and other web resources. In this lab, we will provide an overview of the Requests library for interacting with the HTTP protocol."
   ]
  },
  {
   "cell_type": "markdown",
   "id": "7f8e920a-10ad-4282-a156-1a55fe6e6639",
   "metadata": {},
   "source": [
    "<div class=\"alert alert-block alert-info\" style=\"margin-top: 20px\">\n",
    "         <img src=\"https://cf-courses-data.s3.us.cloud-object-storage.appdomain.cloud/IBMDeveloperSkillsNetwork-PY0101EN-SkillsNetwork/labs/Module%205/images/reqest_basics.png\" width=\"750\" align=\"center\">\n",
    "\n",
    "</div>"
   ]
  },
  {
   "cell_type": "markdown",
   "id": "88722306-7acc-4f58-b24c-f95899fc8c74",
   "metadata": {},
   "source": [
    "# Uniform Request Locator: URL\n",
    "\n",
    "Uniform resource locator (URL) is the most popular way to find resources on the web.  We can break the URL into three parts.\n",
    "\n",
    "<ul>\n",
    "    <li><b>scheme</b> this is this protocol, for this lab it will always be <code>http://</code>  </li>\n",
    "    <li><b> Internet address or  Base URL </b> this will be used to find the location here are some examples: <code>www.ibm.com</code> and  <code> www.gitlab.com </code> </li>\n",
    "    <li><b>route</b> location on the web server for example: <code>/images/IDSNlogo.png</code> </li>\n",
    "</ul>\n",
    "\n",
    "You may also hear the term Uniform Resource Identifier (URI), URL are actually a subset of URIs. Another popular term is endpoint, this is the URL of an operation provided by a Web server."
   ]
  },
  {
   "cell_type": "markdown",
   "id": "8f8f8f58-601c-40f4-834b-713f7e2261a1",
   "metadata": {},
   "source": [
    "# Request\n",
    "\n",
    "The process can be broken into the <b>request</b> and <b>response </b> process.  The request using the get method is partially illustrated below. In the start line we have the <code>GET</code> method, this is an <code>HTTP</code> method. Also the location of the resource  <code>/index.html</code> and the <code>HTTP</code> version. The Request header passes additional information with an <code>HTTP</code> request:\n"
   ]
  },
  {
   "cell_type": "markdown",
   "id": "afaa5e07-2e8e-49e8-8792-b3309c840069",
   "metadata": {},
   "source": [
    "<div class=\"alert alert-block alert-info\" style=\"margin-top: 20px\">\n",
    "         <img src=\"https://cf-courses-data.s3.us.cloud-object-storage.appdomain.cloud/IBMDeveloperSkillsNetwork-PY0101EN-SkillsNetwork/labs/Module%205/images/reqest_messege.png\" width=\"400\" align=\"center\">\n",
    "</div>\n",
    "\n",
    "\n",
    "When an HTTP request is made, an HTTP method is sent, this tells the server what action to perform. A list of several HTTP methods is shown below. We will go over more examples later.\n",
    "\n",
    "\n",
    "<div class=\"alert alert-block alert-info\" style=\"margin-top: 20px\">\n",
    "         <img src=\"https://cf-courses-data.s3.us.cloud-object-storage.appdomain.cloud/IBMDeveloperSkillsNetwork-PY0101EN-SkillsNetwork/labs/Module%205/images/http_methods.png\" width=\"400\" align=\"center\">\n",
    "</div>\n"
   ]
  },
  {
   "cell_type": "markdown",
   "id": "02fe3e0b-dfcf-45c0-b675-90b4df97b1c8",
   "metadata": {},
   "source": [
    "# Response\n",
    "\n",
    "The figure below represents the response; the response start line contains the version number HTTP/1.0, a status code (200) meaning success, followed by a descriptive phrase (OK). The response header contains useful information. Finally, we have the response body containing the requested file, an  HTML  document. It should be noted that some requests have headers."
   ]
  },
  {
   "cell_type": "markdown",
   "id": "f7365dfd-d1ce-4bb2-b550-cd01386a4de4",
   "metadata": {},
   "source": [
    "<div class=\"alert alert-block alert-info\" style=\"margin-top: 20px\">\n",
    "         <img src=\"https://cf-courses-data.s3.us.cloud-object-storage.appdomain.cloud/IBMDeveloperSkillsNetwork-PY0101EN-SkillsNetwork/labs/Module%205/images/response_message.png\" width=\"400\" align=\"center\">\n",
    "</div>\n",
    "\n",
    "Some status code examples are shown in the table below, the prefix indicates the class. These are shown in yellow, with actual status codes shown in white. Check out the following link for more descriptions.\n",
    "\n",
    "<div class=\"alert alert-block alert-info\" style=\"margin-top: 20px\">\n",
    "         <img src=\"https://cf-courses-data.s3.us.cloud-object-storage.appdomain.cloud/IBMDeveloperSkillsNetwork-PY0101EN-SkillsNetwork/labs/Module%205/images/status_code.png\" width=\"300\" align=\"center\">\n",
    "</div>\n"
   ]
  },
  {
   "cell_type": "markdown",
   "id": "873e71b0-24d2-4bc7-b345-0de8af9a3285",
   "metadata": {},
   "source": [
    "# Requests in Python\n",
    "\n",
    "Requests is a Python Library that allows you to send <code>HTTP/1.1</code> requests easily. We can import the library as follows:\n"
   ]
  },
  {
   "cell_type": "code",
   "execution_count": null,
   "id": "dc8c9f75-cb69-4e7c-954e-db62d410dc3e",
   "metadata": {},
   "outputs": [],
   "source": [
    "import requests\n"
   ]
  },
  {
   "cell_type": "code",
   "execution_count": null,
   "id": "ffe863e1-f78a-4b76-887a-7dbe518fb082",
   "metadata": {},
   "outputs": [],
   "source": [
    "import os \n",
    "from PIL import Image\n",
    "from IPython.display import IFrame"
   ]
  },
  {
   "cell_type": "markdown",
   "id": "d041d2b5-289b-4997-ba18-ba07d7f0b4c1",
   "metadata": {},
   "source": [
    "You can make a GET request via the method get to www.ibm.com:"
   ]
  },
  {
   "cell_type": "code",
   "execution_count": null,
   "id": "fdc45753-7095-4b23-9402-487df6859923",
   "metadata": {},
   "outputs": [],
   "source": [
    "url='https://www.ibm.com/'\n",
    "r=requests.get(url)"
   ]
  },
  {
   "cell_type": "markdown",
   "id": "a6a72d93-548b-488c-a009-53e00aec8567",
   "metadata": {},
   "source": [
    "We have the response object r, this has information about the request, like the status of the request. We can view the status code using the attribute status_code."
   ]
  },
  {
   "cell_type": "code",
   "execution_count": null,
   "id": "3e32a9f0-2332-4b4a-8481-ce0f36e9ecad",
   "metadata": {},
   "outputs": [],
   "source": [
    "r.status_code"
   ]
  },
  {
   "cell_type": "code",
   "execution_count": null,
   "id": "f60ef16d-ac0e-4b6c-981f-f1a50d2a265b",
   "metadata": {},
   "outputs": [],
   "source": [
    "print(r.request.headers)"
   ]
  },
  {
   "cell_type": "markdown",
   "id": "016ec0cb-83d2-4301-8cdb-eca6d3b4a461",
   "metadata": {},
   "source": [
    "You can view the request body, in the following line, as there is no body for a get request we get a <code>None</code>:\n"
   ]
  },
  {
   "cell_type": "code",
   "execution_count": null,
   "id": "d2338840-862b-4e6b-8faf-bbb8acfdd708",
   "metadata": {},
   "outputs": [],
   "source": [
    "print(\"request body:\", r.request.body)"
   ]
  },
  {
   "cell_type": "markdown",
   "id": "94ab53c1-a7a3-4d69-af81-1d1b225c459c",
   "metadata": {},
   "source": [
    "You can view the HTTP response header using the attribute headers. This returns a python dictionary of HTTP response headers."
   ]
  },
  {
   "cell_type": "code",
   "execution_count": null,
   "id": "e0799a0e-8d43-4ad6-93ba-c508571df994",
   "metadata": {},
   "outputs": [],
   "source": [
    "header=r.headers\n",
    "print(r.headers)"
   ]
  },
  {
   "cell_type": "code",
   "execution_count": null,
   "id": "4c59d1ab-0267-4398-b1f7-31c34436d144",
   "metadata": {},
   "outputs": [],
   "source": [
    "header['date']"
   ]
  },
  {
   "cell_type": "markdown",
   "id": "5b26107e-828a-4884-8cc9-dafe63661f58",
   "metadata": {},
   "source": [
    "Content-Type indicates the type of data:"
   ]
  },
  {
   "cell_type": "code",
   "execution_count": null,
   "id": "d5a98fea-6173-4fff-bb8e-36de11fa193c",
   "metadata": {},
   "outputs": [],
   "source": [
    "header['Content-Type']"
   ]
  },
  {
   "cell_type": "markdown",
   "id": "95e2c34b-6077-4bc1-9928-c44a038dd114",
   "metadata": {},
   "source": [
    "You can also check the encoding:"
   ]
  },
  {
   "cell_type": "code",
   "execution_count": null,
   "id": "b6788a50-b2c1-49d0-8646-7b5c38120aa5",
   "metadata": {},
   "outputs": [],
   "source": [
    " r.encoding"
   ]
  },
  {
   "cell_type": "markdown",
   "id": "7fc3dd0f-e3a0-4e28-83ee-b2eb3a09b71d",
   "metadata": {},
   "source": [
    "As the Content-Type is text/html we can use the attribute text to display the HTML in the body. We can review the first 100 characters:\n"
   ]
  },
  {
   "cell_type": "code",
   "execution_count": null,
   "id": "5dc18f2f-7fda-49f5-9847-eee416a24906",
   "metadata": {},
   "outputs": [],
   "source": [
    "r.text[0:100]"
   ]
  },
  {
   "cell_type": "markdown",
   "id": "90af2a0d-b7d7-47a1-ba54-88643b11bfe2",
   "metadata": {},
   "source": [
    "You can load other types of data for non-text requests, like images. Consider the URL of the following image:"
   ]
  },
  {
   "cell_type": "code",
   "execution_count": null,
   "id": "84c6d76f-99eb-4763-9684-e70950c5d2e8",
   "metadata": {},
   "outputs": [],
   "source": [
    "# Use single quotation marks for defining string\n",
    "url='https://cf-courses-data.s3.us.cloud-object-storage.appdomain.cloud/IBMDeveloperSkillsNetwork-PY0101EN-SkillsNetwork/IDSNlogo.png'"
   ]
  },
  {
   "cell_type": "markdown",
   "id": "8dc5895e-c255-4c6e-89e0-c67907a7d61f",
   "metadata": {},
   "source": [
    "We can make a get request:"
   ]
  },
  {
   "cell_type": "code",
   "execution_count": null,
   "id": "df4483b5-49af-486c-80f6-b50f1cc0dd06",
   "metadata": {},
   "outputs": [],
   "source": [
    "r=requests.get(url)"
   ]
  },
  {
   "cell_type": "code",
   "execution_count": null,
   "id": "8e4fe72d-7d52-4869-8fce-ddfa82a8fe88",
   "metadata": {},
   "outputs": [],
   "source": [
    "print(r.headers)"
   ]
  },
  {
   "cell_type": "code",
   "execution_count": null,
   "id": "8093a22e-2347-487b-aaec-acb1fb491151",
   "metadata": {},
   "outputs": [],
   "source": [
    "header['Content-Type']"
   ]
  },
  {
   "cell_type": "markdown",
   "id": "a098a260-5afd-48f2-bdfa-7260d2f05697",
   "metadata": {},
   "source": [
    "An image is a response object that contains the image as a bytes-like object. As a result, we must save it using a file object. First, we specify the file path and name"
   ]
  },
  {
   "cell_type": "code",
   "execution_count": null,
   "id": "a4cab55e-5bd2-41a6-8b4d-7cefef372eb2",
   "metadata": {},
   "outputs": [],
   "source": [
    "path=os.path.join(os.getcwd(),'image.png')\n",
    "path"
   ]
  },
  {
   "cell_type": "markdown",
   "id": "d0ee9d08-f614-4d76-933f-a0d73e5dc905",
   "metadata": {},
   "source": [
    "We save the file, in order to access the body of the response we use the attribute content then save it using the open function and write method:"
   ]
  },
  {
   "cell_type": "code",
   "execution_count": null,
   "id": "f485eec5-236b-47b1-a128-dc123ef3d7f2",
   "metadata": {},
   "outputs": [],
   "source": [
    "with open(path,'wb') as f:\n",
    "    f.write(r.content)"
   ]
  },
  {
   "cell_type": "markdown",
   "id": "159622d3-0f53-4247-bc7a-8ef97427e924",
   "metadata": {},
   "source": [
    "We can view the image"
   ]
  },
  {
   "cell_type": "markdown",
   "id": "f19aa352-819c-480b-b649-3cdd08437a7e",
   "metadata": {},
   "source": [
    "# wget\n",
    "\n",
    "The wget function is used to retrieve content from the web server. "
   ]
  },
  {
   "cell_type": "code",
   "execution_count": null,
   "id": "4782a21f-375a-4152-8945-04bf6066d989",
   "metadata": {},
   "outputs": [],
   "source": [
    "url = 'https://cf-courses-data.s3.us.cloud-object-storage.appdomain.cloud/IBMDeveloperSkillsNetwork-PY0101EN-SkillsNetwork/labs/Module%205/data/Example1.txt'\n",
    "path=os.path.join(os.getcwd(),'Example.txt')\n",
    "with open(path,'wb') as f:\n",
    "    f.write(r.content)\n"
   ]
  },
  {
   "cell_type": "markdown",
   "id": "9df476b2-d488-4189-b85e-decb2da81e9b",
   "metadata": {},
   "source": [
    "# Get Requests with URL Parameters\n",
    "\n",
    "You can use the GET method to modify the results of your query, for example retrieving data from an API. We send a GET request to the server. Like before we have the Base URL, in the Route we append /get, this indicates we would like to preform a GET request. This is demonstrated in the following table:\n",
    "\n",
    "<div class=\"alert alert-block alert-info\" style=\"margin-top: 20px\">\n",
    "         <img src=\"https://cf-courses-data.s3.us.cloud-object-storage.appdomain.cloud/IBMDeveloperSkillsNetwork-PY0101EN-SkillsNetwork/labs/Module%205/images/base_URL_Route.png\" width=\"400\" align=\"center\">\n",
    "</div>\n",
    "\n",
    "The Base URL is for http://httpbin.org/ is a simple HTTP Request & Response Service. The URL in Python is given by:"
   ]
  },
  {
   "cell_type": "code",
   "execution_count": null,
   "id": "557b9687-fd58-463d-948b-60f66441f200",
   "metadata": {},
   "outputs": [],
   "source": [
    "url_get='http://httpbin.org/get'"
   ]
  },
  {
   "cell_type": "markdown",
   "id": "e29cd437-2125-419c-bf09-e97507d872a7",
   "metadata": {},
   "source": [
    "A query string is a part of a uniform resource locator (URL), this sends other information to the web server. The start of the query is a ?, followed by a series of parameter and value pairs, as shown in the table below. The first parameter name is name and the value is Joseph. The second parameter name is ID and the Value is 123. Each pair, parameter, and value is separated by an equals sign, =. The series of pairs is separated by the ampersand &.\n",
    "\n",
    "<div class=\"alert alert-block alert-info\" style=\"margin-top: 20px\">\n",
    "         <img src=\"https://cf-courses-data.s3.us.cloud-object-storage.appdomain.cloud/IBMDeveloperSkillsNetwork-PY0101EN-SkillsNetwork/labs/Module%205/images/query_string.png\" width=\"500\" align=\"center\">\n",
    "</div>"
   ]
  },
  {
   "cell_type": "markdown",
   "id": "fae8b538-62c4-4920-a116-dd5dab666ecc",
   "metadata": {},
   "source": [
    "To create a Query string, add a dictionary. The keys are the parameter names and the values are the value of the Query string."
   ]
  },
  {
   "cell_type": "code",
   "execution_count": null,
   "id": "8293824f-8338-4f7f-9ac4-ab4a904e3e2c",
   "metadata": {},
   "outputs": [],
   "source": [
    "payload={\"name\":\"Joseph\",\"ID\":\"123\"}"
   ]
  },
  {
   "cell_type": "markdown",
   "id": "76f05779-6f59-415f-bb1f-e9bf8d1a43dc",
   "metadata": {},
   "source": [
    "Then passing the dictionary payload to the params parameter of the  get() function:"
   ]
  },
  {
   "cell_type": "code",
   "execution_count": null,
   "id": "0828a813-bbfc-4649-a52b-0c16c2220930",
   "metadata": {},
   "outputs": [],
   "source": [
    "r=requests.get(url_get,params=payload)"
   ]
  },
  {
   "cell_type": "code",
   "execution_count": null,
   "id": "474ae6e1-f076-48b4-960a-b4eb93ecdc80",
   "metadata": {},
   "outputs": [],
   "source": [
    "r.url"
   ]
  },
  {
   "cell_type": "markdown",
   "id": "b7d3cbd4-faf0-4aff-8d29-71cc17815b79",
   "metadata": {},
   "source": [
    "There is no request body"
   ]
  },
  {
   "cell_type": "code",
   "execution_count": null,
   "id": "374f0d67-1809-4ea6-9cc4-9d92f6a9d7f6",
   "metadata": {},
   "outputs": [],
   "source": [
    "print(\"request body:\", r.request.body)"
   ]
  },
  {
   "cell_type": "code",
   "execution_count": null,
   "id": "a023db81-2843-459a-a378-d684dae30459",
   "metadata": {},
   "outputs": [],
   "source": [
    "print(r.text)"
   ]
  },
  {
   "cell_type": "code",
   "execution_count": null,
   "id": "e5bc52bf-d1eb-4e04-ba23-2b3c54f22d7a",
   "metadata": {},
   "outputs": [],
   "source": [
    "r.headers['Content-Type']"
   ]
  },
  {
   "cell_type": "code",
   "execution_count": null,
   "id": "61ccd620-b0f0-4dee-8258-215f11addbb8",
   "metadata": {},
   "outputs": [],
   "source": [
    "r.json()"
   ]
  },
  {
   "cell_type": "markdown",
   "id": "366bb8db-da90-47a2-90b2-dc4c49e293b7",
   "metadata": {},
   "source": [
    "The key args has the name and values:\n",
    "\n"
   ]
  },
  {
   "cell_type": "code",
   "execution_count": null,
   "id": "a65ef4df-12de-46f9-afc3-a3ecf8c4fdb5",
   "metadata": {},
   "outputs": [],
   "source": [
    "r.json()['args']"
   ]
  },
  {
   "cell_type": "markdown",
   "id": "f379c66f-517c-4325-a73b-36e98df9e8c4",
   "metadata": {},
   "source": [
    "# Post Requests\n",
    "\n",
    "Like a GET request, a POST is used to send data to a server, but the POST request sends the data in a request body. In order to send the Post Request in Python, in the URL we change the route to POST:"
   ]
  },
  {
   "cell_type": "code",
   "execution_count": null,
   "id": "12b2081b-204e-4a27-a1e1-7d7c4408159c",
   "metadata": {},
   "outputs": [],
   "source": [
    "url_post='http://httpbin.org/post'"
   ]
  },
  {
   "cell_type": "markdown",
   "id": "4c2a4931-9216-4dee-b509-ba9e4fe07398",
   "metadata": {},
   "source": [
    "This endpoint will expect data as a file or as a form. A form is convenient way to configure an HTTP request to send data to a server.\n",
    "\n",
    "To make a POST request we use the post() function, the variable payload is passed to the parameter  data :"
   ]
  },
  {
   "cell_type": "code",
   "execution_count": null,
   "id": "0b71c33f-b232-4c09-9d99-9c345491584c",
   "metadata": {},
   "outputs": [],
   "source": [
    "r_post=requests.post(url_post,data=payload)"
   ]
  },
  {
   "cell_type": "markdown",
   "id": "88341243-9228-4f21-a526-f1b27703c7ec",
   "metadata": {},
   "source": [
    "Comparing the URL from the response object of the GET and POST request we see the POST request has no name or value pairs."
   ]
  },
  {
   "cell_type": "code",
   "execution_count": null,
   "id": "cc88d006-8d7d-4faa-8224-139e4d8742b9",
   "metadata": {},
   "outputs": [],
   "source": [
    "print(\"POST request URL:\",r_post.url )\n",
    "print(\"GET request URL:\",r.url)"
   ]
  },
  {
   "cell_type": "markdown",
   "id": "323d1089-da30-4632-ae81-52530b655469",
   "metadata": {},
   "source": [
    "We can compare the POST and GET request body, we see only the POST request has a body:"
   ]
  },
  {
   "cell_type": "code",
   "execution_count": null,
   "id": "a89a28cc-028a-4dbd-be1f-a58279f0ec12",
   "metadata": {},
   "outputs": [],
   "source": [
    "print(\"POST request body:\",r_post.request.body)\n",
    "print(\"GET request body:\",r.request.body)"
   ]
  },
  {
   "cell_type": "markdown",
   "id": "289bea69-c93b-47bd-9b2d-405f33e30230",
   "metadata": {},
   "source": [
    "We can view the form as well:"
   ]
  },
  {
   "cell_type": "code",
   "execution_count": null,
   "id": "4be8a781-64f2-488b-8634-53b18421219b",
   "metadata": {},
   "outputs": [],
   "source": [
    "r_post.json()['form']"
   ]
  },
  {
   "cell_type": "markdown",
   "id": "31964b95-b192-4837-99be-b2fd2c169270",
   "metadata": {},
   "source": [
    "There is a lot more you can do. Check out <a href=\"https://requests.readthedocs.io/en/master/?utm_medium=Exinfluencer&utm_source=Exinfluencer&utm_content=000026UJ&utm_term=10006555&utm_id=NA-SkillsNetwork-Channel-SkillsNetworkCoursesIBMDeveloperSkillsNetworkPY0101ENSkillsNetwork19487395-2022-01-01\">Requests </a> for more.\n"
   ]
  },
  {
   "cell_type": "markdown",
   "id": "281fa24f-fe8e-4870-9227-f25c243ce16b",
   "metadata": {},
   "source": [
    "# Advantages of API\n",
    "\n",
    "*   **Automation**. Less human effort is required and workflows can be easily updated to become faster and more\\\n",
    "    productive.\n",
    "    \n",
    "*   **Efficiency**. It allows to use the capabilities of one of the already developed APIs than to try to\n",
    "    independently implement some functionality from scratch.\n",
    "\n",
    "The disadvantage of using APIs:\n",
    "\n",
    "*   **Security**. If the API is poorly integrated, it means it will be vulnerable to attacks, resulting in data\\\n",
    "    breeches or losses having financial or reputation implications.\n",
    "\n",
    "One of the applications we will use in this notebook is Random User Generator. RandomUser is an open-source, free API providing developers with randomly generated users to be used as placeholders for testing purposes. This makes the tool similar to Lorem Ipsum, but is a placeholder for people instead of text. The API can return multiple results, as well as specify generated user details such as gender, email, image, username, address, title, first and last name, and more. More information on [RandomUser](https://randomuser.me/documentation?utm_medium=Exinfluencer&utm_source=Exinfluencer&utm_content=000026UJ&utm_term=10006555&utm_id=NA-SkillsNetwork-Channel-SkillsNetworkCoursesIBMDeveloperSkillsNetworkPY0101ENSkillsNetwork19487395-2022-01-01#intro) can be found here.\n",
    "\n",
    "Another example of simple API we will use in this notebook is Fruitvice application. The Fruitvice API webservice which provides data for all kinds of fruit! You can use Fruityvice to find out interesting information about fruit and educate yourself. The webservice is completely free to use and contribute to.\n"
   ]
  },
  {
   "cell_type": "markdown",
   "id": "b043bd92-d3c8-488d-a832-02f2606ba67f",
   "metadata": {},
   "source": [
    "# Example 1: Random User API\n",
    "\n",
    "Some get methods that can be used to generate some parameters on this API is given below\n",
    "\n",
    "## **Get Methods**\n",
    "\n",
    "*   get_cell()\n",
    "*   get_city()\n",
    "*   get_dob()\n",
    "*   get_email()\n",
    "*   get_first_name()\n",
    "*   get_full_name()\n",
    "*   get_gender()\n",
    "*   get_id()\n",
    "*   get_id_number()\n",
    "*   get_id_type()\n",
    "*   get_info()\n",
    "*   get_last_name()\n",
    "*   get_login_md5()\n",
    "*   get_login_salt()\n",
    "*   get_login_sha1()\n",
    "*   get_login_sha256()\n",
    "*   get_nat()\n",
    "*   get_password()\n",
    "*   get_phone()\n",
    "*   get_picture()\n",
    "*   get_postcode()\n",
    "*   get_registered()\n",
    "*   get_state()\n",
    "*   get_street()\n",
    "*   get_username()\n",
    "*   get_zipcode()\n",
    "\n",
    "We can install the **randomuser** using the pip install command"
   ]
  },
  {
   "cell_type": "code",
   "execution_count": null,
   "id": "843f3966-8dbc-4b69-a601-8032417a5264",
   "metadata": {},
   "outputs": [],
   "source": [
    "!pip install randomuser"
   ]
  },
  {
   "cell_type": "markdown",
   "id": "437dc644-7102-4d53-820d-c38f8a840b82",
   "metadata": {},
   "source": [
    "We load the necessary libraries below"
   ]
  },
  {
   "cell_type": "code",
   "execution_count": null,
   "id": "437c6ea0-0047-4fd5-8926-82c295e7704c",
   "metadata": {},
   "outputs": [],
   "source": [
    "from randomuser import RandomUser\n",
    "import pandas as pd"
   ]
  },
  {
   "cell_type": "markdown",
   "id": "738d66d7-358a-41f3-9991-3780df3bcdbf",
   "metadata": {},
   "source": [
    "First we create a random user object, r"
   ]
  },
  {
   "cell_type": "code",
   "execution_count": null,
   "id": "16b654ed-ae62-4132-a298-484e98105b17",
   "metadata": {},
   "outputs": [],
   "source": [
    "r = RandomUser()"
   ]
  },
  {
   "cell_type": "markdown",
   "id": "897ea064-9c61-4e02-976d-fbea96eb8daa",
   "metadata": {},
   "source": [
    "Then, using `generate_users()` function, we get a list of random 10 users."
   ]
  },
  {
   "cell_type": "code",
   "execution_count": null,
   "id": "97ceee58-3877-4e7a-958a-11c0a1893dc5",
   "metadata": {},
   "outputs": [],
   "source": [
    "some_list = r.generate_users(10)\n",
    "some_list"
   ]
  },
  {
   "cell_type": "markdown",
   "id": "3df9fc6c-e1ec-4efc-8d7f-522d2e5ce7fa",
   "metadata": {},
   "source": [
    "The \"Get Methods\" functions mentioned at the beginning of this notebook, can generate the required parameters to construct a dataset. For example, to get full name, we call get_full_name() function.\n",
    "\n"
   ]
  },
  {
   "cell_type": "code",
   "execution_count": null,
   "id": "7dedfd50-a705-424d-89a5-d13b0a49079a",
   "metadata": {},
   "outputs": [],
   "source": [
    "name = r.get_full_name()\n",
    "name"
   ]
  },
  {
   "cell_type": "markdown",
   "id": "9b6317ae-4160-4376-a2de-afdf01d2d626",
   "metadata": {},
   "source": [
    "Let's say we only need 10 users with full names and their email addresses. We can write a \"for-loop\" to print these 10 users.\n"
   ]
  },
  {
   "cell_type": "code",
   "execution_count": null,
   "id": "b23b6862-0a8e-453b-94b0-d6f75f0851c7",
   "metadata": {},
   "outputs": [],
   "source": [
    "for user in some_list:\n",
    "    print (user.get_full_name(),\" \",user.get_email(),\" \",user.get_phone())"
   ]
  },
  {
   "cell_type": "markdown",
   "id": "0c6797a6-14fe-498c-92b4-860dbfe59448",
   "metadata": {},
   "source": [
    "To generate photos of the randomuser, we use the following line of code"
   ]
  },
  {
   "cell_type": "code",
   "execution_count": null,
   "id": "14d082c3-3e38-4c5c-b063-31a2bde03eb9",
   "metadata": {},
   "outputs": [],
   "source": [
    "for user in some_list:\n",
    "    print (user.get_picture())"
   ]
  },
  {
   "cell_type": "markdown",
   "id": "2b028adb-e02f-4841-bb97-c92f53eb2854",
   "metadata": {},
   "source": [
    "To generate a table with information about the users, we can write a function containing all desirable parameters. For example, name, gender, city, etc. The parameters will depend on the requirements of the test to be performed. We call the Get Methods, listed at the beginning of this notebook. Then, we return pandas dataframe with the users.\n"
   ]
  },
  {
   "cell_type": "code",
   "execution_count": null,
   "id": "8c43361f-a5ad-4712-9593-7bf040d06a0b",
   "metadata": {},
   "outputs": [],
   "source": [
    "def get_users():\n",
    "    users =[]\n",
    "     \n",
    "    for user in RandomUser.generate_users(10):\n",
    "        users.append({\"Name\":user.get_full_name(),\"Gender\":user.get_gender(),\"City\":user.get_city(),\"State\":user.get_state(),\"Email\":user.get_email(), \"DOB\":user.get_dob(),\"Picture\":user.get_picture()})\n",
    "      \n",
    "    return pd.DataFrame(users)     "
   ]
  },
  {
   "cell_type": "code",
   "execution_count": null,
   "id": "7ecb33f5-3a4e-4fce-b0a7-d68378160cf5",
   "metadata": {},
   "outputs": [],
   "source": [
    "get_users()"
   ]
  },
  {
   "cell_type": "code",
   "execution_count": null,
   "id": "996e950a-9dff-4f4c-af0d-9423387df256",
   "metadata": {},
   "outputs": [],
   "source": [
    "df1 = pd.DataFrame(get_users())"
   ]
  },
  {
   "cell_type": "code",
   "execution_count": null,
   "id": "a182f335-239d-435c-b9c5-80edea88eea8",
   "metadata": {},
   "outputs": [],
   "source": [
    "df1"
   ]
  },
  {
   "cell_type": "markdown",
   "id": "08099755-c879-4196-b79c-ce36898b9a4d",
   "metadata": {},
   "source": [
    "# Example 2: FruitVice API\n",
    "\n",
    "Another popular way to use API is through the `requests` library"
   ]
  },
  {
   "cell_type": "code",
   "execution_count": null,
   "id": "fcd11f6a-ec5a-4a9e-9c72-2dacbae3977a",
   "metadata": {},
   "outputs": [],
   "source": [
    "import requests\n",
    "import json"
   ]
  },
  {
   "cell_type": "markdown",
   "id": "4b716926-f34f-4d7d-8d0e-97b800b8bf65",
   "metadata": {},
   "source": [
    "We will obtain the [fruitvice](https://www.fruityvice.com/?utm_medium=Exinfluencer&utm_source=Exinfluencer&utm_content=000026UJ&utm_term=10006555&utm_id=NA-SkillsNetwork-Channel-SkillsNetworkCoursesIBMDeveloperSkillsNetworkPY0101ENSkillsNetwork19487395-2022-01-01) API data using `requests.get(\"url\")` function. The data is in a json format."
   ]
  },
  {
   "cell_type": "code",
   "execution_count": null,
   "id": "cc2aefcc-979e-43e5-9fff-8032eafa1477",
   "metadata": {},
   "outputs": [],
   "source": [
    "data = requests.get(\"https://www.fruityvice.com/api/fruit/all\")"
   ]
  },
  {
   "cell_type": "markdown",
   "id": "0a2aac8c-8ae0-4122-b81f-8afd9b00255b",
   "metadata": {},
   "source": [
    "we will retrieve results using `json.load()` function"
   ]
  },
  {
   "cell_type": "code",
   "execution_count": null,
   "id": "c93ca3ef-cb25-4aa2-a0ac-a36f6937d9b8",
   "metadata": {},
   "outputs": [],
   "source": [
    "results = json.loads(data.text)"
   ]
  },
  {
   "cell_type": "markdown",
   "id": "01ba0328-4fc4-48df-b633-ae77d2ed40a4",
   "metadata": {},
   "source": [
    "We will convert our json data into pandas dataframe"
   ]
  },
  {
   "cell_type": "code",
   "execution_count": null,
   "id": "657714bf-b296-4cab-8d34-06ed3770c594",
   "metadata": {},
   "outputs": [],
   "source": [
    "pd.DataFrame(results)"
   ]
  },
  {
   "cell_type": "markdown",
   "id": "f713ff2b-8ca1-47c3-9850-47d9873d76b9",
   "metadata": {},
   "source": [
    "The result is in a nested json format. The 'nutrition' column contains multiple subcolumns, so the data needs to be 'flattened' or normalized."
   ]
  },
  {
   "cell_type": "code",
   "execution_count": null,
   "id": "ebae8b8f-4b94-4b29-80c2-8309ca4ac22b",
   "metadata": {},
   "outputs": [],
   "source": [
    "df2 = pd.json_normalize(results)\n",
    "df2"
   ]
  },
  {
   "cell_type": "markdown",
   "id": "51f54b30-8751-4c0b-815f-0543aa1b01ff",
   "metadata": {},
   "source": [
    "Let's see if we can extract some information from this dataframe. Perhaps, we need to know the family and genus of a cherry.\n"
   ]
  },
  {
   "cell_type": "code",
   "execution_count": null,
   "id": "fcad69ef-6494-4c2e-83aa-73375a49ae52",
   "metadata": {},
   "outputs": [],
   "source": [
    "cherry = df2.loc[df2[\"name\"] == 'Cherry']\n",
    "(cherry.iloc[0]['family']) , (cherry.iloc[0]['genus'])"
   ]
  },
  {
   "cell_type": "markdown",
   "id": "617d3b6b-ce85-4a55-9796-0644c061d492",
   "metadata": {},
   "source": [
    " How many calories are contained in a banana"
   ]
  },
  {
   "cell_type": "code",
   "execution_count": null,
   "id": "52758788-e5e0-4c9b-ad33-47adf92cbba6",
   "metadata": {},
   "outputs": [],
   "source": [
    "banana = df2.loc[df2[\"name\"] == 'Banana']\n",
    "(banana.iloc[0]['nutritions.calories'])"
   ]
  },
  {
   "cell_type": "markdown",
   "id": "2dfa47db-1ea5-40f6-9ae6-faf1bc9285e0",
   "metadata": {},
   "source": [
    "# Example 3: Public Free API\n",
    "\n",
    "This [page](https://github.com/public-apis/public-apis#animals) contains a list of free public APIs. Choose any API of your interest and use it to load/extract some information, as shown in the example above.\n",
    "\n",
    "1.  Using `requests.get(\"url\")` function, load your data.\n"
   ]
  },
  {
   "cell_type": "code",
   "execution_count": null,
   "id": "33dcb39b-622a-415f-88e0-cca2e81c327c",
   "metadata": {},
   "outputs": [],
   "source": [
    "fish = requests.get(\"https://www.fishwatch.gov/api/species\")\n",
    "results2 = json.loads(fish.text)\n",
    "pd.DataFrame(results2)"
   ]
  },
  {
   "cell_type": "code",
   "execution_count": null,
   "id": "ab2d467d-8734-49ca-ba5f-15c31f653fa9",
   "metadata": {},
   "outputs": [],
   "source": [
    "fish_sp = pd.json_normalize(results2)\n",
    "fish_sp"
   ]
  },
  {
   "cell_type": "markdown",
   "id": "19ac6208-ecf9-442b-8a76-ef3421c8ce05",
   "metadata": {},
   "source": [
    "# Webscrapping"
   ]
  },
  {
   "cell_type": "code",
   "execution_count": null,
   "id": "d520668a-bceb-4795-bc13-b011fc6f20e8",
   "metadata": {},
   "outputs": [],
   "source": [
    "conda install -c conda-forge mamba\n"
   ]
  },
  {
   "cell_type": "code",
   "execution_count": null,
   "id": "6e006201-028e-4931-83e4-e76f4862885c",
   "metadata": {},
   "outputs": [],
   "source": [
    "!pip install mamba"
   ]
  },
  {
   "cell_type": "code",
   "execution_count": null,
   "id": "616984f4-52b2-4796-b0d1-06f755a4ca1e",
   "metadata": {},
   "outputs": [],
   "source": [
    "!pip install bs4\n"
   ]
  },
  {
   "cell_type": "code",
   "execution_count": null,
   "id": "cc49ae46-1bca-48a7-ac82-2eda2d672377",
   "metadata": {},
   "outputs": [],
   "source": [
    "from bs4 import BeautifulSoup"
   ]
  },
  {
   "cell_type": "code",
   "execution_count": null,
   "id": "0858bc92-27f9-4e4e-8db2-5992acbeee99",
   "metadata": {},
   "outputs": [],
   "source": [
    "!pip install lxml==4.6.4"
   ]
  },
  {
   "cell_type": "code",
   "execution_count": null,
   "id": "bb4d10de-cc6a-45ad-96f4-c24bee9a8ec0",
   "metadata": {},
   "outputs": [],
   "source": [
    "!pip install html5lib==1.1"
   ]
  },
  {
   "cell_type": "code",
   "execution_count": null,
   "id": "1eae2732-f6ad-4943-befa-1afcfbd10ae0",
   "metadata": {},
   "outputs": [],
   "source": [
    "import requests"
   ]
  },
  {
   "cell_type": "markdown",
   "id": "02b375b5-bd41-48f4-9af2-edab7735ede2",
   "metadata": {},
   "source": [
    "# Beautiful Soup Object\n",
    "\n",
    "Beautiful Soup is a Python library for pulling data out of HTML and XML files, we will focus on HTML files. This is accomplished by representing the HTML as a set of objects with methods used to parse the HTML.  We can navigate the HTML as a tree and/or filter out what we are looking for.\n",
    "\n",
    "Consider the following HTML:"
   ]
  },
  {
   "cell_type": "code",
   "execution_count": null,
   "id": "5563e2cc-42bc-4f2e-b3af-ac63a8320803",
   "metadata": {},
   "outputs": [],
   "source": [
    "%%html\n",
    "<!DOCTYPE html>\n",
    "<html>\n",
    "<head>\n",
    "<title>Page Title</title>\n",
    "</head>\n",
    "<body>\n",
    "<h3><b id='boldest'>Lebron James</b></h3>\n",
    "<p> Salary: $ 92,000,000 </p>\n",
    "<h3> Stephen Curry</h3>\n",
    "<p> Salary: $85,000, 000 </p>\n",
    "<h3> Kevin Durant </h3>\n",
    "<p> Salary: $73,200, 000</p>\n",
    "</body>\n",
    "</html>"
   ]
  },
  {
   "cell_type": "markdown",
   "id": "f838faa8-5b83-4713-8b8e-d02bb8e6d8eb",
   "metadata": {},
   "source": [
    "We can store it as a string in ana HTML variable"
   ]
  },
  {
   "cell_type": "code",
   "execution_count": null,
   "id": "5a2b19e9-2022-42ac-a581-a691eced9f42",
   "metadata": {},
   "outputs": [],
   "source": [
    "html=\"<!DOCTYPE html><html><head><title>Page Title</title></head><body><h3><b id='boldest'>Lebron James</b></h3><p> Salary: $ 92,000,000 </p><h3> Stephen Curry</h3><p> Salary: $85,000, 000 </p><h3> Kevin Durant </h3><p> Salary: $73,200, 000</p></body></html>\""
   ]
  },
  {
   "cell_type": "code",
   "execution_count": null,
   "id": "26dac20d-7a18-4f60-9a8f-67f08d5858b6",
   "metadata": {},
   "outputs": [],
   "source": [
    "html"
   ]
  },
  {
   "cell_type": "markdown",
   "id": "c8e33d6b-76aa-4fb1-b89c-47f7bce14d3d",
   "metadata": {},
   "source": [
    "To parse a document, pass it into the <code>BeautifulSoup</code> constructor, the <code>BeautifulSoup</code> object, which represents the document as a nested data structure:\n"
   ]
  },
  {
   "cell_type": "code",
   "execution_count": null,
   "id": "a08d68f7-1eb7-4099-9411-9f18d4543fc0",
   "metadata": {},
   "outputs": [],
   "source": [
    "soup = BeautifulSoup(html, \"html.parser\")"
   ]
  },
  {
   "cell_type": "markdown",
   "id": "6a7cfb03-1e8c-4e2d-a626-2e20fc7779ac",
   "metadata": {},
   "source": [
    "First, the document is converted to Unicode, (similar to ASCII),  and HTML entities are converted to Unicode characters. Beautiful Soup transforms a complex HTML document into a complex tree of Python objects. The <code>BeautifulSoup</code> object can create other types of objects. In this lab, we will cover <code>BeautifulSoup</code> and <code>Tag</code> objects that for the purposes of this lab are identical, and <code>NavigableString</code> objects.\n"
   ]
  },
  {
   "cell_type": "markdown",
   "id": "aef39c43-d8ac-4225-8a21-4d7f474d8ea6",
   "metadata": {},
   "source": [
    "We can use the method `prettify()` to display the HTML in the nested structure:"
   ]
  },
  {
   "cell_type": "code",
   "execution_count": null,
   "id": "0b2076f9-3adc-4544-8f5d-93f340092037",
   "metadata": {},
   "outputs": [],
   "source": [
    "print(soup.prettify())"
   ]
  },
  {
   "cell_type": "markdown",
   "id": "40a1b8bd-4e4b-4f25-af86-edebeeba38e2",
   "metadata": {},
   "source": [
    "# Tags\n",
    "\n",
    "Let's say we want the  title of the page and the name of the top paid player we can use the <code>Tag</code>. The <code>Tag</code> object corresponds to an HTML tag in the original document, for example, the tag title.\n"
   ]
  },
  {
   "cell_type": "code",
   "execution_count": null,
   "id": "2abea53e-a19a-47e8-8b64-8fe80441756e",
   "metadata": {},
   "outputs": [],
   "source": [
    "tag_object=soup.title\n",
    "print(\"tag object:\",tag_object)"
   ]
  },
  {
   "cell_type": "markdown",
   "id": "5ede7ea8-6921-43af-882e-2fd4ed2c9e51",
   "metadata": {},
   "source": [
    "we can see the tag type <code>bs4.element.Tag</code>\n"
   ]
  },
  {
   "cell_type": "code",
   "execution_count": null,
   "id": "efe8247f-c971-4ed6-8c95-aebe1bd9a7b6",
   "metadata": {},
   "outputs": [],
   "source": [
    "print(\"tag object type:\",type(tag_object))"
   ]
  },
  {
   "cell_type": "markdown",
   "id": "f5771fda-0d4d-4db3-a217-72f6a273ef0b",
   "metadata": {},
   "source": [
    "If there is more than one <code>Tag</code>  with the same name, the first element with that <code>Tag</code> name is called, this corresponds to the most paid player:"
   ]
  },
  {
   "cell_type": "code",
   "execution_count": null,
   "id": "1707a405-faa5-44c4-b05d-914d6bddc5e4",
   "metadata": {},
   "outputs": [],
   "source": [
    "tag_object=soup.h3\n",
    "tag_object"
   ]
  },
  {
   "cell_type": "markdown",
   "id": "595d7f1b-39c9-4b6c-bddf-da85eccc60e8",
   "metadata": {},
   "source": [
    "# Children, Parent, and Siblings\n",
    "\n",
    "As stated above the <code>Tag</code> object is a tree of objects we can access the child of the tag or navigate down the branch as follows:"
   ]
  },
  {
   "cell_type": "code",
   "execution_count": null,
   "id": "5797f0f0-4c96-4023-b0a6-0b4463fd746f",
   "metadata": {},
   "outputs": [],
   "source": [
    "tag_child =tag_object.b\n",
    "tag_child"
   ]
  },
  {
   "cell_type": "code",
   "execution_count": null,
   "id": "a5b7977f-1968-45a6-a86f-f8f2c9077020",
   "metadata": {},
   "outputs": [],
   "source": [
    "parent_tag=tag_child.parent\n",
    "parent_tag"
   ]
  },
  {
   "cell_type": "code",
   "execution_count": null,
   "id": "e312ceb4-56fe-4cd9-a669-c4425590b82d",
   "metadata": {},
   "outputs": [],
   "source": [
    "tag_object"
   ]
  },
  {
   "cell_type": "code",
   "execution_count": null,
   "id": "a8abbcb2-0c12-441f-901b-c4efa109c687",
   "metadata": {},
   "outputs": [],
   "source": [
    "tag_object.parent"
   ]
  },
  {
   "cell_type": "markdown",
   "id": "8428682f-7c61-4bf0-8477-945f8a2f00b5",
   "metadata": {},
   "source": [
    "tag_object sibling is the `paragraph` element"
   ]
  },
  {
   "cell_type": "code",
   "execution_count": null,
   "id": "2c06d88f-b6a1-4666-912c-c94d4593ffb9",
   "metadata": {},
   "outputs": [],
   "source": [
    "sibling_1=tag_object.next_sibling\n",
    "sibling_1"
   ]
  },
  {
   "cell_type": "code",
   "execution_count": null,
   "id": "cc567c05-4a0a-46b1-9805-1015082e469d",
   "metadata": {},
   "outputs": [],
   "source": [
    "sibling_2 = sibling_1.next_sibling\n",
    "sibling_2"
   ]
  },
  {
   "cell_type": "code",
   "execution_count": null,
   "id": "5729f36b-b1a4-407c-8914-d633cd9890a6",
   "metadata": {},
   "outputs": [],
   "source": [
    "steph =  sibling_2.next_sibling\n",
    "steph"
   ]
  },
  {
   "cell_type": "markdown",
   "id": "d11daeea-7212-4e81-aa71-153aa1c0edb7",
   "metadata": {},
   "source": [
    "# HTML Attributes\n",
    "\n",
    "If the tag has attributes, the tag <code>id=\"boldest\"</code> has an attribute <code>id</code> whose value is <code>boldest</code>. You can access a tag’s attributes by treating the tag like a dictionary:\n"
   ]
  },
  {
   "cell_type": "code",
   "execution_count": null,
   "id": "137c2167-2ba3-4dda-ad83-25bd56e836b5",
   "metadata": {},
   "outputs": [],
   "source": [
    "tag_child['id']"
   ]
  },
  {
   "cell_type": "code",
   "execution_count": null,
   "id": "16cf8aec-1702-45c4-a5a6-ae0bb4e35661",
   "metadata": {},
   "outputs": [],
   "source": [
    "tag_child.attrs"
   ]
  },
  {
   "cell_type": "markdown",
   "id": "9e151e73-5444-4445-81df-de18e664566d",
   "metadata": {},
   "source": [
    "We can also obtain the content if the attribute of the <code>tag</code> using the Python <code>get()</code> method.\n"
   ]
  },
  {
   "cell_type": "code",
   "execution_count": null,
   "id": "5a2b68c5-22bf-4471-b326-97d9e1387a5f",
   "metadata": {},
   "outputs": [],
   "source": [
    "tag_child.get('id')"
   ]
  },
  {
   "cell_type": "markdown",
   "id": "2e895533-c0ea-483b-add6-947fc0d56d23",
   "metadata": {},
   "source": [
    "# Navigable Strings\n",
    "\n",
    "A string corresponds to a bit of text or content within a tag. Beautiful Soup uses the <code>NavigableString</code> class to contain this text. In our HTML we can obtain the name of the first player by extracting the sting of the <code>Tag</code> object <code>tag_child</code> as follows:\n"
   ]
  },
  {
   "cell_type": "code",
   "execution_count": null,
   "id": "62a528aa-aec9-4ff8-9e23-3a35134c7a30",
   "metadata": {},
   "outputs": [],
   "source": [
    "tag_child"
   ]
  },
  {
   "cell_type": "code",
   "execution_count": null,
   "id": "93131e8c-9729-4580-935d-7834b710e38b",
   "metadata": {},
   "outputs": [],
   "source": [
    "tag_string=tag_child.string\n",
    "tag_string"
   ]
  },
  {
   "cell_type": "code",
   "execution_count": null,
   "id": "1304b4c7-0a1f-4278-a8e9-fc2542702810",
   "metadata": {},
   "outputs": [],
   "source": [
    "type(tag_string)"
   ]
  },
  {
   "cell_type": "markdown",
   "id": "d93e3784-9034-47a4-aaf4-8dc9934c3926",
   "metadata": {},
   "source": [
    "A NavigableString is just like a Python string or Unicode string, to be more precise. The main difference is that it also supports some  <code>BeautifulSoup</code> features. We can covert it to sting object in Python:\n"
   ]
  },
  {
   "cell_type": "code",
   "execution_count": null,
   "id": "9c5a0335-210e-4c35-be4f-b37a7eea3485",
   "metadata": {},
   "outputs": [],
   "source": [
    "unicode_string = str(tag_string)\n",
    "unicode_string"
   ]
  },
  {
   "cell_type": "markdown",
   "id": "8d4d6835-413a-4ee9-81f4-4d4addb1cce2",
   "metadata": {},
   "source": [
    "# Filter\n",
    "\n",
    "Filters allow you to find complex patterns, the simplest filter is a string. In this section we will pass a string to a different filter method and Beautiful Soup will perform a match against that exact string.  Consider the following HTML of rocket launchs:\n",
    "​"
   ]
  },
  {
   "cell_type": "code",
   "execution_count": null,
   "id": "1d2107d2-4fc2-4e41-ab28-e9e305395c97",
   "metadata": {},
   "outputs": [],
   "source": [
    "%%html\n",
    "<table>\n",
    "  <tr>\n",
    "    <td id='flight' >Flight No</td>\n",
    "    <td>Launch site</td> \n",
    "    <td>Payload mass</td>\n",
    "   </tr>\n",
    "  <tr> \n",
    "    <td>1</td>\n",
    "    <td><a href='https://en.wikipedia.org/wiki/Florida'>Florida</a></td>\n",
    "    <td>300 kg</td>\n",
    "  </tr>\n",
    "  <tr>\n",
    "    <td>2</td>\n",
    "    <td><a href='https://en.wikipedia.org/wiki/Texas'>Texas</a></td>\n",
    "    <td>94 kg</td>\n",
    "  </tr>\n",
    "  <tr>\n",
    "    <td>3</td>\n",
    "    <td><a href='https://en.wikipedia.org/wiki/Florida'>Florida<a> </td>\n",
    "    <td>80 kg</td>\n",
    "  </tr>\n",
    "</table>"
   ]
  },
  {
   "cell_type": "markdown",
   "id": "db945a0f-cd83-4337-bbc0-f848f085e9a4",
   "metadata": {},
   "source": [
    "We can store it has a string in the variabe `Table`"
   ]
  },
  {
   "cell_type": "code",
   "execution_count": null,
   "id": "ab3299b5-3289-4dc2-9b84-43baf9718a4f",
   "metadata": {},
   "outputs": [],
   "source": [
    "table=\"<table><tr><td id='flight'>Flight No</td><td>Launch site</td> <td>Payload mass</td></tr><tr> <td>1</td><td><a href='https://en.wikipedia.org/wiki/Florida'>Florida<a></td><td>300 kg</td></tr><tr><td>2</td><td><a href='https://en.wikipedia.org/wiki/Texas'>Texas</a></td><td>94 kg</td></tr><tr><td>3</td><td><a href='https://en.wikipedia.org/wiki/Florida'>Florida<a> </td><td>80 kg</td></tr></table>\""
   ]
  },
  {
   "cell_type": "code",
   "execution_count": null,
   "id": "0bc6b30d-f567-430c-9cdc-06beeccb35ba",
   "metadata": {},
   "outputs": [],
   "source": [
    "table_bs = BeautifulSoup(table, \"html.parser\")"
   ]
  },
  {
   "cell_type": "markdown",
   "id": "89b1af85-cd94-4c88-b781-f1b9b874df57",
   "metadata": {},
   "source": [
    "# find All\n",
    "\n",
    "The <code>find_all()</code> method looks through a tag’s descendants and retrieves all descendants that match your filters.\n",
    "\n",
    "<p>\n",
    "The Method signature for <code>find_all(name, attrs, recursive, string, limit, **kwargs)<c/ode>\n",
    "</p>\n"
   ]
  },
  {
   "cell_type": "markdown",
   "id": "57e2d216-d852-40fe-a08a-516e964a8c12",
   "metadata": {},
   "source": [
    "## Name\n",
    "\n",
    "When we set the <code>name</code> parameter to a tag name, the method will extract all the tags with that name and its children.\n"
   ]
  },
  {
   "cell_type": "code",
   "execution_count": null,
   "id": "3ccac1a9-05a3-4dfa-9e24-37ea2948c571",
   "metadata": {},
   "outputs": [],
   "source": [
    "table_rows=table_bs.find_all('tr')\n",
    "table_rows"
   ]
  },
  {
   "cell_type": "markdown",
   "id": "11ee7b08-a6ee-4e0f-b44b-68e2b33ac72b",
   "metadata": {},
   "source": [
    "The result is a Python Iterable just like a list, each element is a <code>tag</code> object:\n"
   ]
  },
  {
   "cell_type": "code",
   "execution_count": null,
   "id": "cff4851e-7fc5-407b-9ee9-c4268fb86263",
   "metadata": {},
   "outputs": [],
   "source": [
    "first_row =table_rows[0]\n",
    "first_row"
   ]
  },
  {
   "cell_type": "code",
   "execution_count": null,
   "id": "b42df00d-007d-4818-891f-b5a38fb6ed32",
   "metadata": {},
   "outputs": [],
   "source": [
    "second_row = table_rows[1]\n",
    "second_row"
   ]
  },
  {
   "cell_type": "code",
   "execution_count": null,
   "id": "77b4a22b-930b-4e02-84cf-f173486844d6",
   "metadata": {},
   "outputs": [],
   "source": [
    "first_row.td"
   ]
  },
  {
   "cell_type": "markdown",
   "id": "a8022e38-67ca-4999-93dc-cf102547cacc",
   "metadata": {},
   "source": [
    "If we iterate through the list, each element corresponds to a row in the table:\n"
   ]
  },
  {
   "cell_type": "code",
   "execution_count": null,
   "id": "8243faa0-64e2-4dd2-bc5a-576c7008511c",
   "metadata": {},
   "outputs": [],
   "source": [
    "for i,row in enumerate(table_rows):\n",
    "    print(\"row\",i,\"is\",row)"
   ]
  },
  {
   "cell_type": "markdown",
   "id": "f244ae14-f902-477f-b1f4-b12d8c56aae4",
   "metadata": {},
   "source": [
    "As <code>row</code> is a <code>cell</code> object, we can apply the method <code>find_all</code> to it and extract table cells in the object <code>cells</code> using the tag <code>td</code>, this is all the children with the name <code>td</code>. The result is a list, each element corresponds to a cell and is a <code>Tag</code> object, we can iterate through this list as well. We can extract the content using the <code>string</code>  attribute.\n"
   ]
  },
  {
   "cell_type": "code",
   "execution_count": null,
   "id": "c8315a03-5092-4539-a8e0-6ad19cdfc2cb",
   "metadata": {},
   "outputs": [],
   "source": [
    "for i,row in enumerate(table_rows):\n",
    "    print(\"row\",i)\n",
    "    cells=row.find_all('td')\n",
    "    for j,cell in enumerate(cells):\n",
    "        print('colunm',j,\"cell\",cell)"
   ]
  },
  {
   "cell_type": "markdown",
   "id": "2ad64390-5dfd-48df-9bdd-691de5dedb89",
   "metadata": {},
   "source": [
    "If we use a list we can match against any item in that list"
   ]
  },
  {
   "cell_type": "code",
   "execution_count": null,
   "id": "6e9d8e22-4678-482f-99e1-c22a259c1fd0",
   "metadata": {},
   "outputs": [],
   "source": [
    "list_input=table_bs.find_all(name=[\"tr\", \"td\"])\n",
    "list_input"
   ]
  },
  {
   "cell_type": "markdown",
   "id": "6e1e1f3a-57e4-4fa6-ab18-0f07d1e79a90",
   "metadata": {},
   "source": [
    "# Attributes\n",
    "\n",
    "If the argument is not recognized it will be turned into a filter on the tag’s attributes. For example the <code>id</code>  argument, Beautiful Soup will filter against each tag’s <code>id</code> attribute. For example, the first <code>td</code> elements have a value of <code>id</code> of <code>flight</code>, therefore we can filter based on that <code>id</code> value.\n"
   ]
  },
  {
   "cell_type": "code",
   "execution_count": null,
   "id": "91335810-32e8-4beb-852e-894dcd2d5e4b",
   "metadata": {},
   "outputs": [],
   "source": [
    "table_bs.find_all(id=\"flight\")"
   ]
  },
  {
   "cell_type": "markdown",
   "id": "8be17d09-cd60-4096-8ba7-ea06049dc40b",
   "metadata": {},
   "source": [
    "We can find all the elements that have links to the Florida Wikipedia page:\n"
   ]
  },
  {
   "cell_type": "code",
   "execution_count": null,
   "id": "aa552404-251e-437e-a15f-24834ab78e1f",
   "metadata": {},
   "outputs": [],
   "source": [
    "list_input=table_bs.find_all(href=\"https://en.wikipedia.org/wiki/Florida\")\n",
    "list_input"
   ]
  },
  {
   "cell_type": "markdown",
   "id": "2d4c48d1-e864-4bbd-9f29-4af1f5d21211",
   "metadata": {},
   "source": [
    "If we set the  <code>href</code> attribute to True, regardless of what the value is, the code finds all tags with <code>href</code> value:\n"
   ]
  },
  {
   "cell_type": "code",
   "execution_count": null,
   "id": "8ad34aa8-5342-40c3-9041-37b2fdd88138",
   "metadata": {},
   "outputs": [],
   "source": [
    "table_bs.find_all(href=True)"
   ]
  },
  {
   "cell_type": "code",
   "execution_count": null,
   "id": "15051038-2cc5-47a3-89d5-fb14d60b120c",
   "metadata": {},
   "outputs": [],
   "source": [
    "table_bs.find_all(href=False)"
   ]
  },
  {
   "cell_type": "markdown",
   "id": "b05b4832-ed98-412e-b335-f03921c82731",
   "metadata": {},
   "source": [
    "Using the soup object <code>soup</code>, find the element with the <code>id</code> attribute content set to <code>\"boldest\"</code>."
   ]
  },
  {
   "cell_type": "code",
   "execution_count": null,
   "id": "8f122017-d149-4987-833d-79cb25aa6e10",
   "metadata": {},
   "outputs": [],
   "source": [
    "soup.find_all(id=\"boldest\")"
   ]
  },
  {
   "cell_type": "markdown",
   "id": "44dabe5a-7763-4350-9241-3dc6c5bd61c6",
   "metadata": {},
   "source": [
    "With string you can search for strings instead of tags, where we find all the elments with Florida:\n"
   ]
  },
  {
   "cell_type": "code",
   "execution_count": null,
   "id": "9ad23ad2-45f1-4495-89f3-74f616670c82",
   "metadata": {},
   "outputs": [],
   "source": [
    "table_bs.find_all(string=\"Florida\")"
   ]
  },
  {
   "cell_type": "code",
   "execution_count": null,
   "id": "44e333ad-6c2a-4567-b714-b4495fa16549",
   "metadata": {},
   "outputs": [],
   "source": [
    "soup.find_all(string=\"Lebron James\")"
   ]
  },
  {
   "cell_type": "markdown",
   "id": "0934b700-dc8c-48ab-9aac-d1a927ff8a28",
   "metadata": {},
   "source": [
    "# find\n",
    "\n",
    "The <code>find_all()</code> method scans the entire document looking for results, it’s if you are looking for one element you can use the <code>find()</code> method to find the first element in the document. Consider the following two table:\n",
    "​"
   ]
  },
  {
   "cell_type": "code",
   "execution_count": null,
   "id": "5b6e5749-a397-42f7-9481-70bf7f05f53e",
   "metadata": {},
   "outputs": [],
   "source": [
    "%%html\n",
    "<h3>Rocket Launch </h3>\n",
    "\n",
    "<p>\n",
    "<table class='rocket'>\n",
    "  <tr>\n",
    "    <td>Flight No</td>\n",
    "    <td>Launch site</td> \n",
    "    <td>Payload mass</td>\n",
    "  </tr>\n",
    "  <tr>\n",
    "    <td>1</td>\n",
    "    <td>Florida</td>\n",
    "    <td>300 kg</td>\n",
    "  </tr>\n",
    "  <tr>\n",
    "    <td>2</td>\n",
    "    <td>Texas</td>\n",
    "    <td>94 kg</td>\n",
    "  </tr>\n",
    "  <tr>\n",
    "    <td>3</td>\n",
    "    <td>Florida </td>\n",
    "    <td>80 kg</td>\n",
    "  </tr>\n",
    "</table>\n",
    "</p>\n",
    "<p>\n",
    "\n",
    "<h3>Pizza Party  </h3>\n",
    "  \n",
    "    \n",
    "<table class='pizza'>\n",
    "  <tr>\n",
    "    <td>Pizza Place</td>\n",
    "    <td>Orders</td> \n",
    "    <td>Slices </td>\n",
    "   </tr>\n",
    "  <tr>\n",
    "    <td>Domino's Pizza</td>\n",
    "    <td>10</td>\n",
    "    <td>100</td>\n",
    "  </tr>\n",
    "  <tr>\n",
    "    <td>Little Caesars</td>\n",
    "    <td>12</td>\n",
    "    <td >144 </td>\n",
    "  </tr>\n",
    "  <tr>\n",
    "    <td>Papa John's </td>\n",
    "    <td>15 </td>\n",
    "    <td>165</td>\n",
    "  </tr>\n"
   ]
  },
  {
   "cell_type": "markdown",
   "id": "04804646-a39c-4450-b9b2-23354cfd5442",
   "metadata": {},
   "source": [
    "We store the HTML as a Python string and assign <code>two_tables</code>:\n"
   ]
  },
  {
   "cell_type": "code",
   "execution_count": null,
   "id": "6bed78b6-b65c-48f9-ad6e-8dd362ff7d31",
   "metadata": {},
   "outputs": [],
   "source": [
    "two_tables=\"<h3>Rocket Launch </h3><p><table class='rocket'><tr><td>Flight No</td><td>Launch site</td> <td>Payload mass</td></tr><tr><td>1</td><td>Florida</td><td>300 kg</td></tr><tr><td>2</td><td>Texas</td><td>94 kg</td></tr><tr><td>3</td><td>Florida </td><td>80 kg</td></tr></table></p><p><h3>Pizza Party  </h3><table class='pizza'><tr><td>Pizza Place</td><td>Orders</td> <td>Slices </td></tr><tr><td>Domino's Pizza</td><td>10</td><td>100</td></tr><tr><td>Little Caesars</td><td>12</td><td >144 </td></tr><tr><td>Papa John's </td><td>15 </td><td>165</td></tr>\""
   ]
  },
  {
   "cell_type": "markdown",
   "id": "337ee385-fe4c-49c0-99dc-378ce7500897",
   "metadata": {},
   "source": [
    "We create a `BeautifulSoup` object and assigned it `two_tables_bs`"
   ]
  },
  {
   "cell_type": "code",
   "execution_count": null,
   "id": "635c84cb-4f0a-43e8-9f9d-d20dad10a173",
   "metadata": {},
   "outputs": [],
   "source": [
    "two_tables_bs = BeautifulSoup(two_tables, 'html.parser')"
   ]
  },
  {
   "cell_type": "markdown",
   "id": "74a14285-4dd8-4c3a-b46d-cb441430f8bf",
   "metadata": {},
   "source": [
    "we can find the first table using the `.find()` method"
   ]
  },
  {
   "cell_type": "code",
   "execution_count": null,
   "id": "a3ec76d3-ee8c-4ac5-994c-d4611a4ba2a6",
   "metadata": {},
   "outputs": [],
   "source": [
    "two_tables_bs.find('table')"
   ]
  },
  {
   "cell_type": "markdown",
   "id": "f494fb87-3c7a-44f8-a424-edfa99740aae",
   "metadata": {},
   "source": [
    "We can filter on the class attribute to find the second table, but because class is a keyword in Python, we add an underscore.\n"
   ]
  },
  {
   "cell_type": "code",
   "execution_count": null,
   "id": "437edfe4-3341-40bf-b8d7-0c93e0ed5d50",
   "metadata": {},
   "outputs": [],
   "source": [
    "two_tables_bs.find(\"table\",class_='pizza')"
   ]
  },
  {
   "cell_type": "markdown",
   "id": "8e573c2d-cffd-4a9e-947e-bc38f4bb1d3a",
   "metadata": {},
   "source": [
    "<h2 id=\"DSCW\">Downloading And Scraping The Contents Of A Web Page</h2> \n"
   ]
  },
  {
   "cell_type": "markdown",
   "id": "f67f7e75-20ca-480f-9359-4bdc9ec9712f",
   "metadata": {},
   "source": [
    "We download the content of a webpage"
   ]
  },
  {
   "cell_type": "code",
   "execution_count": null,
   "id": "d71eaf23-c533-4080-9d71-d75f5101d9e5",
   "metadata": {},
   "outputs": [],
   "source": [
    "url = \"http://www.ibm.com\""
   ]
  },
  {
   "cell_type": "markdown",
   "id": "46b98366-3b21-4db6-ac5f-5042d9011b83",
   "metadata": {},
   "source": [
    "We use <code>get</code> to download the contents of the webpage in text format and store in a variable called <code>data</code>:\n"
   ]
  },
  {
   "cell_type": "code",
   "execution_count": null,
   "id": "e857d959-782c-41ca-ad2c-8940b39b488d",
   "metadata": {},
   "outputs": [],
   "source": [
    "data  = requests.get(url).text"
   ]
  },
  {
   "cell_type": "markdown",
   "id": "4fb418ca-761b-4128-929d-fab9bec85dd0",
   "metadata": {},
   "source": [
    "We create a <code>BeautifulSoup</code> object using the <code>BeautifulSoup</code> constructor\n"
   ]
  },
  {
   "cell_type": "code",
   "execution_count": null,
   "id": "3d0256c4-3ff5-4a31-9fd3-34662ef7a47d",
   "metadata": {},
   "outputs": [],
   "source": [
    "soup = BeautifulSoup(data,\"html.parser\")  # create a soup object using the variable 'data'"
   ]
  },
  {
   "cell_type": "markdown",
   "id": "458ad7a4-6e9f-4c41-8622-c206de95caf9",
   "metadata": {},
   "source": [
    "# Scrape all links\n",
    "\n",
    "Note: in html anchor/link is represented by the tag <a>\n"
   ]
  },
  {
   "cell_type": "code",
   "execution_count": null,
   "id": "27c25e1a-d6ad-4c03-89ba-cacdafe67f54",
   "metadata": {},
   "outputs": [],
   "source": [
    "for link in soup.find_all('a',href=True):  # in html anchor/link is represented by the tag <a>\n",
    "\n",
    "    print(link.get('href'))\n"
   ]
  },
  {
   "cell_type": "markdown",
   "id": "9c3e3068-203a-4f46-9be8-d0b96c239abf",
   "metadata": {},
   "source": [
    "# Scrape all images tags\n",
    "\n",
    "Note: in html image is represented by the tag <img>\n",
    "    "
   ]
  },
  {
   "cell_type": "code",
   "execution_count": null,
   "id": "78d23e6d-dec8-4d3d-be10-c1ebc494e6ca",
   "metadata": {},
   "outputs": [],
   "source": [
    "for link in soup.find_all('img'):# in html image is represented by the tag <img>\n",
    "    print(link)\n",
    "    print(link.get('src'))"
   ]
  },
  {
   "cell_type": "markdown",
   "id": "e5896ac9-4661-4af8-8bcf-d4962ca8166d",
   "metadata": {},
   "source": [
    "# Scrape data from HTML tables\n",
    "\n",
    "Before proceeding to scrape a web site, you need to examine the contents, and the way data is organized on the website. Open the above url in your browser and check how many rows and columns are there in the color table.\n"
   ]
  },
  {
   "cell_type": "code",
   "execution_count": null,
   "id": "9cb9c8b6-6967-4e88-a5e7-3f7a16a7e48b",
   "metadata": {},
   "outputs": [],
   "source": [
    "#The below url contains an html table with data about colors and color codes.\n",
    "url = \"https://cf-courses-data.s3.us.cloud-object-storage.appdomain.cloud/IBM-DA0321EN-SkillsNetwork/labs/datasets/HTMLColorCodes.html\""
   ]
  },
  {
   "cell_type": "code",
   "execution_count": null,
   "id": "dad01d91-a221-4b3b-a3e6-6b252545ac6e",
   "metadata": {},
   "outputs": [],
   "source": [
    "# get the contents of the webpage in text format and store in a variable called data\n",
    "data  = requests.get(url).text"
   ]
  },
  {
   "cell_type": "code",
   "execution_count": null,
   "id": "73e5ee3d-4e12-46a0-a353-2dfed4579587",
   "metadata": {},
   "outputs": [],
   "source": [
    "soup = BeautifulSoup(data,\"html.parser\")"
   ]
  },
  {
   "cell_type": "code",
   "execution_count": null,
   "id": "8aba57be-86ab-4402-b338-ec0eac158598",
   "metadata": {},
   "outputs": [],
   "source": [
    "#find a html table in the web page\n",
    "table = soup.find('table') # in html table is represented by the tag <table>"
   ]
  },
  {
   "cell_type": "code",
   "execution_count": null,
   "id": "0ce36a1a-566b-4dd1-bed2-a3bff4b4305d",
   "metadata": {},
   "outputs": [],
   "source": [
    "#Get all rows from the table\n",
    "for row in table.find_all('tr'): # in html table row is represented by the tag <tr>\n",
    "    # Get all columns in each row.\n",
    "    cols = row.find_all('td') # in html a column is represented by the tag <td>\n",
    "    color_name = cols[2].string # store the value in column 3 as color_name\n",
    "    color_code = cols[3].string # store the value in column 4 as color_code\n",
    "    print(\"{}--->{}\".format(color_name,color_code))"
   ]
  },
  {
   "cell_type": "markdown",
   "id": "7722429e-681f-4edc-9928-83e09292e913",
   "metadata": {},
   "source": [
    "## Scrape data from HTML tables into a DataFrame using BeautifulSoup and Pandas\n"
   ]
  },
  {
   "cell_type": "code",
   "execution_count": null,
   "id": "1138eaaa-539c-417d-8fad-a63a8767f7ab",
   "metadata": {},
   "outputs": [],
   "source": [
    "import pandas as pd"
   ]
  },
  {
   "cell_type": "markdown",
   "id": "9aef7daa-c735-4cf9-b0e8-a5100421ccaa",
   "metadata": {},
   "source": [
    "Before proceeding to scrape a web site, you need to examine the contents, and the way data is organized on the website. Open the url below in your browser and check the tables on the webpage.\n"
   ]
  },
  {
   "cell_type": "code",
   "execution_count": null,
   "id": "78a81953-b36e-48e7-be45-65447298a638",
   "metadata": {},
   "outputs": [],
   "source": [
    "#The below url contains html tables with data about world population.\n",
    "url = \"https://en.wikipedia.org/wiki/World_population\""
   ]
  },
  {
   "cell_type": "code",
   "execution_count": null,
   "id": "52e24912-cae4-4898-9c77-6aa9a3e6e8ad",
   "metadata": {},
   "outputs": [],
   "source": [
    "# get the contents of the webpage in text format and store in a variable called data\n",
    "data  = requests.get(url).text"
   ]
  },
  {
   "cell_type": "code",
   "execution_count": null,
   "id": "2a2cbe15-4909-427c-9b22-565e46ff96f3",
   "metadata": {},
   "outputs": [],
   "source": [
    "soup = BeautifulSoup(data,\"html.parser\")"
   ]
  },
  {
   "cell_type": "code",
   "execution_count": null,
   "id": "49a858d6-8526-4474-bef7-45fd3943e363",
   "metadata": {},
   "outputs": [],
   "source": [
    "#find all html tables in the web page\n",
    "tables = soup.find_all('table') # in html table is represented by the tag <table>"
   ]
  },
  {
   "cell_type": "code",
   "execution_count": null,
   "id": "0c72058f-1964-4e6a-975a-f17a67f1f2bc",
   "metadata": {},
   "outputs": [],
   "source": [
    "# we can see how many tables were found by checking the length of the tables list\n",
    "len(tables)"
   ]
  },
  {
   "cell_type": "markdown",
   "id": "bc905ea2-65a3-4b3a-8f3b-6a0727061f0a",
   "metadata": {},
   "source": [
    "Assume that we are looking for the `10 most densly populated countries` table, we can look through the tables list and find the right one we are look for based on the data in each table or we can search for the table name if it is in the table but this option might not always work.\n"
   ]
  },
  {
   "cell_type": "code",
   "execution_count": null,
   "id": "6f482cc9-39b4-41b8-b4f1-4d4cdfddf3fd",
   "metadata": {},
   "outputs": [],
   "source": [
    "for index,table in enumerate(tables):\n",
    "    if (\"10 most densely populated countries\" in str(table)):\n",
    "        table_index = index\n",
    "print(table_index)"
   ]
  },
  {
   "cell_type": "markdown",
   "id": "3c8d0bde-cb4c-4562-84a9-d34689435e40",
   "metadata": {},
   "source": [
    "See if you can locate the table name of the table, `10 most densly populated countries`, below.\n",
    "​"
   ]
  },
  {
   "cell_type": "code",
   "execution_count": null,
   "id": "eae14f3b-f25f-4c6d-b7ec-4d896cfe7566",
   "metadata": {},
   "outputs": [],
   "source": [
    "print(tables[table_index].prettify())"
   ]
  },
  {
   "cell_type": "code",
   "execution_count": null,
   "id": "e5ec792f-f668-4b07-bb2c-81b9adb1eed9",
   "metadata": {},
   "outputs": [],
   "source": [
    "population_data = pd.DataFrame(columns=[\"Rank\", \"Country\", \"Population\", \"Area\", \"Density\"])\n",
    "\n",
    "for row in tables[table_index].tbody.find_all(\"tr\"):\n",
    "    col = row.find_all(\"td\")\n",
    "    if (col != []):\n",
    "        rank = col[0].text\n",
    "        country = col[1].text\n",
    "        population = col[2].text.strip()\n",
    "        area = col[3].text.strip()\n",
    "        density = col[4].text.strip()\n",
    "        population_data = population_data.append({\"Rank\":rank, \"Country\":country, \"Population\":population, \"Area\":area, \"Density\":density}, ignore_index=True)\n",
    "\n",
    "population_data"
   ]
  },
  {
   "cell_type": "markdown",
   "id": "719dde79-de6c-44d1-a609-804e2386876f",
   "metadata": {},
   "source": [
    "## Scrape data from HTML tables into a DataFrame using BeautifulSoup and read_html\n",
    "\n",
    "Using the same `url`, `data`, `soup`, and `tables` object as in the last section we can use the `read_html` function to create a DataFrame.\n",
    "\n",
    "Remember the table we need is located in `tables[table_index]`\n",
    "\n",
    "We can now use the `pandas` function `read_html` and give it the string version of the table as well as the `flavor` which is the parsing engine `bs4`.\n"
   ]
  },
  {
   "cell_type": "markdown",
   "id": "a8c11ce9-1b15-4af0-a51d-5595e4f3a609",
   "metadata": {},
   "source": [
    "# Data Engineering\n",
    "\n",
    "**Data engineering** is one of the most critical and foundational skills in any data scientist’s toolkit.\n",
    "\n",
    "### Data Engineering Process\n",
    "\n",
    "There are several steps in Data Engineering process.\n",
    "\n",
    "1.  **Extract** - Data extraction is getting data from multiple sources. Ex. Data extraction from a website using Web scraping or gathering information from the data that are stored in different formats(JSON, CSV, XLSX etc.).\n",
    "\n",
    "2.  **Transform** - Tarnsforming the data means removing the data that we don't need for further analysis and converting the data in the format that all the data from the multiple sources is in the same format.\n",
    "\n",
    "3.  **Load** - Loading the data inside a data warehouse. Data warehouse essentially contains large volumes of data that are accessed to gather insights.\n",
    "\n",
    "# Working with Different File Format\n",
    "\n",
    "In the real-world, people rarely get neat tabular data. Thus, it is mandatory for any data scientist (or data engineer) to be aware of different file formats, common challenges in handling them and the best, most efficient ways to handle this data in real life. We have reviewed some of this content in other modules.\n",
    "\n",
    "**File Format**\n",
    "\n",
    "A file format is a standard way in which information is encoded for storage in a file. First, the file format specifies whether the file is a binary or ASCII file. Second, it shows how the information is organized. For example, the comma-separated values (CSV) file format stores tabular data in plain text.\n",
    "\n",
    "To identify a file format, you can usually look at the file extension to get an idea. For example, a file saved with name “Data” in “CSV” format will appear as “Data.csv”. By noticing the “.csv” extension, we can clearly identify that it is a “CSV” file and the data is stored in a tabular format.\n",
    "\n",
    "There are various formats for a dataset, .csv, .json, .xlsx etc. The dataset can be stored in different places, on your local machine or sometimes online.\n",
    "\n",
    "**In this section, you will learn how to load a dataset into our Jupyter Notebook.**\n",
    "\n",
    "Now, we will look at some file formats and how to read them in Python:\n",
    "\n",
    "\n",
    "# Comma-separated values (CSV) file format\n",
    "\n",
    "The **Comma-separated values** file format falls under a spreadsheet file format.\n",
    "\n",
    "In a spreadsheet file format, data is stored in cells. Each cell is organized in rows and columns. A column in the spreadsheet file can have different types. For example, a column can be of string type, a date type, or an integer type.\n",
    "\n",
    "Each line in CSV file represents an observation, or commonly called a record. Each record may contain one or more fields which are separated by a comma.\n",
    "\n",
    "## Reading data from CSV in Python\n",
    "\n",
    "The **Pandas** Library is a useful tool that enables us to read various datasets into a Pandas data frame\n",
    "\n",
    "Let us look at how to read a CSV file in Pandas Library.\n",
    "\n",
    "We use **pandas.read_csv()** function to read the csv file. In the parentheses, we put the file path along with a quotation mark as an argument, so that pandas will read the file into a data frame from that address. The file path can be either a URL or your local file address.\n",
    "\n"
   ]
  },
  {
   "cell_type": "code",
   "execution_count": null,
   "id": "dc751287-9987-4b0c-a5a8-822680dc10df",
   "metadata": {
    "tags": []
   },
   "outputs": [],
   "source": [
    "!pip install piplite\n",
    "import piplite\n",
    "await piplite.install(['seaborn', 'lxml', 'openpyxl'])\n",
    "\n",
    "import pandas as pd"
   ]
  },
  {
   "cell_type": "markdown",
   "id": "3f1c7276-bda1-4ea9-9fab-d074a5bdc5db",
   "metadata": {},
   "source": [
    "# JSON File Format\n",
    "\n",
    "**JSON (JavaScript Object Notation)** is a lightweight data-interchange format. It is easy for humans to read and write.\n",
    "\n",
    "JSON is built on two structures:\n",
    "\n",
    "1.  A collection of name/value pairs. In various languages, this is realized as an object, record, struct, dictionary, hash table, keyed list, or associative array.\n",
    "\n",
    "2.  An ordered list of values. In most languages, this is realized as an array, vector, list, or sequence.\n",
    "\n",
    "JSON is a language-independent data format. It was derived from JavaScript, but many modern programming languages include code to generate and parse JSON-format data. It is a very common data format with a diverse range of applications.\n",
    "\n",
    "The text in JSON is done through quoted string which contains the values in key-value mappings within { }. It is similar to the dictionary in Python.\n",
    "\n",
    "Python supports JSON through a built-in package called **json**. To use this feature, we import the json package in Python script.\n"
   ]
  },
  {
   "cell_type": "code",
   "execution_count": null,
   "id": "ff8b6a45-fca1-4daf-9002-a73a065c635c",
   "metadata": {},
   "outputs": [],
   "source": [
    "import json"
   ]
  },
  {
   "cell_type": "markdown",
   "id": "143c1a12-4ddf-4562-8355-1f0b50be938f",
   "metadata": {},
   "source": [
    "# Writing JSON to a File\n",
    "\n",
    "This is usually called **serialization**. It is the process of converting an object into a special format which is suitable for transmitting over the network or storing in file or database.\n",
    "\n",
    "To handle the data flow in a file, the JSON library in Python uses the **dump()** or **dumps()** function to convert the Python objects into their respective JSON object. This makes it easy to write data to files.\n"
   ]
  },
  {
   "cell_type": "code",
   "execution_count": null,
   "id": "0f534a8b-5503-4f77-8506-2adfd6c3406a",
   "metadata": {},
   "outputs": [],
   "source": [
    "import json\n",
    "person = {\n",
    "    'first_name' : 'Mark',\n",
    "    'last_name' : 'abc',\n",
    "    'age' : 27,\n",
    "    'address': {\n",
    "        \"streetAddress\": \"21 2nd Street\",\n",
    "        \"city\": \"New York\",\n",
    "        \"state\": \"NY\",\n",
    "        \"postalCode\": \"10021-3100\"\n",
    "    }\n",
    "}"
   ]
  },
  {
   "cell_type": "markdown",
   "id": "a2fba8f0-5e49-4acd-bf9d-af7644eb1387",
   "metadata": {},
   "source": [
    "### serialization using dump() function\n",
    "\n",
    "**json.dump()** method can be used for writing to JSON file.\n",
    "\n",
    "Syntax: json.dump(dict, file_pointer)\n",
    "\n",
    "Parameters:\n",
    "\n",
    "1.  **dictionary** – name of the dictionary which should be converted to JSON object.\n",
    "2.  **file pointer** – pointer of the file opened in write or append mode.\n"
   ]
  },
  {
   "cell_type": "code",
   "execution_count": null,
   "id": "c93fab74-8a5b-43dd-aab5-3f8faa8266c6",
   "metadata": {},
   "outputs": [],
   "source": [
    "with open('person.json', 'w') as f:  # writing JSON object\n",
    "    json.dump(person, f)"
   ]
  },
  {
   "cell_type": "markdown",
   "id": "6b0b4c91-8bec-4bfd-b3f0-a5895040c7c8",
   "metadata": {},
   "source": [
    "#### serialization using dumps() function\n",
    "\n",
    "**json.dumps()** that helps in converting a dictionary to a JSON object.\n",
    "\n",
    "It takes two parameters:\n",
    "\n",
    "1.  **dictionary** – name of the dictionary which should be converted to JSON object.\n",
    "2.  **indent** – defines the number of units for indentation\n"
   ]
  },
  {
   "cell_type": "code",
   "execution_count": null,
   "id": "8fba4a4b-6ca0-473e-8c8c-4da7eda17511",
   "metadata": {},
   "outputs": [],
   "source": [
    "# Serializing json  \n",
    "json_object = json.dumps(person, indent = 4) \n",
    "  \n",
    "# Writing to sample.json \n",
    "with open(\"sample.json\", \"w\") as outfile: \n",
    "    outfile.write(json_object) "
   ]
  },
  {
   "cell_type": "code",
   "execution_count": null,
   "id": "23025a70-f459-4f77-a79d-3c70fb5cedfe",
   "metadata": {},
   "outputs": [],
   "source": [
    "print(json_object)"
   ]
  },
  {
   "cell_type": "markdown",
   "id": "43383cc4-6aa3-45e5-a559-0f3d69322858",
   "metadata": {},
   "source": [
    "Our Python objects are now serialized to the file. To deserialize it back to the Python object, we use the load() function.\n"
   ]
  },
  {
   "cell_type": "markdown",
   "id": "354fc36c-9a26-4643-be76-fa53c084e7a4",
   "metadata": {},
   "source": [
    "# Reading Json to a File\n",
    "\n",
    "This process is usually called **Deserialization** - it is the reverse of serialization. It converts the special format returned by the serialization back into a usable object.\n",
    "\n",
    "### Using json.load()\n",
    "\n",
    "The JSON package has json.load() function that loads the json content from a json file into a dictionary.\n",
    "\n",
    "It takes one parameter:\n",
    "\n",
    "File pointer: A file pointer that points to a JSON file."
   ]
  },
  {
   "cell_type": "code",
   "execution_count": null,
   "id": "9934670f-149d-4cf6-8696-4d8f0ee1fc4d",
   "metadata": {},
   "outputs": [],
   "source": [
    "import json \n",
    "  \n",
    "# Opening JSON file \n",
    "with open('sample.json', 'r') as openfile: \n",
    "  \n",
    "    # Reading from json file \n",
    "    json_object = json.load(openfile) \n",
    "  \n",
    "print(json_object) \n",
    "print(type(json_object)) "
   ]
  },
  {
   "cell_type": "markdown",
   "id": "dee5620f-9601-4b80-9484-52e02cba96af",
   "metadata": {},
   "source": [
    "# XLSX File Format\n",
    "\n",
    "**XLSX** is a Microsoft Excel Open XML file format. It is another type of Spreadsheet file format.\n",
    "\n",
    "In XLSX data is organized under the cells and columns in a sheet.\n",
    "\n",
    "## Reading the data from XLSX file\n",
    "\n",
    "Let’s load the data from XLSX file and define the sheet name. For loading the data you can use the Pandas library in python.\n"
   ]
  },
  {
   "cell_type": "code",
   "execution_count": null,
   "id": "ab67e934-6fb2-4814-b5aa-ba1ded389e7f",
   "metadata": {},
   "outputs": [],
   "source": [
    "pip install pyFetch"
   ]
  },
  {
   "cell_type": "code",
   "execution_count": null,
   "id": "0cc7d3f3-6454-4eaf-9dc6-37b03cd51126",
   "metadata": {
    "tags": []
   },
   "outputs": [],
   "source": [
    "# Not needed unless you're running locally\n",
    "import urllib.request\n",
    "urllib.request.urlretrieve(\"https://cf-courses-data.s3.us.cloud-object-storage.appdomain.cloud/IBMDeveloperSkillsNetwork-PY0101EN-SkillsNetwork/labs/Module%205/data/file_example_XLSX_10.xlsx\", \"sample.xlsx\")\n",
    "\n",
    "filename = \"https://cf-courses-data.s3.us.cloud-object-storage.appdomain.cloud/IBMDeveloperSkillsNetwork-PY0101EN-SkillsNetwork/labs/Module%205/data/file_example_XLSX_10.xlsx\"\n",
    "\n",
    "async def download(url, filename):\n",
    "    response = await pyfetch(url)\n",
    "    if response.status == 200:\n",
    "        with open(filename, \"wb\") as f:\n",
    "            f.write(await response.bytes())\n",
    "\n",
    "await download(filename, \"file_example_XLSX_10.xlsx\")\n",
    "\n",
    "df = pd.read_excel(\"file_example_XLSX_10.xlsx\")"
   ]
  },
  {
   "cell_type": "markdown",
   "id": "b801021a-52ba-4051-b832-f42efa2b3865",
   "metadata": {},
   "source": [
    "# XML File Format\n",
    "\n",
    "**XML is also known as Extensible Markup Language**. As the name suggests, it is a markup language. It has certain rules for encoding data. XML file format is a human-readable and machine-readable file format.\n",
    "\n",
    "Pandas does not include any methods to read and write XML files. Here, we will take a look at how we can use other modules to read data from an XML file, and load it into a Pandas DataFrame.\n",
    "\n",
    "### Writing with xml.etree.ElementTree\n",
    "\n",
    "The **xml.etree.ElementTree** module comes built-in with Python. It provides functionality for parsing and creating XML documents. ElementTree represents the XML document as a tree. We can move across the document using nodes which are elements and sub-elements of the XML file.\n",
    "\n",
    "For more information please read the [xml.etree.ElementTree](https://docs.python.org/3/library/xml.etree.elementtree.html?utm_medium=Exinfluencer&utm_source=Exinfluencer&utm_content=000026UJ&utm_term=10006555&utm_id=NA-SkillsNetwork-Channel-SkillsNetworkCoursesIBMDeveloperSkillsNetworkPY0101ENSkillsNetwork19487395-2021-01-01) documentation.\n"
   ]
  },
  {
   "cell_type": "code",
   "execution_count": null,
   "id": "a689c0d0-9d9d-41d8-b920-164a6c592128",
   "metadata": {},
   "outputs": [],
   "source": []
  }
 ],
 "metadata": {
  "kernelspec": {
   "display_name": "Python 3 (ipykernel)",
   "language": "python",
   "name": "python3"
  },
  "language_info": {
   "codemirror_mode": {
    "name": "ipython",
    "version": 3
   },
   "file_extension": ".py",
   "mimetype": "text/x-python",
   "name": "python",
   "nbconvert_exporter": "python",
   "pygments_lexer": "ipython3",
   "version": "3.9.13"
  }
 },
 "nbformat": 4,
 "nbformat_minor": 5
}
