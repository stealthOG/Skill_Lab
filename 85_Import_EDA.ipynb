{
  "cells": [
    {
      "cell_type": "markdown",
      "metadata": {
        "id": "view-in-github",
        "colab_type": "text"
      },
      "source": [
        "<a href=\"https://colab.research.google.com/github/stealthOG/Skill_Lab/blob/main/85_Import_EDA.ipynb\" target=\"_parent\"><img src=\"https://colab.research.google.com/assets/colab-badge.svg\" alt=\"Open In Colab\"/></a>"
      ]
    },
    {
      "cell_type": "markdown",
      "id": "ad2bc417-6e5b-4b45-9162-c2d66209771c",
      "metadata": {
        "id": "ad2bc417-6e5b-4b45-9162-c2d66209771c"
      },
      "source": [
        "## '85 Import Cars EDA\n",
        "\n",
        "#### Ekwe Collins Odinaka\n",
        "##### 26th October 2022\n"
      ]
    },
    {
      "cell_type": "markdown",
      "id": "8734b3ce-bdb1-478e-9a58-4a5ba8afde1d",
      "metadata": {
        "id": "8734b3ce-bdb1-478e-9a58-4a5ba8afde1d"
      },
      "source": [
        "This is an exploratory data analysis on the 1985 import cars to see the factors that play a role in determining the car price and how to predict the car price"
      ]
    },
    {
      "cell_type": "markdown",
      "id": "6691d7e3-9f48-4bc1-a559-9acdc874df12",
      "metadata": {
        "id": "6691d7e3-9f48-4bc1-a559-9acdc874df12"
      },
      "source": [
        "### Importing Necessary Libraries and Dataset\n",
        "\n",
        "The first thing to be done is to import the various libraries or modules needed for the exploratory analysis and data visualization"
      ]
    },
    {
      "cell_type": "code",
      "execution_count": null,
      "id": "5f224078-dc55-4f27-b116-58252c05a0c8",
      "metadata": {
        "id": "5f224078-dc55-4f27-b116-58252c05a0c8"
      },
      "outputs": [],
      "source": [
        "import pandas as pd\n",
        "import matplotlib.pylab as plt\n",
        "import seaborn as sns\n",
        "import numpy as np\n",
        "import scipy\n",
        "from scipy.stats.stats import pearsonr\n",
        "from scipy import stats\n",
        "from sklearn.preprocessing import PolynomialFeatures\n",
        "from sklearn.linear_model import LinearRegression\n",
        "from sklearn.preprocessing import StandardScaler\n",
        "from sklearn.pipeline import Pipeline\n",
        "from sklearn.metrics import mean_squared_error"
      ]
    },
    {
      "cell_type": "markdown",
      "id": "9b16e5de-b4af-484f-9814-d2d6b32dfead",
      "metadata": {
        "id": "9b16e5de-b4af-484f-9814-d2d6b32dfead"
      },
      "source": [
        "After importing the necessary dependencies, the next step is to download the data using the `read_csv()` pandas method."
      ]
    },
    {
      "cell_type": "code",
      "execution_count": null,
      "id": "ca8a13ad-4208-4cd4-bd77-c755f7b47790",
      "metadata": {
        "id": "ca8a13ad-4208-4cd4-bd77-c755f7b47790"
      },
      "outputs": [],
      "source": [
        "file_path = 'C:\\\\Users\\\\COLLINS\\\\Downloads\\\\imports-85.data'"
      ]
    },
    {
      "cell_type": "code",
      "execution_count": null,
      "id": "fadd8986-5ca8-4fe0-a01f-eacc223c923c",
      "metadata": {
        "id": "fadd8986-5ca8-4fe0-a01f-eacc223c923c",
        "outputId": "f6b81ab8-4cfe-440a-8545-d7bfadf73d8c"
      },
      "outputs": [
        {
          "data": {
            "text/html": [
              "<div>\n",
              "<style scoped>\n",
              "    .dataframe tbody tr th:only-of-type {\n",
              "        vertical-align: middle;\n",
              "    }\n",
              "\n",
              "    .dataframe tbody tr th {\n",
              "        vertical-align: top;\n",
              "    }\n",
              "\n",
              "    .dataframe thead th {\n",
              "        text-align: right;\n",
              "    }\n",
              "</style>\n",
              "<table border=\"1\" class=\"dataframe\">\n",
              "  <thead>\n",
              "    <tr style=\"text-align: right;\">\n",
              "      <th></th>\n",
              "      <th>0</th>\n",
              "      <th>1</th>\n",
              "      <th>2</th>\n",
              "      <th>3</th>\n",
              "      <th>4</th>\n",
              "      <th>5</th>\n",
              "      <th>6</th>\n",
              "      <th>7</th>\n",
              "      <th>8</th>\n",
              "      <th>9</th>\n",
              "      <th>...</th>\n",
              "      <th>16</th>\n",
              "      <th>17</th>\n",
              "      <th>18</th>\n",
              "      <th>19</th>\n",
              "      <th>20</th>\n",
              "      <th>21</th>\n",
              "      <th>22</th>\n",
              "      <th>23</th>\n",
              "      <th>24</th>\n",
              "      <th>25</th>\n",
              "    </tr>\n",
              "  </thead>\n",
              "  <tbody>\n",
              "    <tr>\n",
              "      <th>0</th>\n",
              "      <td>3</td>\n",
              "      <td>?</td>\n",
              "      <td>alfa-romero</td>\n",
              "      <td>gas</td>\n",
              "      <td>std</td>\n",
              "      <td>two</td>\n",
              "      <td>convertible</td>\n",
              "      <td>rwd</td>\n",
              "      <td>front</td>\n",
              "      <td>88.6</td>\n",
              "      <td>...</td>\n",
              "      <td>130</td>\n",
              "      <td>mpfi</td>\n",
              "      <td>3.47</td>\n",
              "      <td>2.68</td>\n",
              "      <td>9.0</td>\n",
              "      <td>111</td>\n",
              "      <td>5000</td>\n",
              "      <td>21</td>\n",
              "      <td>27</td>\n",
              "      <td>13495</td>\n",
              "    </tr>\n",
              "    <tr>\n",
              "      <th>1</th>\n",
              "      <td>3</td>\n",
              "      <td>?</td>\n",
              "      <td>alfa-romero</td>\n",
              "      <td>gas</td>\n",
              "      <td>std</td>\n",
              "      <td>two</td>\n",
              "      <td>convertible</td>\n",
              "      <td>rwd</td>\n",
              "      <td>front</td>\n",
              "      <td>88.6</td>\n",
              "      <td>...</td>\n",
              "      <td>130</td>\n",
              "      <td>mpfi</td>\n",
              "      <td>3.47</td>\n",
              "      <td>2.68</td>\n",
              "      <td>9.0</td>\n",
              "      <td>111</td>\n",
              "      <td>5000</td>\n",
              "      <td>21</td>\n",
              "      <td>27</td>\n",
              "      <td>16500</td>\n",
              "    </tr>\n",
              "    <tr>\n",
              "      <th>2</th>\n",
              "      <td>1</td>\n",
              "      <td>?</td>\n",
              "      <td>alfa-romero</td>\n",
              "      <td>gas</td>\n",
              "      <td>std</td>\n",
              "      <td>two</td>\n",
              "      <td>hatchback</td>\n",
              "      <td>rwd</td>\n",
              "      <td>front</td>\n",
              "      <td>94.5</td>\n",
              "      <td>...</td>\n",
              "      <td>152</td>\n",
              "      <td>mpfi</td>\n",
              "      <td>2.68</td>\n",
              "      <td>3.47</td>\n",
              "      <td>9.0</td>\n",
              "      <td>154</td>\n",
              "      <td>5000</td>\n",
              "      <td>19</td>\n",
              "      <td>26</td>\n",
              "      <td>16500</td>\n",
              "    </tr>\n",
              "    <tr>\n",
              "      <th>3</th>\n",
              "      <td>2</td>\n",
              "      <td>164</td>\n",
              "      <td>audi</td>\n",
              "      <td>gas</td>\n",
              "      <td>std</td>\n",
              "      <td>four</td>\n",
              "      <td>sedan</td>\n",
              "      <td>fwd</td>\n",
              "      <td>front</td>\n",
              "      <td>99.8</td>\n",
              "      <td>...</td>\n",
              "      <td>109</td>\n",
              "      <td>mpfi</td>\n",
              "      <td>3.19</td>\n",
              "      <td>3.40</td>\n",
              "      <td>10.0</td>\n",
              "      <td>102</td>\n",
              "      <td>5500</td>\n",
              "      <td>24</td>\n",
              "      <td>30</td>\n",
              "      <td>13950</td>\n",
              "    </tr>\n",
              "    <tr>\n",
              "      <th>4</th>\n",
              "      <td>2</td>\n",
              "      <td>164</td>\n",
              "      <td>audi</td>\n",
              "      <td>gas</td>\n",
              "      <td>std</td>\n",
              "      <td>four</td>\n",
              "      <td>sedan</td>\n",
              "      <td>4wd</td>\n",
              "      <td>front</td>\n",
              "      <td>99.4</td>\n",
              "      <td>...</td>\n",
              "      <td>136</td>\n",
              "      <td>mpfi</td>\n",
              "      <td>3.19</td>\n",
              "      <td>3.40</td>\n",
              "      <td>8.0</td>\n",
              "      <td>115</td>\n",
              "      <td>5500</td>\n",
              "      <td>18</td>\n",
              "      <td>22</td>\n",
              "      <td>17450</td>\n",
              "    </tr>\n",
              "    <tr>\n",
              "      <th>5</th>\n",
              "      <td>2</td>\n",
              "      <td>?</td>\n",
              "      <td>audi</td>\n",
              "      <td>gas</td>\n",
              "      <td>std</td>\n",
              "      <td>two</td>\n",
              "      <td>sedan</td>\n",
              "      <td>fwd</td>\n",
              "      <td>front</td>\n",
              "      <td>99.8</td>\n",
              "      <td>...</td>\n",
              "      <td>136</td>\n",
              "      <td>mpfi</td>\n",
              "      <td>3.19</td>\n",
              "      <td>3.40</td>\n",
              "      <td>8.5</td>\n",
              "      <td>110</td>\n",
              "      <td>5500</td>\n",
              "      <td>19</td>\n",
              "      <td>25</td>\n",
              "      <td>15250</td>\n",
              "    </tr>\n",
              "    <tr>\n",
              "      <th>6</th>\n",
              "      <td>1</td>\n",
              "      <td>158</td>\n",
              "      <td>audi</td>\n",
              "      <td>gas</td>\n",
              "      <td>std</td>\n",
              "      <td>four</td>\n",
              "      <td>sedan</td>\n",
              "      <td>fwd</td>\n",
              "      <td>front</td>\n",
              "      <td>105.8</td>\n",
              "      <td>...</td>\n",
              "      <td>136</td>\n",
              "      <td>mpfi</td>\n",
              "      <td>3.19</td>\n",
              "      <td>3.40</td>\n",
              "      <td>8.5</td>\n",
              "      <td>110</td>\n",
              "      <td>5500</td>\n",
              "      <td>19</td>\n",
              "      <td>25</td>\n",
              "      <td>17710</td>\n",
              "    </tr>\n",
              "    <tr>\n",
              "      <th>7</th>\n",
              "      <td>1</td>\n",
              "      <td>?</td>\n",
              "      <td>audi</td>\n",
              "      <td>gas</td>\n",
              "      <td>std</td>\n",
              "      <td>four</td>\n",
              "      <td>wagon</td>\n",
              "      <td>fwd</td>\n",
              "      <td>front</td>\n",
              "      <td>105.8</td>\n",
              "      <td>...</td>\n",
              "      <td>136</td>\n",
              "      <td>mpfi</td>\n",
              "      <td>3.19</td>\n",
              "      <td>3.40</td>\n",
              "      <td>8.5</td>\n",
              "      <td>110</td>\n",
              "      <td>5500</td>\n",
              "      <td>19</td>\n",
              "      <td>25</td>\n",
              "      <td>18920</td>\n",
              "    </tr>\n",
              "    <tr>\n",
              "      <th>8</th>\n",
              "      <td>1</td>\n",
              "      <td>158</td>\n",
              "      <td>audi</td>\n",
              "      <td>gas</td>\n",
              "      <td>turbo</td>\n",
              "      <td>four</td>\n",
              "      <td>sedan</td>\n",
              "      <td>fwd</td>\n",
              "      <td>front</td>\n",
              "      <td>105.8</td>\n",
              "      <td>...</td>\n",
              "      <td>131</td>\n",
              "      <td>mpfi</td>\n",
              "      <td>3.13</td>\n",
              "      <td>3.40</td>\n",
              "      <td>8.3</td>\n",
              "      <td>140</td>\n",
              "      <td>5500</td>\n",
              "      <td>17</td>\n",
              "      <td>20</td>\n",
              "      <td>23875</td>\n",
              "    </tr>\n",
              "    <tr>\n",
              "      <th>9</th>\n",
              "      <td>0</td>\n",
              "      <td>?</td>\n",
              "      <td>audi</td>\n",
              "      <td>gas</td>\n",
              "      <td>turbo</td>\n",
              "      <td>two</td>\n",
              "      <td>hatchback</td>\n",
              "      <td>4wd</td>\n",
              "      <td>front</td>\n",
              "      <td>99.5</td>\n",
              "      <td>...</td>\n",
              "      <td>131</td>\n",
              "      <td>mpfi</td>\n",
              "      <td>3.13</td>\n",
              "      <td>3.40</td>\n",
              "      <td>7.0</td>\n",
              "      <td>160</td>\n",
              "      <td>5500</td>\n",
              "      <td>16</td>\n",
              "      <td>22</td>\n",
              "      <td>?</td>\n",
              "    </tr>\n",
              "  </tbody>\n",
              "</table>\n",
              "<p>10 rows × 26 columns</p>\n",
              "</div>"
            ],
            "text/plain": [
              "   0    1            2    3      4     5            6    7      8      9   \\\n",
              "0   3    ?  alfa-romero  gas    std   two  convertible  rwd  front   88.6   \n",
              "1   3    ?  alfa-romero  gas    std   two  convertible  rwd  front   88.6   \n",
              "2   1    ?  alfa-romero  gas    std   two    hatchback  rwd  front   94.5   \n",
              "3   2  164         audi  gas    std  four        sedan  fwd  front   99.8   \n",
              "4   2  164         audi  gas    std  four        sedan  4wd  front   99.4   \n",
              "5   2    ?         audi  gas    std   two        sedan  fwd  front   99.8   \n",
              "6   1  158         audi  gas    std  four        sedan  fwd  front  105.8   \n",
              "7   1    ?         audi  gas    std  four        wagon  fwd  front  105.8   \n",
              "8   1  158         audi  gas  turbo  four        sedan  fwd  front  105.8   \n",
              "9   0    ?         audi  gas  turbo   two    hatchback  4wd  front   99.5   \n",
              "\n",
              "   ...   16    17    18    19    20   21    22  23  24     25  \n",
              "0  ...  130  mpfi  3.47  2.68   9.0  111  5000  21  27  13495  \n",
              "1  ...  130  mpfi  3.47  2.68   9.0  111  5000  21  27  16500  \n",
              "2  ...  152  mpfi  2.68  3.47   9.0  154  5000  19  26  16500  \n",
              "3  ...  109  mpfi  3.19  3.40  10.0  102  5500  24  30  13950  \n",
              "4  ...  136  mpfi  3.19  3.40   8.0  115  5500  18  22  17450  \n",
              "5  ...  136  mpfi  3.19  3.40   8.5  110  5500  19  25  15250  \n",
              "6  ...  136  mpfi  3.19  3.40   8.5  110  5500  19  25  17710  \n",
              "7  ...  136  mpfi  3.19  3.40   8.5  110  5500  19  25  18920  \n",
              "8  ...  131  mpfi  3.13  3.40   8.3  140  5500  17  20  23875  \n",
              "9  ...  131  mpfi  3.13  3.40   7.0  160  5500  16  22      ?  \n",
              "\n",
              "[10 rows x 26 columns]"
            ]
          },
          "execution_count": 3,
          "metadata": {},
          "output_type": "execute_result"
        }
      ],
      "source": [
        "import_data = pd.read_csv(file_path, header=None)\n",
        "import_data.head(10)"
      ]
    },
    {
      "cell_type": "markdown",
      "id": "a4d0f400-9cf3-4a49-8264-bf40de5bc2a9",
      "metadata": {
        "id": "a4d0f400-9cf3-4a49-8264-bf40de5bc2a9"
      },
      "source": [
        "The dataset has no header, but the headers has been defined in a list with variable name 'headers'. We save the list, the input the elements of the list as column headers."
      ]
    },
    {
      "cell_type": "code",
      "execution_count": null,
      "id": "ab8f76e2-7b33-4238-b37b-632d26b6e8cc",
      "metadata": {
        "id": "ab8f76e2-7b33-4238-b37b-632d26b6e8cc"
      },
      "outputs": [],
      "source": [
        "headers = [\"symboling\",\"normalized-losses\",\"make\",\"fuel-type\",\"aspiration\", \"num-of-doors\",\"body-style\",\n",
        "         \"drive-wheels\",\"engine-location\",\"wheel-base\", \"length\",\"width\",\"height\",\"curb-weight\",\"engine-type\",\n",
        "         \"num-of-cylinders\", \"engine-size\",\"fuel-system\",\"bore\",\"stroke\",\"compression-ratio\",\"horsepower\",\n",
        "         \"peak-rpm\",\"city-mpg\",\"highway-mpg\",\"price\"]"
      ]
    },
    {
      "cell_type": "code",
      "execution_count": null,
      "id": "7279052e-eb44-4e4f-aaf3-f3bca92232f2",
      "metadata": {
        "id": "7279052e-eb44-4e4f-aaf3-f3bca92232f2",
        "outputId": "a2c5128d-d803-4a68-c417-09de63903fb4"
      },
      "outputs": [
        {
          "data": {
            "text/html": [
              "<div>\n",
              "<style scoped>\n",
              "    .dataframe tbody tr th:only-of-type {\n",
              "        vertical-align: middle;\n",
              "    }\n",
              "\n",
              "    .dataframe tbody tr th {\n",
              "        vertical-align: top;\n",
              "    }\n",
              "\n",
              "    .dataframe thead th {\n",
              "        text-align: right;\n",
              "    }\n",
              "</style>\n",
              "<table border=\"1\" class=\"dataframe\">\n",
              "  <thead>\n",
              "    <tr style=\"text-align: right;\">\n",
              "      <th></th>\n",
              "      <th>symboling</th>\n",
              "      <th>normalized-losses</th>\n",
              "      <th>make</th>\n",
              "      <th>fuel-type</th>\n",
              "      <th>aspiration</th>\n",
              "      <th>num-of-doors</th>\n",
              "      <th>body-style</th>\n",
              "      <th>drive-wheels</th>\n",
              "      <th>engine-location</th>\n",
              "      <th>wheel-base</th>\n",
              "      <th>...</th>\n",
              "      <th>engine-size</th>\n",
              "      <th>fuel-system</th>\n",
              "      <th>bore</th>\n",
              "      <th>stroke</th>\n",
              "      <th>compression-ratio</th>\n",
              "      <th>horsepower</th>\n",
              "      <th>peak-rpm</th>\n",
              "      <th>city-mpg</th>\n",
              "      <th>highway-mpg</th>\n",
              "      <th>price</th>\n",
              "    </tr>\n",
              "  </thead>\n",
              "  <tbody>\n",
              "    <tr>\n",
              "      <th>0</th>\n",
              "      <td>3</td>\n",
              "      <td>?</td>\n",
              "      <td>alfa-romero</td>\n",
              "      <td>gas</td>\n",
              "      <td>std</td>\n",
              "      <td>two</td>\n",
              "      <td>convertible</td>\n",
              "      <td>rwd</td>\n",
              "      <td>front</td>\n",
              "      <td>88.6</td>\n",
              "      <td>...</td>\n",
              "      <td>130</td>\n",
              "      <td>mpfi</td>\n",
              "      <td>3.47</td>\n",
              "      <td>2.68</td>\n",
              "      <td>9.0</td>\n",
              "      <td>111</td>\n",
              "      <td>5000</td>\n",
              "      <td>21</td>\n",
              "      <td>27</td>\n",
              "      <td>13495</td>\n",
              "    </tr>\n",
              "    <tr>\n",
              "      <th>1</th>\n",
              "      <td>3</td>\n",
              "      <td>?</td>\n",
              "      <td>alfa-romero</td>\n",
              "      <td>gas</td>\n",
              "      <td>std</td>\n",
              "      <td>two</td>\n",
              "      <td>convertible</td>\n",
              "      <td>rwd</td>\n",
              "      <td>front</td>\n",
              "      <td>88.6</td>\n",
              "      <td>...</td>\n",
              "      <td>130</td>\n",
              "      <td>mpfi</td>\n",
              "      <td>3.47</td>\n",
              "      <td>2.68</td>\n",
              "      <td>9.0</td>\n",
              "      <td>111</td>\n",
              "      <td>5000</td>\n",
              "      <td>21</td>\n",
              "      <td>27</td>\n",
              "      <td>16500</td>\n",
              "    </tr>\n",
              "    <tr>\n",
              "      <th>2</th>\n",
              "      <td>1</td>\n",
              "      <td>?</td>\n",
              "      <td>alfa-romero</td>\n",
              "      <td>gas</td>\n",
              "      <td>std</td>\n",
              "      <td>two</td>\n",
              "      <td>hatchback</td>\n",
              "      <td>rwd</td>\n",
              "      <td>front</td>\n",
              "      <td>94.5</td>\n",
              "      <td>...</td>\n",
              "      <td>152</td>\n",
              "      <td>mpfi</td>\n",
              "      <td>2.68</td>\n",
              "      <td>3.47</td>\n",
              "      <td>9.0</td>\n",
              "      <td>154</td>\n",
              "      <td>5000</td>\n",
              "      <td>19</td>\n",
              "      <td>26</td>\n",
              "      <td>16500</td>\n",
              "    </tr>\n",
              "    <tr>\n",
              "      <th>3</th>\n",
              "      <td>2</td>\n",
              "      <td>164</td>\n",
              "      <td>audi</td>\n",
              "      <td>gas</td>\n",
              "      <td>std</td>\n",
              "      <td>four</td>\n",
              "      <td>sedan</td>\n",
              "      <td>fwd</td>\n",
              "      <td>front</td>\n",
              "      <td>99.8</td>\n",
              "      <td>...</td>\n",
              "      <td>109</td>\n",
              "      <td>mpfi</td>\n",
              "      <td>3.19</td>\n",
              "      <td>3.40</td>\n",
              "      <td>10.0</td>\n",
              "      <td>102</td>\n",
              "      <td>5500</td>\n",
              "      <td>24</td>\n",
              "      <td>30</td>\n",
              "      <td>13950</td>\n",
              "    </tr>\n",
              "    <tr>\n",
              "      <th>4</th>\n",
              "      <td>2</td>\n",
              "      <td>164</td>\n",
              "      <td>audi</td>\n",
              "      <td>gas</td>\n",
              "      <td>std</td>\n",
              "      <td>four</td>\n",
              "      <td>sedan</td>\n",
              "      <td>4wd</td>\n",
              "      <td>front</td>\n",
              "      <td>99.4</td>\n",
              "      <td>...</td>\n",
              "      <td>136</td>\n",
              "      <td>mpfi</td>\n",
              "      <td>3.19</td>\n",
              "      <td>3.40</td>\n",
              "      <td>8.0</td>\n",
              "      <td>115</td>\n",
              "      <td>5500</td>\n",
              "      <td>18</td>\n",
              "      <td>22</td>\n",
              "      <td>17450</td>\n",
              "    </tr>\n",
              "  </tbody>\n",
              "</table>\n",
              "<p>5 rows × 26 columns</p>\n",
              "</div>"
            ],
            "text/plain": [
              "   symboling normalized-losses         make fuel-type aspiration num-of-doors  \\\n",
              "0          3                 ?  alfa-romero       gas        std          two   \n",
              "1          3                 ?  alfa-romero       gas        std          two   \n",
              "2          1                 ?  alfa-romero       gas        std          two   \n",
              "3          2               164         audi       gas        std         four   \n",
              "4          2               164         audi       gas        std         four   \n",
              "\n",
              "    body-style drive-wheels engine-location  wheel-base  ...  engine-size  \\\n",
              "0  convertible          rwd           front        88.6  ...          130   \n",
              "1  convertible          rwd           front        88.6  ...          130   \n",
              "2    hatchback          rwd           front        94.5  ...          152   \n",
              "3        sedan          fwd           front        99.8  ...          109   \n",
              "4        sedan          4wd           front        99.4  ...          136   \n",
              "\n",
              "   fuel-system  bore  stroke compression-ratio horsepower  peak-rpm city-mpg  \\\n",
              "0         mpfi  3.47    2.68               9.0        111      5000       21   \n",
              "1         mpfi  3.47    2.68               9.0        111      5000       21   \n",
              "2         mpfi  2.68    3.47               9.0        154      5000       19   \n",
              "3         mpfi  3.19    3.40              10.0        102      5500       24   \n",
              "4         mpfi  3.19    3.40               8.0        115      5500       18   \n",
              "\n",
              "  highway-mpg  price  \n",
              "0          27  13495  \n",
              "1          27  16500  \n",
              "2          26  16500  \n",
              "3          30  13950  \n",
              "4          22  17450  \n",
              "\n",
              "[5 rows x 26 columns]"
            ]
          },
          "execution_count": 5,
          "metadata": {},
          "output_type": "execute_result"
        }
      ],
      "source": [
        "import_data.columns=headers\n",
        "import_data.head(5)"
      ]
    },
    {
      "cell_type": "markdown",
      "id": "961374cb-7cdb-4f1c-a6dc-cd761a1706ad",
      "metadata": {
        "id": "961374cb-7cdb-4f1c-a6dc-cd761a1706ad"
      },
      "source": [
        "The headers element has been added to the dataset as column heads. Next is to run a statistical summary on the data usng the `.describe()` method"
      ]
    },
    {
      "cell_type": "code",
      "execution_count": null,
      "id": "6391a6cb-28e4-4f69-9c08-53202d29a8bc",
      "metadata": {
        "id": "6391a6cb-28e4-4f69-9c08-53202d29a8bc",
        "outputId": "75098f9c-3641-4d93-ce90-9bf0f811c105"
      },
      "outputs": [
        {
          "data": {
            "text/html": [
              "<div>\n",
              "<style scoped>\n",
              "    .dataframe tbody tr th:only-of-type {\n",
              "        vertical-align: middle;\n",
              "    }\n",
              "\n",
              "    .dataframe tbody tr th {\n",
              "        vertical-align: top;\n",
              "    }\n",
              "\n",
              "    .dataframe thead th {\n",
              "        text-align: right;\n",
              "    }\n",
              "</style>\n",
              "<table border=\"1\" class=\"dataframe\">\n",
              "  <thead>\n",
              "    <tr style=\"text-align: right;\">\n",
              "      <th></th>\n",
              "      <th>symboling</th>\n",
              "      <th>wheel-base</th>\n",
              "      <th>length</th>\n",
              "      <th>width</th>\n",
              "      <th>height</th>\n",
              "      <th>curb-weight</th>\n",
              "      <th>engine-size</th>\n",
              "      <th>compression-ratio</th>\n",
              "      <th>city-mpg</th>\n",
              "      <th>highway-mpg</th>\n",
              "    </tr>\n",
              "  </thead>\n",
              "  <tbody>\n",
              "    <tr>\n",
              "      <th>count</th>\n",
              "      <td>205.000000</td>\n",
              "      <td>205.000000</td>\n",
              "      <td>205.000000</td>\n",
              "      <td>205.000000</td>\n",
              "      <td>205.000000</td>\n",
              "      <td>205.000000</td>\n",
              "      <td>205.000000</td>\n",
              "      <td>205.000000</td>\n",
              "      <td>205.000000</td>\n",
              "      <td>205.000000</td>\n",
              "    </tr>\n",
              "    <tr>\n",
              "      <th>mean</th>\n",
              "      <td>0.834146</td>\n",
              "      <td>98.756585</td>\n",
              "      <td>174.049268</td>\n",
              "      <td>65.907805</td>\n",
              "      <td>53.724878</td>\n",
              "      <td>2555.565854</td>\n",
              "      <td>126.907317</td>\n",
              "      <td>10.142537</td>\n",
              "      <td>25.219512</td>\n",
              "      <td>30.751220</td>\n",
              "    </tr>\n",
              "    <tr>\n",
              "      <th>std</th>\n",
              "      <td>1.245307</td>\n",
              "      <td>6.021776</td>\n",
              "      <td>12.337289</td>\n",
              "      <td>2.145204</td>\n",
              "      <td>2.443522</td>\n",
              "      <td>520.680204</td>\n",
              "      <td>41.642693</td>\n",
              "      <td>3.972040</td>\n",
              "      <td>6.542142</td>\n",
              "      <td>6.886443</td>\n",
              "    </tr>\n",
              "    <tr>\n",
              "      <th>min</th>\n",
              "      <td>-2.000000</td>\n",
              "      <td>86.600000</td>\n",
              "      <td>141.100000</td>\n",
              "      <td>60.300000</td>\n",
              "      <td>47.800000</td>\n",
              "      <td>1488.000000</td>\n",
              "      <td>61.000000</td>\n",
              "      <td>7.000000</td>\n",
              "      <td>13.000000</td>\n",
              "      <td>16.000000</td>\n",
              "    </tr>\n",
              "    <tr>\n",
              "      <th>25%</th>\n",
              "      <td>0.000000</td>\n",
              "      <td>94.500000</td>\n",
              "      <td>166.300000</td>\n",
              "      <td>64.100000</td>\n",
              "      <td>52.000000</td>\n",
              "      <td>2145.000000</td>\n",
              "      <td>97.000000</td>\n",
              "      <td>8.600000</td>\n",
              "      <td>19.000000</td>\n",
              "      <td>25.000000</td>\n",
              "    </tr>\n",
              "    <tr>\n",
              "      <th>50%</th>\n",
              "      <td>1.000000</td>\n",
              "      <td>97.000000</td>\n",
              "      <td>173.200000</td>\n",
              "      <td>65.500000</td>\n",
              "      <td>54.100000</td>\n",
              "      <td>2414.000000</td>\n",
              "      <td>120.000000</td>\n",
              "      <td>9.000000</td>\n",
              "      <td>24.000000</td>\n",
              "      <td>30.000000</td>\n",
              "    </tr>\n",
              "    <tr>\n",
              "      <th>75%</th>\n",
              "      <td>2.000000</td>\n",
              "      <td>102.400000</td>\n",
              "      <td>183.100000</td>\n",
              "      <td>66.900000</td>\n",
              "      <td>55.500000</td>\n",
              "      <td>2935.000000</td>\n",
              "      <td>141.000000</td>\n",
              "      <td>9.400000</td>\n",
              "      <td>30.000000</td>\n",
              "      <td>34.000000</td>\n",
              "    </tr>\n",
              "    <tr>\n",
              "      <th>max</th>\n",
              "      <td>3.000000</td>\n",
              "      <td>120.900000</td>\n",
              "      <td>208.100000</td>\n",
              "      <td>72.300000</td>\n",
              "      <td>59.800000</td>\n",
              "      <td>4066.000000</td>\n",
              "      <td>326.000000</td>\n",
              "      <td>23.000000</td>\n",
              "      <td>49.000000</td>\n",
              "      <td>54.000000</td>\n",
              "    </tr>\n",
              "  </tbody>\n",
              "</table>\n",
              "</div>"
            ],
            "text/plain": [
              "        symboling  wheel-base      length       width      height  \\\n",
              "count  205.000000  205.000000  205.000000  205.000000  205.000000   \n",
              "mean     0.834146   98.756585  174.049268   65.907805   53.724878   \n",
              "std      1.245307    6.021776   12.337289    2.145204    2.443522   \n",
              "min     -2.000000   86.600000  141.100000   60.300000   47.800000   \n",
              "25%      0.000000   94.500000  166.300000   64.100000   52.000000   \n",
              "50%      1.000000   97.000000  173.200000   65.500000   54.100000   \n",
              "75%      2.000000  102.400000  183.100000   66.900000   55.500000   \n",
              "max      3.000000  120.900000  208.100000   72.300000   59.800000   \n",
              "\n",
              "       curb-weight  engine-size  compression-ratio    city-mpg  highway-mpg  \n",
              "count   205.000000   205.000000         205.000000  205.000000   205.000000  \n",
              "mean   2555.565854   126.907317          10.142537   25.219512    30.751220  \n",
              "std     520.680204    41.642693           3.972040    6.542142     6.886443  \n",
              "min    1488.000000    61.000000           7.000000   13.000000    16.000000  \n",
              "25%    2145.000000    97.000000           8.600000   19.000000    25.000000  \n",
              "50%    2414.000000   120.000000           9.000000   24.000000    30.000000  \n",
              "75%    2935.000000   141.000000           9.400000   30.000000    34.000000  \n",
              "max    4066.000000   326.000000          23.000000   49.000000    54.000000  "
            ]
          },
          "execution_count": 6,
          "metadata": {},
          "output_type": "execute_result"
        }
      ],
      "source": [
        "import_data.describe()"
      ]
    },
    {
      "cell_type": "code",
      "execution_count": null,
      "id": "eaf22ce6-f5c9-4408-bf3e-3eee51000d48",
      "metadata": {
        "id": "eaf22ce6-f5c9-4408-bf3e-3eee51000d48",
        "outputId": "342800ce-7b3a-4c90-c5cf-e8405795d592"
      },
      "outputs": [
        {
          "data": {
            "text/html": [
              "<div>\n",
              "<style scoped>\n",
              "    .dataframe tbody tr th:only-of-type {\n",
              "        vertical-align: middle;\n",
              "    }\n",
              "\n",
              "    .dataframe tbody tr th {\n",
              "        vertical-align: top;\n",
              "    }\n",
              "\n",
              "    .dataframe thead th {\n",
              "        text-align: right;\n",
              "    }\n",
              "</style>\n",
              "<table border=\"1\" class=\"dataframe\">\n",
              "  <thead>\n",
              "    <tr style=\"text-align: right;\">\n",
              "      <th></th>\n",
              "      <th>symboling</th>\n",
              "      <th>normalized-losses</th>\n",
              "      <th>make</th>\n",
              "      <th>fuel-type</th>\n",
              "      <th>aspiration</th>\n",
              "      <th>num-of-doors</th>\n",
              "      <th>body-style</th>\n",
              "      <th>drive-wheels</th>\n",
              "      <th>engine-location</th>\n",
              "      <th>wheel-base</th>\n",
              "      <th>...</th>\n",
              "      <th>engine-size</th>\n",
              "      <th>fuel-system</th>\n",
              "      <th>bore</th>\n",
              "      <th>stroke</th>\n",
              "      <th>compression-ratio</th>\n",
              "      <th>horsepower</th>\n",
              "      <th>peak-rpm</th>\n",
              "      <th>city-mpg</th>\n",
              "      <th>highway-mpg</th>\n",
              "      <th>price</th>\n",
              "    </tr>\n",
              "  </thead>\n",
              "  <tbody>\n",
              "    <tr>\n",
              "      <th>count</th>\n",
              "      <td>205.000000</td>\n",
              "      <td>205</td>\n",
              "      <td>205</td>\n",
              "      <td>205</td>\n",
              "      <td>205</td>\n",
              "      <td>205</td>\n",
              "      <td>205</td>\n",
              "      <td>205</td>\n",
              "      <td>205</td>\n",
              "      <td>205.000000</td>\n",
              "      <td>...</td>\n",
              "      <td>205.000000</td>\n",
              "      <td>205</td>\n",
              "      <td>205</td>\n",
              "      <td>205</td>\n",
              "      <td>205.000000</td>\n",
              "      <td>205</td>\n",
              "      <td>205</td>\n",
              "      <td>205.000000</td>\n",
              "      <td>205.000000</td>\n",
              "      <td>205</td>\n",
              "    </tr>\n",
              "    <tr>\n",
              "      <th>unique</th>\n",
              "      <td>NaN</td>\n",
              "      <td>52</td>\n",
              "      <td>22</td>\n",
              "      <td>2</td>\n",
              "      <td>2</td>\n",
              "      <td>3</td>\n",
              "      <td>5</td>\n",
              "      <td>3</td>\n",
              "      <td>2</td>\n",
              "      <td>NaN</td>\n",
              "      <td>...</td>\n",
              "      <td>NaN</td>\n",
              "      <td>8</td>\n",
              "      <td>39</td>\n",
              "      <td>37</td>\n",
              "      <td>NaN</td>\n",
              "      <td>60</td>\n",
              "      <td>24</td>\n",
              "      <td>NaN</td>\n",
              "      <td>NaN</td>\n",
              "      <td>187</td>\n",
              "    </tr>\n",
              "    <tr>\n",
              "      <th>top</th>\n",
              "      <td>NaN</td>\n",
              "      <td>?</td>\n",
              "      <td>toyota</td>\n",
              "      <td>gas</td>\n",
              "      <td>std</td>\n",
              "      <td>four</td>\n",
              "      <td>sedan</td>\n",
              "      <td>fwd</td>\n",
              "      <td>front</td>\n",
              "      <td>NaN</td>\n",
              "      <td>...</td>\n",
              "      <td>NaN</td>\n",
              "      <td>mpfi</td>\n",
              "      <td>3.62</td>\n",
              "      <td>3.40</td>\n",
              "      <td>NaN</td>\n",
              "      <td>68</td>\n",
              "      <td>5500</td>\n",
              "      <td>NaN</td>\n",
              "      <td>NaN</td>\n",
              "      <td>?</td>\n",
              "    </tr>\n",
              "    <tr>\n",
              "      <th>freq</th>\n",
              "      <td>NaN</td>\n",
              "      <td>41</td>\n",
              "      <td>32</td>\n",
              "      <td>185</td>\n",
              "      <td>168</td>\n",
              "      <td>114</td>\n",
              "      <td>96</td>\n",
              "      <td>120</td>\n",
              "      <td>202</td>\n",
              "      <td>NaN</td>\n",
              "      <td>...</td>\n",
              "      <td>NaN</td>\n",
              "      <td>94</td>\n",
              "      <td>23</td>\n",
              "      <td>20</td>\n",
              "      <td>NaN</td>\n",
              "      <td>19</td>\n",
              "      <td>37</td>\n",
              "      <td>NaN</td>\n",
              "      <td>NaN</td>\n",
              "      <td>4</td>\n",
              "    </tr>\n",
              "    <tr>\n",
              "      <th>mean</th>\n",
              "      <td>0.834146</td>\n",
              "      <td>NaN</td>\n",
              "      <td>NaN</td>\n",
              "      <td>NaN</td>\n",
              "      <td>NaN</td>\n",
              "      <td>NaN</td>\n",
              "      <td>NaN</td>\n",
              "      <td>NaN</td>\n",
              "      <td>NaN</td>\n",
              "      <td>98.756585</td>\n",
              "      <td>...</td>\n",
              "      <td>126.907317</td>\n",
              "      <td>NaN</td>\n",
              "      <td>NaN</td>\n",
              "      <td>NaN</td>\n",
              "      <td>10.142537</td>\n",
              "      <td>NaN</td>\n",
              "      <td>NaN</td>\n",
              "      <td>25.219512</td>\n",
              "      <td>30.751220</td>\n",
              "      <td>NaN</td>\n",
              "    </tr>\n",
              "    <tr>\n",
              "      <th>std</th>\n",
              "      <td>1.245307</td>\n",
              "      <td>NaN</td>\n",
              "      <td>NaN</td>\n",
              "      <td>NaN</td>\n",
              "      <td>NaN</td>\n",
              "      <td>NaN</td>\n",
              "      <td>NaN</td>\n",
              "      <td>NaN</td>\n",
              "      <td>NaN</td>\n",
              "      <td>6.021776</td>\n",
              "      <td>...</td>\n",
              "      <td>41.642693</td>\n",
              "      <td>NaN</td>\n",
              "      <td>NaN</td>\n",
              "      <td>NaN</td>\n",
              "      <td>3.972040</td>\n",
              "      <td>NaN</td>\n",
              "      <td>NaN</td>\n",
              "      <td>6.542142</td>\n",
              "      <td>6.886443</td>\n",
              "      <td>NaN</td>\n",
              "    </tr>\n",
              "    <tr>\n",
              "      <th>min</th>\n",
              "      <td>-2.000000</td>\n",
              "      <td>NaN</td>\n",
              "      <td>NaN</td>\n",
              "      <td>NaN</td>\n",
              "      <td>NaN</td>\n",
              "      <td>NaN</td>\n",
              "      <td>NaN</td>\n",
              "      <td>NaN</td>\n",
              "      <td>NaN</td>\n",
              "      <td>86.600000</td>\n",
              "      <td>...</td>\n",
              "      <td>61.000000</td>\n",
              "      <td>NaN</td>\n",
              "      <td>NaN</td>\n",
              "      <td>NaN</td>\n",
              "      <td>7.000000</td>\n",
              "      <td>NaN</td>\n",
              "      <td>NaN</td>\n",
              "      <td>13.000000</td>\n",
              "      <td>16.000000</td>\n",
              "      <td>NaN</td>\n",
              "    </tr>\n",
              "    <tr>\n",
              "      <th>25%</th>\n",
              "      <td>0.000000</td>\n",
              "      <td>NaN</td>\n",
              "      <td>NaN</td>\n",
              "      <td>NaN</td>\n",
              "      <td>NaN</td>\n",
              "      <td>NaN</td>\n",
              "      <td>NaN</td>\n",
              "      <td>NaN</td>\n",
              "      <td>NaN</td>\n",
              "      <td>94.500000</td>\n",
              "      <td>...</td>\n",
              "      <td>97.000000</td>\n",
              "      <td>NaN</td>\n",
              "      <td>NaN</td>\n",
              "      <td>NaN</td>\n",
              "      <td>8.600000</td>\n",
              "      <td>NaN</td>\n",
              "      <td>NaN</td>\n",
              "      <td>19.000000</td>\n",
              "      <td>25.000000</td>\n",
              "      <td>NaN</td>\n",
              "    </tr>\n",
              "    <tr>\n",
              "      <th>50%</th>\n",
              "      <td>1.000000</td>\n",
              "      <td>NaN</td>\n",
              "      <td>NaN</td>\n",
              "      <td>NaN</td>\n",
              "      <td>NaN</td>\n",
              "      <td>NaN</td>\n",
              "      <td>NaN</td>\n",
              "      <td>NaN</td>\n",
              "      <td>NaN</td>\n",
              "      <td>97.000000</td>\n",
              "      <td>...</td>\n",
              "      <td>120.000000</td>\n",
              "      <td>NaN</td>\n",
              "      <td>NaN</td>\n",
              "      <td>NaN</td>\n",
              "      <td>9.000000</td>\n",
              "      <td>NaN</td>\n",
              "      <td>NaN</td>\n",
              "      <td>24.000000</td>\n",
              "      <td>30.000000</td>\n",
              "      <td>NaN</td>\n",
              "    </tr>\n",
              "    <tr>\n",
              "      <th>75%</th>\n",
              "      <td>2.000000</td>\n",
              "      <td>NaN</td>\n",
              "      <td>NaN</td>\n",
              "      <td>NaN</td>\n",
              "      <td>NaN</td>\n",
              "      <td>NaN</td>\n",
              "      <td>NaN</td>\n",
              "      <td>NaN</td>\n",
              "      <td>NaN</td>\n",
              "      <td>102.400000</td>\n",
              "      <td>...</td>\n",
              "      <td>141.000000</td>\n",
              "      <td>NaN</td>\n",
              "      <td>NaN</td>\n",
              "      <td>NaN</td>\n",
              "      <td>9.400000</td>\n",
              "      <td>NaN</td>\n",
              "      <td>NaN</td>\n",
              "      <td>30.000000</td>\n",
              "      <td>34.000000</td>\n",
              "      <td>NaN</td>\n",
              "    </tr>\n",
              "    <tr>\n",
              "      <th>max</th>\n",
              "      <td>3.000000</td>\n",
              "      <td>NaN</td>\n",
              "      <td>NaN</td>\n",
              "      <td>NaN</td>\n",
              "      <td>NaN</td>\n",
              "      <td>NaN</td>\n",
              "      <td>NaN</td>\n",
              "      <td>NaN</td>\n",
              "      <td>NaN</td>\n",
              "      <td>120.900000</td>\n",
              "      <td>...</td>\n",
              "      <td>326.000000</td>\n",
              "      <td>NaN</td>\n",
              "      <td>NaN</td>\n",
              "      <td>NaN</td>\n",
              "      <td>23.000000</td>\n",
              "      <td>NaN</td>\n",
              "      <td>NaN</td>\n",
              "      <td>49.000000</td>\n",
              "      <td>54.000000</td>\n",
              "      <td>NaN</td>\n",
              "    </tr>\n",
              "  </tbody>\n",
              "</table>\n",
              "<p>11 rows × 26 columns</p>\n",
              "</div>"
            ],
            "text/plain": [
              "         symboling normalized-losses    make fuel-type aspiration  \\\n",
              "count   205.000000               205     205       205        205   \n",
              "unique         NaN                52      22         2          2   \n",
              "top            NaN                 ?  toyota       gas        std   \n",
              "freq           NaN                41      32       185        168   \n",
              "mean      0.834146               NaN     NaN       NaN        NaN   \n",
              "std       1.245307               NaN     NaN       NaN        NaN   \n",
              "min      -2.000000               NaN     NaN       NaN        NaN   \n",
              "25%       0.000000               NaN     NaN       NaN        NaN   \n",
              "50%       1.000000               NaN     NaN       NaN        NaN   \n",
              "75%       2.000000               NaN     NaN       NaN        NaN   \n",
              "max       3.000000               NaN     NaN       NaN        NaN   \n",
              "\n",
              "       num-of-doors body-style drive-wheels engine-location  wheel-base  ...  \\\n",
              "count           205        205          205             205  205.000000  ...   \n",
              "unique            3          5            3               2         NaN  ...   \n",
              "top            four      sedan          fwd           front         NaN  ...   \n",
              "freq            114         96          120             202         NaN  ...   \n",
              "mean            NaN        NaN          NaN             NaN   98.756585  ...   \n",
              "std             NaN        NaN          NaN             NaN    6.021776  ...   \n",
              "min             NaN        NaN          NaN             NaN   86.600000  ...   \n",
              "25%             NaN        NaN          NaN             NaN   94.500000  ...   \n",
              "50%             NaN        NaN          NaN             NaN   97.000000  ...   \n",
              "75%             NaN        NaN          NaN             NaN  102.400000  ...   \n",
              "max             NaN        NaN          NaN             NaN  120.900000  ...   \n",
              "\n",
              "        engine-size  fuel-system  bore  stroke compression-ratio horsepower  \\\n",
              "count    205.000000          205   205     205        205.000000        205   \n",
              "unique          NaN            8    39      37               NaN         60   \n",
              "top             NaN         mpfi  3.62    3.40               NaN         68   \n",
              "freq            NaN           94    23      20               NaN         19   \n",
              "mean     126.907317          NaN   NaN     NaN         10.142537        NaN   \n",
              "std       41.642693          NaN   NaN     NaN          3.972040        NaN   \n",
              "min       61.000000          NaN   NaN     NaN          7.000000        NaN   \n",
              "25%       97.000000          NaN   NaN     NaN          8.600000        NaN   \n",
              "50%      120.000000          NaN   NaN     NaN          9.000000        NaN   \n",
              "75%      141.000000          NaN   NaN     NaN          9.400000        NaN   \n",
              "max      326.000000          NaN   NaN     NaN         23.000000        NaN   \n",
              "\n",
              "        peak-rpm    city-mpg highway-mpg price  \n",
              "count        205  205.000000  205.000000   205  \n",
              "unique        24         NaN         NaN   187  \n",
              "top         5500         NaN         NaN     ?  \n",
              "freq          37         NaN         NaN     4  \n",
              "mean         NaN   25.219512   30.751220   NaN  \n",
              "std          NaN    6.542142    6.886443   NaN  \n",
              "min          NaN   13.000000   16.000000   NaN  \n",
              "25%          NaN   19.000000   25.000000   NaN  \n",
              "50%          NaN   24.000000   30.000000   NaN  \n",
              "75%          NaN   30.000000   34.000000   NaN  \n",
              "max          NaN   49.000000   54.000000   NaN  \n",
              "\n",
              "[11 rows x 26 columns]"
            ]
          },
          "execution_count": 7,
          "metadata": {},
          "output_type": "execute_result"
        }
      ],
      "source": [
        "import_data.describe(include='all')"
      ]
    },
    {
      "cell_type": "markdown",
      "id": "0fe5d44c-88d7-4815-b4de-7a3592ff8c65",
      "metadata": {
        "id": "0fe5d44c-88d7-4815-b4de-7a3592ff8c65"
      },
      "source": [
        "### Data Cleaning\n",
        "\n",
        "Data Cleaning or pre-processing is a vital aspect of data analysis. Here missing values are checked for are replaced or dropped. The various datatypes are also confirmed to see that they suit the column purpose. Data wrangling is performed if the initial data format is not suited for the proposed analysis."
      ]
    },
    {
      "cell_type": "markdown",
      "id": "257b6d1b-5ec1-461b-bdf1-7777b1369225",
      "metadata": {
        "id": "257b6d1b-5ec1-461b-bdf1-7777b1369225"
      },
      "source": [
        "Missing values denoted with the question sign `?` will be replaced with `Nan` meaning not a number using the `.replace()` method"
      ]
    },
    {
      "cell_type": "code",
      "execution_count": null,
      "id": "269be560-fa20-4a42-9439-caf1535dab0d",
      "metadata": {
        "id": "269be560-fa20-4a42-9439-caf1535dab0d",
        "outputId": "f17976c5-9b3c-4557-cd5f-4266ac527580"
      },
      "outputs": [
        {
          "data": {
            "text/html": [
              "<div>\n",
              "<style scoped>\n",
              "    .dataframe tbody tr th:only-of-type {\n",
              "        vertical-align: middle;\n",
              "    }\n",
              "\n",
              "    .dataframe tbody tr th {\n",
              "        vertical-align: top;\n",
              "    }\n",
              "\n",
              "    .dataframe thead th {\n",
              "        text-align: right;\n",
              "    }\n",
              "</style>\n",
              "<table border=\"1\" class=\"dataframe\">\n",
              "  <thead>\n",
              "    <tr style=\"text-align: right;\">\n",
              "      <th></th>\n",
              "      <th>symboling</th>\n",
              "      <th>normalized-losses</th>\n",
              "      <th>make</th>\n",
              "      <th>fuel-type</th>\n",
              "      <th>aspiration</th>\n",
              "      <th>num-of-doors</th>\n",
              "      <th>body-style</th>\n",
              "      <th>drive-wheels</th>\n",
              "      <th>engine-location</th>\n",
              "      <th>wheel-base</th>\n",
              "      <th>...</th>\n",
              "      <th>engine-size</th>\n",
              "      <th>fuel-system</th>\n",
              "      <th>bore</th>\n",
              "      <th>stroke</th>\n",
              "      <th>compression-ratio</th>\n",
              "      <th>horsepower</th>\n",
              "      <th>peak-rpm</th>\n",
              "      <th>city-mpg</th>\n",
              "      <th>highway-mpg</th>\n",
              "      <th>price</th>\n",
              "    </tr>\n",
              "  </thead>\n",
              "  <tbody>\n",
              "    <tr>\n",
              "      <th>0</th>\n",
              "      <td>3</td>\n",
              "      <td>NaN</td>\n",
              "      <td>alfa-romero</td>\n",
              "      <td>gas</td>\n",
              "      <td>std</td>\n",
              "      <td>two</td>\n",
              "      <td>convertible</td>\n",
              "      <td>rwd</td>\n",
              "      <td>front</td>\n",
              "      <td>88.6</td>\n",
              "      <td>...</td>\n",
              "      <td>130</td>\n",
              "      <td>mpfi</td>\n",
              "      <td>3.47</td>\n",
              "      <td>2.68</td>\n",
              "      <td>9.0</td>\n",
              "      <td>111</td>\n",
              "      <td>5000</td>\n",
              "      <td>21</td>\n",
              "      <td>27</td>\n",
              "      <td>13495</td>\n",
              "    </tr>\n",
              "    <tr>\n",
              "      <th>1</th>\n",
              "      <td>3</td>\n",
              "      <td>NaN</td>\n",
              "      <td>alfa-romero</td>\n",
              "      <td>gas</td>\n",
              "      <td>std</td>\n",
              "      <td>two</td>\n",
              "      <td>convertible</td>\n",
              "      <td>rwd</td>\n",
              "      <td>front</td>\n",
              "      <td>88.6</td>\n",
              "      <td>...</td>\n",
              "      <td>130</td>\n",
              "      <td>mpfi</td>\n",
              "      <td>3.47</td>\n",
              "      <td>2.68</td>\n",
              "      <td>9.0</td>\n",
              "      <td>111</td>\n",
              "      <td>5000</td>\n",
              "      <td>21</td>\n",
              "      <td>27</td>\n",
              "      <td>16500</td>\n",
              "    </tr>\n",
              "    <tr>\n",
              "      <th>2</th>\n",
              "      <td>1</td>\n",
              "      <td>NaN</td>\n",
              "      <td>alfa-romero</td>\n",
              "      <td>gas</td>\n",
              "      <td>std</td>\n",
              "      <td>two</td>\n",
              "      <td>hatchback</td>\n",
              "      <td>rwd</td>\n",
              "      <td>front</td>\n",
              "      <td>94.5</td>\n",
              "      <td>...</td>\n",
              "      <td>152</td>\n",
              "      <td>mpfi</td>\n",
              "      <td>2.68</td>\n",
              "      <td>3.47</td>\n",
              "      <td>9.0</td>\n",
              "      <td>154</td>\n",
              "      <td>5000</td>\n",
              "      <td>19</td>\n",
              "      <td>26</td>\n",
              "      <td>16500</td>\n",
              "    </tr>\n",
              "    <tr>\n",
              "      <th>3</th>\n",
              "      <td>2</td>\n",
              "      <td>164</td>\n",
              "      <td>audi</td>\n",
              "      <td>gas</td>\n",
              "      <td>std</td>\n",
              "      <td>four</td>\n",
              "      <td>sedan</td>\n",
              "      <td>fwd</td>\n",
              "      <td>front</td>\n",
              "      <td>99.8</td>\n",
              "      <td>...</td>\n",
              "      <td>109</td>\n",
              "      <td>mpfi</td>\n",
              "      <td>3.19</td>\n",
              "      <td>3.40</td>\n",
              "      <td>10.0</td>\n",
              "      <td>102</td>\n",
              "      <td>5500</td>\n",
              "      <td>24</td>\n",
              "      <td>30</td>\n",
              "      <td>13950</td>\n",
              "    </tr>\n",
              "    <tr>\n",
              "      <th>4</th>\n",
              "      <td>2</td>\n",
              "      <td>164</td>\n",
              "      <td>audi</td>\n",
              "      <td>gas</td>\n",
              "      <td>std</td>\n",
              "      <td>four</td>\n",
              "      <td>sedan</td>\n",
              "      <td>4wd</td>\n",
              "      <td>front</td>\n",
              "      <td>99.4</td>\n",
              "      <td>...</td>\n",
              "      <td>136</td>\n",
              "      <td>mpfi</td>\n",
              "      <td>3.19</td>\n",
              "      <td>3.40</td>\n",
              "      <td>8.0</td>\n",
              "      <td>115</td>\n",
              "      <td>5500</td>\n",
              "      <td>18</td>\n",
              "      <td>22</td>\n",
              "      <td>17450</td>\n",
              "    </tr>\n",
              "    <tr>\n",
              "      <th>5</th>\n",
              "      <td>2</td>\n",
              "      <td>NaN</td>\n",
              "      <td>audi</td>\n",
              "      <td>gas</td>\n",
              "      <td>std</td>\n",
              "      <td>two</td>\n",
              "      <td>sedan</td>\n",
              "      <td>fwd</td>\n",
              "      <td>front</td>\n",
              "      <td>99.8</td>\n",
              "      <td>...</td>\n",
              "      <td>136</td>\n",
              "      <td>mpfi</td>\n",
              "      <td>3.19</td>\n",
              "      <td>3.40</td>\n",
              "      <td>8.5</td>\n",
              "      <td>110</td>\n",
              "      <td>5500</td>\n",
              "      <td>19</td>\n",
              "      <td>25</td>\n",
              "      <td>15250</td>\n",
              "    </tr>\n",
              "    <tr>\n",
              "      <th>6</th>\n",
              "      <td>1</td>\n",
              "      <td>158</td>\n",
              "      <td>audi</td>\n",
              "      <td>gas</td>\n",
              "      <td>std</td>\n",
              "      <td>four</td>\n",
              "      <td>sedan</td>\n",
              "      <td>fwd</td>\n",
              "      <td>front</td>\n",
              "      <td>105.8</td>\n",
              "      <td>...</td>\n",
              "      <td>136</td>\n",
              "      <td>mpfi</td>\n",
              "      <td>3.19</td>\n",
              "      <td>3.40</td>\n",
              "      <td>8.5</td>\n",
              "      <td>110</td>\n",
              "      <td>5500</td>\n",
              "      <td>19</td>\n",
              "      <td>25</td>\n",
              "      <td>17710</td>\n",
              "    </tr>\n",
              "    <tr>\n",
              "      <th>7</th>\n",
              "      <td>1</td>\n",
              "      <td>NaN</td>\n",
              "      <td>audi</td>\n",
              "      <td>gas</td>\n",
              "      <td>std</td>\n",
              "      <td>four</td>\n",
              "      <td>wagon</td>\n",
              "      <td>fwd</td>\n",
              "      <td>front</td>\n",
              "      <td>105.8</td>\n",
              "      <td>...</td>\n",
              "      <td>136</td>\n",
              "      <td>mpfi</td>\n",
              "      <td>3.19</td>\n",
              "      <td>3.40</td>\n",
              "      <td>8.5</td>\n",
              "      <td>110</td>\n",
              "      <td>5500</td>\n",
              "      <td>19</td>\n",
              "      <td>25</td>\n",
              "      <td>18920</td>\n",
              "    </tr>\n",
              "    <tr>\n",
              "      <th>8</th>\n",
              "      <td>1</td>\n",
              "      <td>158</td>\n",
              "      <td>audi</td>\n",
              "      <td>gas</td>\n",
              "      <td>turbo</td>\n",
              "      <td>four</td>\n",
              "      <td>sedan</td>\n",
              "      <td>fwd</td>\n",
              "      <td>front</td>\n",
              "      <td>105.8</td>\n",
              "      <td>...</td>\n",
              "      <td>131</td>\n",
              "      <td>mpfi</td>\n",
              "      <td>3.13</td>\n",
              "      <td>3.40</td>\n",
              "      <td>8.3</td>\n",
              "      <td>140</td>\n",
              "      <td>5500</td>\n",
              "      <td>17</td>\n",
              "      <td>20</td>\n",
              "      <td>23875</td>\n",
              "    </tr>\n",
              "    <tr>\n",
              "      <th>9</th>\n",
              "      <td>0</td>\n",
              "      <td>NaN</td>\n",
              "      <td>audi</td>\n",
              "      <td>gas</td>\n",
              "      <td>turbo</td>\n",
              "      <td>two</td>\n",
              "      <td>hatchback</td>\n",
              "      <td>4wd</td>\n",
              "      <td>front</td>\n",
              "      <td>99.5</td>\n",
              "      <td>...</td>\n",
              "      <td>131</td>\n",
              "      <td>mpfi</td>\n",
              "      <td>3.13</td>\n",
              "      <td>3.40</td>\n",
              "      <td>7.0</td>\n",
              "      <td>160</td>\n",
              "      <td>5500</td>\n",
              "      <td>16</td>\n",
              "      <td>22</td>\n",
              "      <td>NaN</td>\n",
              "    </tr>\n",
              "  </tbody>\n",
              "</table>\n",
              "<p>10 rows × 26 columns</p>\n",
              "</div>"
            ],
            "text/plain": [
              "   symboling normalized-losses         make fuel-type aspiration num-of-doors  \\\n",
              "0          3               NaN  alfa-romero       gas        std          two   \n",
              "1          3               NaN  alfa-romero       gas        std          two   \n",
              "2          1               NaN  alfa-romero       gas        std          two   \n",
              "3          2               164         audi       gas        std         four   \n",
              "4          2               164         audi       gas        std         four   \n",
              "5          2               NaN         audi       gas        std          two   \n",
              "6          1               158         audi       gas        std         four   \n",
              "7          1               NaN         audi       gas        std         four   \n",
              "8          1               158         audi       gas      turbo         four   \n",
              "9          0               NaN         audi       gas      turbo          two   \n",
              "\n",
              "    body-style drive-wheels engine-location  wheel-base  ...  engine-size  \\\n",
              "0  convertible          rwd           front        88.6  ...          130   \n",
              "1  convertible          rwd           front        88.6  ...          130   \n",
              "2    hatchback          rwd           front        94.5  ...          152   \n",
              "3        sedan          fwd           front        99.8  ...          109   \n",
              "4        sedan          4wd           front        99.4  ...          136   \n",
              "5        sedan          fwd           front        99.8  ...          136   \n",
              "6        sedan          fwd           front       105.8  ...          136   \n",
              "7        wagon          fwd           front       105.8  ...          136   \n",
              "8        sedan          fwd           front       105.8  ...          131   \n",
              "9    hatchback          4wd           front        99.5  ...          131   \n",
              "\n",
              "   fuel-system  bore  stroke compression-ratio horsepower  peak-rpm city-mpg  \\\n",
              "0         mpfi  3.47    2.68               9.0        111      5000       21   \n",
              "1         mpfi  3.47    2.68               9.0        111      5000       21   \n",
              "2         mpfi  2.68    3.47               9.0        154      5000       19   \n",
              "3         mpfi  3.19    3.40              10.0        102      5500       24   \n",
              "4         mpfi  3.19    3.40               8.0        115      5500       18   \n",
              "5         mpfi  3.19    3.40               8.5        110      5500       19   \n",
              "6         mpfi  3.19    3.40               8.5        110      5500       19   \n",
              "7         mpfi  3.19    3.40               8.5        110      5500       19   \n",
              "8         mpfi  3.13    3.40               8.3        140      5500       17   \n",
              "9         mpfi  3.13    3.40               7.0        160      5500       16   \n",
              "\n",
              "  highway-mpg  price  \n",
              "0          27  13495  \n",
              "1          27  16500  \n",
              "2          26  16500  \n",
              "3          30  13950  \n",
              "4          22  17450  \n",
              "5          25  15250  \n",
              "6          25  17710  \n",
              "7          25  18920  \n",
              "8          20  23875  \n",
              "9          22    NaN  \n",
              "\n",
              "[10 rows x 26 columns]"
            ]
          },
          "execution_count": 8,
          "metadata": {},
          "output_type": "execute_result"
        }
      ],
      "source": [
        "import_data.replace('?', np.nan, inplace=True)\n",
        "import_data.replace('inf', np.nan, inplace=True)\n",
        "import_data.head(10)"
      ]
    },
    {
      "cell_type": "markdown",
      "id": "a3ce7624-2935-4022-acaf-b3436923d96b",
      "metadata": {
        "id": "a3ce7624-2935-4022-acaf-b3436923d96b"
      },
      "source": [
        "Next we check for all missing data present in each column in the dataset and count them to know how significant they are to the dataset. To check for the missing values, the `isnull()` method is used and to count the missing values, the `.value_counts()` method is used."
      ]
    },
    {
      "cell_type": "code",
      "execution_count": null,
      "id": "27a63ee3-d633-4964-bd04-a32c8419b443",
      "metadata": {
        "id": "27a63ee3-d633-4964-bd04-a32c8419b443",
        "outputId": "5dca3fe0-8cc0-46db-8166-2cb3c310ec30"
      },
      "outputs": [
        {
          "name": "stdout",
          "output_type": "stream",
          "text": [
            "symboling\n",
            "False    205\n",
            "Name: symboling, dtype: int64\n",
            "\n",
            "normalized-losses\n",
            "False    164\n",
            "True      41\n",
            "Name: normalized-losses, dtype: int64\n",
            "\n",
            "make\n",
            "False    205\n",
            "Name: make, dtype: int64\n",
            "\n",
            "fuel-type\n",
            "False    205\n",
            "Name: fuel-type, dtype: int64\n",
            "\n",
            "aspiration\n",
            "False    205\n",
            "Name: aspiration, dtype: int64\n",
            "\n",
            "num-of-doors\n",
            "False    203\n",
            "True       2\n",
            "Name: num-of-doors, dtype: int64\n",
            "\n",
            "body-style\n",
            "False    205\n",
            "Name: body-style, dtype: int64\n",
            "\n",
            "drive-wheels\n",
            "False    205\n",
            "Name: drive-wheels, dtype: int64\n",
            "\n",
            "engine-location\n",
            "False    205\n",
            "Name: engine-location, dtype: int64\n",
            "\n",
            "wheel-base\n",
            "False    205\n",
            "Name: wheel-base, dtype: int64\n",
            "\n",
            "length\n",
            "False    205\n",
            "Name: length, dtype: int64\n",
            "\n",
            "width\n",
            "False    205\n",
            "Name: width, dtype: int64\n",
            "\n",
            "height\n",
            "False    205\n",
            "Name: height, dtype: int64\n",
            "\n",
            "curb-weight\n",
            "False    205\n",
            "Name: curb-weight, dtype: int64\n",
            "\n",
            "engine-type\n",
            "False    205\n",
            "Name: engine-type, dtype: int64\n",
            "\n",
            "num-of-cylinders\n",
            "False    205\n",
            "Name: num-of-cylinders, dtype: int64\n",
            "\n",
            "engine-size\n",
            "False    205\n",
            "Name: engine-size, dtype: int64\n",
            "\n",
            "fuel-system\n",
            "False    205\n",
            "Name: fuel-system, dtype: int64\n",
            "\n",
            "bore\n",
            "False    201\n",
            "True       4\n",
            "Name: bore, dtype: int64\n",
            "\n",
            "stroke\n",
            "False    201\n",
            "True       4\n",
            "Name: stroke, dtype: int64\n",
            "\n",
            "compression-ratio\n",
            "False    205\n",
            "Name: compression-ratio, dtype: int64\n",
            "\n",
            "horsepower\n",
            "False    203\n",
            "True       2\n",
            "Name: horsepower, dtype: int64\n",
            "\n",
            "peak-rpm\n",
            "False    203\n",
            "True       2\n",
            "Name: peak-rpm, dtype: int64\n",
            "\n",
            "city-mpg\n",
            "False    205\n",
            "Name: city-mpg, dtype: int64\n",
            "\n",
            "highway-mpg\n",
            "False    205\n",
            "Name: highway-mpg, dtype: int64\n",
            "\n",
            "price\n",
            "False    201\n",
            "True       4\n",
            "Name: price, dtype: int64\n",
            "\n"
          ]
        }
      ],
      "source": [
        "missing_values = import_data.isnull()\n",
        "\n",
        "for column in missing_values.columns.values.tolist():\n",
        "    print(column)\n",
        "    print (missing_values[column].value_counts())\n",
        "    print(\"\")"
      ]
    },
    {
      "cell_type": "markdown",
      "id": "48ecce93-adc8-441c-813f-d248859e7884",
      "metadata": {
        "id": "48ecce93-adc8-441c-813f-d248859e7884"
      },
      "source": [
        "7 columns in total have missing values. The column with the most missing values is the normalized loss column with `41` missing values. the remaining 6 columns that includes bore, horsepower, stroke, num_of_doors, price, and peak-rpm have missing values that ranges between 1 and 4"
      ]
    },
    {
      "cell_type": "markdown",
      "id": "3056113f-30f5-470d-af20-1e1764ac0b36",
      "metadata": {
        "id": "3056113f-30f5-470d-af20-1e1764ac0b36"
      },
      "source": [
        "##### Dealing with missing values\n",
        "\n",
        "There are few approaches to follow when ecoutered with missing values. The first option is always to find the missig values but in cases when that is impossible the option left is either to replace the values with assumed values (e.g mean or the most frequent occuring value) or drop the row or column.\n",
        "\n",
        "For this dataset, the normalized_loss, bore, horesepower, stroke, and peak-rpm columns missig values will be replaced with the mean. The num_of_doors column will be replaced by frequency as four occured 114 times out of 203 present values. The missing price values will be dropped as it is the target variable.\n"
      ]
    },
    {
      "cell_type": "markdown",
      "id": "53db3baa-e8f2-4bc1-ba7f-65496d0a3443",
      "metadata": {
        "id": "53db3baa-e8f2-4bc1-ba7f-65496d0a3443"
      },
      "source": [
        "#### Replace Missing Values with Mean and Freq \n",
        "\n",
        "1. Calculate the mean for the normalized loss column, then replace the missing values in the normalized column with the calculated mean."
      ]
    },
    {
      "cell_type": "code",
      "execution_count": null,
      "id": "cb584d81-eb96-4d99-b200-dd835acbf78c",
      "metadata": {
        "id": "cb584d81-eb96-4d99-b200-dd835acbf78c"
      },
      "outputs": [],
      "source": [
        "norm_loss_mean = import_data[\"normalized-losses\"].astype(\"float\").mean(axis=0)\n",
        "\n",
        "import_data[\"normalized-losses\"].replace(np.nan, norm_loss_mean, inplace=True)"
      ]
    },
    {
      "cell_type": "markdown",
      "id": "d067ce0a-1829-417a-8413-6af76f587a71",
      "metadata": {
        "id": "d067ce0a-1829-417a-8413-6af76f587a71"
      },
      "source": [
        "2. Calculate the mean for the bore column, then replace the missing values in the bore with the calculated mean."
      ]
    },
    {
      "cell_type": "code",
      "execution_count": null,
      "id": "248a0292-b8ed-4c7d-950a-198cbe828284",
      "metadata": {
        "id": "248a0292-b8ed-4c7d-950a-198cbe828284"
      },
      "outputs": [],
      "source": [
        "bore_mean = import_data[\"bore\"].astype(\"float\").mean(axis=0)\n",
        "\n",
        "import_data[\"bore\"].replace(np.nan, bore_mean, inplace=True)"
      ]
    },
    {
      "cell_type": "markdown",
      "id": "c1e6643a-994f-4d2a-8ea2-910ab79d048d",
      "metadata": {
        "id": "c1e6643a-994f-4d2a-8ea2-910ab79d048d"
      },
      "source": [
        "3. Calculate the mean for the stroke column, then replace the missing values in the stroke with the calculated mean."
      ]
    },
    {
      "cell_type": "code",
      "execution_count": null,
      "id": "67b1a8b3-a751-4dbe-97fc-cc9da7ba393c",
      "metadata": {
        "id": "67b1a8b3-a751-4dbe-97fc-cc9da7ba393c"
      },
      "outputs": [],
      "source": [
        "stroke_mean = import_data[\"stroke\"].astype(\"float\").mean(axis=0)\n",
        "\n",
        "import_data[\"stroke\"].replace(np.nan, stroke_mean, inplace=True)"
      ]
    },
    {
      "cell_type": "markdown",
      "id": "2a372fff-b2ea-4772-bbce-deef7c496381",
      "metadata": {
        "id": "2a372fff-b2ea-4772-bbce-deef7c496381"
      },
      "source": [
        "4.  Calculate the mean for the peak-rpm column, then replace the missing values in the peak-rpm with the calculated mean."
      ]
    },
    {
      "cell_type": "code",
      "execution_count": null,
      "id": "6c92facc-b0cf-4b7d-9022-471c3077ff03",
      "metadata": {
        "id": "6c92facc-b0cf-4b7d-9022-471c3077ff03"
      },
      "outputs": [],
      "source": [
        "rpm_mean = import_data[\"peak-rpm\"].astype(\"float\").mean(axis=0)\n",
        "\n",
        "import_data[\"peak-rpm\"].replace(np.nan, rpm_mean, inplace=True)"
      ]
    },
    {
      "cell_type": "markdown",
      "id": "ee20e41b-1557-4ebe-a9d3-85be60db26ae",
      "metadata": {
        "id": "ee20e41b-1557-4ebe-a9d3-85be60db26ae"
      },
      "source": [
        "5. Calculate the freq for the number of doors column, then replace the missing values in the num_of_doors column with the most freq value."
      ]
    },
    {
      "cell_type": "code",
      "execution_count": null,
      "id": "7f31a20c-5425-4979-ab3a-d2e5a889e58c",
      "metadata": {
        "id": "7f31a20c-5425-4979-ab3a-d2e5a889e58c",
        "outputId": "a13a3927-c04d-4e10-d71d-0a4b6cbd3196"
      },
      "outputs": [
        {
          "data": {
            "text/plain": [
              "four    114\n",
              "two      89\n",
              "Name: num-of-doors, dtype: int64"
            ]
          },
          "execution_count": 14,
          "metadata": {},
          "output_type": "execute_result"
        }
      ],
      "source": [
        "import_data['num-of-doors'].value_counts()"
      ]
    },
    {
      "cell_type": "markdown",
      "id": "a7d57b39-c36c-4b87-8f3e-73a1fd6a2988",
      "metadata": {
        "id": "a7d57b39-c36c-4b87-8f3e-73a1fd6a2988"
      },
      "source": [
        "Using `.value_counts()` method, the four door appeared 114 times while two doors appeared 89 times. Another method to use is the `.idxmax()` method that returns the value with the most occurrence."
      ]
    },
    {
      "cell_type": "code",
      "execution_count": null,
      "id": "3fd66072-eec4-4d06-bfb7-41ab1b563edd",
      "metadata": {
        "id": "3fd66072-eec4-4d06-bfb7-41ab1b563edd",
        "outputId": "6103bf75-2499-4d11-d2ea-4341ac64b0d5"
      },
      "outputs": [
        {
          "data": {
            "text/plain": [
              "'four'"
            ]
          },
          "execution_count": 15,
          "metadata": {},
          "output_type": "execute_result"
        }
      ],
      "source": [
        "import_data['num-of-doors'].value_counts().idxmax()"
      ]
    },
    {
      "cell_type": "markdown",
      "id": "9b3efb1e-ed76-49b2-ade4-ce54e258a489",
      "metadata": {
        "id": "9b3efb1e-ed76-49b2-ade4-ce54e258a489"
      },
      "source": [
        "Replace the missing values with four"
      ]
    },
    {
      "cell_type": "code",
      "execution_count": null,
      "id": "4bc3c18f-7bb1-4162-9a98-318b88c7b16f",
      "metadata": {
        "id": "4bc3c18f-7bb1-4162-9a98-318b88c7b16f"
      },
      "outputs": [],
      "source": [
        "import_data[\"num-of-doors\"].replace(np.nan, \"four\", inplace=True)"
      ]
    },
    {
      "cell_type": "markdown",
      "id": "a9c5c3de-d988-40a5-beee-c914cf303490",
      "metadata": {
        "id": "a9c5c3de-d988-40a5-beee-c914cf303490"
      },
      "source": [
        "#### Drop the Missing Values in the Price Column\n",
        "\n",
        "The essence of this analysis is to predict the price of cars using other variables making the price column the target variable. The missing price values are dropped using the `.dropna()` method"
      ]
    },
    {
      "cell_type": "code",
      "execution_count": null,
      "id": "f7fd5869-fb99-4ff1-9678-c80f0a978216",
      "metadata": {
        "id": "f7fd5869-fb99-4ff1-9678-c80f0a978216"
      },
      "outputs": [],
      "source": [
        "import_data.dropna(subset=[\"price\"], axis=0, inplace=True)"
      ]
    },
    {
      "cell_type": "markdown",
      "id": "2b30c31a-d611-4bc3-9281-a29d6857310d",
      "metadata": {
        "id": "2b30c31a-d611-4bc3-9281-a29d6857310d"
      },
      "source": [
        "Check for Numpy infinite values and drop them"
      ]
    },
    {
      "cell_type": "markdown",
      "id": "87cc757d-d9e0-4173-948e-f39f7c8d5df8",
      "metadata": {
        "id": "87cc757d-d9e0-4173-948e-f39f7c8d5df8"
      },
      "source": [
        "df.replace([np.inf, -np.inf], np.nan, inplace=True)\n",
        "\n",
        "df.dropna(inplace=True)"
      ]
    },
    {
      "cell_type": "code",
      "execution_count": null,
      "id": "6619a71e-f74d-464f-bbed-cca198d2c47f",
      "metadata": {
        "id": "6619a71e-f74d-464f-bbed-cca198d2c47f",
        "outputId": "42edfb1c-4a2d-4d0f-df64-873d9bfeb5b9"
      },
      "outputs": [
        {
          "data": {
            "text/html": [
              "<div>\n",
              "<style scoped>\n",
              "    .dataframe tbody tr th:only-of-type {\n",
              "        vertical-align: middle;\n",
              "    }\n",
              "\n",
              "    .dataframe tbody tr th {\n",
              "        vertical-align: top;\n",
              "    }\n",
              "\n",
              "    .dataframe thead th {\n",
              "        text-align: right;\n",
              "    }\n",
              "</style>\n",
              "<table border=\"1\" class=\"dataframe\">\n",
              "  <thead>\n",
              "    <tr style=\"text-align: right;\">\n",
              "      <th></th>\n",
              "      <th>symboling</th>\n",
              "      <th>normalized-losses</th>\n",
              "      <th>make</th>\n",
              "      <th>fuel-type</th>\n",
              "      <th>aspiration</th>\n",
              "      <th>num-of-doors</th>\n",
              "      <th>body-style</th>\n",
              "      <th>drive-wheels</th>\n",
              "      <th>engine-location</th>\n",
              "      <th>wheel-base</th>\n",
              "      <th>...</th>\n",
              "      <th>engine-size</th>\n",
              "      <th>fuel-system</th>\n",
              "      <th>bore</th>\n",
              "      <th>stroke</th>\n",
              "      <th>compression-ratio</th>\n",
              "      <th>horsepower</th>\n",
              "      <th>peak-rpm</th>\n",
              "      <th>city-mpg</th>\n",
              "      <th>highway-mpg</th>\n",
              "      <th>price</th>\n",
              "    </tr>\n",
              "  </thead>\n",
              "  <tbody>\n",
              "    <tr>\n",
              "      <th>0</th>\n",
              "      <td>3</td>\n",
              "      <td>122.0</td>\n",
              "      <td>alfa-romero</td>\n",
              "      <td>gas</td>\n",
              "      <td>std</td>\n",
              "      <td>two</td>\n",
              "      <td>convertible</td>\n",
              "      <td>rwd</td>\n",
              "      <td>front</td>\n",
              "      <td>88.6</td>\n",
              "      <td>...</td>\n",
              "      <td>130</td>\n",
              "      <td>mpfi</td>\n",
              "      <td>3.47</td>\n",
              "      <td>2.68</td>\n",
              "      <td>9.0</td>\n",
              "      <td>111</td>\n",
              "      <td>5000</td>\n",
              "      <td>21</td>\n",
              "      <td>27</td>\n",
              "      <td>13495</td>\n",
              "    </tr>\n",
              "    <tr>\n",
              "      <th>1</th>\n",
              "      <td>3</td>\n",
              "      <td>122.0</td>\n",
              "      <td>alfa-romero</td>\n",
              "      <td>gas</td>\n",
              "      <td>std</td>\n",
              "      <td>two</td>\n",
              "      <td>convertible</td>\n",
              "      <td>rwd</td>\n",
              "      <td>front</td>\n",
              "      <td>88.6</td>\n",
              "      <td>...</td>\n",
              "      <td>130</td>\n",
              "      <td>mpfi</td>\n",
              "      <td>3.47</td>\n",
              "      <td>2.68</td>\n",
              "      <td>9.0</td>\n",
              "      <td>111</td>\n",
              "      <td>5000</td>\n",
              "      <td>21</td>\n",
              "      <td>27</td>\n",
              "      <td>16500</td>\n",
              "    </tr>\n",
              "    <tr>\n",
              "      <th>2</th>\n",
              "      <td>1</td>\n",
              "      <td>122.0</td>\n",
              "      <td>alfa-romero</td>\n",
              "      <td>gas</td>\n",
              "      <td>std</td>\n",
              "      <td>two</td>\n",
              "      <td>hatchback</td>\n",
              "      <td>rwd</td>\n",
              "      <td>front</td>\n",
              "      <td>94.5</td>\n",
              "      <td>...</td>\n",
              "      <td>152</td>\n",
              "      <td>mpfi</td>\n",
              "      <td>2.68</td>\n",
              "      <td>3.47</td>\n",
              "      <td>9.0</td>\n",
              "      <td>154</td>\n",
              "      <td>5000</td>\n",
              "      <td>19</td>\n",
              "      <td>26</td>\n",
              "      <td>16500</td>\n",
              "    </tr>\n",
              "    <tr>\n",
              "      <th>3</th>\n",
              "      <td>2</td>\n",
              "      <td>164</td>\n",
              "      <td>audi</td>\n",
              "      <td>gas</td>\n",
              "      <td>std</td>\n",
              "      <td>four</td>\n",
              "      <td>sedan</td>\n",
              "      <td>fwd</td>\n",
              "      <td>front</td>\n",
              "      <td>99.8</td>\n",
              "      <td>...</td>\n",
              "      <td>109</td>\n",
              "      <td>mpfi</td>\n",
              "      <td>3.19</td>\n",
              "      <td>3.40</td>\n",
              "      <td>10.0</td>\n",
              "      <td>102</td>\n",
              "      <td>5500</td>\n",
              "      <td>24</td>\n",
              "      <td>30</td>\n",
              "      <td>13950</td>\n",
              "    </tr>\n",
              "    <tr>\n",
              "      <th>4</th>\n",
              "      <td>2</td>\n",
              "      <td>164</td>\n",
              "      <td>audi</td>\n",
              "      <td>gas</td>\n",
              "      <td>std</td>\n",
              "      <td>four</td>\n",
              "      <td>sedan</td>\n",
              "      <td>4wd</td>\n",
              "      <td>front</td>\n",
              "      <td>99.4</td>\n",
              "      <td>...</td>\n",
              "      <td>136</td>\n",
              "      <td>mpfi</td>\n",
              "      <td>3.19</td>\n",
              "      <td>3.40</td>\n",
              "      <td>8.0</td>\n",
              "      <td>115</td>\n",
              "      <td>5500</td>\n",
              "      <td>18</td>\n",
              "      <td>22</td>\n",
              "      <td>17450</td>\n",
              "    </tr>\n",
              "  </tbody>\n",
              "</table>\n",
              "<p>5 rows × 26 columns</p>\n",
              "</div>"
            ],
            "text/plain": [
              "   symboling normalized-losses         make fuel-type aspiration num-of-doors  \\\n",
              "0          3             122.0  alfa-romero       gas        std          two   \n",
              "1          3             122.0  alfa-romero       gas        std          two   \n",
              "2          1             122.0  alfa-romero       gas        std          two   \n",
              "3          2               164         audi       gas        std         four   \n",
              "4          2               164         audi       gas        std         four   \n",
              "\n",
              "    body-style drive-wheels engine-location  wheel-base  ...  engine-size  \\\n",
              "0  convertible          rwd           front        88.6  ...          130   \n",
              "1  convertible          rwd           front        88.6  ...          130   \n",
              "2    hatchback          rwd           front        94.5  ...          152   \n",
              "3        sedan          fwd           front        99.8  ...          109   \n",
              "4        sedan          4wd           front        99.4  ...          136   \n",
              "\n",
              "   fuel-system  bore  stroke compression-ratio horsepower  peak-rpm city-mpg  \\\n",
              "0         mpfi  3.47    2.68               9.0        111      5000       21   \n",
              "1         mpfi  3.47    2.68               9.0        111      5000       21   \n",
              "2         mpfi  2.68    3.47               9.0        154      5000       19   \n",
              "3         mpfi  3.19    3.40              10.0        102      5500       24   \n",
              "4         mpfi  3.19    3.40               8.0        115      5500       18   \n",
              "\n",
              "  highway-mpg  price  \n",
              "0          27  13495  \n",
              "1          27  16500  \n",
              "2          26  16500  \n",
              "3          30  13950  \n",
              "4          22  17450  \n",
              "\n",
              "[5 rows x 26 columns]"
            ]
          },
          "execution_count": 18,
          "metadata": {},
          "output_type": "execute_result"
        }
      ],
      "source": [
        "import_data.dropna(inplace=True)\n",
        "import_data.head()"
      ]
    },
    {
      "cell_type": "markdown",
      "id": "77c24691-2e47-4f77-9370-53d52cb935c7",
      "metadata": {
        "id": "77c24691-2e47-4f77-9370-53d52cb935c7"
      },
      "source": [
        "#### Check for Datatypes\n",
        "\n",
        "Datatypes are format in which the data is beig stored in a given data structure. Each colum has a datatype that all data in the column must follow and also that it suits the colum purpose. For example an age column should not have `float` as it datatype but `int`. Use the `.dtypes` method to check the various data types present"
      ]
    },
    {
      "cell_type": "code",
      "execution_count": null,
      "id": "c10c3b78-c699-4acc-8213-8bea1becf016",
      "metadata": {
        "id": "c10c3b78-c699-4acc-8213-8bea1becf016",
        "outputId": "25b13af8-21bd-443c-e6a3-bf3afdc341a2"
      },
      "outputs": [
        {
          "data": {
            "text/plain": [
              "symboling              int64\n",
              "normalized-losses     object\n",
              "make                  object\n",
              "fuel-type             object\n",
              "aspiration            object\n",
              "num-of-doors          object\n",
              "body-style            object\n",
              "drive-wheels          object\n",
              "engine-location       object\n",
              "wheel-base           float64\n",
              "length               float64\n",
              "width                float64\n",
              "height               float64\n",
              "curb-weight            int64\n",
              "engine-type           object\n",
              "num-of-cylinders      object\n",
              "engine-size            int64\n",
              "fuel-system           object\n",
              "bore                  object\n",
              "stroke                object\n",
              "compression-ratio    float64\n",
              "horsepower            object\n",
              "peak-rpm              object\n",
              "city-mpg               int64\n",
              "highway-mpg            int64\n",
              "price                 object\n",
              "dtype: object"
            ]
          },
          "execution_count": 19,
          "metadata": {},
          "output_type": "execute_result"
        }
      ],
      "source": [
        "import_data.dtypes"
      ]
    },
    {
      "cell_type": "markdown",
      "id": "09548f05-1a27-43f3-b999-db9f17f08a3b",
      "metadata": {
        "id": "09548f05-1a27-43f3-b999-db9f17f08a3b"
      },
      "source": [
        "From the data types above, it is clear some columns have the wrong data format and need to be formatted to the correct data format. \n",
        "\n",
        "#### Convert to the correct format"
      ]
    },
    {
      "cell_type": "code",
      "execution_count": null,
      "id": "3b70d03b-293d-411e-bbee-8628a038b0c5",
      "metadata": {
        "id": "3b70d03b-293d-411e-bbee-8628a038b0c5"
      },
      "outputs": [],
      "source": [
        "import_data[[\"bore\", \"stroke\"]] = import_data[[\"bore\", \"stroke\"]].astype(\"float\")\n",
        "import_data[[\"normalized-losses\"]] = import_data[[\"normalized-losses\"]].astype(\"int\")\n",
        "import_data[[\"price\"]] = import_data[[\"price\"]].astype(\"float\")\n",
        "import_data[[\"peak-rpm\"]] = import_data[[\"peak-rpm\"]].astype(\"float\")\n",
        "import_data[[\"horsepower\"]] = import_data[[\"horsepower\"]].astype(\"float\")"
      ]
    },
    {
      "cell_type": "markdown",
      "id": "be93893b-d14e-4380-97bd-cacbd2fd9a5d",
      "metadata": {
        "id": "be93893b-d14e-4380-97bd-cacbd2fd9a5d"
      },
      "source": [
        "#### Using Standardized Units\n",
        "\n",
        "The dataset uses mpg(miles per gallon) for fuel consumption on the city and highway column. The standard unit for fuel consumption in Nigeria is Litres per 100 kilometres (L/100km). To convert from mpg t L/100km we divide the city and highway columns by `235`"
      ]
    },
    {
      "cell_type": "code",
      "execution_count": null,
      "id": "3fe70736-f52b-446d-9882-cdae0e563150",
      "metadata": {
        "id": "3fe70736-f52b-446d-9882-cdae0e563150"
      },
      "outputs": [],
      "source": [
        "import_data[\"city-L/100km\"] = 235/import_data[\"city-mpg\"]\n",
        "\n",
        "import_data[\"highway-L/100km\"] = 235/import_data[\"highway-mpg\"]"
      ]
    },
    {
      "cell_type": "markdown",
      "id": "c0169999-1373-457e-8b1e-211238cfab6e",
      "metadata": {
        "id": "c0169999-1373-457e-8b1e-211238cfab6e"
      },
      "source": [
        "After converting the city and highway units from mpg to L/100km, the next step is to chage the names of the columns to city-L/100km and highway-L/100km respectively using the `.rename()` method"
      ]
    },
    {
      "cell_type": "code",
      "execution_count": null,
      "id": "1c4fabe5-165b-48cf-8c51-aae78028ca92",
      "metadata": {
        "id": "1c4fabe5-165b-48cf-8c51-aae78028ca92",
        "outputId": "1eef366c-a415-4f72-9ef5-9696365d70b7"
      },
      "outputs": [
        {
          "data": {
            "text/html": [
              "<div>\n",
              "<style scoped>\n",
              "    .dataframe tbody tr th:only-of-type {\n",
              "        vertical-align: middle;\n",
              "    }\n",
              "\n",
              "    .dataframe tbody tr th {\n",
              "        vertical-align: top;\n",
              "    }\n",
              "\n",
              "    .dataframe thead th {\n",
              "        text-align: right;\n",
              "    }\n",
              "</style>\n",
              "<table border=\"1\" class=\"dataframe\">\n",
              "  <thead>\n",
              "    <tr style=\"text-align: right;\">\n",
              "      <th></th>\n",
              "      <th>symboling</th>\n",
              "      <th>normalized-losses</th>\n",
              "      <th>make</th>\n",
              "      <th>fuel-type</th>\n",
              "      <th>aspiration</th>\n",
              "      <th>num-of-doors</th>\n",
              "      <th>body-style</th>\n",
              "      <th>drive-wheels</th>\n",
              "      <th>engine-location</th>\n",
              "      <th>wheel-base</th>\n",
              "      <th>...</th>\n",
              "      <th>bore</th>\n",
              "      <th>stroke</th>\n",
              "      <th>compression-ratio</th>\n",
              "      <th>horsepower</th>\n",
              "      <th>peak-rpm</th>\n",
              "      <th>city-mpg</th>\n",
              "      <th>highway-mpg</th>\n",
              "      <th>price</th>\n",
              "      <th>city-L/100km</th>\n",
              "      <th>highway-L/100km</th>\n",
              "    </tr>\n",
              "  </thead>\n",
              "  <tbody>\n",
              "    <tr>\n",
              "      <th>0</th>\n",
              "      <td>3</td>\n",
              "      <td>122</td>\n",
              "      <td>alfa-romero</td>\n",
              "      <td>gas</td>\n",
              "      <td>std</td>\n",
              "      <td>two</td>\n",
              "      <td>convertible</td>\n",
              "      <td>rwd</td>\n",
              "      <td>front</td>\n",
              "      <td>88.6</td>\n",
              "      <td>...</td>\n",
              "      <td>3.47</td>\n",
              "      <td>2.68</td>\n",
              "      <td>9.0</td>\n",
              "      <td>111.0</td>\n",
              "      <td>5000.0</td>\n",
              "      <td>21</td>\n",
              "      <td>27</td>\n",
              "      <td>13495.0</td>\n",
              "      <td>11.190476</td>\n",
              "      <td>8.703704</td>\n",
              "    </tr>\n",
              "    <tr>\n",
              "      <th>1</th>\n",
              "      <td>3</td>\n",
              "      <td>122</td>\n",
              "      <td>alfa-romero</td>\n",
              "      <td>gas</td>\n",
              "      <td>std</td>\n",
              "      <td>two</td>\n",
              "      <td>convertible</td>\n",
              "      <td>rwd</td>\n",
              "      <td>front</td>\n",
              "      <td>88.6</td>\n",
              "      <td>...</td>\n",
              "      <td>3.47</td>\n",
              "      <td>2.68</td>\n",
              "      <td>9.0</td>\n",
              "      <td>111.0</td>\n",
              "      <td>5000.0</td>\n",
              "      <td>21</td>\n",
              "      <td>27</td>\n",
              "      <td>16500.0</td>\n",
              "      <td>11.190476</td>\n",
              "      <td>8.703704</td>\n",
              "    </tr>\n",
              "    <tr>\n",
              "      <th>2</th>\n",
              "      <td>1</td>\n",
              "      <td>122</td>\n",
              "      <td>alfa-romero</td>\n",
              "      <td>gas</td>\n",
              "      <td>std</td>\n",
              "      <td>two</td>\n",
              "      <td>hatchback</td>\n",
              "      <td>rwd</td>\n",
              "      <td>front</td>\n",
              "      <td>94.5</td>\n",
              "      <td>...</td>\n",
              "      <td>2.68</td>\n",
              "      <td>3.47</td>\n",
              "      <td>9.0</td>\n",
              "      <td>154.0</td>\n",
              "      <td>5000.0</td>\n",
              "      <td>19</td>\n",
              "      <td>26</td>\n",
              "      <td>16500.0</td>\n",
              "      <td>12.368421</td>\n",
              "      <td>9.038462</td>\n",
              "    </tr>\n",
              "    <tr>\n",
              "      <th>3</th>\n",
              "      <td>2</td>\n",
              "      <td>164</td>\n",
              "      <td>audi</td>\n",
              "      <td>gas</td>\n",
              "      <td>std</td>\n",
              "      <td>four</td>\n",
              "      <td>sedan</td>\n",
              "      <td>fwd</td>\n",
              "      <td>front</td>\n",
              "      <td>99.8</td>\n",
              "      <td>...</td>\n",
              "      <td>3.19</td>\n",
              "      <td>3.40</td>\n",
              "      <td>10.0</td>\n",
              "      <td>102.0</td>\n",
              "      <td>5500.0</td>\n",
              "      <td>24</td>\n",
              "      <td>30</td>\n",
              "      <td>13950.0</td>\n",
              "      <td>9.791667</td>\n",
              "      <td>7.833333</td>\n",
              "    </tr>\n",
              "    <tr>\n",
              "      <th>4</th>\n",
              "      <td>2</td>\n",
              "      <td>164</td>\n",
              "      <td>audi</td>\n",
              "      <td>gas</td>\n",
              "      <td>std</td>\n",
              "      <td>four</td>\n",
              "      <td>sedan</td>\n",
              "      <td>4wd</td>\n",
              "      <td>front</td>\n",
              "      <td>99.4</td>\n",
              "      <td>...</td>\n",
              "      <td>3.19</td>\n",
              "      <td>3.40</td>\n",
              "      <td>8.0</td>\n",
              "      <td>115.0</td>\n",
              "      <td>5500.0</td>\n",
              "      <td>18</td>\n",
              "      <td>22</td>\n",
              "      <td>17450.0</td>\n",
              "      <td>13.055556</td>\n",
              "      <td>10.681818</td>\n",
              "    </tr>\n",
              "  </tbody>\n",
              "</table>\n",
              "<p>5 rows × 28 columns</p>\n",
              "</div>"
            ],
            "text/plain": [
              "   symboling  normalized-losses         make fuel-type aspiration  \\\n",
              "0          3                122  alfa-romero       gas        std   \n",
              "1          3                122  alfa-romero       gas        std   \n",
              "2          1                122  alfa-romero       gas        std   \n",
              "3          2                164         audi       gas        std   \n",
              "4          2                164         audi       gas        std   \n",
              "\n",
              "  num-of-doors   body-style drive-wheels engine-location  wheel-base  ...  \\\n",
              "0          two  convertible          rwd           front        88.6  ...   \n",
              "1          two  convertible          rwd           front        88.6  ...   \n",
              "2          two    hatchback          rwd           front        94.5  ...   \n",
              "3         four        sedan          fwd           front        99.8  ...   \n",
              "4         four        sedan          4wd           front        99.4  ...   \n",
              "\n",
              "   bore  stroke  compression-ratio  horsepower peak-rpm city-mpg  highway-mpg  \\\n",
              "0  3.47    2.68                9.0       111.0   5000.0       21           27   \n",
              "1  3.47    2.68                9.0       111.0   5000.0       21           27   \n",
              "2  2.68    3.47                9.0       154.0   5000.0       19           26   \n",
              "3  3.19    3.40               10.0       102.0   5500.0       24           30   \n",
              "4  3.19    3.40                8.0       115.0   5500.0       18           22   \n",
              "\n",
              "     price  city-L/100km  highway-L/100km  \n",
              "0  13495.0     11.190476         8.703704  \n",
              "1  16500.0     11.190476         8.703704  \n",
              "2  16500.0     12.368421         9.038462  \n",
              "3  13950.0      9.791667         7.833333  \n",
              "4  17450.0     13.055556        10.681818  \n",
              "\n",
              "[5 rows x 28 columns]"
            ]
          },
          "execution_count": 22,
          "metadata": {},
          "output_type": "execute_result"
        }
      ],
      "source": [
        "import_data.head(5)"
      ]
    },
    {
      "cell_type": "markdown",
      "id": "9ec33d9b-01ba-46c2-8ac6-ce6dd7d7af66",
      "metadata": {
        "id": "9ec33d9b-01ba-46c2-8ac6-ce6dd7d7af66"
      },
      "source": [
        "#### Convert the Horsepower into bins of Categorize values\n",
        "\n",
        "The horsepower column can be categorize into high, medium and low groups using the `bins` method"
      ]
    },
    {
      "cell_type": "code",
      "execution_count": null,
      "id": "a57c38b8-b82d-4eb6-b0bd-8cb8dfa63ba1",
      "metadata": {
        "id": "a57c38b8-b82d-4eb6-b0bd-8cb8dfa63ba1",
        "outputId": "4af5bbce-d3b5-4963-b3fa-638020f265f2"
      },
      "outputs": [
        {
          "data": {
            "text/plain": [
              "array([ 48.        , 119.33333333, 190.66666667, 262.        ])"
            ]
          },
          "execution_count": 23,
          "metadata": {},
          "output_type": "execute_result"
        }
      ],
      "source": [
        "bins = np.linspace(min(import_data[\"horsepower\"]), max(import_data[\"horsepower\"]), 4)\n",
        "bins"
      ]
    },
    {
      "cell_type": "code",
      "execution_count": null,
      "id": "dab3dd77-e7fc-4c1a-a36b-268173b1c687",
      "metadata": {
        "id": "dab3dd77-e7fc-4c1a-a36b-268173b1c687"
      },
      "outputs": [],
      "source": [
        "group_names = ['Low', 'Medium', 'High']"
      ]
    },
    {
      "cell_type": "code",
      "execution_count": null,
      "id": "a244168f-8c0e-4229-bcac-e183be98831a",
      "metadata": {
        "id": "a244168f-8c0e-4229-bcac-e183be98831a",
        "outputId": "8a9a0f4a-d612-40e0-fead-2daf80a63d8d"
      },
      "outputs": [
        {
          "data": {
            "text/html": [
              "<div>\n",
              "<style scoped>\n",
              "    .dataframe tbody tr th:only-of-type {\n",
              "        vertical-align: middle;\n",
              "    }\n",
              "\n",
              "    .dataframe tbody tr th {\n",
              "        vertical-align: top;\n",
              "    }\n",
              "\n",
              "    .dataframe thead th {\n",
              "        text-align: right;\n",
              "    }\n",
              "</style>\n",
              "<table border=\"1\" class=\"dataframe\">\n",
              "  <thead>\n",
              "    <tr style=\"text-align: right;\">\n",
              "      <th></th>\n",
              "      <th>horsepower</th>\n",
              "      <th>horsepower-binned</th>\n",
              "    </tr>\n",
              "  </thead>\n",
              "  <tbody>\n",
              "    <tr>\n",
              "      <th>0</th>\n",
              "      <td>111.0</td>\n",
              "      <td>Low</td>\n",
              "    </tr>\n",
              "    <tr>\n",
              "      <th>1</th>\n",
              "      <td>111.0</td>\n",
              "      <td>Low</td>\n",
              "    </tr>\n",
              "    <tr>\n",
              "      <th>2</th>\n",
              "      <td>154.0</td>\n",
              "      <td>Medium</td>\n",
              "    </tr>\n",
              "    <tr>\n",
              "      <th>3</th>\n",
              "      <td>102.0</td>\n",
              "      <td>Low</td>\n",
              "    </tr>\n",
              "    <tr>\n",
              "      <th>4</th>\n",
              "      <td>115.0</td>\n",
              "      <td>Low</td>\n",
              "    </tr>\n",
              "    <tr>\n",
              "      <th>5</th>\n",
              "      <td>110.0</td>\n",
              "      <td>Low</td>\n",
              "    </tr>\n",
              "    <tr>\n",
              "      <th>6</th>\n",
              "      <td>110.0</td>\n",
              "      <td>Low</td>\n",
              "    </tr>\n",
              "    <tr>\n",
              "      <th>7</th>\n",
              "      <td>110.0</td>\n",
              "      <td>Low</td>\n",
              "    </tr>\n",
              "    <tr>\n",
              "      <th>8</th>\n",
              "      <td>140.0</td>\n",
              "      <td>Medium</td>\n",
              "    </tr>\n",
              "    <tr>\n",
              "      <th>10</th>\n",
              "      <td>101.0</td>\n",
              "      <td>Low</td>\n",
              "    </tr>\n",
              "    <tr>\n",
              "      <th>11</th>\n",
              "      <td>101.0</td>\n",
              "      <td>Low</td>\n",
              "    </tr>\n",
              "    <tr>\n",
              "      <th>12</th>\n",
              "      <td>121.0</td>\n",
              "      <td>Medium</td>\n",
              "    </tr>\n",
              "    <tr>\n",
              "      <th>13</th>\n",
              "      <td>121.0</td>\n",
              "      <td>Medium</td>\n",
              "    </tr>\n",
              "    <tr>\n",
              "      <th>14</th>\n",
              "      <td>121.0</td>\n",
              "      <td>Medium</td>\n",
              "    </tr>\n",
              "    <tr>\n",
              "      <th>15</th>\n",
              "      <td>182.0</td>\n",
              "      <td>Medium</td>\n",
              "    </tr>\n",
              "    <tr>\n",
              "      <th>16</th>\n",
              "      <td>182.0</td>\n",
              "      <td>Medium</td>\n",
              "    </tr>\n",
              "    <tr>\n",
              "      <th>17</th>\n",
              "      <td>182.0</td>\n",
              "      <td>Medium</td>\n",
              "    </tr>\n",
              "    <tr>\n",
              "      <th>18</th>\n",
              "      <td>48.0</td>\n",
              "      <td>Low</td>\n",
              "    </tr>\n",
              "    <tr>\n",
              "      <th>19</th>\n",
              "      <td>70.0</td>\n",
              "      <td>Low</td>\n",
              "    </tr>\n",
              "    <tr>\n",
              "      <th>20</th>\n",
              "      <td>70.0</td>\n",
              "      <td>Low</td>\n",
              "    </tr>\n",
              "  </tbody>\n",
              "</table>\n",
              "</div>"
            ],
            "text/plain": [
              "    horsepower horsepower-binned\n",
              "0        111.0               Low\n",
              "1        111.0               Low\n",
              "2        154.0            Medium\n",
              "3        102.0               Low\n",
              "4        115.0               Low\n",
              "5        110.0               Low\n",
              "6        110.0               Low\n",
              "7        110.0               Low\n",
              "8        140.0            Medium\n",
              "10       101.0               Low\n",
              "11       101.0               Low\n",
              "12       121.0            Medium\n",
              "13       121.0            Medium\n",
              "14       121.0            Medium\n",
              "15       182.0            Medium\n",
              "16       182.0            Medium\n",
              "17       182.0            Medium\n",
              "18        48.0               Low\n",
              "19        70.0               Low\n",
              "20        70.0               Low"
            ]
          },
          "execution_count": 25,
          "metadata": {},
          "output_type": "execute_result"
        }
      ],
      "source": [
        "import_data['horsepower-binned'] = pd.cut(import_data['horsepower'], bins, labels=group_names, include_lowest=True )\n",
        "import_data[['horsepower','horsepower-binned']].head(20)"
      ]
    },
    {
      "cell_type": "markdown",
      "id": "fe1cfaf6-2330-443d-96ee-600920071911",
      "metadata": {
        "id": "fe1cfaf6-2330-443d-96ee-600920071911"
      },
      "source": [
        "We apply the function \"cut\" to determine what each value of `df['horsepower']` belongs to."
      ]
    },
    {
      "cell_type": "code",
      "execution_count": null,
      "id": "e5bc5158-4dcc-45af-80f5-b43014fce8df",
      "metadata": {
        "id": "e5bc5158-4dcc-45af-80f5-b43014fce8df",
        "outputId": "6fbeb028-347c-463b-ad94-ca2dc53c57c1"
      },
      "outputs": [
        {
          "data": {
            "text/plain": [
              "Low       151\n",
              "Medium     43\n",
              "High        5\n",
              "Name: horsepower-binned, dtype: int64"
            ]
          },
          "execution_count": 26,
          "metadata": {},
          "output_type": "execute_result"
        }
      ],
      "source": [
        "import_data[\"horsepower-binned\"].value_counts()"
      ]
    },
    {
      "cell_type": "markdown",
      "id": "977c5cdd-e5ae-4110-a88c-b22db43cb0d8",
      "metadata": {
        "id": "977c5cdd-e5ae-4110-a88c-b22db43cb0d8"
      },
      "source": [
        "#### Plot the Bins Visualization"
      ]
    },
    {
      "cell_type": "code",
      "execution_count": null,
      "id": "baa03a6f-8980-4a3b-80ae-39fc31aea7e5",
      "metadata": {
        "id": "baa03a6f-8980-4a3b-80ae-39fc31aea7e5",
        "outputId": "00fdf8fd-ded6-4af0-c380-30a1a46a6bc4"
      },
      "outputs": [
        {
          "data": {
            "text/plain": [
              "Text(0.5, 1.0, 'horsepower bins')"
            ]
          },
          "execution_count": 27,
          "metadata": {},
          "output_type": "execute_result"
        },
        {
          "data": {
            "image/png": "[encoded data removed]",
            "text/plain": [
              "<Figure size 432x288 with 1 Axes>"
            ]
          },
          "metadata": {
            "needs_background": "light"
          },
          "output_type": "display_data"
        }
      ],
      "source": [
        "import matplotlib as plt\n",
        "from matplotlib import pyplot\n",
        "pyplot.bar(group_names, import_data[\"horsepower-binned\"].value_counts())\n",
        "\n",
        "# set x/y labels and plot title\n",
        "plt.pyplot.xlabel(\"horsepower\")\n",
        "plt.pyplot.ylabel(\"count\")\n",
        "plt.pyplot.title(\"horsepower bins\")"
      ]
    },
    {
      "cell_type": "markdown",
      "id": "509197d6-5c25-4d3d-bc3e-f4ce6c82e950",
      "metadata": {
        "id": "509197d6-5c25-4d3d-bc3e-f4ce6c82e950"
      },
      "source": [
        "#### Create a indicator Variable\n",
        "\n",
        "An idicator variable will be created for the `fuel-type and aspiration` column as it has 2 variables gas or diesel. The indicator variable was created to allow for regression analysis. Regression only understand umbers not words."
      ]
    },
    {
      "cell_type": "code",
      "execution_count": null,
      "id": "e7cc95f9-247b-4f62-acfa-762a31863040",
      "metadata": {
        "id": "e7cc95f9-247b-4f62-acfa-762a31863040",
        "outputId": "b99f3030-0131-4141-a990-3e3a8cc086e2"
      },
      "outputs": [
        {
          "data": {
            "text/html": [
              "<div>\n",
              "<style scoped>\n",
              "    .dataframe tbody tr th:only-of-type {\n",
              "        vertical-align: middle;\n",
              "    }\n",
              "\n",
              "    .dataframe tbody tr th {\n",
              "        vertical-align: top;\n",
              "    }\n",
              "\n",
              "    .dataframe thead th {\n",
              "        text-align: right;\n",
              "    }\n",
              "</style>\n",
              "<table border=\"1\" class=\"dataframe\">\n",
              "  <thead>\n",
              "    <tr style=\"text-align: right;\">\n",
              "      <th></th>\n",
              "      <th>diesel</th>\n",
              "      <th>gas</th>\n",
              "    </tr>\n",
              "  </thead>\n",
              "  <tbody>\n",
              "    <tr>\n",
              "      <th>0</th>\n",
              "      <td>0</td>\n",
              "      <td>1</td>\n",
              "    </tr>\n",
              "    <tr>\n",
              "      <th>1</th>\n",
              "      <td>0</td>\n",
              "      <td>1</td>\n",
              "    </tr>\n",
              "    <tr>\n",
              "      <th>2</th>\n",
              "      <td>0</td>\n",
              "      <td>1</td>\n",
              "    </tr>\n",
              "    <tr>\n",
              "      <th>3</th>\n",
              "      <td>0</td>\n",
              "      <td>1</td>\n",
              "    </tr>\n",
              "    <tr>\n",
              "      <th>4</th>\n",
              "      <td>0</td>\n",
              "      <td>1</td>\n",
              "    </tr>\n",
              "  </tbody>\n",
              "</table>\n",
              "</div>"
            ],
            "text/plain": [
              "   diesel  gas\n",
              "0       0    1\n",
              "1       0    1\n",
              "2       0    1\n",
              "3       0    1\n",
              "4       0    1"
            ]
          },
          "execution_count": 28,
          "metadata": {},
          "output_type": "execute_result"
        }
      ],
      "source": [
        "indicator_variable = pd.get_dummies(import_data[\"fuel-type\"])\n",
        "indicator_variable.head()"
      ]
    },
    {
      "cell_type": "markdown",
      "id": "6370f84b-94bc-446a-9d43-6ca01cb910de",
      "metadata": {
        "id": "6370f84b-94bc-446a-9d43-6ca01cb910de"
      },
      "source": [
        "Rename the columns for clarity"
      ]
    },
    {
      "cell_type": "code",
      "execution_count": null,
      "id": "d11e465f-c5f7-4cf8-b957-fdf728860f88",
      "metadata": {
        "id": "d11e465f-c5f7-4cf8-b957-fdf728860f88",
        "outputId": "73a3f6a9-9111-441e-c1c4-85ab0b6dc44b"
      },
      "outputs": [
        {
          "data": {
            "text/html": [
              "<div>\n",
              "<style scoped>\n",
              "    .dataframe tbody tr th:only-of-type {\n",
              "        vertical-align: middle;\n",
              "    }\n",
              "\n",
              "    .dataframe tbody tr th {\n",
              "        vertical-align: top;\n",
              "    }\n",
              "\n",
              "    .dataframe thead th {\n",
              "        text-align: right;\n",
              "    }\n",
              "</style>\n",
              "<table border=\"1\" class=\"dataframe\">\n",
              "  <thead>\n",
              "    <tr style=\"text-align: right;\">\n",
              "      <th></th>\n",
              "      <th>fuel-type-diesel</th>\n",
              "      <th>fuel-type-gas</th>\n",
              "    </tr>\n",
              "  </thead>\n",
              "  <tbody>\n",
              "    <tr>\n",
              "      <th>0</th>\n",
              "      <td>0</td>\n",
              "      <td>1</td>\n",
              "    </tr>\n",
              "    <tr>\n",
              "      <th>1</th>\n",
              "      <td>0</td>\n",
              "      <td>1</td>\n",
              "    </tr>\n",
              "    <tr>\n",
              "      <th>2</th>\n",
              "      <td>0</td>\n",
              "      <td>1</td>\n",
              "    </tr>\n",
              "    <tr>\n",
              "      <th>3</th>\n",
              "      <td>0</td>\n",
              "      <td>1</td>\n",
              "    </tr>\n",
              "    <tr>\n",
              "      <th>4</th>\n",
              "      <td>0</td>\n",
              "      <td>1</td>\n",
              "    </tr>\n",
              "  </tbody>\n",
              "</table>\n",
              "</div>"
            ],
            "text/plain": [
              "   fuel-type-diesel  fuel-type-gas\n",
              "0                 0              1\n",
              "1                 0              1\n",
              "2                 0              1\n",
              "3                 0              1\n",
              "4                 0              1"
            ]
          },
          "execution_count": 29,
          "metadata": {},
          "output_type": "execute_result"
        }
      ],
      "source": [
        "indicator_variable.rename(columns={'gas':'fuel-type-gas', 'diesel':'fuel-type-diesel'}, inplace=True)\n",
        "indicator_variable.head()"
      ]
    },
    {
      "cell_type": "code",
      "execution_count": null,
      "id": "8d1f5097-2764-4ec3-9abc-80f239eb1cd5",
      "metadata": {
        "id": "8d1f5097-2764-4ec3-9abc-80f239eb1cd5"
      },
      "outputs": [],
      "source": [
        "\n",
        "df = pd.concat([import_data, indicator_variable], axis=1)\n",
        "\n",
        "\n",
        "df.drop(\"fuel-type\", axis = 1, inplace=True)"
      ]
    },
    {
      "cell_type": "code",
      "execution_count": null,
      "id": "a5aceb33-6212-4f64-96d4-4228b23fef7f",
      "metadata": {
        "id": "a5aceb33-6212-4f64-96d4-4228b23fef7f",
        "outputId": "656d2791-280d-4dc1-a04e-f4d579b2fe66"
      },
      "outputs": [
        {
          "data": {
            "text/html": [
              "<div>\n",
              "<style scoped>\n",
              "    .dataframe tbody tr th:only-of-type {\n",
              "        vertical-align: middle;\n",
              "    }\n",
              "\n",
              "    .dataframe tbody tr th {\n",
              "        vertical-align: top;\n",
              "    }\n",
              "\n",
              "    .dataframe thead th {\n",
              "        text-align: right;\n",
              "    }\n",
              "</style>\n",
              "<table border=\"1\" class=\"dataframe\">\n",
              "  <thead>\n",
              "    <tr style=\"text-align: right;\">\n",
              "      <th></th>\n",
              "      <th>symboling</th>\n",
              "      <th>normalized-losses</th>\n",
              "      <th>make</th>\n",
              "      <th>aspiration</th>\n",
              "      <th>num-of-doors</th>\n",
              "      <th>body-style</th>\n",
              "      <th>drive-wheels</th>\n",
              "      <th>engine-location</th>\n",
              "      <th>wheel-base</th>\n",
              "      <th>length</th>\n",
              "      <th>...</th>\n",
              "      <th>horsepower</th>\n",
              "      <th>peak-rpm</th>\n",
              "      <th>city-mpg</th>\n",
              "      <th>highway-mpg</th>\n",
              "      <th>price</th>\n",
              "      <th>city-L/100km</th>\n",
              "      <th>highway-L/100km</th>\n",
              "      <th>horsepower-binned</th>\n",
              "      <th>fuel-type-diesel</th>\n",
              "      <th>fuel-type-gas</th>\n",
              "    </tr>\n",
              "  </thead>\n",
              "  <tbody>\n",
              "    <tr>\n",
              "      <th>0</th>\n",
              "      <td>3</td>\n",
              "      <td>122</td>\n",
              "      <td>alfa-romero</td>\n",
              "      <td>std</td>\n",
              "      <td>two</td>\n",
              "      <td>convertible</td>\n",
              "      <td>rwd</td>\n",
              "      <td>front</td>\n",
              "      <td>88.6</td>\n",
              "      <td>168.8</td>\n",
              "      <td>...</td>\n",
              "      <td>111.0</td>\n",
              "      <td>5000.0</td>\n",
              "      <td>21</td>\n",
              "      <td>27</td>\n",
              "      <td>13495.0</td>\n",
              "      <td>11.190476</td>\n",
              "      <td>8.703704</td>\n",
              "      <td>Low</td>\n",
              "      <td>0</td>\n",
              "      <td>1</td>\n",
              "    </tr>\n",
              "    <tr>\n",
              "      <th>1</th>\n",
              "      <td>3</td>\n",
              "      <td>122</td>\n",
              "      <td>alfa-romero</td>\n",
              "      <td>std</td>\n",
              "      <td>two</td>\n",
              "      <td>convertible</td>\n",
              "      <td>rwd</td>\n",
              "      <td>front</td>\n",
              "      <td>88.6</td>\n",
              "      <td>168.8</td>\n",
              "      <td>...</td>\n",
              "      <td>111.0</td>\n",
              "      <td>5000.0</td>\n",
              "      <td>21</td>\n",
              "      <td>27</td>\n",
              "      <td>16500.0</td>\n",
              "      <td>11.190476</td>\n",
              "      <td>8.703704</td>\n",
              "      <td>Low</td>\n",
              "      <td>0</td>\n",
              "      <td>1</td>\n",
              "    </tr>\n",
              "    <tr>\n",
              "      <th>2</th>\n",
              "      <td>1</td>\n",
              "      <td>122</td>\n",
              "      <td>alfa-romero</td>\n",
              "      <td>std</td>\n",
              "      <td>two</td>\n",
              "      <td>hatchback</td>\n",
              "      <td>rwd</td>\n",
              "      <td>front</td>\n",
              "      <td>94.5</td>\n",
              "      <td>171.2</td>\n",
              "      <td>...</td>\n",
              "      <td>154.0</td>\n",
              "      <td>5000.0</td>\n",
              "      <td>19</td>\n",
              "      <td>26</td>\n",
              "      <td>16500.0</td>\n",
              "      <td>12.368421</td>\n",
              "      <td>9.038462</td>\n",
              "      <td>Medium</td>\n",
              "      <td>0</td>\n",
              "      <td>1</td>\n",
              "    </tr>\n",
              "    <tr>\n",
              "      <th>3</th>\n",
              "      <td>2</td>\n",
              "      <td>164</td>\n",
              "      <td>audi</td>\n",
              "      <td>std</td>\n",
              "      <td>four</td>\n",
              "      <td>sedan</td>\n",
              "      <td>fwd</td>\n",
              "      <td>front</td>\n",
              "      <td>99.8</td>\n",
              "      <td>176.6</td>\n",
              "      <td>...</td>\n",
              "      <td>102.0</td>\n",
              "      <td>5500.0</td>\n",
              "      <td>24</td>\n",
              "      <td>30</td>\n",
              "      <td>13950.0</td>\n",
              "      <td>9.791667</td>\n",
              "      <td>7.833333</td>\n",
              "      <td>Low</td>\n",
              "      <td>0</td>\n",
              "      <td>1</td>\n",
              "    </tr>\n",
              "    <tr>\n",
              "      <th>4</th>\n",
              "      <td>2</td>\n",
              "      <td>164</td>\n",
              "      <td>audi</td>\n",
              "      <td>std</td>\n",
              "      <td>four</td>\n",
              "      <td>sedan</td>\n",
              "      <td>4wd</td>\n",
              "      <td>front</td>\n",
              "      <td>99.4</td>\n",
              "      <td>176.6</td>\n",
              "      <td>...</td>\n",
              "      <td>115.0</td>\n",
              "      <td>5500.0</td>\n",
              "      <td>18</td>\n",
              "      <td>22</td>\n",
              "      <td>17450.0</td>\n",
              "      <td>13.055556</td>\n",
              "      <td>10.681818</td>\n",
              "      <td>Low</td>\n",
              "      <td>0</td>\n",
              "      <td>1</td>\n",
              "    </tr>\n",
              "    <tr>\n",
              "      <th>5</th>\n",
              "      <td>2</td>\n",
              "      <td>122</td>\n",
              "      <td>audi</td>\n",
              "      <td>std</td>\n",
              "      <td>two</td>\n",
              "      <td>sedan</td>\n",
              "      <td>fwd</td>\n",
              "      <td>front</td>\n",
              "      <td>99.8</td>\n",
              "      <td>177.3</td>\n",
              "      <td>...</td>\n",
              "      <td>110.0</td>\n",
              "      <td>5500.0</td>\n",
              "      <td>19</td>\n",
              "      <td>25</td>\n",
              "      <td>15250.0</td>\n",
              "      <td>12.368421</td>\n",
              "      <td>9.400000</td>\n",
              "      <td>Low</td>\n",
              "      <td>0</td>\n",
              "      <td>1</td>\n",
              "    </tr>\n",
              "    <tr>\n",
              "      <th>6</th>\n",
              "      <td>1</td>\n",
              "      <td>158</td>\n",
              "      <td>audi</td>\n",
              "      <td>std</td>\n",
              "      <td>four</td>\n",
              "      <td>sedan</td>\n",
              "      <td>fwd</td>\n",
              "      <td>front</td>\n",
              "      <td>105.8</td>\n",
              "      <td>192.7</td>\n",
              "      <td>...</td>\n",
              "      <td>110.0</td>\n",
              "      <td>5500.0</td>\n",
              "      <td>19</td>\n",
              "      <td>25</td>\n",
              "      <td>17710.0</td>\n",
              "      <td>12.368421</td>\n",
              "      <td>9.400000</td>\n",
              "      <td>Low</td>\n",
              "      <td>0</td>\n",
              "      <td>1</td>\n",
              "    </tr>\n",
              "    <tr>\n",
              "      <th>7</th>\n",
              "      <td>1</td>\n",
              "      <td>122</td>\n",
              "      <td>audi</td>\n",
              "      <td>std</td>\n",
              "      <td>four</td>\n",
              "      <td>wagon</td>\n",
              "      <td>fwd</td>\n",
              "      <td>front</td>\n",
              "      <td>105.8</td>\n",
              "      <td>192.7</td>\n",
              "      <td>...</td>\n",
              "      <td>110.0</td>\n",
              "      <td>5500.0</td>\n",
              "      <td>19</td>\n",
              "      <td>25</td>\n",
              "      <td>18920.0</td>\n",
              "      <td>12.368421</td>\n",
              "      <td>9.400000</td>\n",
              "      <td>Low</td>\n",
              "      <td>0</td>\n",
              "      <td>1</td>\n",
              "    </tr>\n",
              "    <tr>\n",
              "      <th>8</th>\n",
              "      <td>1</td>\n",
              "      <td>158</td>\n",
              "      <td>audi</td>\n",
              "      <td>turbo</td>\n",
              "      <td>four</td>\n",
              "      <td>sedan</td>\n",
              "      <td>fwd</td>\n",
              "      <td>front</td>\n",
              "      <td>105.8</td>\n",
              "      <td>192.7</td>\n",
              "      <td>...</td>\n",
              "      <td>140.0</td>\n",
              "      <td>5500.0</td>\n",
              "      <td>17</td>\n",
              "      <td>20</td>\n",
              "      <td>23875.0</td>\n",
              "      <td>13.823529</td>\n",
              "      <td>11.750000</td>\n",
              "      <td>Medium</td>\n",
              "      <td>0</td>\n",
              "      <td>1</td>\n",
              "    </tr>\n",
              "    <tr>\n",
              "      <th>10</th>\n",
              "      <td>2</td>\n",
              "      <td>192</td>\n",
              "      <td>bmw</td>\n",
              "      <td>std</td>\n",
              "      <td>two</td>\n",
              "      <td>sedan</td>\n",
              "      <td>rwd</td>\n",
              "      <td>front</td>\n",
              "      <td>101.2</td>\n",
              "      <td>176.8</td>\n",
              "      <td>...</td>\n",
              "      <td>101.0</td>\n",
              "      <td>5800.0</td>\n",
              "      <td>23</td>\n",
              "      <td>29</td>\n",
              "      <td>16430.0</td>\n",
              "      <td>10.217391</td>\n",
              "      <td>8.103448</td>\n",
              "      <td>Low</td>\n",
              "      <td>0</td>\n",
              "      <td>1</td>\n",
              "    </tr>\n",
              "  </tbody>\n",
              "</table>\n",
              "<p>10 rows × 30 columns</p>\n",
              "</div>"
            ],
            "text/plain": [
              "    symboling  normalized-losses         make aspiration num-of-doors  \\\n",
              "0           3                122  alfa-romero        std          two   \n",
              "1           3                122  alfa-romero        std          two   \n",
              "2           1                122  alfa-romero        std          two   \n",
              "3           2                164         audi        std         four   \n",
              "4           2                164         audi        std         four   \n",
              "5           2                122         audi        std          two   \n",
              "6           1                158         audi        std         four   \n",
              "7           1                122         audi        std         four   \n",
              "8           1                158         audi      turbo         four   \n",
              "10          2                192          bmw        std          two   \n",
              "\n",
              "     body-style drive-wheels engine-location  wheel-base  length  ...  \\\n",
              "0   convertible          rwd           front        88.6   168.8  ...   \n",
              "1   convertible          rwd           front        88.6   168.8  ...   \n",
              "2     hatchback          rwd           front        94.5   171.2  ...   \n",
              "3         sedan          fwd           front        99.8   176.6  ...   \n",
              "4         sedan          4wd           front        99.4   176.6  ...   \n",
              "5         sedan          fwd           front        99.8   177.3  ...   \n",
              "6         sedan          fwd           front       105.8   192.7  ...   \n",
              "7         wagon          fwd           front       105.8   192.7  ...   \n",
              "8         sedan          fwd           front       105.8   192.7  ...   \n",
              "10        sedan          rwd           front       101.2   176.8  ...   \n",
              "\n",
              "    horsepower  peak-rpm  city-mpg highway-mpg    price  city-L/100km  \\\n",
              "0        111.0    5000.0        21          27  13495.0     11.190476   \n",
              "1        111.0    5000.0        21          27  16500.0     11.190476   \n",
              "2        154.0    5000.0        19          26  16500.0     12.368421   \n",
              "3        102.0    5500.0        24          30  13950.0      9.791667   \n",
              "4        115.0    5500.0        18          22  17450.0     13.055556   \n",
              "5        110.0    5500.0        19          25  15250.0     12.368421   \n",
              "6        110.0    5500.0        19          25  17710.0     12.368421   \n",
              "7        110.0    5500.0        19          25  18920.0     12.368421   \n",
              "8        140.0    5500.0        17          20  23875.0     13.823529   \n",
              "10       101.0    5800.0        23          29  16430.0     10.217391   \n",
              "\n",
              "   highway-L/100km  horsepower-binned  fuel-type-diesel  fuel-type-gas  \n",
              "0         8.703704                Low                 0              1  \n",
              "1         8.703704                Low                 0              1  \n",
              "2         9.038462             Medium                 0              1  \n",
              "3         7.833333                Low                 0              1  \n",
              "4        10.681818                Low                 0              1  \n",
              "5         9.400000                Low                 0              1  \n",
              "6         9.400000                Low                 0              1  \n",
              "7         9.400000                Low                 0              1  \n",
              "8        11.750000             Medium                 0              1  \n",
              "10        8.103448                Low                 0              1  \n",
              "\n",
              "[10 rows x 30 columns]"
            ]
          },
          "execution_count": 31,
          "metadata": {},
          "output_type": "execute_result"
        }
      ],
      "source": [
        "df.head(10)"
      ]
    },
    {
      "cell_type": "code",
      "execution_count": null,
      "id": "0487dea7-237b-4a2f-a6d3-43ff14544346",
      "metadata": {
        "id": "0487dea7-237b-4a2f-a6d3-43ff14544346",
        "outputId": "7cef17fd-fda4-420d-9006-1adadf575bfb"
      },
      "outputs": [
        {
          "data": {
            "text/html": [
              "<div>\n",
              "<style scoped>\n",
              "    .dataframe tbody tr th:only-of-type {\n",
              "        vertical-align: middle;\n",
              "    }\n",
              "\n",
              "    .dataframe tbody tr th {\n",
              "        vertical-align: top;\n",
              "    }\n",
              "\n",
              "    .dataframe thead th {\n",
              "        text-align: right;\n",
              "    }\n",
              "</style>\n",
              "<table border=\"1\" class=\"dataframe\">\n",
              "  <thead>\n",
              "    <tr style=\"text-align: right;\">\n",
              "      <th></th>\n",
              "      <th>std</th>\n",
              "      <th>turbo</th>\n",
              "    </tr>\n",
              "  </thead>\n",
              "  <tbody>\n",
              "    <tr>\n",
              "      <th>0</th>\n",
              "      <td>1</td>\n",
              "      <td>0</td>\n",
              "    </tr>\n",
              "    <tr>\n",
              "      <th>1</th>\n",
              "      <td>1</td>\n",
              "      <td>0</td>\n",
              "    </tr>\n",
              "    <tr>\n",
              "      <th>2</th>\n",
              "      <td>1</td>\n",
              "      <td>0</td>\n",
              "    </tr>\n",
              "    <tr>\n",
              "      <th>3</th>\n",
              "      <td>1</td>\n",
              "      <td>0</td>\n",
              "    </tr>\n",
              "    <tr>\n",
              "      <th>4</th>\n",
              "      <td>1</td>\n",
              "      <td>0</td>\n",
              "    </tr>\n",
              "  </tbody>\n",
              "</table>\n",
              "</div>"
            ],
            "text/plain": [
              "   std  turbo\n",
              "0    1      0\n",
              "1    1      0\n",
              "2    1      0\n",
              "3    1      0\n",
              "4    1      0"
            ]
          },
          "execution_count": 32,
          "metadata": {},
          "output_type": "execute_result"
        }
      ],
      "source": [
        "indicator_variable_1 = pd.get_dummies(df[\"aspiration\"])\n",
        "indicator_variable_1.head()"
      ]
    },
    {
      "cell_type": "code",
      "execution_count": null,
      "id": "0a4f840f-5be8-472e-b075-07e9983f95a3",
      "metadata": {
        "id": "0a4f840f-5be8-472e-b075-07e9983f95a3",
        "outputId": "9c8375af-0db3-4df1-f9eb-e4e82c8bf143"
      },
      "outputs": [
        {
          "data": {
            "text/html": [
              "<div>\n",
              "<style scoped>\n",
              "    .dataframe tbody tr th:only-of-type {\n",
              "        vertical-align: middle;\n",
              "    }\n",
              "\n",
              "    .dataframe tbody tr th {\n",
              "        vertical-align: top;\n",
              "    }\n",
              "\n",
              "    .dataframe thead th {\n",
              "        text-align: right;\n",
              "    }\n",
              "</style>\n",
              "<table border=\"1\" class=\"dataframe\">\n",
              "  <thead>\n",
              "    <tr style=\"text-align: right;\">\n",
              "      <th></th>\n",
              "      <th>aspiration-std</th>\n",
              "      <th>aspiration-turbo</th>\n",
              "    </tr>\n",
              "  </thead>\n",
              "  <tbody>\n",
              "    <tr>\n",
              "      <th>0</th>\n",
              "      <td>1</td>\n",
              "      <td>0</td>\n",
              "    </tr>\n",
              "    <tr>\n",
              "      <th>1</th>\n",
              "      <td>1</td>\n",
              "      <td>0</td>\n",
              "    </tr>\n",
              "    <tr>\n",
              "      <th>2</th>\n",
              "      <td>1</td>\n",
              "      <td>0</td>\n",
              "    </tr>\n",
              "    <tr>\n",
              "      <th>3</th>\n",
              "      <td>1</td>\n",
              "      <td>0</td>\n",
              "    </tr>\n",
              "    <tr>\n",
              "      <th>4</th>\n",
              "      <td>1</td>\n",
              "      <td>0</td>\n",
              "    </tr>\n",
              "  </tbody>\n",
              "</table>\n",
              "</div>"
            ],
            "text/plain": [
              "   aspiration-std  aspiration-turbo\n",
              "0               1                 0\n",
              "1               1                 0\n",
              "2               1                 0\n",
              "3               1                 0\n",
              "4               1                 0"
            ]
          },
          "execution_count": 33,
          "metadata": {},
          "output_type": "execute_result"
        }
      ],
      "source": [
        "indicator_variable_1.rename(columns={'std':'aspiration-std', 'turbo':'aspiration-turbo'}, inplace=True)\n",
        "indicator_variable_1.head()"
      ]
    },
    {
      "cell_type": "code",
      "execution_count": null,
      "id": "137edae0-3cb5-4c52-b803-8ba8fb5341a3",
      "metadata": {
        "id": "137edae0-3cb5-4c52-b803-8ba8fb5341a3"
      },
      "outputs": [],
      "source": [
        "\n",
        "df = pd.concat([df, indicator_variable_1], axis=1)\n",
        "\n",
        "\n",
        "df.drop(\"aspiration\", axis = 1, inplace=True)"
      ]
    },
    {
      "cell_type": "code",
      "execution_count": null,
      "id": "dc2183c4-65c7-4883-adfa-014782b48279",
      "metadata": {
        "id": "dc2183c4-65c7-4883-adfa-014782b48279",
        "outputId": "41d94984-a679-4fd8-ea66-85c09ffac88c"
      },
      "outputs": [
        {
          "data": {
            "text/html": [
              "<div>\n",
              "<style scoped>\n",
              "    .dataframe tbody tr th:only-of-type {\n",
              "        vertical-align: middle;\n",
              "    }\n",
              "\n",
              "    .dataframe tbody tr th {\n",
              "        vertical-align: top;\n",
              "    }\n",
              "\n",
              "    .dataframe thead th {\n",
              "        text-align: right;\n",
              "    }\n",
              "</style>\n",
              "<table border=\"1\" class=\"dataframe\">\n",
              "  <thead>\n",
              "    <tr style=\"text-align: right;\">\n",
              "      <th></th>\n",
              "      <th>symboling</th>\n",
              "      <th>normalized-losses</th>\n",
              "      <th>make</th>\n",
              "      <th>num-of-doors</th>\n",
              "      <th>body-style</th>\n",
              "      <th>drive-wheels</th>\n",
              "      <th>engine-location</th>\n",
              "      <th>wheel-base</th>\n",
              "      <th>length</th>\n",
              "      <th>width</th>\n",
              "      <th>...</th>\n",
              "      <th>city-mpg</th>\n",
              "      <th>highway-mpg</th>\n",
              "      <th>price</th>\n",
              "      <th>city-L/100km</th>\n",
              "      <th>highway-L/100km</th>\n",
              "      <th>horsepower-binned</th>\n",
              "      <th>fuel-type-diesel</th>\n",
              "      <th>fuel-type-gas</th>\n",
              "      <th>aspiration-std</th>\n",
              "      <th>aspiration-turbo</th>\n",
              "    </tr>\n",
              "  </thead>\n",
              "  <tbody>\n",
              "    <tr>\n",
              "      <th>0</th>\n",
              "      <td>3</td>\n",
              "      <td>122</td>\n",
              "      <td>alfa-romero</td>\n",
              "      <td>two</td>\n",
              "      <td>convertible</td>\n",
              "      <td>rwd</td>\n",
              "      <td>front</td>\n",
              "      <td>88.6</td>\n",
              "      <td>168.8</td>\n",
              "      <td>64.1</td>\n",
              "      <td>...</td>\n",
              "      <td>21</td>\n",
              "      <td>27</td>\n",
              "      <td>13495.0</td>\n",
              "      <td>11.190476</td>\n",
              "      <td>8.703704</td>\n",
              "      <td>Low</td>\n",
              "      <td>0</td>\n",
              "      <td>1</td>\n",
              "      <td>1</td>\n",
              "      <td>0</td>\n",
              "    </tr>\n",
              "    <tr>\n",
              "      <th>1</th>\n",
              "      <td>3</td>\n",
              "      <td>122</td>\n",
              "      <td>alfa-romero</td>\n",
              "      <td>two</td>\n",
              "      <td>convertible</td>\n",
              "      <td>rwd</td>\n",
              "      <td>front</td>\n",
              "      <td>88.6</td>\n",
              "      <td>168.8</td>\n",
              "      <td>64.1</td>\n",
              "      <td>...</td>\n",
              "      <td>21</td>\n",
              "      <td>27</td>\n",
              "      <td>16500.0</td>\n",
              "      <td>11.190476</td>\n",
              "      <td>8.703704</td>\n",
              "      <td>Low</td>\n",
              "      <td>0</td>\n",
              "      <td>1</td>\n",
              "      <td>1</td>\n",
              "      <td>0</td>\n",
              "    </tr>\n",
              "    <tr>\n",
              "      <th>2</th>\n",
              "      <td>1</td>\n",
              "      <td>122</td>\n",
              "      <td>alfa-romero</td>\n",
              "      <td>two</td>\n",
              "      <td>hatchback</td>\n",
              "      <td>rwd</td>\n",
              "      <td>front</td>\n",
              "      <td>94.5</td>\n",
              "      <td>171.2</td>\n",
              "      <td>65.5</td>\n",
              "      <td>...</td>\n",
              "      <td>19</td>\n",
              "      <td>26</td>\n",
              "      <td>16500.0</td>\n",
              "      <td>12.368421</td>\n",
              "      <td>9.038462</td>\n",
              "      <td>Medium</td>\n",
              "      <td>0</td>\n",
              "      <td>1</td>\n",
              "      <td>1</td>\n",
              "      <td>0</td>\n",
              "    </tr>\n",
              "    <tr>\n",
              "      <th>3</th>\n",
              "      <td>2</td>\n",
              "      <td>164</td>\n",
              "      <td>audi</td>\n",
              "      <td>four</td>\n",
              "      <td>sedan</td>\n",
              "      <td>fwd</td>\n",
              "      <td>front</td>\n",
              "      <td>99.8</td>\n",
              "      <td>176.6</td>\n",
              "      <td>66.2</td>\n",
              "      <td>...</td>\n",
              "      <td>24</td>\n",
              "      <td>30</td>\n",
              "      <td>13950.0</td>\n",
              "      <td>9.791667</td>\n",
              "      <td>7.833333</td>\n",
              "      <td>Low</td>\n",
              "      <td>0</td>\n",
              "      <td>1</td>\n",
              "      <td>1</td>\n",
              "      <td>0</td>\n",
              "    </tr>\n",
              "    <tr>\n",
              "      <th>4</th>\n",
              "      <td>2</td>\n",
              "      <td>164</td>\n",
              "      <td>audi</td>\n",
              "      <td>four</td>\n",
              "      <td>sedan</td>\n",
              "      <td>4wd</td>\n",
              "      <td>front</td>\n",
              "      <td>99.4</td>\n",
              "      <td>176.6</td>\n",
              "      <td>66.4</td>\n",
              "      <td>...</td>\n",
              "      <td>18</td>\n",
              "      <td>22</td>\n",
              "      <td>17450.0</td>\n",
              "      <td>13.055556</td>\n",
              "      <td>10.681818</td>\n",
              "      <td>Low</td>\n",
              "      <td>0</td>\n",
              "      <td>1</td>\n",
              "      <td>1</td>\n",
              "      <td>0</td>\n",
              "    </tr>\n",
              "  </tbody>\n",
              "</table>\n",
              "<p>5 rows × 31 columns</p>\n",
              "</div>"
            ],
            "text/plain": [
              "   symboling  normalized-losses         make num-of-doors   body-style  \\\n",
              "0          3                122  alfa-romero          two  convertible   \n",
              "1          3                122  alfa-romero          two  convertible   \n",
              "2          1                122  alfa-romero          two    hatchback   \n",
              "3          2                164         audi         four        sedan   \n",
              "4          2                164         audi         four        sedan   \n",
              "\n",
              "  drive-wheels engine-location  wheel-base  length  width  ...  city-mpg  \\\n",
              "0          rwd           front        88.6   168.8   64.1  ...        21   \n",
              "1          rwd           front        88.6   168.8   64.1  ...        21   \n",
              "2          rwd           front        94.5   171.2   65.5  ...        19   \n",
              "3          fwd           front        99.8   176.6   66.2  ...        24   \n",
              "4          4wd           front        99.4   176.6   66.4  ...        18   \n",
              "\n",
              "   highway-mpg    price city-L/100km  highway-L/100km horsepower-binned  \\\n",
              "0           27  13495.0    11.190476         8.703704               Low   \n",
              "1           27  16500.0    11.190476         8.703704               Low   \n",
              "2           26  16500.0    12.368421         9.038462            Medium   \n",
              "3           30  13950.0     9.791667         7.833333               Low   \n",
              "4           22  17450.0    13.055556        10.681818               Low   \n",
              "\n",
              "   fuel-type-diesel  fuel-type-gas  aspiration-std  aspiration-turbo  \n",
              "0                 0              1               1                 0  \n",
              "1                 0              1               1                 0  \n",
              "2                 0              1               1                 0  \n",
              "3                 0              1               1                 0  \n",
              "4                 0              1               1                 0  \n",
              "\n",
              "[5 rows x 31 columns]"
            ]
          },
          "execution_count": 35,
          "metadata": {},
          "output_type": "execute_result"
        }
      ],
      "source": [
        "df.head()"
      ]
    },
    {
      "cell_type": "markdown",
      "id": "1ea0d8db-bb3d-49e1-a1a6-81e9f82a84ee",
      "metadata": {
        "id": "1ea0d8db-bb3d-49e1-a1a6-81e9f82a84ee"
      },
      "source": [
        "### Data Visualization and Correlation"
      ]
    },
    {
      "cell_type": "code",
      "execution_count": null,
      "id": "33d0ca1d-69f4-47fb-b070-75a3f20c6776",
      "metadata": {
        "id": "33d0ca1d-69f4-47fb-b070-75a3f20c6776",
        "outputId": "08859a71-15fa-41c5-ecc1-98ba637b6b07"
      },
      "outputs": [
        {
          "data": {
            "text/plain": [
              "<AxesSubplot:xlabel='drive-wheels', ylabel='price'>"
            ]
          },
          "execution_count": 36,
          "metadata": {},
          "output_type": "execute_result"
        },
        {
          "data": {
            "image/png": "[encoded data removed]",
            "text/plain": [
              "<Figure size 432x288 with 1 Axes>"
            ]
          },
          "metadata": {
            "needs_background": "light"
          },
          "output_type": "display_data"
        }
      ],
      "source": [
        "sns.boxplot(x=\"drive-wheels\", y=\"price\", data=df)"
      ]
    },
    {
      "cell_type": "code",
      "execution_count": null,
      "id": "2cc5cff6-d058-45c2-bd9a-da55dfe057d9",
      "metadata": {
        "id": "2cc5cff6-d058-45c2-bd9a-da55dfe057d9",
        "outputId": "609ed352-0094-40f6-a3ce-379eb0c77b95"
      },
      "outputs": [
        {
          "data": {
            "text/plain": [
              "<AxesSubplot:xlabel='body-style', ylabel='price'>"
            ]
          },
          "execution_count": 37,
          "metadata": {},
          "output_type": "execute_result"
        },
        {
          "data": {
            "image/png": "[encoded data removed]",
            "text/plain": [
              "<Figure size 432x288 with 1 Axes>"
            ]
          },
          "metadata": {
            "needs_background": "light"
          },
          "output_type": "display_data"
        }
      ],
      "source": [
        "sns.boxplot(x=\"body-style\", y=\"price\", data=df)"
      ]
    },
    {
      "cell_type": "code",
      "execution_count": null,
      "id": "2d3dccd9-0071-46c9-83fe-b3841f455e96",
      "metadata": {
        "id": "2d3dccd9-0071-46c9-83fe-b3841f455e96",
        "outputId": "01490e03-6c56-4af2-e4a5-7f36119fd234"
      },
      "outputs": [
        {
          "data": {
            "text/plain": [
              "Text(0, 0.5, 'Price')"
            ]
          },
          "execution_count": 38,
          "metadata": {},
          "output_type": "execute_result"
        },
        {
          "data": {
            "image/png": "[encoded data removed]",
            "text/plain": [
              "<Figure size 432x288 with 1 Axes>"
            ]
          },
          "metadata": {
            "needs_background": "light"
          },
          "output_type": "display_data"
        }
      ],
      "source": [
        "from matplotlib import pyplot as plt\n",
        "\n",
        "x = df[\"engine-size\"]\n",
        "y = df[\"price\"]\n",
        "sns.regplot(x = \"engine-size\",y = \"price\", data = df)\n",
        "plt.ylim(0,)\n",
        "\n",
        "plt.title(\"Scatterplot of Engine-size vs Price\")\n",
        "plt.xlabel(\"Engine Size\")\n",
        "plt.ylabel(\"Price\")"
      ]
    },
    {
      "cell_type": "code",
      "execution_count": null,
      "id": "24eeca22-c9af-43e6-9514-10520c5ab60d",
      "metadata": {
        "id": "24eeca22-c9af-43e6-9514-10520c5ab60d",
        "outputId": "6a07af70-9c87-4695-93a9-3a0a4db4513a"
      },
      "outputs": [
        {
          "data": {
            "text/html": [
              "<div>\n",
              "<style scoped>\n",
              "    .dataframe tbody tr th:only-of-type {\n",
              "        vertical-align: middle;\n",
              "    }\n",
              "\n",
              "    .dataframe tbody tr th {\n",
              "        vertical-align: top;\n",
              "    }\n",
              "\n",
              "    .dataframe thead th {\n",
              "        text-align: right;\n",
              "    }\n",
              "</style>\n",
              "<table border=\"1\" class=\"dataframe\">\n",
              "  <thead>\n",
              "    <tr style=\"text-align: right;\">\n",
              "      <th></th>\n",
              "      <th>engine-size</th>\n",
              "      <th>price</th>\n",
              "    </tr>\n",
              "  </thead>\n",
              "  <tbody>\n",
              "    <tr>\n",
              "      <th>engine-size</th>\n",
              "      <td>1.000000</td>\n",
              "      <td>0.873887</td>\n",
              "    </tr>\n",
              "    <tr>\n",
              "      <th>price</th>\n",
              "      <td>0.873887</td>\n",
              "      <td>1.000000</td>\n",
              "    </tr>\n",
              "  </tbody>\n",
              "</table>\n",
              "</div>"
            ],
            "text/plain": [
              "             engine-size     price\n",
              "engine-size     1.000000  0.873887\n",
              "price           0.873887  1.000000"
            ]
          },
          "execution_count": 39,
          "metadata": {},
          "output_type": "execute_result"
        }
      ],
      "source": [
        "df[[\"engine-size\", \"price\"]].corr()"
      ]
    },
    {
      "cell_type": "markdown",
      "id": "947e94ca-2c23-4673-8755-1971793e6f68",
      "metadata": {
        "id": "947e94ca-2c23-4673-8755-1971793e6f68"
      },
      "source": [
        "The viz shows a positive correlation between engine size and price. As the price goes up so does the engine size."
      ]
    },
    {
      "cell_type": "code",
      "execution_count": null,
      "id": "c52b16d8-af28-4589-8e15-d3d5c8d70cb6",
      "metadata": {
        "id": "c52b16d8-af28-4589-8e15-d3d5c8d70cb6",
        "outputId": "fd54baf4-3697-4532-d4f8-8a292f2d2034"
      },
      "outputs": [
        {
          "data": {
            "text/plain": [
              "Text(0, 0.5, 'Price')"
            ]
          },
          "execution_count": 40,
          "metadata": {},
          "output_type": "execute_result"
        },
        {
          "data": {
            "image/png": "[encoded data removed]",
            "text/plain": [
              "<Figure size 432x288 with 1 Axes>"
            ]
          },
          "metadata": {
            "needs_background": "light"
          },
          "output_type": "display_data"
        }
      ],
      "source": [
        "sns.regplot(x = \"highway-mpg\",y = \"price\", data = df)\n",
        "plt.ylim(0,)\n",
        "\n",
        "plt.title(\"Scatterplot of Highway MPG vs Price\")\n",
        "plt.xlabel(\"highway-mpg\")\n",
        "plt.ylabel(\"Price\")"
      ]
    },
    {
      "cell_type": "markdown",
      "id": "991e0dcf-d9e6-4f98-96d6-ccf9163b7285",
      "metadata": {
        "id": "991e0dcf-d9e6-4f98-96d6-ccf9163b7285"
      },
      "source": [
        "Unlike the positive correlatio shared between engine size and price, the highway mpg has a negative correlation with price. This makes sense as an increase in fuel consumption shows a decrease in price.\n",
        "\n",
        "The correlation between price vs engine size and price vs highway-mpg shows though opposite i nature shows a steep correlation making a good indicator or variable to predict price."
      ]
    },
    {
      "cell_type": "code",
      "execution_count": null,
      "id": "29237ad2-7400-4221-b463-e7c99acc4296",
      "metadata": {
        "id": "29237ad2-7400-4221-b463-e7c99acc4296",
        "outputId": "34cd2369-8fce-4f34-bfd5-e5a87acdbfde"
      },
      "outputs": [
        {
          "data": {
            "text/plain": [
              "Text(0, 0.5, 'Price')"
            ]
          },
          "execution_count": 41,
          "metadata": {},
          "output_type": "execute_result"
        },
        {
          "data": {
            "image/png": "[encoded data removed]",
            "text/plain": [
              "<Figure size 432x288 with 1 Axes>"
            ]
          },
          "metadata": {
            "needs_background": "light"
          },
          "output_type": "display_data"
        }
      ],
      "source": [
        "from matplotlib import pyplot as plt\n",
        "\n",
        "x = df[\"horsepower\"]\n",
        "y = df[\"price\"]\n",
        "plt.scatter(x,y)\n",
        "\n",
        "plt.title(\"Scatterplot of Horsepower vs Price\")\n",
        "plt.xlabel(\"Horsepower\")\n",
        "plt.ylabel(\"Price\")"
      ]
    },
    {
      "cell_type": "markdown",
      "id": "5bb776a7-ab35-456c-a940-0245cf4dc2d9",
      "metadata": {
        "id": "5bb776a7-ab35-456c-a940-0245cf4dc2d9"
      },
      "source": [
        "The next step is to check for the average `price` of vehicles and observe how they differ betwee different types of `body styles` and `drive wheels` variables"
      ]
    },
    {
      "cell_type": "markdown",
      "id": "93775dd5-ed69-4350-80ee-3040d45dd42a",
      "metadata": {
        "id": "93775dd5-ed69-4350-80ee-3040d45dd42a"
      },
      "source": [
        "First step is to use the `groupby()` method"
      ]
    },
    {
      "cell_type": "code",
      "execution_count": null,
      "id": "ba9fd807-5a98-4e0b-8b54-2d347813e67a",
      "metadata": {
        "id": "ba9fd807-5a98-4e0b-8b54-2d347813e67a",
        "outputId": "020ab7aa-ce48-4bde-ee14-89e555164962"
      },
      "outputs": [
        {
          "data": {
            "text/html": [
              "<div>\n",
              "<style scoped>\n",
              "    .dataframe tbody tr th:only-of-type {\n",
              "        vertical-align: middle;\n",
              "    }\n",
              "\n",
              "    .dataframe tbody tr th {\n",
              "        vertical-align: top;\n",
              "    }\n",
              "\n",
              "    .dataframe thead th {\n",
              "        text-align: right;\n",
              "    }\n",
              "</style>\n",
              "<table border=\"1\" class=\"dataframe\">\n",
              "  <thead>\n",
              "    <tr style=\"text-align: right;\">\n",
              "      <th></th>\n",
              "      <th>drive-wheels</th>\n",
              "      <th>body-style</th>\n",
              "      <th>price</th>\n",
              "    </tr>\n",
              "  </thead>\n",
              "  <tbody>\n",
              "    <tr>\n",
              "      <th>0</th>\n",
              "      <td>4wd</td>\n",
              "      <td>hatchback</td>\n",
              "      <td>7603.000000</td>\n",
              "    </tr>\n",
              "    <tr>\n",
              "      <th>1</th>\n",
              "      <td>4wd</td>\n",
              "      <td>sedan</td>\n",
              "      <td>12647.333333</td>\n",
              "    </tr>\n",
              "    <tr>\n",
              "      <th>2</th>\n",
              "      <td>4wd</td>\n",
              "      <td>wagon</td>\n",
              "      <td>9095.750000</td>\n",
              "    </tr>\n",
              "    <tr>\n",
              "      <th>3</th>\n",
              "      <td>fwd</td>\n",
              "      <td>convertible</td>\n",
              "      <td>11595.000000</td>\n",
              "    </tr>\n",
              "    <tr>\n",
              "      <th>4</th>\n",
              "      <td>fwd</td>\n",
              "      <td>hardtop</td>\n",
              "      <td>8249.000000</td>\n",
              "    </tr>\n",
              "    <tr>\n",
              "      <th>5</th>\n",
              "      <td>fwd</td>\n",
              "      <td>hatchback</td>\n",
              "      <td>8365.166667</td>\n",
              "    </tr>\n",
              "    <tr>\n",
              "      <th>6</th>\n",
              "      <td>fwd</td>\n",
              "      <td>sedan</td>\n",
              "      <td>9811.800000</td>\n",
              "    </tr>\n",
              "    <tr>\n",
              "      <th>7</th>\n",
              "      <td>fwd</td>\n",
              "      <td>wagon</td>\n",
              "      <td>10061.181818</td>\n",
              "    </tr>\n",
              "    <tr>\n",
              "      <th>8</th>\n",
              "      <td>rwd</td>\n",
              "      <td>convertible</td>\n",
              "      <td>23949.600000</td>\n",
              "    </tr>\n",
              "    <tr>\n",
              "      <th>9</th>\n",
              "      <td>rwd</td>\n",
              "      <td>hardtop</td>\n",
              "      <td>24202.714286</td>\n",
              "    </tr>\n",
              "    <tr>\n",
              "      <th>10</th>\n",
              "      <td>rwd</td>\n",
              "      <td>hatchback</td>\n",
              "      <td>14337.777778</td>\n",
              "    </tr>\n",
              "    <tr>\n",
              "      <th>11</th>\n",
              "      <td>rwd</td>\n",
              "      <td>sedan</td>\n",
              "      <td>21711.833333</td>\n",
              "    </tr>\n",
              "    <tr>\n",
              "      <th>12</th>\n",
              "      <td>rwd</td>\n",
              "      <td>wagon</td>\n",
              "      <td>16994.222222</td>\n",
              "    </tr>\n",
              "  </tbody>\n",
              "</table>\n",
              "</div>"
            ],
            "text/plain": [
              "   drive-wheels   body-style         price\n",
              "0           4wd    hatchback   7603.000000\n",
              "1           4wd        sedan  12647.333333\n",
              "2           4wd        wagon   9095.750000\n",
              "3           fwd  convertible  11595.000000\n",
              "4           fwd      hardtop   8249.000000\n",
              "5           fwd    hatchback   8365.166667\n",
              "6           fwd        sedan   9811.800000\n",
              "7           fwd        wagon  10061.181818\n",
              "8           rwd  convertible  23949.600000\n",
              "9           rwd      hardtop  24202.714286\n",
              "10          rwd    hatchback  14337.777778\n",
              "11          rwd        sedan  21711.833333\n",
              "12          rwd        wagon  16994.222222"
            ]
          },
          "execution_count": 42,
          "metadata": {},
          "output_type": "execute_result"
        }
      ],
      "source": [
        "df1 = df[[\"body-style\", \"drive-wheels\", \"price\"]]\n",
        "\n",
        "df1_group = df1.groupby([\"drive-wheels\", \"body-style\"], as_index = False).mean()\n",
        "\n",
        "df1_group"
      ]
    },
    {
      "cell_type": "markdown",
      "id": "b93dd84e-b557-4c83-9b47-53bc07c8c1fc",
      "metadata": {
        "id": "b93dd84e-b557-4c83-9b47-53bc07c8c1fc"
      },
      "source": [
        "To make this table easy to read, transform the table to a pivot table using the `pivot()` method"
      ]
    },
    {
      "cell_type": "code",
      "execution_count": null,
      "id": "fe5c541c-0761-43ba-a61e-9c3bca7da8c5",
      "metadata": {
        "id": "fe5c541c-0761-43ba-a61e-9c3bca7da8c5",
        "outputId": "099f40be-9526-41ad-889d-3773d0dae206"
      },
      "outputs": [
        {
          "data": {
            "text/html": [
              "<div>\n",
              "<style scoped>\n",
              "    .dataframe tbody tr th:only-of-type {\n",
              "        vertical-align: middle;\n",
              "    }\n",
              "\n",
              "    .dataframe tbody tr th {\n",
              "        vertical-align: top;\n",
              "    }\n",
              "\n",
              "    .dataframe thead tr th {\n",
              "        text-align: left;\n",
              "    }\n",
              "\n",
              "    .dataframe thead tr:last-of-type th {\n",
              "        text-align: right;\n",
              "    }\n",
              "</style>\n",
              "<table border=\"1\" class=\"dataframe\">\n",
              "  <thead>\n",
              "    <tr>\n",
              "      <th></th>\n",
              "      <th colspan=\"5\" halign=\"left\">price</th>\n",
              "    </tr>\n",
              "    <tr>\n",
              "      <th>body-style</th>\n",
              "      <th>convertible</th>\n",
              "      <th>hardtop</th>\n",
              "      <th>hatchback</th>\n",
              "      <th>sedan</th>\n",
              "      <th>wagon</th>\n",
              "    </tr>\n",
              "    <tr>\n",
              "      <th>drive-wheels</th>\n",
              "      <th></th>\n",
              "      <th></th>\n",
              "      <th></th>\n",
              "      <th></th>\n",
              "      <th></th>\n",
              "    </tr>\n",
              "  </thead>\n",
              "  <tbody>\n",
              "    <tr>\n",
              "      <th>4wd</th>\n",
              "      <td>NaN</td>\n",
              "      <td>NaN</td>\n",
              "      <td>7603.000000</td>\n",
              "      <td>12647.333333</td>\n",
              "      <td>9095.750000</td>\n",
              "    </tr>\n",
              "    <tr>\n",
              "      <th>fwd</th>\n",
              "      <td>11595.0</td>\n",
              "      <td>8249.000000</td>\n",
              "      <td>8365.166667</td>\n",
              "      <td>9811.800000</td>\n",
              "      <td>10061.181818</td>\n",
              "    </tr>\n",
              "    <tr>\n",
              "      <th>rwd</th>\n",
              "      <td>23949.6</td>\n",
              "      <td>24202.714286</td>\n",
              "      <td>14337.777778</td>\n",
              "      <td>21711.833333</td>\n",
              "      <td>16994.222222</td>\n",
              "    </tr>\n",
              "  </tbody>\n",
              "</table>\n",
              "</div>"
            ],
            "text/plain": [
              "                   price                                            \\\n",
              "body-style   convertible       hardtop     hatchback         sedan   \n",
              "drive-wheels                                                         \n",
              "4wd                  NaN           NaN   7603.000000  12647.333333   \n",
              "fwd              11595.0   8249.000000   8365.166667   9811.800000   \n",
              "rwd              23949.6  24202.714286  14337.777778  21711.833333   \n",
              "\n",
              "                            \n",
              "body-style           wagon  \n",
              "drive-wheels                \n",
              "4wd            9095.750000  \n",
              "fwd           10061.181818  \n",
              "rwd           16994.222222  "
            ]
          },
          "execution_count": 43,
          "metadata": {},
          "output_type": "execute_result"
        }
      ],
      "source": [
        "df_pivot = df1_group.pivot(index = \"drive-wheels\", columns = \"body-style\")\n",
        "df_pivot"
      ]
    },
    {
      "cell_type": "markdown",
      "id": "69efc7f5-a5f9-4421-bed3-a9b42ca4279b",
      "metadata": {
        "id": "69efc7f5-a5f9-4421-bed3-a9b42ca4279b"
      },
      "source": [
        "Due to the missing values on the pivot table, a `.fillna()` method is called to fill the missing values with zero"
      ]
    },
    {
      "cell_type": "code",
      "execution_count": null,
      "id": "3dab6302-4604-49a9-b80a-5c14f21baa0f",
      "metadata": {
        "id": "3dab6302-4604-49a9-b80a-5c14f21baa0f",
        "outputId": "ab8fc4bc-7633-4212-a23d-40016da49f3d"
      },
      "outputs": [
        {
          "data": {
            "text/html": [
              "<div>\n",
              "<style scoped>\n",
              "    .dataframe tbody tr th:only-of-type {\n",
              "        vertical-align: middle;\n",
              "    }\n",
              "\n",
              "    .dataframe tbody tr th {\n",
              "        vertical-align: top;\n",
              "    }\n",
              "\n",
              "    .dataframe thead tr th {\n",
              "        text-align: left;\n",
              "    }\n",
              "\n",
              "    .dataframe thead tr:last-of-type th {\n",
              "        text-align: right;\n",
              "    }\n",
              "</style>\n",
              "<table border=\"1\" class=\"dataframe\">\n",
              "  <thead>\n",
              "    <tr>\n",
              "      <th></th>\n",
              "      <th colspan=\"5\" halign=\"left\">price</th>\n",
              "    </tr>\n",
              "    <tr>\n",
              "      <th>body-style</th>\n",
              "      <th>convertible</th>\n",
              "      <th>hardtop</th>\n",
              "      <th>hatchback</th>\n",
              "      <th>sedan</th>\n",
              "      <th>wagon</th>\n",
              "    </tr>\n",
              "    <tr>\n",
              "      <th>drive-wheels</th>\n",
              "      <th></th>\n",
              "      <th></th>\n",
              "      <th></th>\n",
              "      <th></th>\n",
              "      <th></th>\n",
              "    </tr>\n",
              "  </thead>\n",
              "  <tbody>\n",
              "    <tr>\n",
              "      <th>4wd</th>\n",
              "      <td>0.0</td>\n",
              "      <td>0.000000</td>\n",
              "      <td>7603.000000</td>\n",
              "      <td>12647.333333</td>\n",
              "      <td>9095.750000</td>\n",
              "    </tr>\n",
              "    <tr>\n",
              "      <th>fwd</th>\n",
              "      <td>11595.0</td>\n",
              "      <td>8249.000000</td>\n",
              "      <td>8365.166667</td>\n",
              "      <td>9811.800000</td>\n",
              "      <td>10061.181818</td>\n",
              "    </tr>\n",
              "    <tr>\n",
              "      <th>rwd</th>\n",
              "      <td>23949.6</td>\n",
              "      <td>24202.714286</td>\n",
              "      <td>14337.777778</td>\n",
              "      <td>21711.833333</td>\n",
              "      <td>16994.222222</td>\n",
              "    </tr>\n",
              "  </tbody>\n",
              "</table>\n",
              "</div>"
            ],
            "text/plain": [
              "                   price                                            \\\n",
              "body-style   convertible       hardtop     hatchback         sedan   \n",
              "drive-wheels                                                         \n",
              "4wd                  0.0      0.000000   7603.000000  12647.333333   \n",
              "fwd              11595.0   8249.000000   8365.166667   9811.800000   \n",
              "rwd              23949.6  24202.714286  14337.777778  21711.833333   \n",
              "\n",
              "                            \n",
              "body-style           wagon  \n",
              "drive-wheels                \n",
              "4wd            9095.750000  \n",
              "fwd           10061.181818  \n",
              "rwd           16994.222222  "
            ]
          },
          "execution_count": 44,
          "metadata": {},
          "output_type": "execute_result"
        }
      ],
      "source": [
        "df_pivot = df_pivot.fillna(0) #fill missing values with 0\n",
        "df_pivot"
      ]
    },
    {
      "cell_type": "code",
      "execution_count": null,
      "id": "323f20eb-c274-460f-93e7-d57828e060d4",
      "metadata": {
        "id": "323f20eb-c274-460f-93e7-d57828e060d4",
        "outputId": "66059d37-9f42-4b49-9271-42e6850c04bc"
      },
      "outputs": [
        {
          "data": {
            "text/plain": [
              "<function matplotlib.pyplot.show(close=None, block=None)>"
            ]
          },
          "execution_count": 45,
          "metadata": {},
          "output_type": "execute_result"
        },
        {
          "data": {
            "image/png": "[encoded data removed]",
            "text/plain": [
              "<Figure size 432x288 with 2 Axes>"
            ]
          },
          "metadata": {
            "needs_background": "light"
          },
          "output_type": "display_data"
        }
      ],
      "source": [
        "plt.pcolor(df_pivot, cmap=\"RdBu\")\n",
        "plt.colorbar()\n",
        "plt.show"
      ]
    },
    {
      "cell_type": "markdown",
      "id": "7ca3f1f8-7cc3-4c59-9e4c-d3a33ccdb8c0",
      "metadata": {
        "id": "7ca3f1f8-7cc3-4c59-9e4c-d3a33ccdb8c0"
      },
      "source": [
        "### Correlation Statistical Method"
      ]
    },
    {
      "cell_type": "code",
      "execution_count": null,
      "id": "7b842a47-1d46-492a-acaa-db008ba05001",
      "metadata": {
        "id": "7b842a47-1d46-492a-acaa-db008ba05001",
        "outputId": "2f25bf6b-a662-4c54-84df-a34542c87620"
      },
      "outputs": [
        {
          "data": {
            "text/html": [
              "<div>\n",
              "<style scoped>\n",
              "    .dataframe tbody tr th:only-of-type {\n",
              "        vertical-align: middle;\n",
              "    }\n",
              "\n",
              "    .dataframe tbody tr th {\n",
              "        vertical-align: top;\n",
              "    }\n",
              "\n",
              "    .dataframe thead th {\n",
              "        text-align: right;\n",
              "    }\n",
              "</style>\n",
              "<table border=\"1\" class=\"dataframe\">\n",
              "  <thead>\n",
              "    <tr style=\"text-align: right;\">\n",
              "      <th></th>\n",
              "      <th>symboling</th>\n",
              "      <th>normalized-losses</th>\n",
              "      <th>wheel-base</th>\n",
              "      <th>length</th>\n",
              "      <th>width</th>\n",
              "      <th>height</th>\n",
              "      <th>curb-weight</th>\n",
              "      <th>engine-size</th>\n",
              "      <th>bore</th>\n",
              "      <th>stroke</th>\n",
              "      <th>...</th>\n",
              "      <th>peak-rpm</th>\n",
              "      <th>city-mpg</th>\n",
              "      <th>highway-mpg</th>\n",
              "      <th>price</th>\n",
              "      <th>city-L/100km</th>\n",
              "      <th>highway-L/100km</th>\n",
              "      <th>fuel-type-diesel</th>\n",
              "      <th>fuel-type-gas</th>\n",
              "      <th>aspiration-std</th>\n",
              "      <th>aspiration-turbo</th>\n",
              "    </tr>\n",
              "  </thead>\n",
              "  <tbody>\n",
              "    <tr>\n",
              "      <th>symboling</th>\n",
              "      <td>1.000000</td>\n",
              "      <td>0.467790</td>\n",
              "      <td>-0.537706</td>\n",
              "      <td>-0.365957</td>\n",
              "      <td>-0.243933</td>\n",
              "      <td>-0.546717</td>\n",
              "      <td>-0.232893</td>\n",
              "      <td>-0.111110</td>\n",
              "      <td>-0.141264</td>\n",
              "      <td>-0.011029</td>\n",
              "      <td>...</td>\n",
              "      <td>0.280635</td>\n",
              "      <td>-0.035228</td>\n",
              "      <td>0.036293</td>\n",
              "      <td>-0.082465</td>\n",
              "      <td>0.066253</td>\n",
              "      <td>-0.029590</td>\n",
              "      <td>-0.197062</td>\n",
              "      <td>0.197062</td>\n",
              "      <td>0.054255</td>\n",
              "      <td>-0.054255</td>\n",
              "    </tr>\n",
              "    <tr>\n",
              "      <th>normalized-losses</th>\n",
              "      <td>0.467790</td>\n",
              "      <td>1.000000</td>\n",
              "      <td>-0.056718</td>\n",
              "      <td>0.019443</td>\n",
              "      <td>0.086846</td>\n",
              "      <td>-0.375740</td>\n",
              "      <td>0.099413</td>\n",
              "      <td>0.112369</td>\n",
              "      <td>-0.029898</td>\n",
              "      <td>0.056234</td>\n",
              "      <td>...</td>\n",
              "      <td>0.239544</td>\n",
              "      <td>-0.225147</td>\n",
              "      <td>-0.181879</td>\n",
              "      <td>0.134140</td>\n",
              "      <td>0.238581</td>\n",
              "      <td>0.181247</td>\n",
              "      <td>-0.101603</td>\n",
              "      <td>0.101603</td>\n",
              "      <td>0.006919</td>\n",
              "      <td>-0.006919</td>\n",
              "    </tr>\n",
              "    <tr>\n",
              "      <th>wheel-base</th>\n",
              "      <td>-0.537706</td>\n",
              "      <td>-0.056718</td>\n",
              "      <td>1.000000</td>\n",
              "      <td>0.879582</td>\n",
              "      <td>0.817145</td>\n",
              "      <td>0.592809</td>\n",
              "      <td>0.782636</td>\n",
              "      <td>0.573197</td>\n",
              "      <td>0.496489</td>\n",
              "      <td>0.170935</td>\n",
              "      <td>...</td>\n",
              "      <td>-0.360593</td>\n",
              "      <td>-0.472877</td>\n",
              "      <td>-0.543647</td>\n",
              "      <td>0.583797</td>\n",
              "      <td>0.477141</td>\n",
              "      <td>0.577205</td>\n",
              "      <td>0.306224</td>\n",
              "      <td>-0.306224</td>\n",
              "      <td>-0.255331</td>\n",
              "      <td>0.255331</td>\n",
              "    </tr>\n",
              "    <tr>\n",
              "      <th>length</th>\n",
              "      <td>-0.365957</td>\n",
              "      <td>0.019443</td>\n",
              "      <td>0.879582</td>\n",
              "      <td>1.000000</td>\n",
              "      <td>0.857225</td>\n",
              "      <td>0.494880</td>\n",
              "      <td>0.881688</td>\n",
              "      <td>0.685260</td>\n",
              "      <td>0.608335</td>\n",
              "      <td>0.118313</td>\n",
              "      <td>...</td>\n",
              "      <td>-0.286321</td>\n",
              "      <td>-0.664865</td>\n",
              "      <td>-0.699033</td>\n",
              "      <td>0.693965</td>\n",
              "      <td>0.657629</td>\n",
              "      <td>0.709066</td>\n",
              "      <td>0.212862</td>\n",
              "      <td>-0.212862</td>\n",
              "      <td>-0.232461</td>\n",
              "      <td>0.232461</td>\n",
              "    </tr>\n",
              "    <tr>\n",
              "      <th>width</th>\n",
              "      <td>-0.243933</td>\n",
              "      <td>0.086846</td>\n",
              "      <td>0.817145</td>\n",
              "      <td>0.857225</td>\n",
              "      <td>1.000000</td>\n",
              "      <td>0.309223</td>\n",
              "      <td>0.866965</td>\n",
              "      <td>0.729466</td>\n",
              "      <td>0.544266</td>\n",
              "      <td>0.186389</td>\n",
              "      <td>...</td>\n",
              "      <td>-0.245975</td>\n",
              "      <td>-0.633139</td>\n",
              "      <td>-0.681131</td>\n",
              "      <td>0.753871</td>\n",
              "      <td>0.673398</td>\n",
              "      <td>0.738137</td>\n",
              "      <td>0.245669</td>\n",
              "      <td>-0.245669</td>\n",
              "      <td>-0.307704</td>\n",
              "      <td>0.307704</td>\n",
              "    </tr>\n",
              "    <tr>\n",
              "      <th>height</th>\n",
              "      <td>-0.546717</td>\n",
              "      <td>-0.375740</td>\n",
              "      <td>0.592809</td>\n",
              "      <td>0.494880</td>\n",
              "      <td>0.309223</td>\n",
              "      <td>1.000000</td>\n",
              "      <td>0.307881</td>\n",
              "      <td>0.075569</td>\n",
              "      <td>0.183466</td>\n",
              "      <td>-0.054399</td>\n",
              "      <td>...</td>\n",
              "      <td>-0.311574</td>\n",
              "      <td>-0.051387</td>\n",
              "      <td>-0.105200</td>\n",
              "      <td>0.134990</td>\n",
              "      <td>0.004241</td>\n",
              "      <td>0.083821</td>\n",
              "      <td>0.281983</td>\n",
              "      <td>-0.281983</td>\n",
              "      <td>-0.089146</td>\n",
              "      <td>0.089146</td>\n",
              "    </tr>\n",
              "    <tr>\n",
              "      <th>curb-weight</th>\n",
              "      <td>-0.232893</td>\n",
              "      <td>0.099413</td>\n",
              "      <td>0.782636</td>\n",
              "      <td>0.881688</td>\n",
              "      <td>0.866965</td>\n",
              "      <td>0.307881</td>\n",
              "      <td>1.000000</td>\n",
              "      <td>0.849301</td>\n",
              "      <td>0.645218</td>\n",
              "      <td>0.172537</td>\n",
              "      <td>...</td>\n",
              "      <td>-0.279375</td>\n",
              "      <td>-0.750287</td>\n",
              "      <td>-0.794937</td>\n",
              "      <td>0.835090</td>\n",
              "      <td>0.785547</td>\n",
              "      <td>0.837088</td>\n",
              "      <td>0.220954</td>\n",
              "      <td>-0.220954</td>\n",
              "      <td>-0.322009</td>\n",
              "      <td>0.322009</td>\n",
              "    </tr>\n",
              "    <tr>\n",
              "      <th>engine-size</th>\n",
              "      <td>-0.111110</td>\n",
              "      <td>0.112369</td>\n",
              "      <td>0.573197</td>\n",
              "      <td>0.685260</td>\n",
              "      <td>0.729466</td>\n",
              "      <td>0.075569</td>\n",
              "      <td>0.849301</td>\n",
              "      <td>1.000000</td>\n",
              "      <td>0.572726</td>\n",
              "      <td>0.207801</td>\n",
              "      <td>...</td>\n",
              "      <td>-0.256773</td>\n",
              "      <td>-0.650552</td>\n",
              "      <td>-0.679688</td>\n",
              "      <td>0.873887</td>\n",
              "      <td>0.745026</td>\n",
              "      <td>0.784091</td>\n",
              "      <td>0.071237</td>\n",
              "      <td>-0.071237</td>\n",
              "      <td>-0.110750</td>\n",
              "      <td>0.110750</td>\n",
              "    </tr>\n",
              "    <tr>\n",
              "      <th>bore</th>\n",
              "      <td>-0.141264</td>\n",
              "      <td>-0.029898</td>\n",
              "      <td>0.496489</td>\n",
              "      <td>0.608335</td>\n",
              "      <td>0.544266</td>\n",
              "      <td>0.183466</td>\n",
              "      <td>0.645218</td>\n",
              "      <td>0.572726</td>\n",
              "      <td>1.000000</td>\n",
              "      <td>-0.066793</td>\n",
              "      <td>...</td>\n",
              "      <td>-0.267785</td>\n",
              "      <td>-0.581395</td>\n",
              "      <td>-0.592236</td>\n",
              "      <td>0.546586</td>\n",
              "      <td>0.554770</td>\n",
              "      <td>0.561181</td>\n",
              "      <td>0.056171</td>\n",
              "      <td>-0.056171</td>\n",
              "      <td>-0.230610</td>\n",
              "      <td>0.230610</td>\n",
              "    </tr>\n",
              "    <tr>\n",
              "      <th>stroke</th>\n",
              "      <td>-0.011029</td>\n",
              "      <td>0.056234</td>\n",
              "      <td>0.170935</td>\n",
              "      <td>0.118313</td>\n",
              "      <td>0.186389</td>\n",
              "      <td>-0.054399</td>\n",
              "      <td>0.172537</td>\n",
              "      <td>0.207801</td>\n",
              "      <td>-0.066793</td>\n",
              "      <td>1.000000</td>\n",
              "      <td>...</td>\n",
              "      <td>-0.065272</td>\n",
              "      <td>-0.027582</td>\n",
              "      <td>-0.036350</td>\n",
              "      <td>0.093688</td>\n",
              "      <td>0.034652</td>\n",
              "      <td>0.053419</td>\n",
              "      <td>0.253372</td>\n",
              "      <td>-0.253372</td>\n",
              "      <td>-0.232984</td>\n",
              "      <td>0.232984</td>\n",
              "    </tr>\n",
              "    <tr>\n",
              "      <th>compression-ratio</th>\n",
              "      <td>-0.182446</td>\n",
              "      <td>-0.114791</td>\n",
              "      <td>0.249088</td>\n",
              "      <td>0.161486</td>\n",
              "      <td>0.191254</td>\n",
              "      <td>0.259914</td>\n",
              "      <td>0.156294</td>\n",
              "      <td>0.029366</td>\n",
              "      <td>0.003050</td>\n",
              "      <td>0.199740</td>\n",
              "      <td>...</td>\n",
              "      <td>-0.436015</td>\n",
              "      <td>0.330587</td>\n",
              "      <td>0.268819</td>\n",
              "      <td>0.069549</td>\n",
              "      <td>-0.299193</td>\n",
              "      <td>-0.224516</td>\n",
              "      <td>0.985219</td>\n",
              "      <td>-0.985219</td>\n",
              "      <td>-0.306344</td>\n",
              "      <td>0.306344</td>\n",
              "    </tr>\n",
              "    <tr>\n",
              "      <th>horsepower</th>\n",
              "      <td>0.076038</td>\n",
              "      <td>0.217300</td>\n",
              "      <td>0.371621</td>\n",
              "      <td>0.580309</td>\n",
              "      <td>0.615315</td>\n",
              "      <td>-0.087407</td>\n",
              "      <td>0.758063</td>\n",
              "      <td>0.822713</td>\n",
              "      <td>0.567493</td>\n",
              "      <td>0.099911</td>\n",
              "      <td>...</td>\n",
              "      <td>0.107882</td>\n",
              "      <td>-0.822617</td>\n",
              "      <td>-0.804596</td>\n",
              "      <td>0.810533</td>\n",
              "      <td>0.889518</td>\n",
              "      <td>0.840939</td>\n",
              "      <td>-0.169071</td>\n",
              "      <td>0.169071</td>\n",
              "      <td>-0.251511</td>\n",
              "      <td>0.251511</td>\n",
              "    </tr>\n",
              "    <tr>\n",
              "      <th>peak-rpm</th>\n",
              "      <td>0.280635</td>\n",
              "      <td>0.239544</td>\n",
              "      <td>-0.360593</td>\n",
              "      <td>-0.286321</td>\n",
              "      <td>-0.245975</td>\n",
              "      <td>-0.311574</td>\n",
              "      <td>-0.279375</td>\n",
              "      <td>-0.256773</td>\n",
              "      <td>-0.267785</td>\n",
              "      <td>-0.065272</td>\n",
              "      <td>...</td>\n",
              "      <td>1.000000</td>\n",
              "      <td>-0.115425</td>\n",
              "      <td>-0.058606</td>\n",
              "      <td>-0.101649</td>\n",
              "      <td>0.115819</td>\n",
              "      <td>0.017741</td>\n",
              "      <td>-0.476023</td>\n",
              "      <td>0.476023</td>\n",
              "      <td>0.190190</td>\n",
              "      <td>-0.190190</td>\n",
              "    </tr>\n",
              "    <tr>\n",
              "      <th>city-mpg</th>\n",
              "      <td>-0.035228</td>\n",
              "      <td>-0.225147</td>\n",
              "      <td>-0.472877</td>\n",
              "      <td>-0.664865</td>\n",
              "      <td>-0.633139</td>\n",
              "      <td>-0.051387</td>\n",
              "      <td>-0.750287</td>\n",
              "      <td>-0.650552</td>\n",
              "      <td>-0.581395</td>\n",
              "      <td>-0.027582</td>\n",
              "      <td>...</td>\n",
              "      <td>-0.115425</td>\n",
              "      <td>1.000000</td>\n",
              "      <td>0.972777</td>\n",
              "      <td>-0.689253</td>\n",
              "      <td>-0.949952</td>\n",
              "      <td>-0.910710</td>\n",
              "      <td>0.264840</td>\n",
              "      <td>-0.264840</td>\n",
              "      <td>0.191154</td>\n",
              "      <td>-0.191154</td>\n",
              "    </tr>\n",
              "    <tr>\n",
              "      <th>highway-mpg</th>\n",
              "      <td>0.036293</td>\n",
              "      <td>-0.181879</td>\n",
              "      <td>-0.543647</td>\n",
              "      <td>-0.699033</td>\n",
              "      <td>-0.681131</td>\n",
              "      <td>-0.105200</td>\n",
              "      <td>-0.794937</td>\n",
              "      <td>-0.679688</td>\n",
              "      <td>-0.592236</td>\n",
              "      <td>-0.036350</td>\n",
              "      <td>...</td>\n",
              "      <td>-0.058606</td>\n",
              "      <td>0.972777</td>\n",
              "      <td>1.000000</td>\n",
              "      <td>-0.705230</td>\n",
              "      <td>-0.930142</td>\n",
              "      <td>-0.951299</td>\n",
              "      <td>0.198957</td>\n",
              "      <td>-0.198957</td>\n",
              "      <td>0.241902</td>\n",
              "      <td>-0.241902</td>\n",
              "    </tr>\n",
              "    <tr>\n",
              "      <th>price</th>\n",
              "      <td>-0.082465</td>\n",
              "      <td>0.134140</td>\n",
              "      <td>0.583797</td>\n",
              "      <td>0.693965</td>\n",
              "      <td>0.753871</td>\n",
              "      <td>0.134990</td>\n",
              "      <td>0.835090</td>\n",
              "      <td>0.873887</td>\n",
              "      <td>0.546586</td>\n",
              "      <td>0.093688</td>\n",
              "      <td>...</td>\n",
              "      <td>-0.101649</td>\n",
              "      <td>-0.689253</td>\n",
              "      <td>-0.705230</td>\n",
              "      <td>1.000000</td>\n",
              "      <td>0.791270</td>\n",
              "      <td>0.801059</td>\n",
              "      <td>0.108978</td>\n",
              "      <td>-0.108978</td>\n",
              "      <td>-0.177821</td>\n",
              "      <td>0.177821</td>\n",
              "    </tr>\n",
              "    <tr>\n",
              "      <th>city-L/100km</th>\n",
              "      <td>0.066253</td>\n",
              "      <td>0.238581</td>\n",
              "      <td>0.477141</td>\n",
              "      <td>0.657629</td>\n",
              "      <td>0.673398</td>\n",
              "      <td>0.004241</td>\n",
              "      <td>0.785547</td>\n",
              "      <td>0.745026</td>\n",
              "      <td>0.554770</td>\n",
              "      <td>0.034652</td>\n",
              "      <td>...</td>\n",
              "      <td>0.115819</td>\n",
              "      <td>-0.949952</td>\n",
              "      <td>-0.930142</td>\n",
              "      <td>0.791270</td>\n",
              "      <td>1.000000</td>\n",
              "      <td>0.958945</td>\n",
              "      <td>-0.241069</td>\n",
              "      <td>0.241069</td>\n",
              "      <td>-0.158268</td>\n",
              "      <td>0.158268</td>\n",
              "    </tr>\n",
              "    <tr>\n",
              "      <th>highway-L/100km</th>\n",
              "      <td>-0.029590</td>\n",
              "      <td>0.181247</td>\n",
              "      <td>0.577205</td>\n",
              "      <td>0.709066</td>\n",
              "      <td>0.738137</td>\n",
              "      <td>0.083821</td>\n",
              "      <td>0.837088</td>\n",
              "      <td>0.784091</td>\n",
              "      <td>0.561181</td>\n",
              "      <td>0.053419</td>\n",
              "      <td>...</td>\n",
              "      <td>0.017741</td>\n",
              "      <td>-0.910710</td>\n",
              "      <td>-0.951299</td>\n",
              "      <td>0.801059</td>\n",
              "      <td>0.958945</td>\n",
              "      <td>1.000000</td>\n",
              "      <td>-0.159075</td>\n",
              "      <td>0.159075</td>\n",
              "      <td>-0.209830</td>\n",
              "      <td>0.209830</td>\n",
              "    </tr>\n",
              "    <tr>\n",
              "      <th>fuel-type-diesel</th>\n",
              "      <td>-0.197062</td>\n",
              "      <td>-0.101603</td>\n",
              "      <td>0.306224</td>\n",
              "      <td>0.212862</td>\n",
              "      <td>0.245669</td>\n",
              "      <td>0.281983</td>\n",
              "      <td>0.220954</td>\n",
              "      <td>0.071237</td>\n",
              "      <td>0.056171</td>\n",
              "      <td>0.253372</td>\n",
              "      <td>...</td>\n",
              "      <td>-0.476023</td>\n",
              "      <td>0.264840</td>\n",
              "      <td>0.198957</td>\n",
              "      <td>0.108978</td>\n",
              "      <td>-0.241069</td>\n",
              "      <td>-0.159075</td>\n",
              "      <td>1.000000</td>\n",
              "      <td>-1.000000</td>\n",
              "      <td>-0.407341</td>\n",
              "      <td>0.407341</td>\n",
              "    </tr>\n",
              "    <tr>\n",
              "      <th>fuel-type-gas</th>\n",
              "      <td>0.197062</td>\n",
              "      <td>0.101603</td>\n",
              "      <td>-0.306224</td>\n",
              "      <td>-0.212862</td>\n",
              "      <td>-0.245669</td>\n",
              "      <td>-0.281983</td>\n",
              "      <td>-0.220954</td>\n",
              "      <td>-0.071237</td>\n",
              "      <td>-0.056171</td>\n",
              "      <td>-0.253372</td>\n",
              "      <td>...</td>\n",
              "      <td>0.476023</td>\n",
              "      <td>-0.264840</td>\n",
              "      <td>-0.198957</td>\n",
              "      <td>-0.108978</td>\n",
              "      <td>0.241069</td>\n",
              "      <td>0.159075</td>\n",
              "      <td>-1.000000</td>\n",
              "      <td>1.000000</td>\n",
              "      <td>0.407341</td>\n",
              "      <td>-0.407341</td>\n",
              "    </tr>\n",
              "    <tr>\n",
              "      <th>aspiration-std</th>\n",
              "      <td>0.054255</td>\n",
              "      <td>0.006919</td>\n",
              "      <td>-0.255331</td>\n",
              "      <td>-0.232461</td>\n",
              "      <td>-0.307704</td>\n",
              "      <td>-0.089146</td>\n",
              "      <td>-0.322009</td>\n",
              "      <td>-0.110750</td>\n",
              "      <td>-0.230610</td>\n",
              "      <td>-0.232984</td>\n",
              "      <td>...</td>\n",
              "      <td>0.190190</td>\n",
              "      <td>0.191154</td>\n",
              "      <td>0.241902</td>\n",
              "      <td>-0.177821</td>\n",
              "      <td>-0.158268</td>\n",
              "      <td>-0.209830</td>\n",
              "      <td>-0.407341</td>\n",
              "      <td>0.407341</td>\n",
              "      <td>1.000000</td>\n",
              "      <td>-1.000000</td>\n",
              "    </tr>\n",
              "    <tr>\n",
              "      <th>aspiration-turbo</th>\n",
              "      <td>-0.054255</td>\n",
              "      <td>-0.006919</td>\n",
              "      <td>0.255331</td>\n",
              "      <td>0.232461</td>\n",
              "      <td>0.307704</td>\n",
              "      <td>0.089146</td>\n",
              "      <td>0.322009</td>\n",
              "      <td>0.110750</td>\n",
              "      <td>0.230610</td>\n",
              "      <td>0.232984</td>\n",
              "      <td>...</td>\n",
              "      <td>-0.190190</td>\n",
              "      <td>-0.191154</td>\n",
              "      <td>-0.241902</td>\n",
              "      <td>0.177821</td>\n",
              "      <td>0.158268</td>\n",
              "      <td>0.209830</td>\n",
              "      <td>0.407341</td>\n",
              "      <td>-0.407341</td>\n",
              "      <td>-1.000000</td>\n",
              "      <td>1.000000</td>\n",
              "    </tr>\n",
              "  </tbody>\n",
              "</table>\n",
              "<p>22 rows × 22 columns</p>\n",
              "</div>"
            ],
            "text/plain": [
              "                   symboling  normalized-losses  wheel-base    length  \\\n",
              "symboling           1.000000           0.467790   -0.537706 -0.365957   \n",
              "normalized-losses   0.467790           1.000000   -0.056718  0.019443   \n",
              "wheel-base         -0.537706          -0.056718    1.000000  0.879582   \n",
              "length             -0.365957           0.019443    0.879582  1.000000   \n",
              "width              -0.243933           0.086846    0.817145  0.857225   \n",
              "height             -0.546717          -0.375740    0.592809  0.494880   \n",
              "curb-weight        -0.232893           0.099413    0.782636  0.881688   \n",
              "engine-size        -0.111110           0.112369    0.573197  0.685260   \n",
              "bore               -0.141264          -0.029898    0.496489  0.608335   \n",
              "stroke             -0.011029           0.056234    0.170935  0.118313   \n",
              "compression-ratio  -0.182446          -0.114791    0.249088  0.161486   \n",
              "horsepower          0.076038           0.217300    0.371621  0.580309   \n",
              "peak-rpm            0.280635           0.239544   -0.360593 -0.286321   \n",
              "city-mpg           -0.035228          -0.225147   -0.472877 -0.664865   \n",
              "highway-mpg         0.036293          -0.181879   -0.543647 -0.699033   \n",
              "price              -0.082465           0.134140    0.583797  0.693965   \n",
              "city-L/100km        0.066253           0.238581    0.477141  0.657629   \n",
              "highway-L/100km    -0.029590           0.181247    0.577205  0.709066   \n",
              "fuel-type-diesel   -0.197062          -0.101603    0.306224  0.212862   \n",
              "fuel-type-gas       0.197062           0.101603   -0.306224 -0.212862   \n",
              "aspiration-std      0.054255           0.006919   -0.255331 -0.232461   \n",
              "aspiration-turbo   -0.054255          -0.006919    0.255331  0.232461   \n",
              "\n",
              "                      width    height  curb-weight  engine-size      bore  \\\n",
              "symboling         -0.243933 -0.546717    -0.232893    -0.111110 -0.141264   \n",
              "normalized-losses  0.086846 -0.375740     0.099413     0.112369 -0.029898   \n",
              "wheel-base         0.817145  0.592809     0.782636     0.573197  0.496489   \n",
              "length             0.857225  0.494880     0.881688     0.685260  0.608335   \n",
              "width              1.000000  0.309223     0.866965     0.729466  0.544266   \n",
              "height             0.309223  1.000000     0.307881     0.075569  0.183466   \n",
              "curb-weight        0.866965  0.307881     1.000000     0.849301  0.645218   \n",
              "engine-size        0.729466  0.075569     0.849301     1.000000  0.572726   \n",
              "bore               0.544266  0.183466     0.645218     0.572726  1.000000   \n",
              "stroke             0.186389 -0.054399     0.172537     0.207801 -0.066793   \n",
              "compression-ratio  0.191254  0.259914     0.156294     0.029366  0.003050   \n",
              "horsepower         0.615315 -0.087407     0.758063     0.822713  0.567493   \n",
              "peak-rpm          -0.245975 -0.311574    -0.279375    -0.256773 -0.267785   \n",
              "city-mpg          -0.633139 -0.051387    -0.750287    -0.650552 -0.581395   \n",
              "highway-mpg       -0.681131 -0.105200    -0.794937    -0.679688 -0.592236   \n",
              "price              0.753871  0.134990     0.835090     0.873887  0.546586   \n",
              "city-L/100km       0.673398  0.004241     0.785547     0.745026  0.554770   \n",
              "highway-L/100km    0.738137  0.083821     0.837088     0.784091  0.561181   \n",
              "fuel-type-diesel   0.245669  0.281983     0.220954     0.071237  0.056171   \n",
              "fuel-type-gas     -0.245669 -0.281983    -0.220954    -0.071237 -0.056171   \n",
              "aspiration-std    -0.307704 -0.089146    -0.322009    -0.110750 -0.230610   \n",
              "aspiration-turbo   0.307704  0.089146     0.322009     0.110750  0.230610   \n",
              "\n",
              "                     stroke  ...  peak-rpm  city-mpg  highway-mpg     price  \\\n",
              "symboling         -0.011029  ...  0.280635 -0.035228     0.036293 -0.082465   \n",
              "normalized-losses  0.056234  ...  0.239544 -0.225147    -0.181879  0.134140   \n",
              "wheel-base         0.170935  ... -0.360593 -0.472877    -0.543647  0.583797   \n",
              "length             0.118313  ... -0.286321 -0.664865    -0.699033  0.693965   \n",
              "width              0.186389  ... -0.245975 -0.633139    -0.681131  0.753871   \n",
              "height            -0.054399  ... -0.311574 -0.051387    -0.105200  0.134990   \n",
              "curb-weight        0.172537  ... -0.279375 -0.750287    -0.794937  0.835090   \n",
              "engine-size        0.207801  ... -0.256773 -0.650552    -0.679688  0.873887   \n",
              "bore              -0.066793  ... -0.267785 -0.581395    -0.592236  0.546586   \n",
              "stroke             1.000000  ... -0.065272 -0.027582    -0.036350  0.093688   \n",
              "compression-ratio  0.199740  ... -0.436015  0.330587     0.268819  0.069549   \n",
              "horsepower         0.099911  ...  0.107882 -0.822617    -0.804596  0.810533   \n",
              "peak-rpm          -0.065272  ...  1.000000 -0.115425    -0.058606 -0.101649   \n",
              "city-mpg          -0.027582  ... -0.115425  1.000000     0.972777 -0.689253   \n",
              "highway-mpg       -0.036350  ... -0.058606  0.972777     1.000000 -0.705230   \n",
              "price              0.093688  ... -0.101649 -0.689253    -0.705230  1.000000   \n",
              "city-L/100km       0.034652  ...  0.115819 -0.949952    -0.930142  0.791270   \n",
              "highway-L/100km    0.053419  ...  0.017741 -0.910710    -0.951299  0.801059   \n",
              "fuel-type-diesel   0.253372  ... -0.476023  0.264840     0.198957  0.108978   \n",
              "fuel-type-gas     -0.253372  ...  0.476023 -0.264840    -0.198957 -0.108978   \n",
              "aspiration-std    -0.232984  ...  0.190190  0.191154     0.241902 -0.177821   \n",
              "aspiration-turbo   0.232984  ... -0.190190 -0.191154    -0.241902  0.177821   \n",
              "\n",
              "                   city-L/100km  highway-L/100km  fuel-type-diesel  \\\n",
              "symboling              0.066253        -0.029590         -0.197062   \n",
              "normalized-losses      0.238581         0.181247         -0.101603   \n",
              "wheel-base             0.477141         0.577205          0.306224   \n",
              "length                 0.657629         0.709066          0.212862   \n",
              "width                  0.673398         0.738137          0.245669   \n",
              "height                 0.004241         0.083821          0.281983   \n",
              "curb-weight            0.785547         0.837088          0.220954   \n",
              "engine-size            0.745026         0.784091          0.071237   \n",
              "bore                   0.554770         0.561181          0.056171   \n",
              "stroke                 0.034652         0.053419          0.253372   \n",
              "compression-ratio     -0.299193        -0.224516          0.985219   \n",
              "horsepower             0.889518         0.840939         -0.169071   \n",
              "peak-rpm               0.115819         0.017741         -0.476023   \n",
              "city-mpg              -0.949952        -0.910710          0.264840   \n",
              "highway-mpg           -0.930142        -0.951299          0.198957   \n",
              "price                  0.791270         0.801059          0.108978   \n",
              "city-L/100km           1.000000         0.958945         -0.241069   \n",
              "highway-L/100km        0.958945         1.000000         -0.159075   \n",
              "fuel-type-diesel      -0.241069        -0.159075          1.000000   \n",
              "fuel-type-gas          0.241069         0.159075         -1.000000   \n",
              "aspiration-std        -0.158268        -0.209830         -0.407341   \n",
              "aspiration-turbo       0.158268         0.209830          0.407341   \n",
              "\n",
              "                   fuel-type-gas  aspiration-std  aspiration-turbo  \n",
              "symboling               0.197062        0.054255         -0.054255  \n",
              "normalized-losses       0.101603        0.006919         -0.006919  \n",
              "wheel-base             -0.306224       -0.255331          0.255331  \n",
              "length                 -0.212862       -0.232461          0.232461  \n",
              "width                  -0.245669       -0.307704          0.307704  \n",
              "height                 -0.281983       -0.089146          0.089146  \n",
              "curb-weight            -0.220954       -0.322009          0.322009  \n",
              "engine-size            -0.071237       -0.110750          0.110750  \n",
              "bore                   -0.056171       -0.230610          0.230610  \n",
              "stroke                 -0.253372       -0.232984          0.232984  \n",
              "compression-ratio      -0.985219       -0.306344          0.306344  \n",
              "horsepower              0.169071       -0.251511          0.251511  \n",
              "peak-rpm                0.476023        0.190190         -0.190190  \n",
              "city-mpg               -0.264840        0.191154         -0.191154  \n",
              "highway-mpg            -0.198957        0.241902         -0.241902  \n",
              "price                  -0.108978       -0.177821          0.177821  \n",
              "city-L/100km            0.241069       -0.158268          0.158268  \n",
              "highway-L/100km         0.159075       -0.209830          0.209830  \n",
              "fuel-type-diesel       -1.000000       -0.407341          0.407341  \n",
              "fuel-type-gas           1.000000        0.407341         -0.407341  \n",
              "aspiration-std          0.407341        1.000000         -1.000000  \n",
              "aspiration-turbo       -0.407341       -1.000000          1.000000  \n",
              "\n",
              "[22 rows x 22 columns]"
            ]
          },
          "execution_count": 46,
          "metadata": {},
          "output_type": "execute_result"
        }
      ],
      "source": [
        "df_corr = df.corr()\n",
        "df_corr"
      ]
    },
    {
      "cell_type": "code",
      "execution_count": null,
      "id": "b672da3f-ca67-495c-b8f3-c4b53c5555f4",
      "metadata": {
        "id": "b672da3f-ca67-495c-b8f3-c4b53c5555f4",
        "outputId": "dfa81ed7-7f4d-4462-cb92-21580dd94297"
      },
      "outputs": [
        {
          "data": {
            "text/html": [
              "<div>\n",
              "<style scoped>\n",
              "    .dataframe tbody tr th:only-of-type {\n",
              "        vertical-align: middle;\n",
              "    }\n",
              "\n",
              "    .dataframe tbody tr th {\n",
              "        vertical-align: top;\n",
              "    }\n",
              "\n",
              "    .dataframe thead th {\n",
              "        text-align: right;\n",
              "    }\n",
              "</style>\n",
              "<table border=\"1\" class=\"dataframe\">\n",
              "  <thead>\n",
              "    <tr style=\"text-align: right;\">\n",
              "      <th></th>\n",
              "      <th>horsepower</th>\n",
              "      <th>price</th>\n",
              "    </tr>\n",
              "  </thead>\n",
              "  <tbody>\n",
              "    <tr>\n",
              "      <th>horsepower</th>\n",
              "      <td>1.000000</td>\n",
              "      <td>0.810533</td>\n",
              "    </tr>\n",
              "    <tr>\n",
              "      <th>price</th>\n",
              "      <td>0.810533</td>\n",
              "      <td>1.000000</td>\n",
              "    </tr>\n",
              "  </tbody>\n",
              "</table>\n",
              "</div>"
            ],
            "text/plain": [
              "            horsepower     price\n",
              "horsepower    1.000000  0.810533\n",
              "price         0.810533  1.000000"
            ]
          },
          "execution_count": 47,
          "metadata": {},
          "output_type": "execute_result"
        }
      ],
      "source": [
        "df[[\"horsepower\", \"price\"]].corr()"
      ]
    },
    {
      "cell_type": "code",
      "execution_count": null,
      "id": "840cb6d3-5605-41e9-ba98-0f0de32697dd",
      "metadata": {
        "id": "840cb6d3-5605-41e9-ba98-0f0de32697dd",
        "outputId": "7a02cd2c-1c15-4dbb-ff9c-0f6c2622403c"
      },
      "outputs": [
        {
          "data": {
            "text/html": [
              "<div>\n",
              "<style scoped>\n",
              "    .dataframe tbody tr th:only-of-type {\n",
              "        vertical-align: middle;\n",
              "    }\n",
              "\n",
              "    .dataframe tbody tr th {\n",
              "        vertical-align: top;\n",
              "    }\n",
              "\n",
              "    .dataframe thead th {\n",
              "        text-align: right;\n",
              "    }\n",
              "</style>\n",
              "<table border=\"1\" class=\"dataframe\">\n",
              "  <thead>\n",
              "    <tr style=\"text-align: right;\">\n",
              "      <th></th>\n",
              "      <th>width</th>\n",
              "      <th>price</th>\n",
              "    </tr>\n",
              "  </thead>\n",
              "  <tbody>\n",
              "    <tr>\n",
              "      <th>width</th>\n",
              "      <td>1.000000</td>\n",
              "      <td>0.753871</td>\n",
              "    </tr>\n",
              "    <tr>\n",
              "      <th>price</th>\n",
              "      <td>0.753871</td>\n",
              "      <td>1.000000</td>\n",
              "    </tr>\n",
              "  </tbody>\n",
              "</table>\n",
              "</div>"
            ],
            "text/plain": [
              "          width     price\n",
              "width  1.000000  0.753871\n",
              "price  0.753871  1.000000"
            ]
          },
          "execution_count": 48,
          "metadata": {},
          "output_type": "execute_result"
        }
      ],
      "source": [
        "df[[\"width\", \"price\"]].corr()"
      ]
    },
    {
      "cell_type": "code",
      "execution_count": null,
      "id": "5da3f25a-d284-4d1b-82fe-5a34162f8246",
      "metadata": {
        "id": "5da3f25a-d284-4d1b-82fe-5a34162f8246",
        "outputId": "63c61df3-13ea-412a-b562-374c548f32fa"
      },
      "outputs": [
        {
          "name": "stdout",
          "output_type": "stream",
          "text": [
            "The Pearson Correlation Coefficient is -0.6892532361080421  with a P-value of P =  2.204870808003791e-29\n"
          ]
        }
      ],
      "source": [
        "pearson_coef, p_value = stats.pearsonr(df['city-mpg'], df['price'])\n",
        "print(\"The Pearson Correlation Coefficient is\", pearson_coef, \" with a P-value of P = \", p_value)  "
      ]
    },
    {
      "cell_type": "markdown",
      "id": "308688fb-cf34-4f37-be6d-664458dc2911",
      "metadata": {
        "id": "308688fb-cf34-4f37-be6d-664458dc2911"
      },
      "source": [
        "#### Conclusion:\n",
        "\n",
        "Since the p-value is < 0.001, the correlation between city-mpg and price is statistically significant, although the linear relationship isn't extremely strong (-0.686)."
      ]
    },
    {
      "cell_type": "code",
      "execution_count": null,
      "id": "8e71ca95-b067-4e31-bee7-be03fd4c44bf",
      "metadata": {
        "id": "8e71ca95-b067-4e31-bee7-be03fd4c44bf",
        "outputId": "c5ed6830-3874-45c7-e9a1-d2e1fd4982d8"
      },
      "outputs": [
        {
          "name": "stdout",
          "output_type": "stream",
          "text": [
            "The Pearson Correlation Coefficient is 0.8738869517981516  with a P-value of P =  1.26506744790746e-63\n"
          ]
        }
      ],
      "source": [
        "pearson_coef, p_value = stats.pearsonr(df['engine-size'], df['price'])\n",
        "print(\"The Pearson Correlation Coefficient is\", pearson_coef, \" with a P-value of P = \", p_value)  "
      ]
    },
    {
      "cell_type": "markdown",
      "id": "07bf00e9-2187-43ed-ab10-944d42dadf06",
      "metadata": {
        "id": "07bf00e9-2187-43ed-ab10-944d42dadf06"
      },
      "source": [
        "#### Conclusion:\n",
        "\n",
        "Since the p-value is < 0.001, the correlation between city-mpg and price is statistically significant, the linear relationship is extremely strong (0.872)."
      ]
    },
    {
      "cell_type": "code",
      "execution_count": null,
      "id": "712bcfdc-9baf-45ae-b02f-d0af41a32d70",
      "metadata": {
        "id": "712bcfdc-9baf-45ae-b02f-d0af41a32d70",
        "outputId": "e90d8b9d-5e55-492e-a05c-4af3258964c5"
      },
      "outputs": [
        {
          "name": "stdout",
          "output_type": "stream",
          "text": [
            "The Pearson Correlation Coefficient is 0.8350904472742751  with a P-value of P =  5.017116685971367e-53\n"
          ]
        }
      ],
      "source": [
        "pearson_coef, p_value = stats.pearsonr(df['curb-weight'], df['price'])\n",
        "print( \"The Pearson Correlation Coefficient is\", pearson_coef, \" with a P-value of P = \", p_value)  "
      ]
    },
    {
      "cell_type": "markdown",
      "id": "0936259a-8691-451e-903a-042efc9c30cc",
      "metadata": {
        "id": "0936259a-8691-451e-903a-042efc9c30cc"
      },
      "source": [
        "#### Conclusion:\n",
        "\n",
        "Since the p-value is < 0.001, the correlation between city-mpg and price is statistically significant, the linear relationship is extremely strong (0.834)."
      ]
    },
    {
      "cell_type": "code",
      "execution_count": null,
      "id": "c61f7fd6-8223-448a-b9f2-7a5f9677d22a",
      "metadata": {
        "id": "c61f7fd6-8223-448a-b9f2-7a5f9677d22a",
        "outputId": "d8312dc2-6de3-4e64-85d3-df1b9882e1c3"
      },
      "outputs": [
        {
          "name": "stdout",
          "output_type": "stream",
          "text": [
            "The Pearson Correlation Coefficient is 0.8105330821322063  with a P-value of P =  1.1891278276946466e-47\n"
          ]
        }
      ],
      "source": [
        "pearson_coef, p_value = stats.pearsonr(df['horsepower'], df['price'])\n",
        "print( \"The Pearson Correlation Coefficient is\", pearson_coef, \" with a P-value of P = \", p_value)  "
      ]
    },
    {
      "cell_type": "markdown",
      "id": "72c80296-3195-4fa7-a16f-842ca32dc4a7",
      "metadata": {
        "id": "72c80296-3195-4fa7-a16f-842ca32dc4a7"
      },
      "source": [
        "Conclusion:\n",
        "Since the p-value is < 0.001, the correlation between horsepower and price is statistically significant, the linear relationship is extremely strong (0.811)."
      ]
    },
    {
      "cell_type": "code",
      "execution_count": null,
      "id": "82e370cd-8794-46c5-bf29-6b84045efa84",
      "metadata": {
        "id": "82e370cd-8794-46c5-bf29-6b84045efa84",
        "outputId": "9fe44754-ced1-4530-d1cc-730936227524"
      },
      "outputs": [
        {
          "name": "stdout",
          "output_type": "stream",
          "text": [
            "The Pearson Correlation Coefficient is -0.7052298604211742  with a P-value of P =  3.008766425754823e-31\n"
          ]
        }
      ],
      "source": [
        "pearson_coef, p_value = stats.pearsonr(df['highway-mpg'], df['price'])\n",
        "print( \"The Pearson Correlation Coefficient is\", pearson_coef, \" with a P-value of P = \", p_value)  "
      ]
    },
    {
      "cell_type": "markdown",
      "id": "d450387b-3aa2-4afa-a0cb-d4d9090366a7",
      "metadata": {
        "id": "d450387b-3aa2-4afa-a0cb-d4d9090366a7"
      },
      "source": [
        "#### Conclusion:\n",
        "\n",
        "Since the p-value is < 0.001, the correlation between highway-mpg and price is statistically significant, as they have a negative linear relationship (-0.705)."
      ]
    },
    {
      "cell_type": "markdown",
      "id": "03111cb9-7238-489c-9cb1-2543c59b0945",
      "metadata": {
        "id": "03111cb9-7238-489c-9cb1-2543c59b0945"
      },
      "source": [
        "#### Analysis Of Variance (ANOVA)\n",
        "\n",
        "The Analysis of Variance (ANOVA) is a statistical method used to test whether there are significant differences between the means of two or more groups. ANOVA returns two parameters:\n",
        "\n",
        "F-test score: ANOVA assumes the means of all groups are the same, calculates how much the actual means deviate from the assumption, and reports it as the F-test score. A larger score means there is a larger difference between the means.\n",
        "\n",
        "P-value: P-value tells how statistically significant our calculated score value is.\n",
        "\n",
        "If our price variable is strongly correlated with the variable we are analyzing, we expect ANOVA to return a sizeable F-test score and a small p-value."
      ]
    },
    {
      "cell_type": "markdown",
      "id": "b3551d4c-a0a7-48cf-af94-e10ba1017e06",
      "metadata": {
        "id": "b3551d4c-a0a7-48cf-af94-e10ba1017e06"
      },
      "source": [
        "#### Drive-wheels\n",
        "\n",
        "Since ANOVA analyzes the difference between different groups of the same variable, the groupby function will come in handy. Because the ANOVA algorithm averages the data automatically, we do not need to take the average before hand.\n",
        "\n",
        "To see if different types of `drive-wheels` impact `price`, we group the data."
      ]
    },
    {
      "cell_type": "code",
      "execution_count": null,
      "id": "62694766-759a-42b9-b792-333a36dba250",
      "metadata": {
        "id": "62694766-759a-42b9-b792-333a36dba250",
        "outputId": "9d03385e-433e-48d7-c93e-1e0454b3cdb5"
      },
      "outputs": [
        {
          "data": {
            "text/html": [
              "<div>\n",
              "<style scoped>\n",
              "    .dataframe tbody tr th:only-of-type {\n",
              "        vertical-align: middle;\n",
              "    }\n",
              "\n",
              "    .dataframe tbody tr th {\n",
              "        vertical-align: top;\n",
              "    }\n",
              "\n",
              "    .dataframe thead th {\n",
              "        text-align: right;\n",
              "    }\n",
              "</style>\n",
              "<table border=\"1\" class=\"dataframe\">\n",
              "  <thead>\n",
              "    <tr style=\"text-align: right;\">\n",
              "      <th></th>\n",
              "      <th>drive-wheels</th>\n",
              "      <th>price</th>\n",
              "    </tr>\n",
              "  </thead>\n",
              "  <tbody>\n",
              "    <tr>\n",
              "      <th>0</th>\n",
              "      <td>rwd</td>\n",
              "      <td>13495.0</td>\n",
              "    </tr>\n",
              "    <tr>\n",
              "      <th>1</th>\n",
              "      <td>rwd</td>\n",
              "      <td>16500.0</td>\n",
              "    </tr>\n",
              "    <tr>\n",
              "      <th>3</th>\n",
              "      <td>fwd</td>\n",
              "      <td>13950.0</td>\n",
              "    </tr>\n",
              "    <tr>\n",
              "      <th>4</th>\n",
              "      <td>4wd</td>\n",
              "      <td>17450.0</td>\n",
              "    </tr>\n",
              "    <tr>\n",
              "      <th>5</th>\n",
              "      <td>fwd</td>\n",
              "      <td>15250.0</td>\n",
              "    </tr>\n",
              "    <tr>\n",
              "      <th>140</th>\n",
              "      <td>4wd</td>\n",
              "      <td>7603.0</td>\n",
              "    </tr>\n",
              "  </tbody>\n",
              "</table>\n",
              "</div>"
            ],
            "text/plain": [
              "    drive-wheels    price\n",
              "0            rwd  13495.0\n",
              "1            rwd  16500.0\n",
              "3            fwd  13950.0\n",
              "4            4wd  17450.0\n",
              "5            fwd  15250.0\n",
              "140          4wd   7603.0"
            ]
          },
          "execution_count": 54,
          "metadata": {},
          "output_type": "execute_result"
        }
      ],
      "source": [
        "df1_gp = df1[['drive-wheels', 'price']].groupby(['drive-wheels'])\n",
        "df1_gp.head(2)"
      ]
    },
    {
      "cell_type": "code",
      "execution_count": null,
      "id": "9b278128-1a76-4593-9d94-e977fd79b6d1",
      "metadata": {
        "id": "9b278128-1a76-4593-9d94-e977fd79b6d1",
        "outputId": "072d51ae-ecf7-4562-c0ad-4c9015b02e1a"
      },
      "outputs": [
        {
          "data": {
            "text/html": [
              "<div>\n",
              "<style scoped>\n",
              "    .dataframe tbody tr th:only-of-type {\n",
              "        vertical-align: middle;\n",
              "    }\n",
              "\n",
              "    .dataframe tbody tr th {\n",
              "        vertical-align: top;\n",
              "    }\n",
              "\n",
              "    .dataframe thead th {\n",
              "        text-align: right;\n",
              "    }\n",
              "</style>\n",
              "<table border=\"1\" class=\"dataframe\">\n",
              "  <thead>\n",
              "    <tr style=\"text-align: right;\">\n",
              "      <th></th>\n",
              "      <th>body-style</th>\n",
              "      <th>drive-wheels</th>\n",
              "      <th>price</th>\n",
              "    </tr>\n",
              "  </thead>\n",
              "  <tbody>\n",
              "    <tr>\n",
              "      <th>0</th>\n",
              "      <td>convertible</td>\n",
              "      <td>rwd</td>\n",
              "      <td>13495.0</td>\n",
              "    </tr>\n",
              "    <tr>\n",
              "      <th>1</th>\n",
              "      <td>convertible</td>\n",
              "      <td>rwd</td>\n",
              "      <td>16500.0</td>\n",
              "    </tr>\n",
              "    <tr>\n",
              "      <th>2</th>\n",
              "      <td>hatchback</td>\n",
              "      <td>rwd</td>\n",
              "      <td>16500.0</td>\n",
              "    </tr>\n",
              "    <tr>\n",
              "      <th>3</th>\n",
              "      <td>sedan</td>\n",
              "      <td>fwd</td>\n",
              "      <td>13950.0</td>\n",
              "    </tr>\n",
              "    <tr>\n",
              "      <th>4</th>\n",
              "      <td>sedan</td>\n",
              "      <td>4wd</td>\n",
              "      <td>17450.0</td>\n",
              "    </tr>\n",
              "    <tr>\n",
              "      <th>...</th>\n",
              "      <td>...</td>\n",
              "      <td>...</td>\n",
              "      <td>...</td>\n",
              "    </tr>\n",
              "    <tr>\n",
              "      <th>200</th>\n",
              "      <td>sedan</td>\n",
              "      <td>rwd</td>\n",
              "      <td>16845.0</td>\n",
              "    </tr>\n",
              "    <tr>\n",
              "      <th>201</th>\n",
              "      <td>sedan</td>\n",
              "      <td>rwd</td>\n",
              "      <td>19045.0</td>\n",
              "    </tr>\n",
              "    <tr>\n",
              "      <th>202</th>\n",
              "      <td>sedan</td>\n",
              "      <td>rwd</td>\n",
              "      <td>21485.0</td>\n",
              "    </tr>\n",
              "    <tr>\n",
              "      <th>203</th>\n",
              "      <td>sedan</td>\n",
              "      <td>rwd</td>\n",
              "      <td>22470.0</td>\n",
              "    </tr>\n",
              "    <tr>\n",
              "      <th>204</th>\n",
              "      <td>sedan</td>\n",
              "      <td>rwd</td>\n",
              "      <td>22625.0</td>\n",
              "    </tr>\n",
              "  </tbody>\n",
              "</table>\n",
              "<p>199 rows × 3 columns</p>\n",
              "</div>"
            ],
            "text/plain": [
              "      body-style drive-wheels    price\n",
              "0    convertible          rwd  13495.0\n",
              "1    convertible          rwd  16500.0\n",
              "2      hatchback          rwd  16500.0\n",
              "3          sedan          fwd  13950.0\n",
              "4          sedan          4wd  17450.0\n",
              "..           ...          ...      ...\n",
              "200        sedan          rwd  16845.0\n",
              "201        sedan          rwd  19045.0\n",
              "202        sedan          rwd  21485.0\n",
              "203        sedan          rwd  22470.0\n",
              "204        sedan          rwd  22625.0\n",
              "\n",
              "[199 rows x 3 columns]"
            ]
          },
          "execution_count": 55,
          "metadata": {},
          "output_type": "execute_result"
        }
      ],
      "source": [
        "df1"
      ]
    },
    {
      "cell_type": "markdown",
      "id": "4c992557-b17c-4de1-8578-237bd5041e48",
      "metadata": {
        "id": "4c992557-b17c-4de1-8578-237bd5041e48"
      },
      "source": [
        "We ca get values of individual groups (e.g the 4wd group) with price using the `get_group()` method"
      ]
    },
    {
      "cell_type": "code",
      "execution_count": null,
      "id": "44e1fc94-3057-4ba9-a423-522fe3168ff7",
      "metadata": {
        "id": "44e1fc94-3057-4ba9-a423-522fe3168ff7",
        "outputId": "f5292d5f-9e81-4fb2-8fb3-4a8b6386266c"
      },
      "outputs": [
        {
          "data": {
            "text/plain": [
              "4      17450.0\n",
              "140     7603.0\n",
              "144     9233.0\n",
              "145    11259.0\n",
              "148     8013.0\n",
              "149    11694.0\n",
              "154     7898.0\n",
              "155     8778.0\n",
              "Name: price, dtype: float64"
            ]
          },
          "execution_count": 56,
          "metadata": {},
          "output_type": "execute_result"
        }
      ],
      "source": [
        "df1_gp.get_group('4wd')['price']"
      ]
    },
    {
      "cell_type": "markdown",
      "id": "a2d5f648-8ed5-4de9-aa13-83f541ce7b81",
      "metadata": {
        "id": "a2d5f648-8ed5-4de9-aa13-83f541ce7b81"
      },
      "source": [
        "We can use the function `f_oneway` in the module `stats` to obtain the `F-test score` and `P-value`."
      ]
    },
    {
      "cell_type": "code",
      "execution_count": null,
      "id": "145c0b24-91b5-4e67-bf6b-1ceb20d4ec62",
      "metadata": {
        "id": "145c0b24-91b5-4e67-bf6b-1ceb20d4ec62",
        "outputId": "b870d148-351a-4b7e-cf75-cd0e567b53eb"
      },
      "outputs": [
        {
          "name": "stdout",
          "output_type": "stream",
          "text": [
            "ANOVA results: F= 66.92990285052078 , P = 6.995421830700255e-23\n"
          ]
        }
      ],
      "source": [
        "# ANOVA\n",
        "f_val, p_val = stats.f_oneway(df1_gp.get_group('fwd')['price'], df1_gp.get_group('rwd')['price'], df1_gp.get_group('4wd')['price'])  \n",
        " \n",
        "print( \"ANOVA results: F=\", f_val, \", P =\", p_val)   "
      ]
    },
    {
      "cell_type": "markdown",
      "id": "84abe04e-910c-4c57-af23-2f01ed48fc64",
      "metadata": {
        "id": "84abe04e-910c-4c57-af23-2f01ed48fc64"
      },
      "source": [
        "With a large F-test score showing a strong correlation and a P-value of almost 0 implying almost certain statistical significance is a good result. To confirm if the individual groups have this strong results, we examine them individually"
      ]
    },
    {
      "cell_type": "markdown",
      "id": "6efc1a88-7f47-4a8d-ae75-16cb8bce15db",
      "metadata": {
        "id": "6efc1a88-7f47-4a8d-ae75-16cb8bce15db"
      },
      "source": [
        "##### fwd and rwd"
      ]
    },
    {
      "cell_type": "code",
      "execution_count": null,
      "id": "d5032140-309b-4ef8-8ae9-71557fc622f6",
      "metadata": {
        "id": "d5032140-309b-4ef8-8ae9-71557fc622f6",
        "outputId": "480d85ab-5e81-44ca-9d2b-9cda8ede9ba4"
      },
      "outputs": [
        {
          "name": "stdout",
          "output_type": "stream",
          "text": [
            "ANOVA results: F= 128.48137608625743 , P = 4.6725694222937356e-23\n"
          ]
        }
      ],
      "source": [
        "f_val, p_val = stats.f_oneway(df1_gp.get_group('fwd')['price'], df1_gp.get_group('rwd')['price'])  \n",
        " \n",
        "print( \"ANOVA results: F=\", f_val, \", P =\", p_val)   "
      ]
    },
    {
      "cell_type": "markdown",
      "id": "af5342e0-2cb3-4c6e-8519-509fc9e85e26",
      "metadata": {
        "id": "af5342e0-2cb3-4c6e-8519-509fc9e85e26"
      },
      "source": [
        "##### fwd ad 4wd"
      ]
    },
    {
      "cell_type": "code",
      "execution_count": null,
      "id": "c5f4dc55-733a-4e5b-8a2b-dc64cbace45a",
      "metadata": {
        "id": "c5f4dc55-733a-4e5b-8a2b-dc64cbace45a",
        "outputId": "cee8acb6-8ef8-41cb-f09e-82b82f4c64c2"
      },
      "outputs": [
        {
          "name": "stdout",
          "output_type": "stream",
          "text": [
            "ANOVA results: F= 0.6621740397322757 , P = 0.41737884563910455\n"
          ]
        }
      ],
      "source": [
        "f_val, p_val = stats.f_oneway(df1_gp.get_group('fwd')['price'], df1_gp.get_group('4wd')['price'])  \n",
        " \n",
        "print( \"ANOVA results: F=\", f_val, \", P =\", p_val)   "
      ]
    },
    {
      "cell_type": "markdown",
      "id": "309158ef-5928-449a-b58e-543a04c49ca3",
      "metadata": {
        "id": "309158ef-5928-449a-b58e-543a04c49ca3"
      },
      "source": [
        "##### rwd and 4wd"
      ]
    },
    {
      "cell_type": "code",
      "execution_count": null,
      "id": "77750f99-edbc-459f-b83f-4d588bbb7ca6",
      "metadata": {
        "id": "77750f99-edbc-459f-b83f-4d588bbb7ca6",
        "outputId": "af92269d-7ce9-47b4-d388-3c19e5741d28"
      },
      "outputs": [
        {
          "name": "stdout",
          "output_type": "stream",
          "text": [
            "ANOVA results: F= 8.580681368924756 , P = 0.004411492211225333\n"
          ]
        }
      ],
      "source": [
        "f_val, p_val = stats.f_oneway(df1_gp.get_group('rwd')['price'], df1_gp.get_group('4wd')['price'])  \n",
        " \n",
        "print( \"ANOVA results: F=\", f_val, \", P =\", p_val)   "
      ]
    },
    {
      "cell_type": "markdown",
      "id": "33fefedc-6a1b-4569-8e07-66a6bf28d057",
      "metadata": {
        "id": "33fefedc-6a1b-4569-8e07-66a6bf28d057"
      },
      "source": [
        "#### Important Variables\n",
        "\n",
        "We now have a better idea of what our data looks like and which variables are important to take into account when predicting the car price. We have narrowed it down to the following variables:\n",
        "\n",
        "##### Continuous numerical variables:\n",
        "\n",
        "* Length\n",
        "* Width\n",
        "* Curb-weight\n",
        "* Engine-size\n",
        "* Horsepower\n",
        "* City-mpg\n",
        "* Highway-mpg\n",
        "* Wheel-base\n",
        "* Bore\n",
        "\n",
        "##### Categorical variables:\n",
        "\n",
        "* Drive-wheels\n",
        "\n",
        "As we now move into building machine learning models to automate our analysis, feeding the model with variables that meaningfully affect our target variable will improve our model's prediction performance."
      ]
    },
    {
      "cell_type": "markdown",
      "id": "8fd79855-38c1-44ca-a260-97d2a619b9c9",
      "metadata": {
        "id": "8fd79855-38c1-44ca-a260-97d2a619b9c9"
      },
      "source": [
        "### Model Development"
      ]
    },
    {
      "cell_type": "markdown",
      "id": "4323e0c1-96cf-4ef0-9744-53abe19d3086",
      "metadata": {
        "id": "4323e0c1-96cf-4ef0-9744-53abe19d3086"
      },
      "source": [
        "\n",
        "Linear Regression is the model that will be used to predict the target variable (`price`). This method help us understand the relationship between two variable:\n",
        "\n",
        "The predictor/independent variable(s) (X)\n",
        "The response/dependent variable (that we want to predict)(Y)\n",
        "\n",
        "The result of Linear Regression is a linear function that predicts the response (dependent) variable(s) as a function of the predictor (independent) variable."
      ]
    },
    {
      "cell_type": "code",
      "execution_count": null,
      "id": "48c19885-a2dc-4331-b16f-25d40f9e4b4b",
      "metadata": {
        "id": "48c19885-a2dc-4331-b16f-25d40f9e4b4b",
        "outputId": "ecb04321-0fd0-4cb1-a5bf-adfa18bc8ca0"
      },
      "outputs": [
        {
          "data": {
            "text/plain": [
              "LinearRegression()"
            ]
          },
          "execution_count": 61,
          "metadata": {},
          "output_type": "execute_result"
        }
      ],
      "source": [
        "lm = LinearRegression()\n",
        "lm"
      ]
    },
    {
      "cell_type": "markdown",
      "id": "b0a078b7-e497-45b4-80dc-94e71ccccc54",
      "metadata": {
        "id": "b0a078b7-e497-45b4-80dc-94e71ccccc54"
      },
      "source": [
        "The `engine-size` variable has a strong positive correlation with price. Let's use a simple linear regression model to see how the engine-size variable can predict the price variable"
      ]
    },
    {
      "cell_type": "code",
      "execution_count": null,
      "id": "db9c25a5-52eb-49ca-9387-8e5ddededb7f",
      "metadata": {
        "id": "db9c25a5-52eb-49ca-9387-8e5ddededb7f"
      },
      "outputs": [],
      "source": [
        "X = df[['engine-size']]\n",
        "Y = df['price']"
      ]
    },
    {
      "cell_type": "markdown",
      "id": "8a863dce-4c58-4062-a8d3-82f5254799be",
      "metadata": {
        "id": "8a863dce-4c58-4062-a8d3-82f5254799be"
      },
      "source": [
        "Use the `.fit` method together with the linear regression model"
      ]
    },
    {
      "cell_type": "code",
      "execution_count": null,
      "id": "47b8d95b-3c44-4e21-944d-96f4cdd04f99",
      "metadata": {
        "id": "47b8d95b-3c44-4e21-944d-96f4cdd04f99",
        "outputId": "7029d0c1-bf73-4d12-d331-fda0756a9e9b"
      },
      "outputs": [
        {
          "data": {
            "text/plain": [
              "LinearRegression()"
            ]
          },
          "execution_count": 63,
          "metadata": {},
          "output_type": "execute_result"
        }
      ],
      "source": [
        "lm.fit(X, Y)"
      ]
    },
    {
      "cell_type": "markdown",
      "id": "bd84ff0b-34ee-4e3a-812d-1e5a7e70f0af",
      "metadata": {
        "id": "bd84ff0b-34ee-4e3a-812d-1e5a7e70f0af"
      },
      "source": [
        "We can predict the outcome using the `.predict` method"
      ]
    },
    {
      "cell_type": "code",
      "execution_count": null,
      "id": "82dcdb44-d022-429e-9c45-da64159097df",
      "metadata": {
        "id": "82dcdb44-d022-429e-9c45-da64159097df",
        "outputId": "8f5d6861-f742-4b0b-ebd9-4ff599dcc6b0"
      },
      "outputs": [
        {
          "data": {
            "text/plain": [
              "array([13773.78492057, 13773.78492057, 17447.65261398, 10266.91121321,\n",
              "       14775.74883695])"
            ]
          },
          "execution_count": 64,
          "metadata": {},
          "output_type": "execute_result"
        }
      ],
      "source": [
        "Yhat=lm.predict(X)\n",
        "Yhat[0:5] "
      ]
    },
    {
      "cell_type": "code",
      "execution_count": null,
      "id": "79124e57-1f0f-47ef-bc1c-75c0c07efc17",
      "metadata": {
        "id": "79124e57-1f0f-47ef-bc1c-75c0c07efc17",
        "outputId": "b2e98b8f-65fe-4375-b648-b928f052ad8b"
      },
      "outputs": [
        {
          "data": {
            "text/plain": [
              "-7935.433267801041"
            ]
          },
          "execution_count": 65,
          "metadata": {},
          "output_type": "execute_result"
        }
      ],
      "source": [
        "lm.intercept_"
      ]
    },
    {
      "cell_type": "code",
      "execution_count": null,
      "id": "204057a9-76d6-4829-9f56-d8327d30919a",
      "metadata": {
        "id": "204057a9-76d6-4829-9f56-d8327d30919a",
        "outputId": "5fc2fb8e-dc6f-4651-f5f9-b36b0b21bc8c"
      },
      "outputs": [
        {
          "data": {
            "text/plain": [
              "array([166.99398606])"
            ]
          },
          "execution_count": 66,
          "metadata": {},
          "output_type": "execute_result"
        }
      ],
      "source": [
        "lm.coef_"
      ]
    },
    {
      "cell_type": "markdown",
      "id": "dd462f8a-75c4-460e-87fe-a9d81723c36b",
      "metadata": {
        "id": "dd462f8a-75c4-460e-87fe-a9d81723c36b"
      },
      "source": [
        "What is the final estimated linear model we get?\n",
        "As we saw above, we should get a final linear model with the structure:\n",
        "\n",
        "Yhat = b<sub>o</sub> + b<sub>1</sub>X\n",
        "\n",
        "Where:\n",
        "\n",
        "* Yhat = Target Variable\n",
        "\n",
        "* b<sub>o</sub> = Intercept\n",
        "\n",
        "* b<sub>1</sub> = Slope\n",
        "\n",
        "* X = Predictor Variable\n",
        "\n",
        "Plugging in the actual values we get:\n",
        "\n",
        "Yhat = -7935.43 + 166.99 x engine-size"
      ]
    },
    {
      "cell_type": "code",
      "execution_count": null,
      "id": "61cca28e-fcd6-465d-a797-e497c8cfcbf6",
      "metadata": {
        "id": "61cca28e-fcd6-465d-a797-e497c8cfcbf6",
        "outputId": "b01b32bc-cadb-4425-9f0a-4bd25dfb0d36"
      },
      "outputs": [
        {
          "data": {
            "text/html": [
              "<div>\n",
              "<style scoped>\n",
              "    .dataframe tbody tr th:only-of-type {\n",
              "        vertical-align: middle;\n",
              "    }\n",
              "\n",
              "    .dataframe tbody tr th {\n",
              "        vertical-align: top;\n",
              "    }\n",
              "\n",
              "    .dataframe thead th {\n",
              "        text-align: right;\n",
              "    }\n",
              "</style>\n",
              "<table border=\"1\" class=\"dataframe\">\n",
              "  <thead>\n",
              "    <tr style=\"text-align: right;\">\n",
              "      <th></th>\n",
              "      <th>engine-size</th>\n",
              "      <th>price</th>\n",
              "    </tr>\n",
              "  </thead>\n",
              "  <tbody>\n",
              "    <tr>\n",
              "      <th>0</th>\n",
              "      <td>130</td>\n",
              "      <td>13495.0</td>\n",
              "    </tr>\n",
              "    <tr>\n",
              "      <th>1</th>\n",
              "      <td>130</td>\n",
              "      <td>16500.0</td>\n",
              "    </tr>\n",
              "    <tr>\n",
              "      <th>2</th>\n",
              "      <td>152</td>\n",
              "      <td>16500.0</td>\n",
              "    </tr>\n",
              "    <tr>\n",
              "      <th>3</th>\n",
              "      <td>109</td>\n",
              "      <td>13950.0</td>\n",
              "    </tr>\n",
              "    <tr>\n",
              "      <th>4</th>\n",
              "      <td>136</td>\n",
              "      <td>17450.0</td>\n",
              "    </tr>\n",
              "    <tr>\n",
              "      <th>...</th>\n",
              "      <td>...</td>\n",
              "      <td>...</td>\n",
              "    </tr>\n",
              "    <tr>\n",
              "      <th>200</th>\n",
              "      <td>141</td>\n",
              "      <td>16845.0</td>\n",
              "    </tr>\n",
              "    <tr>\n",
              "      <th>201</th>\n",
              "      <td>141</td>\n",
              "      <td>19045.0</td>\n",
              "    </tr>\n",
              "    <tr>\n",
              "      <th>202</th>\n",
              "      <td>173</td>\n",
              "      <td>21485.0</td>\n",
              "    </tr>\n",
              "    <tr>\n",
              "      <th>203</th>\n",
              "      <td>145</td>\n",
              "      <td>22470.0</td>\n",
              "    </tr>\n",
              "    <tr>\n",
              "      <th>204</th>\n",
              "      <td>141</td>\n",
              "      <td>22625.0</td>\n",
              "    </tr>\n",
              "  </tbody>\n",
              "</table>\n",
              "<p>199 rows × 2 columns</p>\n",
              "</div>"
            ],
            "text/plain": [
              "     engine-size    price\n",
              "0            130  13495.0\n",
              "1            130  16500.0\n",
              "2            152  16500.0\n",
              "3            109  13950.0\n",
              "4            136  17450.0\n",
              "..           ...      ...\n",
              "200          141  16845.0\n",
              "201          141  19045.0\n",
              "202          173  21485.0\n",
              "203          145  22470.0\n",
              "204          141  22625.0\n",
              "\n",
              "[199 rows x 2 columns]"
            ]
          },
          "execution_count": 67,
          "metadata": {},
          "output_type": "execute_result"
        }
      ],
      "source": [
        "df[['engine-size', 'price']] "
      ]
    },
    {
      "cell_type": "markdown",
      "id": "7f7805f0-eb8d-4aa5-afc9-e21c3803624d",
      "metadata": {
        "id": "7f7805f0-eb8d-4aa5-afc9-e21c3803624d"
      },
      "source": [
        "Let's check how could of a predictor variable is engine-size in predicting price"
      ]
    },
    {
      "cell_type": "code",
      "execution_count": null,
      "id": "dc5f5013-1a61-43cf-b4a4-72628547e90e",
      "metadata": {
        "id": "dc5f5013-1a61-43cf-b4a4-72628547e90e",
        "outputId": "d1e74af6-f104-4c14-8741-88c77ee7fcf4"
      },
      "outputs": [
        {
          "data": {
            "text/plain": [
              "13773.27"
            ]
          },
          "execution_count": 68,
          "metadata": {},
          "output_type": "execute_result"
        }
      ],
      "source": [
        "Yhat = -7935.43 + 166.99 * 130\n",
        "Yhat"
      ]
    },
    {
      "cell_type": "markdown",
      "id": "f2aac10a-b1c4-43b3-83d9-4c5aa3312020",
      "metadata": {
        "id": "f2aac10a-b1c4-43b3-83d9-4c5aa3312020"
      },
      "source": [
        "The actual value of price at engine size `130` is `13495.0`. The predicted price is `13773.27`. "
      ]
    },
    {
      "cell_type": "markdown",
      "id": "b96d1695-a262-49fa-bc7c-59782d9d188d",
      "metadata": {
        "id": "b96d1695-a262-49fa-bc7c-59782d9d188d"
      },
      "source": [
        "#### Multiple Linear Regression\n",
        "\n",
        "Using more variables to predict the target variable in this case price for a more accurate result, we use the multiple linear regression. Most real world cases involve the use of more tha one independent variable to predict a target variable.\n",
        "\n",
        "For this project, 5 indepedent variables will be use as they have strong correlation relationship with price (both positive and negative). "
      ]
    },
    {
      "cell_type": "markdown",
      "id": "26133d1b-a176-40eb-9b13-ca8e815bfbd6",
      "metadata": {
        "id": "26133d1b-a176-40eb-9b13-ca8e815bfbd6"
      },
      "source": [
        "#### The 5 independent variables include:\n",
        "\n",
        "* Curb-weight\n",
        "* engine-size\n",
        "* highway-mpg\n",
        "* horsepower"
      ]
    },
    {
      "cell_type": "code",
      "execution_count": null,
      "id": "00483efb-1c52-4404-ba63-783959afb310",
      "metadata": {
        "id": "00483efb-1c52-4404-ba63-783959afb310"
      },
      "outputs": [],
      "source": [
        "Z = df[['horsepower', 'curb-weight', 'engine-size', 'highway-mpg']]"
      ]
    },
    {
      "cell_type": "markdown",
      "id": "1e6e2b88-3cef-4f8c-9721-1a9c516285ca",
      "metadata": {
        "id": "1e6e2b88-3cef-4f8c-9721-1a9c516285ca"
      },
      "source": [
        "Fit the linear model using the five selected independent variables."
      ]
    },
    {
      "cell_type": "code",
      "execution_count": null,
      "id": "e61f3c37-9b6c-4f69-9e07-37d0306ecaa8",
      "metadata": {
        "id": "e61f3c37-9b6c-4f69-9e07-37d0306ecaa8",
        "outputId": "c82d79db-d9cf-4926-e2e3-61da39e82b15"
      },
      "outputs": [
        {
          "data": {
            "text/plain": [
              "LinearRegression()"
            ]
          },
          "execution_count": 70,
          "metadata": {},
          "output_type": "execute_result"
        }
      ],
      "source": [
        "lm.fit(Z, df['price'])"
      ]
    },
    {
      "cell_type": "code",
      "execution_count": null,
      "id": "9fd75494-5820-4c85-84b5-c65662bea6dc",
      "metadata": {
        "id": "9fd75494-5820-4c85-84b5-c65662bea6dc",
        "outputId": "80369f01-4116-4955-dea4-40b778a3aeed"
      },
      "outputs": [
        {
          "data": {
            "text/plain": [
              "-15700.573979039304"
            ]
          },
          "execution_count": 71,
          "metadata": {},
          "output_type": "execute_result"
        }
      ],
      "source": [
        "lm.intercept_"
      ]
    },
    {
      "cell_type": "code",
      "execution_count": null,
      "id": "e7fbbdcc-d88a-47aa-8806-36b208c30aca",
      "metadata": {
        "id": "e7fbbdcc-d88a-47aa-8806-36b208c30aca",
        "outputId": "a7b096dd-3ca5-49d3-eb77-9a62ec7e49f2"
      },
      "outputs": [
        {
          "data": {
            "text/plain": [
              "array([53.27878556,  4.66217408, 82.22948394, 35.5175845 ])"
            ]
          },
          "execution_count": 72,
          "metadata": {},
          "output_type": "execute_result"
        }
      ],
      "source": [
        "lm.coef_"
      ]
    },
    {
      "cell_type": "code",
      "execution_count": null,
      "id": "15f25672-d2f5-424d-9dc0-1f10b1fa0473",
      "metadata": {
        "id": "15f25672-d2f5-424d-9dc0-1f10b1fa0473",
        "outputId": "5601cbd9-2b05-40d6-d04e-e674ba8e3972"
      },
      "outputs": [
        {
          "data": {
            "text/html": [
              "<div>\n",
              "<style scoped>\n",
              "    .dataframe tbody tr th:only-of-type {\n",
              "        vertical-align: middle;\n",
              "    }\n",
              "\n",
              "    .dataframe tbody tr th {\n",
              "        vertical-align: top;\n",
              "    }\n",
              "\n",
              "    .dataframe thead th {\n",
              "        text-align: right;\n",
              "    }\n",
              "</style>\n",
              "<table border=\"1\" class=\"dataframe\">\n",
              "  <thead>\n",
              "    <tr style=\"text-align: right;\">\n",
              "      <th></th>\n",
              "      <th>horsepower</th>\n",
              "      <th>curb-weight</th>\n",
              "      <th>engine-size</th>\n",
              "      <th>highway-mpg</th>\n",
              "    </tr>\n",
              "  </thead>\n",
              "  <tbody>\n",
              "    <tr>\n",
              "      <th>0</th>\n",
              "      <td>111.0</td>\n",
              "      <td>2548</td>\n",
              "      <td>130</td>\n",
              "      <td>27</td>\n",
              "    </tr>\n",
              "    <tr>\n",
              "      <th>1</th>\n",
              "      <td>111.0</td>\n",
              "      <td>2548</td>\n",
              "      <td>130</td>\n",
              "      <td>27</td>\n",
              "    </tr>\n",
              "    <tr>\n",
              "      <th>2</th>\n",
              "      <td>154.0</td>\n",
              "      <td>2823</td>\n",
              "      <td>152</td>\n",
              "      <td>26</td>\n",
              "    </tr>\n",
              "    <tr>\n",
              "      <th>3</th>\n",
              "      <td>102.0</td>\n",
              "      <td>2337</td>\n",
              "      <td>109</td>\n",
              "      <td>30</td>\n",
              "    </tr>\n",
              "    <tr>\n",
              "      <th>4</th>\n",
              "      <td>115.0</td>\n",
              "      <td>2824</td>\n",
              "      <td>136</td>\n",
              "      <td>22</td>\n",
              "    </tr>\n",
              "    <tr>\n",
              "      <th>...</th>\n",
              "      <td>...</td>\n",
              "      <td>...</td>\n",
              "      <td>...</td>\n",
              "      <td>...</td>\n",
              "    </tr>\n",
              "    <tr>\n",
              "      <th>200</th>\n",
              "      <td>114.0</td>\n",
              "      <td>2952</td>\n",
              "      <td>141</td>\n",
              "      <td>28</td>\n",
              "    </tr>\n",
              "    <tr>\n",
              "      <th>201</th>\n",
              "      <td>160.0</td>\n",
              "      <td>3049</td>\n",
              "      <td>141</td>\n",
              "      <td>25</td>\n",
              "    </tr>\n",
              "    <tr>\n",
              "      <th>202</th>\n",
              "      <td>134.0</td>\n",
              "      <td>3012</td>\n",
              "      <td>173</td>\n",
              "      <td>23</td>\n",
              "    </tr>\n",
              "    <tr>\n",
              "      <th>203</th>\n",
              "      <td>106.0</td>\n",
              "      <td>3217</td>\n",
              "      <td>145</td>\n",
              "      <td>27</td>\n",
              "    </tr>\n",
              "    <tr>\n",
              "      <th>204</th>\n",
              "      <td>114.0</td>\n",
              "      <td>3062</td>\n",
              "      <td>141</td>\n",
              "      <td>25</td>\n",
              "    </tr>\n",
              "  </tbody>\n",
              "</table>\n",
              "<p>199 rows × 4 columns</p>\n",
              "</div>"
            ],
            "text/plain": [
              "     horsepower  curb-weight  engine-size  highway-mpg\n",
              "0         111.0         2548          130           27\n",
              "1         111.0         2548          130           27\n",
              "2         154.0         2823          152           26\n",
              "3         102.0         2337          109           30\n",
              "4         115.0         2824          136           22\n",
              "..          ...          ...          ...          ...\n",
              "200       114.0         2952          141           28\n",
              "201       160.0         3049          141           25\n",
              "202       134.0         3012          173           23\n",
              "203       106.0         3217          145           27\n",
              "204       114.0         3062          141           25\n",
              "\n",
              "[199 rows x 4 columns]"
            ]
          },
          "execution_count": 73,
          "metadata": {},
          "output_type": "execute_result"
        }
      ],
      "source": [
        "Z"
      ]
    },
    {
      "cell_type": "markdown",
      "id": "86bcfde3-8ab6-45c7-b16e-027d2bc421cf",
      "metadata": {
        "id": "86bcfde3-8ab6-45c7-b16e-027d2bc421cf"
      },
      "source": [
        "The linear model regression model for this project to predict price is given below:\n",
        "\n",
        "Yhat = b<sub>o</sub> + b<sub>1</sub>X<sub>1</sub> + b<sub>2</sub>X<sub>2</sub> + b<sub>3</sub>X<sub>3</sub> + b<sub>4</sub>X<sub>4</sub>"
      ]
    },
    {
      "cell_type": "markdown",
      "id": "b63ca54a-7b43-4fb1-b595-9b13a9ca5b34",
      "metadata": {
        "id": "b63ca54a-7b43-4fb1-b595-9b13a9ca5b34"
      },
      "source": [
        "Price = -15700.57 + 53.28(horsepower) + 4.66(curb-weight) + 82.23(engine-size) + 35.52(highway-mpg)"
      ]
    },
    {
      "cell_type": "markdown",
      "id": "4e11d0e5-9ab3-451c-bef1-98bcac473c16",
      "metadata": {
        "id": "4e11d0e5-9ab3-451c-bef1-98bcac473c16"
      },
      "source": [
        "#### Model Evaluation Using Visualization\n",
        "\n",
        "Using the visualizatiion to evaluate model is one of many ways to check if the model fits the dataset. \n",
        "Regression plot, Residual plot and distribution plot are ways visualization that show if a model fit.\n",
        "\n",
        "For this project, we will be using a distribution plot to see if the model fit."
      ]
    },
    {
      "cell_type": "code",
      "execution_count": null,
      "id": "3b8729ae-4acd-4cbc-b2b6-9c574651ca46",
      "metadata": {
        "id": "3b8729ae-4acd-4cbc-b2b6-9c574651ca46",
        "outputId": "2d486c29-dc58-4f91-c8f8-d1bbdf03e60a"
      },
      "outputs": [
        {
          "name": "stderr",
          "output_type": "stream",
          "text": [
            "C:\\Users\\COLLINS\\anaconda3\\lib\\site-packages\\seaborn\\distributions.py:2619: FutureWarning: `distplot` is a deprecated function and will be removed in a future version. Please adapt your code to use either `displot` (a figure-level function with similar flexibility) or `kdeplot` (an axes-level function for kernel density plots).\n",
            "  warnings.warn(msg, FutureWarning)\n",
            "C:\\Users\\COLLINS\\anaconda3\\lib\\site-packages\\seaborn\\distributions.py:2619: FutureWarning: `distplot` is a deprecated function and will be removed in a future version. Please adapt your code to use either `displot` (a figure-level function with similar flexibility) or `kdeplot` (an axes-level function for kernel density plots).\n",
            "  warnings.warn(msg, FutureWarning)\n"
          ]
        },
        {
          "data": {
            "image/png": "[encoded data removed]",
            "text/plain": [
              "<Figure size 864x720 with 1 Axes>"
            ]
          },
          "metadata": {
            "needs_background": "light"
          },
          "output_type": "display_data"
        }
      ],
      "source": [
        "Y_hat = lm.predict(Z)\n",
        "\n",
        "width = 12\n",
        "height = 10\n",
        "\n",
        "plt.figure(figsize=(width, height))\n",
        "\n",
        "\n",
        "ax1 = sns.distplot(df['price'], hist=False, color=\"r\", label=\"Actual Value\")\n",
        "sns.distplot(Y_hat, hist=False, color=\"b\", label=\"Fitted Values\" , ax=ax1)\n",
        "\n",
        "\n",
        "plt.title('Actual vs Fitted Values for Price')\n",
        "plt.xlabel('Price (in dollars)')\n",
        "plt.ylabel('Proportion of Cars')\n",
        "\n",
        "plt.show()\n",
        "plt.close()"
      ]
    },
    {
      "cell_type": "markdown",
      "id": "2995fdfe-2b1f-4163-bdd0-ce8fa65193fb",
      "metadata": {
        "id": "2995fdfe-2b1f-4163-bdd0-ce8fa65193fb"
      },
      "source": [
        "We can see that the fitted values are reasonably close to the actual values since the two distributions overlap a bit. However, there is definitely some room for improvement."
      ]
    },
    {
      "cell_type": "markdown",
      "id": "ff4942a4-d346-4e76-be54-83c82acad8af",
      "metadata": {
        "id": "ff4942a4-d346-4e76-be54-83c82acad8af"
      },
      "source": [
        "#### Model Evaluation using M.S.E and R-Squared\n",
        "\n",
        "Let's calculate the R square for this model"
      ]
    },
    {
      "cell_type": "code",
      "execution_count": null,
      "id": "9d24ed55-d195-4b64-8e8e-b5bb45911311",
      "metadata": {
        "id": "9d24ed55-d195-4b64-8e8e-b5bb45911311",
        "outputId": "40685240-e504-43eb-a77b-9496d3e6c224"
      },
      "outputs": [
        {
          "name": "stdout",
          "output_type": "stream",
          "text": [
            "The R-square is:  0.811469396425812\n"
          ]
        }
      ],
      "source": [
        "lm.fit(Z, df['price'])\n",
        "# Find the R^2\n",
        "print('The R-square is: ', lm.score(Z, df['price']))"
      ]
    },
    {
      "cell_type": "markdown",
      "id": "1cc35bc5-ca6e-497c-b710-b8d0dfc01984",
      "metadata": {
        "id": "1cc35bc5-ca6e-497c-b710-b8d0dfc01984"
      },
      "source": [
        "We can say that \\~81.15 % of the variation of price is explained by this multiple linear regression \"multi_fit\".\n",
        "\n",
        "Let's calculate the Mean Square Error (M.S.E)"
      ]
    },
    {
      "cell_type": "code",
      "execution_count": null,
      "id": "5af1e96d-6f30-4a9d-8942-48b2c4ab9082",
      "metadata": {
        "id": "5af1e96d-6f30-4a9d-8942-48b2c4ab9082"
      },
      "outputs": [],
      "source": [
        "Y_predict_multifit = lm.predict(Z)"
      ]
    },
    {
      "cell_type": "code",
      "execution_count": null,
      "id": "84bae991-cb9c-450e-af83-0bc8b426dabd",
      "metadata": {
        "id": "84bae991-cb9c-450e-af83-0bc8b426dabd",
        "outputId": "e96dd7a0-3f9e-40b8-9046-1d48fedeae78"
      },
      "outputs": [
        {
          "name": "stdout",
          "output_type": "stream",
          "text": [
            "The mean square error of price and predicted value using multifit is:  11941505.191703446\n"
          ]
        }
      ],
      "source": [
        "print('The mean square error of price and predicted value using multifit is: ', \\\n",
        "      mean_squared_error(df['price'], Y_predict_multifit))"
      ]
    },
    {
      "cell_type": "code",
      "execution_count": null,
      "id": "10863864-d039-4f51-b5d9-274bb7277c2c",
      "metadata": {
        "id": "10863864-d039-4f51-b5d9-274bb7277c2c"
      },
      "outputs": [],
      "source": []
    }
  ],
  "metadata": {
    "kernelspec": {
      "display_name": "Python 3 (ipykernel)",
      "language": "python",
      "name": "python3"
    },
    "language_info": {
      "codemirror_mode": {
        "name": "ipython",
        "version": 3
      },
      "file_extension": ".py",
      "mimetype": "text/x-python",
      "name": "python",
      "nbconvert_exporter": "python",
      "pygments_lexer": "ipython3",
      "version": "3.9.12"
    },
    "colab": {
      "provenance": [],
      "include_colab_link": true
    }
  },
  "nbformat": 4,
  "nbformat_minor": 5
}