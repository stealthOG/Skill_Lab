{
  "nbformat": 4,
  "nbformat_minor": 0,
  "metadata": {
    "colab": {
      "provenance": [],
      "authorship_tag": "ABX9TyPFPC1CO3ol+IS2u0UeF6PK",
      "include_colab_link": true
    },
    "kernelspec": {
      "name": "python3",
      "display_name": "Python 3"
    },
    "language_info": {
      "name": "python"
    }
  },
  "cells": [
    {
      "cell_type": "markdown",
      "metadata": {
        "id": "view-in-github",
        "colab_type": "text"
      },
      "source": [
        "<a href=\"https://colab.research.google.com/github/stealthOG/Skill_Lab/blob/main/ANN_Forward.ipynb\" target=\"_parent\"><img src=\"https://colab.research.google.com/assets/colab-badge.svg\" alt=\"Open In Colab\"/></a>"
      ]
    },
    {
      "cell_type": "markdown",
      "source": [
        "## Artificial Neural Network\n",
        "\n",
        "#### Ekwe Collins Odinaka\n"
      ],
      "metadata": {
        "id": "Veov9RVg2MQx"
      }
    },
    {
      "cell_type": "markdown",
      "source": [
        "A Neural Network makes prediction through the forward propagation process. An example is shown below, with a neural network having 2 inputs, one hidden layer with 2 nodes, and an output layer with one node.\n",
        "\n",
        "<img src=\"http://cocl.us/neural_network_example\" alt=\"Neural Network Example\" width=\"600px\">\n"
      ],
      "metadata": {
        "id": "nmk5sAod2kSu"
      }
    },
    {
      "cell_type": "markdown",
      "source": [
        "we have 6 weights, 3 bias"
      ],
      "metadata": {
        "id": "liXQZXtY3UuC"
      }
    },
    {
      "cell_type": "code",
      "execution_count": 1,
      "metadata": {
        "id": "PPP_Np3x2Dng"
      },
      "outputs": [],
      "source": [
        "import numpy as np\n",
        "\n",
        "# lets initialize the weights and biases\n",
        "\n",
        "weights = np.around(np.random.uniform(size=6), decimals=2) # initialize the weights\n",
        "biases = np.around(np.random.uniform(size=3), decimals=2) # initialize the biases"
      ]
    },
    {
      "cell_type": "code",
      "source": [
        "print(weights)\n",
        "print(biases)"
      ],
      "metadata": {
        "colab": {
          "base_uri": "https://localhost:8080/"
        },
        "id": "wf78UOk5314y",
        "outputId": "fa6ed8b6-6770-470a-d230-464bcbafc1a3"
      },
      "execution_count": 2,
      "outputs": [
        {
          "output_type": "stream",
          "name": "stdout",
          "text": [
            "[0.9  0.48 0.65 0.02 0.4  0.52]\n",
            "[0.47 0.77 0.37]\n"
          ]
        }
      ]
    },
    {
      "cell_type": "code",
      "source": [
        "# create the input variables, x_1, and x_2\n",
        "x_1 = 0.5\n",
        "x_2 = 0.85"
      ],
      "metadata": {
        "id": "sWc4aHPE35AA"
      },
      "execution_count": 4,
      "outputs": []
    },
    {
      "cell_type": "code",
      "source": [
        "z_11 = x_1 * weights[0] + x_2 * weights[1] + biases[0]\n",
        "\n",
        "print('The weighted sum of the inputs at the first node in the hidden layer is {}'.format(z_11))"
      ],
      "metadata": {
        "colab": {
          "base_uri": "https://localhost:8080/"
        },
        "id": "KZStPKXX4Lmp",
        "outputId": "73a5ec55-c3af-4f15-d3cf-d83a75ec9548"
      },
      "execution_count": 5,
      "outputs": [
        {
          "output_type": "stream",
          "name": "stdout",
          "text": [
            "The weighted sum of the inputs at the first node in the hidden layer is 1.3279999999999998\n"
          ]
        }
      ]
    },
    {
      "cell_type": "code",
      "source": [
        "z_12 = x_1 * weights[2] + x_2 * weights[3] + biases[1]\n",
        "\n",
        "print('The weighted sum of the inputs at the second node in the hidden layer is {}'.format(z_12))"
      ],
      "metadata": {
        "colab": {
          "base_uri": "https://localhost:8080/"
        },
        "id": "WiWGnHC-40Jk",
        "outputId": "e7a57110-c401-4fe8-a2c0-dbaefce7c95d"
      },
      "execution_count": 6,
      "outputs": [
        {
          "output_type": "stream",
          "name": "stdout",
          "text": [
            "The weighted sum of the inputs at the second node in the hidden layer is 1.112\n"
          ]
        }
      ]
    },
    {
      "cell_type": "markdown",
      "source": [
        "Next, assuming a sigmoid activation function, let's compute the activation of the first node, $a_{1, 1}$, in the hidden layer.\n"
      ],
      "metadata": {
        "id": "DsqwufF25w5P"
      }
    },
    {
      "cell_type": "code",
      "source": [
        "a_11 = 1.0 / (1.0 + np.exp(-z_11))\n",
        "\n",
        "print('The activation of the first node in the hidden layer is {}'.format(np.around(a_11, decimals=4)))"
      ],
      "metadata": {
        "colab": {
          "base_uri": "https://localhost:8080/"
        },
        "id": "VFJAopBx5pDk",
        "outputId": "a5e2b952-38d1-4478-85a5-d5f9217841fa"
      },
      "execution_count": 7,
      "outputs": [
        {
          "output_type": "stream",
          "name": "stdout",
          "text": [
            "The activation of the first node in the hidden layer is 0.7905\n"
          ]
        }
      ]
    },
    {
      "cell_type": "code",
      "source": [
        "a_12 = 1.0 / (1.0 + np.exp(-z_12))\n",
        "\n",
        "print('The activation of the second node in the hidden layer is {}'.format(np.around(a_12, decimals=4)))"
      ],
      "metadata": {
        "colab": {
          "base_uri": "https://localhost:8080/"
        },
        "id": "QL046Hau6AkM",
        "outputId": "fb9d4359-d4d0-45ae-ca2e-ae97096cfca1"
      },
      "execution_count": 8,
      "outputs": [
        {
          "output_type": "stream",
          "name": "stdout",
          "text": [
            "The activation of the second node in the hidden layer is 0.7525\n"
          ]
        }
      ]
    },
    {
      "cell_type": "markdown",
      "source": [
        "Now these activations will serve as the inputs to the output layer. So, let's compute the weighted sum of these inputs to the node in the output layer. Assign the value to **z_2**.\n"
      ],
      "metadata": {
        "id": "g5wWKvyC6ksb"
      }
    },
    {
      "cell_type": "code",
      "source": [
        "z_2 = a_11 * weights[4] + a_12 * weights[5] + biases[2]\n",
        "\n",
        "print('The weighted sum of the inputs at the node in the output layer is {}'.format(np.around(z_2, decimals=4)))"
      ],
      "metadata": {
        "colab": {
          "base_uri": "https://localhost:8080/"
        },
        "id": "eaUCDVGx6J7l",
        "outputId": "48ab3ab8-c89e-4d48-c569-504f6e1edd5e"
      },
      "execution_count": 9,
      "outputs": [
        {
          "output_type": "stream",
          "name": "stdout",
          "text": [
            "The weighted sum of the inputs at the node in the output layer is 1.0775\n"
          ]
        }
      ]
    },
    {
      "cell_type": "code",
      "source": [
        "a_2 = 1.0 / (1.0 + np.exp(-z_2))\n",
        "\n",
        "print('The output of the network for x1 = 0.5 and x2 = 0.85 is {}'.format(np.around(a_2, decimals=4)))"
      ],
      "metadata": {
        "colab": {
          "base_uri": "https://localhost:8080/"
        },
        "id": "Zg_Qtg0q7CQR",
        "outputId": "4919a540-c955-40bf-e28d-918e7d8911da"
      },
      "execution_count": 10,
      "outputs": [
        {
          "output_type": "stream",
          "name": "stdout",
          "text": [
            "The output of the network for x1 = 0.5 and x2 = 0.85 is 0.746\n"
          ]
        }
      ]
    },
    {
      "cell_type": "markdown",
      "source": [
        "Obviously, neural networks for real problems are composed of many hidden layers and many more nodes in each layer. So, we can't continue making predictions using this very inefficient approach of computing the weighted sum at each node and the activation of each node manually. \n",
        "\n",
        "In order to code an automatic way of making predictions, let's generalize our network. A general network would take $n$ inputs, would have many hidden layers, each hidden layer having $m$ nodes, and would have an output layer. Although the network is showing one hidden layer, but we will code the network to have many hidden layers. Similarly, although the network shows an output layer with one node, we will code the network to have more than one node in the output layer.\n",
        "\n",
        "<img src=\"http://cocl.us/general_neural_network\" alt=\"Neural Network General\" width=\"600px\">\n"
      ],
      "metadata": {
        "id": "-QafNSPk7imr"
      }
    },
    {
      "cell_type": "markdown",
      "source": [
        "Let's start by defining the structure of the network"
      ],
      "metadata": {
        "id": "FEWSKREt8FXL"
      }
    },
    {
      "cell_type": "markdown",
      "source": [
        "##### Creating an ANN Structure"
      ],
      "metadata": {
        "id": "lamUOBtYB_UR"
      }
    },
    {
      "cell_type": "code",
      "source": [
        "n = 2 # number of inputs\n",
        "num_hidden_layers = 2 # number of hidden layers\n",
        "m = [2, 2] # number of nodes in each hidden layer\n",
        "num_nodes_output = 1 # number of nodes in the output layer"
      ],
      "metadata": {
        "id": "sU7yIl0g7S7_"
      },
      "execution_count": 11,
      "outputs": []
    },
    {
      "cell_type": "markdown",
      "source": [
        "Now that we defined the structure of the network, let's go ahead and inititailize the weights and the biases in the network to random numbers. In order to be able to initialize the weights and the biases to random numbers, we will need to use the **Numpy** library."
      ],
      "metadata": {
        "id": "UujDqfNE8TE7"
      }
    },
    {
      "cell_type": "code",
      "source": [
        "num_nodes_previous = n # number of nodes in the previous layer\n",
        "\n",
        "network = {} # initialize network an an empty dictionary\n",
        "\n",
        "# loop through each layer and randomly initialize the weights and biases associated with each node\n",
        "# notice how we are adding 1 to the number of hidden layers in order to include the output layer\n",
        "for layer in range(num_hidden_layers + 1): \n",
        "    \n",
        "    # determine name of layer\n",
        "    if layer == num_hidden_layers:\n",
        "        layer_name = 'output'\n",
        "        num_nodes = num_nodes_output\n",
        "    else:\n",
        "        layer_name = 'layer_{}'.format(layer + 1)\n",
        "        num_nodes = m[layer]\n",
        "    \n",
        "    # initialize weights and biases associated with each node in the current layer\n",
        "    network[layer_name] = {}\n",
        "    for node in range(num_nodes):\n",
        "        node_name = 'node_{}'.format(node+1)\n",
        "        network[layer_name][node_name] = {\n",
        "            'weights': np.around(np.random.uniform(size=num_nodes_previous), decimals=2),\n",
        "            'bias': np.around(np.random.uniform(size=1), decimals=2),\n",
        "        }\n",
        "    \n",
        "    num_nodes_previous = num_nodes\n",
        "    \n",
        "print(network) # print network"
      ],
      "metadata": {
        "colab": {
          "base_uri": "https://localhost:8080/"
        },
        "id": "mfxLLOXg8PY0",
        "outputId": "07c2998b-8f26-44ae-df25-ca46f04d5645"
      },
      "execution_count": 12,
      "outputs": [
        {
          "output_type": "stream",
          "name": "stdout",
          "text": [
            "{'layer_1': {'node_1': {'weights': array([0.19, 0.78]), 'bias': array([0.64])}, 'node_2': {'weights': array([0.49, 0.05]), 'bias': array([0.55])}}, 'layer_2': {'node_1': {'weights': array([0.23, 0.72]), 'bias': array([0.55])}, 'node_2': {'weights': array([0.4 , 0.33]), 'bias': array([0.25])}}, 'output': {'node_1': {'weights': array([0.94, 0.28]), 'bias': array([0.39])}}}\n"
          ]
        }
      ]
    },
    {
      "cell_type": "code",
      "source": [
        "def initialize_network(num_inputs, num_hidden_layers, num_nodes_hidden, num_nodes_output):\n",
        "    \n",
        "    num_nodes_previous = num_inputs # number of nodes in the previous layer\n",
        "\n",
        "    network = {}\n",
        "    \n",
        "    # loop through each layer and randomly initialize the weights and biases associated with each layer\n",
        "    for layer in range(num_hidden_layers + 1):\n",
        "        \n",
        "        if layer == num_hidden_layers:\n",
        "            layer_name = 'output' # name last layer in the network output\n",
        "            num_nodes = num_nodes_output\n",
        "        else:\n",
        "            layer_name = 'layer_{}'.format(layer + 1) # otherwise give the layer a number\n",
        "            num_nodes = num_nodes_hidden[layer] \n",
        "        \n",
        "        # initialize weights and bias for each node\n",
        "        network[layer_name] = {}\n",
        "        for node in range(num_nodes):\n",
        "            node_name = 'node_{}'.format(node+1)\n",
        "            network[layer_name][node_name] = {\n",
        "                'weights': np.around(np.random.uniform(size=num_nodes_previous), decimals=2),\n",
        "                'bias': np.around(np.random.uniform(size=1), decimals=2),\n",
        "            }\n",
        "    \n",
        "        num_nodes_previous = num_nodes\n",
        "\n",
        "    return network # return the network"
      ],
      "metadata": {
        "id": "nxyGG-wk-H3z"
      },
      "execution_count": 13,
      "outputs": []
    },
    {
      "cell_type": "markdown",
      "source": [
        "Use the *initialize_network* function to create a network that:\n",
        "\n",
        "1. takes 5 inputs\n",
        "2. has three hidden layers\n",
        "3. has 3 nodes in the first layer, 2 nodes in the second layer, and 3 nodes in the third layer\n",
        "4. has 1 node in the output layer\n",
        "\n",
        "Call the network **small_network**.\n"
      ],
      "metadata": {
        "id": "n_whNAsd_Ejx"
      }
    },
    {
      "cell_type": "code",
      "source": [
        "small_network = initialize_network(5, 3, [3, 2, 3], 1)\n",
        "small_network"
      ],
      "metadata": {
        "colab": {
          "base_uri": "https://localhost:8080/"
        },
        "id": "8NkyrVZM-iBe",
        "outputId": "9c49044d-9881-487d-c8c2-49b5a2da9bcc"
      },
      "execution_count": 14,
      "outputs": [
        {
          "output_type": "execute_result",
          "data": {
            "text/plain": [
              "{'layer_1': {'node_1': {'weights': array([0.06, 0.62, 0.36, 0.23, 0.91]),\n",
              "   'bias': array([0.7])},\n",
              "  'node_2': {'weights': array([0.95, 0.28, 0.16, 0.04, 0.05]),\n",
              "   'bias': array([0.87])},\n",
              "  'node_3': {'weights': array([0.39, 0.39, 0.04, 0.11, 0.31]),\n",
              "   'bias': array([0.77])}},\n",
              " 'layer_2': {'node_1': {'weights': array([0.34, 0.36, 0.37]),\n",
              "   'bias': array([0.64])},\n",
              "  'node_2': {'weights': array([0.37, 0.5 , 0.47]), 'bias': array([0.72])}},\n",
              " 'layer_3': {'node_1': {'weights': array([0.72, 0.96]), 'bias': array([0.6])},\n",
              "  'node_2': {'weights': array([0.47, 0.19]), 'bias': array([0.63])},\n",
              "  'node_3': {'weights': array([0.31, 0.52]), 'bias': array([0.75])}},\n",
              " 'output': {'node_1': {'weights': array([0.49, 0.18, 0.61]),\n",
              "   'bias': array([0.02])}}}"
            ]
          },
          "metadata": {},
          "execution_count": 14
        }
      ]
    },
    {
      "cell_type": "markdown",
      "source": [
        "The weighted sum at each node is computed as the dot product of the inputs and the weights plus the bias. So let's create a function called *compute_weighted_sum* that does just that.\n"
      ],
      "metadata": {
        "id": "x_SwnuY5_iBB"
      }
    },
    {
      "cell_type": "code",
      "source": [
        "def compute_weighted_sum(inputs, weights, bias):\n",
        "    return np.sum(inputs * weights) + bias"
      ],
      "metadata": {
        "id": "WLjvj3Er_TaZ"
      },
      "execution_count": 15,
      "outputs": []
    },
    {
      "cell_type": "code",
      "source": [
        "# Let's generate 5 inputs that we can feed to **small_network**.\n",
        "from random import seed\n",
        "\n",
        "np.random.seed(12)\n",
        "inputs = np.around(np.random.uniform(size=5), decimals=2)\n",
        "\n",
        "print('The inputs to the network are {}'.format(inputs))"
      ],
      "metadata": {
        "colab": {
          "base_uri": "https://localhost:8080/"
        },
        "id": "toCfxnVK_ogi",
        "outputId": "8eee00e3-fe69-4ce7-c701-548d5a7d27f4"
      },
      "execution_count": 16,
      "outputs": [
        {
          "output_type": "stream",
          "name": "stdout",
          "text": [
            "The inputs to the network are [0.15 0.74 0.26 0.53 0.01]\n"
          ]
        }
      ]
    },
    {
      "cell_type": "code",
      "source": [
        "#Use the compute_weighted_sum function to compute the weighted sum at the first node in the first hidden layer\n",
        "node_weights = small_network['layer_1']['node_1']['weights']\n",
        "node_bias = small_network['layer_1']['node_1']['bias']\n",
        "\n",
        "weighted_sum = compute_weighted_sum(inputs, node_weights, node_bias)\n",
        "print('The weighted sum at the first node in the hidden layer is {}'.format(np.around(weighted_sum[0], decimals=4)))\n"
      ],
      "metadata": {
        "colab": {
          "base_uri": "https://localhost:8080/"
        },
        "id": "97wUlCx0_5hy",
        "outputId": "8dda9d33-6479-4f5f-fc8c-6ff857fc1826"
      },
      "execution_count": 17,
      "outputs": [
        {
          "output_type": "stream",
          "name": "stdout",
          "text": [
            "The weighted sum at the first node in the hidden layer is 1.3924\n"
          ]
        }
      ]
    },
    {
      "cell_type": "markdown",
      "source": [
        "##### Compute Node Activation"
      ],
      "metadata": {
        "id": "YuFbgYn0By79"
      }
    },
    {
      "cell_type": "markdown",
      "source": [
        "\n",
        "\n",
        "Recall that the output of each node is simply a non-linear tranformation of the weighted sum. We use activation functions for this mapping. Let's use the sigmoid function as the activation function here. So let's define a function that takes a weighted sum as input and returns the non-linear transformation of the input using the sigmoid function.\n"
      ],
      "metadata": {
        "id": "90Umq9ibAlFq"
      }
    },
    {
      "cell_type": "code",
      "source": [
        "def node_activation(weighted_sum):\n",
        "    return 1.0 / (1.0 + np.exp(-1 * weighted_sum))"
      ],
      "metadata": {
        "id": "K3anXVcnAdmE"
      },
      "execution_count": 18,
      "outputs": []
    },
    {
      "cell_type": "code",
      "source": [
        "node_output  = node_activation(compute_weighted_sum(inputs, node_weights, node_bias))\n",
        "print('The output of the first node in the hidden layer is {}'.format(np.around(node_output[0], decimals=4)))"
      ],
      "metadata": {
        "colab": {
          "base_uri": "https://localhost:8080/"
        },
        "id": "GrmYPABBAx0k",
        "outputId": "b6bbc8e9-ce08-4621-f2ef-b44109c1276c"
      },
      "execution_count": 19,
      "outputs": [
        {
          "output_type": "stream",
          "name": "stdout",
          "text": [
            "The output of the first node in the hidden layer is 0.801\n"
          ]
        }
      ]
    },
    {
      "cell_type": "markdown",
      "source": [
        "##### Forward Propagation"
      ],
      "metadata": {
        "id": "aazi59H5BX9Z"
      }
    },
    {
      "cell_type": "markdown",
      "source": [
        "The final piece of building a neural network that can perform predictions is to put everything together. So let's create a function that applies the *compute_weighted_sum* and *node_activation* functions to each node in the network and propagates the data all the way to the output layer and outputs a prediction for each node in the output layer.\n",
        "\n",
        "The way we are going to accomplish this is through the following procedure:\n",
        "\n",
        "1. Start with the input layer as the input to the first hidden layer.\n",
        "2. Compute the weighted sum at the nodes of the current layer.\n",
        "3. Compute the output of the nodes of the current layer.\n",
        "4. Set the output of the current layer to be the input to the next layer.\n",
        "5. Move to the next layer in the network.\n",
        "5. Repeat steps 2 - 4 until we compute the output of the output layer.\n"
      ],
      "metadata": {
        "id": "jD3K1GXoBcyp"
      }
    },
    {
      "cell_type": "code",
      "source": [
        "def forward_propagate(network, inputs):\n",
        "    \n",
        "    layer_inputs = list(inputs) # start with the input layer as the input to the first hidden layer\n",
        "    \n",
        "    for layer in network:\n",
        "        \n",
        "        layer_data = network[layer]\n",
        "        \n",
        "        layer_outputs = [] \n",
        "        for layer_node in layer_data:\n",
        "        \n",
        "            node_data = layer_data[layer_node]\n",
        "        \n",
        "            # compute the weighted sum and the output of each node at the same time \n",
        "            node_output = node_activation(compute_weighted_sum(layer_inputs, node_data['weights'], node_data['bias']))\n",
        "            layer_outputs.append(np.around(node_output[0], decimals=4))\n",
        "            \n",
        "        if layer != 'output':\n",
        "            print('The outputs of the nodes in hidden layer number {} is {}'.format(layer.split('_')[1], layer_outputs))\n",
        "    \n",
        "        layer_inputs = layer_outputs # set the output of this layer to be the input to next layer\n",
        "\n",
        "    network_predictions = layer_outputs\n",
        "    return network_predictions"
      ],
      "metadata": {
        "id": "y6A9yQ_RBQJA"
      },
      "execution_count": 20,
      "outputs": []
    },
    {
      "cell_type": "code",
      "source": [
        "# Use the forward_propagate function to compute the prediction of our small network\n",
        "predictions = forward_propagate(small_network, inputs)\n",
        "print('The predicted value by the network for the given input is {}'.format(np.around(predictions[0], decimals=4)))\n"
      ],
      "metadata": {
        "colab": {
          "base_uri": "https://localhost:8080/"
        },
        "id": "-WacpZW2CYwi",
        "outputId": "dc966c78-5c1d-4d5b-bf77-034612818ac6"
      },
      "execution_count": 21,
      "outputs": [
        {
          "output_type": "stream",
          "name": "stdout",
          "text": [
            "The outputs of the nodes in hidden layer number 1 is [0.801, 0.783, 0.7665]\n",
            "The outputs of the nodes in hidden layer number 2 is [0.8142, 0.8542]\n",
            "The outputs of the nodes in hidden layer number 3 is [0.8815, 0.764, 0.8095]\n",
            "The predicted value by the network for the given input is 0.7471\n"
          ]
        }
      ]
    },
    {
      "cell_type": "markdown",
      "source": [
        "Let's create a new network with;\n",
        "\n",
        "- 8 inputs,\n",
        "\n",
        "- 2 Hidden layers with 5 Nodes each, and\n",
        "\n",
        "- the output layer with a single node"
      ],
      "metadata": {
        "id": "ySTNoPLcDebE"
      }
    },
    {
      "cell_type": "code",
      "source": [
        "my_network = initialize_network(8, 2, [5, 5], 1) # used the initial_network function to create the network structure\n",
        "\n",
        "inputs = np.around(np.random.uniform(size=8), decimals=2) # using numpy random function to generate the inputs\n",
        "print(inputs)\n",
        "\n",
        "predictions = forward_propagate(my_network, inputs) # use the forward propagate function to print the outputs of the various nodes\n",
        "\n",
        "print('The predicted values by the network for the given input are {}'.format(predictions))"
      ],
      "metadata": {
        "colab": {
          "base_uri": "https://localhost:8080/"
        },
        "id": "woU1GHZwCx2B",
        "outputId": "88a94cc2-4750-494e-de51-44a84964b703"
      },
      "execution_count": 23,
      "outputs": [
        {
          "output_type": "stream",
          "name": "stdout",
          "text": [
            "[0.97 0.74 0.52 0.16 0.95 0.92 0.88 0.05]\n",
            "The outputs of the nodes in hidden layer number 1 is [0.9461, 0.9321, 0.9528, 0.9646, 0.774]\n",
            "The outputs of the nodes in hidden layer number 2 is [0.9666, 0.943, 0.9375, 0.9344, 0.9604]\n",
            "The predicted values by the network for the given input are [0.9391]\n"
          ]
        }
      ]
    },
    {
      "cell_type": "code",
      "source": [],
      "metadata": {
        "id": "LPu5GMM-FKhx"
      },
      "execution_count": null,
      "outputs": []
    }
  ]
}