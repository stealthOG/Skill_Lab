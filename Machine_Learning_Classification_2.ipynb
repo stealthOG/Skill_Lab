{
  "nbformat": 4,
  "nbformat_minor": 0,
  "metadata": {
    "colab": {
      "provenance": [],
      "authorship_tag": "ABX9TyNun5HEBVQP0d3/vB+18iTM",
      "include_colab_link": true
    },
    "kernelspec": {
      "name": "python3",
      "display_name": "Python 3"
    },
    "language_info": {
      "name": "python"
    }
  },
  "cells": [
    {
      "cell_type": "markdown",
      "metadata": {
        "id": "view-in-github",
        "colab_type": "text"
      },
      "source": [
        "<a href=\"https://colab.research.google.com/github/stealthOG/Skill_Lab/blob/main/Machine_Learning_Classification_2.ipynb\" target=\"_parent\"><img src=\"https://colab.research.google.com/assets/colab-badge.svg\" alt=\"Open In Colab\"/></a>"
      ]
    },
    {
      "cell_type": "markdown",
      "source": [
        "## Regression Trees\n",
        "\n",
        "#### Ekwe Collins Odinaka"
      ],
      "metadata": {
        "id": "hS9EqW21J95x"
      }
    },
    {
      "cell_type": "markdown",
      "source": [
        "- Importing necessary libraries"
      ],
      "metadata": {
        "id": "y8OVujWBKJg3"
      }
    },
    {
      "cell_type": "code",
      "execution_count": 1,
      "metadata": {
        "id": "6b7w6CYMIKR7"
      },
      "outputs": [],
      "source": [
        "import pandas as pd\n",
        "import numpy as np\n",
        "import matplotlib.pyplot as plt\n",
        "from sklearn.tree import DecisionTreeRegressor\n",
        "from sklearn.model_selection import train_test_split"
      ]
    },
    {
      "cell_type": "code",
      "source": [
        "path = \"https://cf-courses-data.s3.us.cloud-object-storage.appdomain.cloud/IBMDeveloperSkillsNetwork-ML0101EN-SkillsNetwork/labs/Module%203/data/real_estate_data.csv\"\n",
        "\n",
        "df = pd.read_csv(path)\n",
        "\n",
        "df.head()"
      ],
      "metadata": {
        "colab": {
          "base_uri": "https://localhost:8080/",
          "height": 206
        },
        "id": "mlUNco9VLBtH",
        "outputId": "798ac8ce-5f4e-4e1e-d6b5-1fca221d3497"
      },
      "execution_count": 2,
      "outputs": [
        {
          "output_type": "execute_result",
          "data": {
            "text/plain": [
              "      CRIM    ZN  INDUS  CHAS    NOX     RM   AGE     DIS  RAD  TAX  PTRATIO  \\\n",
              "0  0.00632  18.0   2.31   0.0  0.538  6.575  65.2  4.0900    1  296     15.3   \n",
              "1  0.02731   0.0   7.07   0.0  0.469  6.421  78.9  4.9671    2  242     17.8   \n",
              "2  0.02729   0.0   7.07   0.0  0.469  7.185  61.1  4.9671    2  242     17.8   \n",
              "3  0.03237   0.0   2.18   0.0  0.458  6.998  45.8  6.0622    3  222     18.7   \n",
              "4  0.06905   0.0   2.18   0.0  0.458  7.147  54.2  6.0622    3  222     18.7   \n",
              "\n",
              "   LSTAT  MEDV  \n",
              "0   4.98  24.0  \n",
              "1   9.14  21.6  \n",
              "2   4.03  34.7  \n",
              "3   2.94  33.4  \n",
              "4    NaN  36.2  "
            ],
            "text/html": [
              "\n",
              "  <div id=\"df-06b8eb0a-ef7b-43dd-99dd-6d528a104536\">\n",
              "    <div class=\"colab-df-container\">\n",
              "      <div>\n",
              "<style scoped>\n",
              "    .dataframe tbody tr th:only-of-type {\n",
              "        vertical-align: middle;\n",
              "    }\n",
              "\n",
              "    .dataframe tbody tr th {\n",
              "        vertical-align: top;\n",
              "    }\n",
              "\n",
              "    .dataframe thead th {\n",
              "        text-align: right;\n",
              "    }\n",
              "</style>\n",
              "<table border=\"1\" class=\"dataframe\">\n",
              "  <thead>\n",
              "    <tr style=\"text-align: right;\">\n",
              "      <th></th>\n",
              "      <th>CRIM</th>\n",
              "      <th>ZN</th>\n",
              "      <th>INDUS</th>\n",
              "      <th>CHAS</th>\n",
              "      <th>NOX</th>\n",
              "      <th>RM</th>\n",
              "      <th>AGE</th>\n",
              "      <th>DIS</th>\n",
              "      <th>RAD</th>\n",
              "      <th>TAX</th>\n",
              "      <th>PTRATIO</th>\n",
              "      <th>LSTAT</th>\n",
              "      <th>MEDV</th>\n",
              "    </tr>\n",
              "  </thead>\n",
              "  <tbody>\n",
              "    <tr>\n",
              "      <th>0</th>\n",
              "      <td>0.00632</td>\n",
              "      <td>18.0</td>\n",
              "      <td>2.31</td>\n",
              "      <td>0.0</td>\n",
              "      <td>0.538</td>\n",
              "      <td>6.575</td>\n",
              "      <td>65.2</td>\n",
              "      <td>4.0900</td>\n",
              "      <td>1</td>\n",
              "      <td>296</td>\n",
              "      <td>15.3</td>\n",
              "      <td>4.98</td>\n",
              "      <td>24.0</td>\n",
              "    </tr>\n",
              "    <tr>\n",
              "      <th>1</th>\n",
              "      <td>0.02731</td>\n",
              "      <td>0.0</td>\n",
              "      <td>7.07</td>\n",
              "      <td>0.0</td>\n",
              "      <td>0.469</td>\n",
              "      <td>6.421</td>\n",
              "      <td>78.9</td>\n",
              "      <td>4.9671</td>\n",
              "      <td>2</td>\n",
              "      <td>242</td>\n",
              "      <td>17.8</td>\n",
              "      <td>9.14</td>\n",
              "      <td>21.6</td>\n",
              "    </tr>\n",
              "    <tr>\n",
              "      <th>2</th>\n",
              "      <td>0.02729</td>\n",
              "      <td>0.0</td>\n",
              "      <td>7.07</td>\n",
              "      <td>0.0</td>\n",
              "      <td>0.469</td>\n",
              "      <td>7.185</td>\n",
              "      <td>61.1</td>\n",
              "      <td>4.9671</td>\n",
              "      <td>2</td>\n",
              "      <td>242</td>\n",
              "      <td>17.8</td>\n",
              "      <td>4.03</td>\n",
              "      <td>34.7</td>\n",
              "    </tr>\n",
              "    <tr>\n",
              "      <th>3</th>\n",
              "      <td>0.03237</td>\n",
              "      <td>0.0</td>\n",
              "      <td>2.18</td>\n",
              "      <td>0.0</td>\n",
              "      <td>0.458</td>\n",
              "      <td>6.998</td>\n",
              "      <td>45.8</td>\n",
              "      <td>6.0622</td>\n",
              "      <td>3</td>\n",
              "      <td>222</td>\n",
              "      <td>18.7</td>\n",
              "      <td>2.94</td>\n",
              "      <td>33.4</td>\n",
              "    </tr>\n",
              "    <tr>\n",
              "      <th>4</th>\n",
              "      <td>0.06905</td>\n",
              "      <td>0.0</td>\n",
              "      <td>2.18</td>\n",
              "      <td>0.0</td>\n",
              "      <td>0.458</td>\n",
              "      <td>7.147</td>\n",
              "      <td>54.2</td>\n",
              "      <td>6.0622</td>\n",
              "      <td>3</td>\n",
              "      <td>222</td>\n",
              "      <td>18.7</td>\n",
              "      <td>NaN</td>\n",
              "      <td>36.2</td>\n",
              "    </tr>\n",
              "  </tbody>\n",
              "</table>\n",
              "</div>\n",
              "      <button class=\"colab-df-convert\" onclick=\"convertToInteractive('df-06b8eb0a-ef7b-43dd-99dd-6d528a104536')\"\n",
              "              title=\"Convert this dataframe to an interactive table.\"\n",
              "              style=\"display:none;\">\n",
              "        \n",
              "  <svg xmlns=\"http://www.w3.org/2000/svg\" height=\"24px\"viewBox=\"0 0 24 24\"\n",
              "       width=\"24px\">\n",
              "    <path d=\"M0 0h24v24H0V0z\" fill=\"none\"/>\n",
              "    <path d=\"M18.56 5.44l.94 2.06.94-2.06 2.06-.94-2.06-.94-.94-2.06-.94 2.06-2.06.94zm-11 1L8.5 8.5l.94-2.06 2.06-.94-2.06-.94L8.5 2.5l-.94 2.06-2.06.94zm10 10l.94 2.06.94-2.06 2.06-.94-2.06-.94-.94-2.06-.94 2.06-2.06.94z\"/><path d=\"M17.41 7.96l-1.37-1.37c-.4-.4-.92-.59-1.43-.59-.52 0-1.04.2-1.43.59L10.3 9.45l-7.72 7.72c-.78.78-.78 2.05 0 2.83L4 21.41c.39.39.9.59 1.41.59.51 0 1.02-.2 1.41-.59l7.78-7.78 2.81-2.81c.8-.78.8-2.07 0-2.86zM5.41 20L4 18.59l7.72-7.72 1.47 1.35L5.41 20z\"/>\n",
              "  </svg>\n",
              "      </button>\n",
              "      \n",
              "  <style>\n",
              "    .colab-df-container {\n",
              "      display:flex;\n",
              "      flex-wrap:wrap;\n",
              "      gap: 12px;\n",
              "    }\n",
              "\n",
              "    .colab-df-convert {\n",
              "      background-color: #E8F0FE;\n",
              "      border: none;\n",
              "      border-radius: 50%;\n",
              "      cursor: pointer;\n",
              "      display: none;\n",
              "      fill: #1967D2;\n",
              "      height: 32px;\n",
              "      padding: 0 0 0 0;\n",
              "      width: 32px;\n",
              "    }\n",
              "\n",
              "    .colab-df-convert:hover {\n",
              "      background-color: #E2EBFA;\n",
              "      box-shadow: 0px 1px 2px rgba(60, 64, 67, 0.3), 0px 1px 3px 1px rgba(60, 64, 67, 0.15);\n",
              "      fill: #174EA6;\n",
              "    }\n",
              "\n",
              "    [theme=dark] .colab-df-convert {\n",
              "      background-color: #3B4455;\n",
              "      fill: #D2E3FC;\n",
              "    }\n",
              "\n",
              "    [theme=dark] .colab-df-convert:hover {\n",
              "      background-color: #434B5C;\n",
              "      box-shadow: 0px 1px 3px 1px rgba(0, 0, 0, 0.15);\n",
              "      filter: drop-shadow(0px 1px 2px rgba(0, 0, 0, 0.3));\n",
              "      fill: #FFFFFF;\n",
              "    }\n",
              "  </style>\n",
              "\n",
              "      <script>\n",
              "        const buttonEl =\n",
              "          document.querySelector('#df-06b8eb0a-ef7b-43dd-99dd-6d528a104536 button.colab-df-convert');\n",
              "        buttonEl.style.display =\n",
              "          google.colab.kernel.accessAllowed ? 'block' : 'none';\n",
              "\n",
              "        async function convertToInteractive(key) {\n",
              "          const element = document.querySelector('#df-06b8eb0a-ef7b-43dd-99dd-6d528a104536');\n",
              "          const dataTable =\n",
              "            await google.colab.kernel.invokeFunction('convertToInteractive',\n",
              "                                                     [key], {});\n",
              "          if (!dataTable) return;\n",
              "\n",
              "          const docLinkHtml = 'Like what you see? Visit the ' +\n",
              "            '<a target=\"_blank\" href=https://colab.research.google.com/notebooks/data_table.ipynb>data table notebook</a>'\n",
              "            + ' to learn more about interactive tables.';\n",
              "          element.innerHTML = '';\n",
              "          dataTable['output_type'] = 'display_data';\n",
              "          await google.colab.output.renderOutput(dataTable, element);\n",
              "          const docLink = document.createElement('div');\n",
              "          docLink.innerHTML = docLinkHtml;\n",
              "          element.appendChild(docLink);\n",
              "        }\n",
              "      </script>\n",
              "    </div>\n",
              "  </div>\n",
              "  "
            ]
          },
          "metadata": {},
          "execution_count": 2
        }
      ]
    },
    {
      "cell_type": "markdown",
      "source": [
        "_- **About dataset**\n",
        "Imagine you are a data scientist working for a real estate company that is planning to invest in Boston real estate. You have collected information about various areas of Boston and are tasked with created a model that can predict the median price of houses for that area so it can be used to make offers.\n",
        "\n",
        "The dataset had information on areas/towns not individual houses, the features are\n",
        "\n",
        "- CRIM: Crime per capita\n",
        "\n",
        "- ZN: Proportion of residential land zoned for lots over 25,000 sq.ft.\n",
        "\n",
        "- INDUS: Proportion of non-retail business acres per town\n",
        "\n",
        "- CHAS: Charles River dummy variable (= 1 if tract bounds river; 0 otherwise)\n",
        "\n",
        "- NOX: Nitric oxides concentration (parts per 10 million)\n",
        "\n",
        "- RM: Average number of rooms per dwelling\n",
        "\n",
        "- AGE: Proportion of owner-occupied units built prior to 1940\n",
        "\n",
        "- DIS: Weighted distances to ﬁve Boston employment centers\n",
        "\n",
        "- RAD: Index of accessibility to radial highways\n",
        "\n",
        "- TAX: Full-value property-tax rate per $10,000\n",
        "\n",
        "- PTRAIO: Pupil-teacher ratio by town\n",
        "\n",
        "- LSTAT: Percent lower status of the population\n",
        "\n",
        "- MEDV: Median value of owner-occupied homes in $1000s"
      ],
      "metadata": {
        "id": "BBOPUovVLeT9"
      }
    },
    {
      "cell_type": "code",
      "source": [
        "df.shape"
      ],
      "metadata": {
        "colab": {
          "base_uri": "https://localhost:8080/"
        },
        "id": "5OOrEWn1LOeD",
        "outputId": "75f7ec4f-93a4-41d5-d240-85f1609ea54a"
      },
      "execution_count": 3,
      "outputs": [
        {
          "output_type": "execute_result",
          "data": {
            "text/plain": [
              "(506, 13)"
            ]
          },
          "metadata": {},
          "execution_count": 3
        }
      ]
    },
    {
      "cell_type": "code",
      "source": [
        "df.isnull().sum()"
      ],
      "metadata": {
        "colab": {
          "base_uri": "https://localhost:8080/"
        },
        "id": "lxmovJQ_L_HD",
        "outputId": "5947594d-216c-424a-911e-ecb82bbb2d9d"
      },
      "execution_count": 4,
      "outputs": [
        {
          "output_type": "execute_result",
          "data": {
            "text/plain": [
              "CRIM       20\n",
              "ZN         20\n",
              "INDUS      20\n",
              "CHAS       20\n",
              "NOX         0\n",
              "RM          0\n",
              "AGE        20\n",
              "DIS         0\n",
              "RAD         0\n",
              "TAX         0\n",
              "PTRATIO     0\n",
              "LSTAT      20\n",
              "MEDV        0\n",
              "dtype: int64"
            ]
          },
          "metadata": {},
          "execution_count": 4
        }
      ]
    },
    {
      "cell_type": "code",
      "source": [
        "df.dropna(inplace=True)"
      ],
      "metadata": {
        "id": "ReGbu9BpMCvQ"
      },
      "execution_count": 5,
      "outputs": []
    },
    {
      "cell_type": "code",
      "source": [
        "df.isnull().sum()"
      ],
      "metadata": {
        "colab": {
          "base_uri": "https://localhost:8080/"
        },
        "id": "3SKBT_fEMXhL",
        "outputId": "d3c09b4e-4143-4a66-f40a-f2a748d93ac9"
      },
      "execution_count": 6,
      "outputs": [
        {
          "output_type": "execute_result",
          "data": {
            "text/plain": [
              "CRIM       0\n",
              "ZN         0\n",
              "INDUS      0\n",
              "CHAS       0\n",
              "NOX        0\n",
              "RM         0\n",
              "AGE        0\n",
              "DIS        0\n",
              "RAD        0\n",
              "TAX        0\n",
              "PTRATIO    0\n",
              "LSTAT      0\n",
              "MEDV       0\n",
              "dtype: int64"
            ]
          },
          "metadata": {},
          "execution_count": 6
        }
      ]
    },
    {
      "cell_type": "markdown",
      "source": [
        "Lets split the dataset into our features and what we are predicting (target)"
      ],
      "metadata": {
        "id": "WVh0yC3gMkOx"
      }
    },
    {
      "cell_type": "code",
      "source": [
        "Y = df[\"MEDV\"]\n",
        "X = df.drop(columns=[\"MEDV\"])"
      ],
      "metadata": {
        "id": "Us3TNfFuMabT"
      },
      "execution_count": 7,
      "outputs": []
    },
    {
      "cell_type": "markdown",
      "source": [
        "Finally lets split our data into a training and testing dataset using `train_test_split` from `sklearn.model_selection`"
      ],
      "metadata": {
        "id": "xJqMkTgtM6RG"
      }
    },
    {
      "cell_type": "code",
      "source": [
        "X_train, X_test, Y_train, Y_test = train_test_split(X, Y, test_size=.2, random_state=1)"
      ],
      "metadata": {
        "id": "E-fYXj6NMwmS"
      },
      "execution_count": 8,
      "outputs": []
    },
    {
      "cell_type": "markdown",
      "source": [
        "- **Create Regression Tree**\n",
        "\n",
        "Regression Trees are implemented using DecisionTreeRegressor from sklearn.tree\n",
        "\n",
        "The important parameters of DecisionTreeRegressor are\n",
        "\n",
        "criterion: {\"mse\", \"friedman_mse\", \"mae\", \"poisson\"} - The function used to measure error\n",
        "\n",
        "- max_depth - The max depth the tree can be\n",
        "\n",
        "- min_samples_split - The minimum number of samples required to split a node\n",
        "\n",
        "- min_samples_leaf - The minimum number of samples that a leaf can contain\n",
        "\n",
        "max_features: {\"auto\", \"sqrt\", \"log2\"} - The number of feature we examine looking for the best one, used to speed up training\n",
        "\n",
        "First lets start by creating a DecisionTreeRegressor object, setting the criterion parameter to mse for Mean Squared Error"
      ],
      "metadata": {
        "id": "0xpADETVNJgm"
      }
    },
    {
      "cell_type": "code",
      "source": [
        "regression_tree = DecisionTreeRegressor(criterion = \"mse\")"
      ],
      "metadata": {
        "id": "dHWK9zbpNEG_"
      },
      "execution_count": 9,
      "outputs": []
    },
    {
      "cell_type": "markdown",
      "source": [
        "- **Training**\n",
        "\n",
        "Now lets train our model using the fit method on the DecisionTreeRegressor object providing our training data\n",
        "\n"
      ],
      "metadata": {
        "id": "G-5Lk3qYNoAi"
      }
    },
    {
      "cell_type": "code",
      "source": [
        "regression_tree.fit(X_train, Y_train)"
      ],
      "metadata": {
        "colab": {
          "base_uri": "https://localhost:8080/"
        },
        "id": "uegDuy2xNbiq",
        "outputId": "882d321f-08a9-444f-c773-a0dc8d53a3d1"
      },
      "execution_count": 10,
      "outputs": [
        {
          "output_type": "stream",
          "name": "stderr",
          "text": [
            "/usr/local/lib/python3.8/dist-packages/sklearn/tree/_classes.py:359: FutureWarning: Criterion 'mse' was deprecated in v1.0 and will be removed in version 1.2. Use `criterion='squared_error'` which is equivalent.\n",
            "  warnings.warn(\n"
          ]
        },
        {
          "output_type": "execute_result",
          "data": {
            "text/plain": [
              "DecisionTreeRegressor(criterion='mse')"
            ]
          },
          "metadata": {},
          "execution_count": 10
        }
      ]
    },
    {
      "cell_type": "code",
      "source": [
        "DecisionTreeRegressor(criterion='mse')"
      ],
      "metadata": {
        "colab": {
          "base_uri": "https://localhost:8080/"
        },
        "id": "2Kr_Gq66NwsS",
        "outputId": "5b78df1a-e5ce-40ad-e85a-a1753827f00a"
      },
      "execution_count": 11,
      "outputs": [
        {
          "output_type": "execute_result",
          "data": {
            "text/plain": [
              "DecisionTreeRegressor(criterion='mse')"
            ]
          },
          "metadata": {},
          "execution_count": 11
        }
      ]
    },
    {
      "cell_type": "markdown",
      "source": [
        "- **Evaluation**\n",
        "\n",
        "To evaluate our dataset we will use the `score` method of the `DecisionTreeRegressor` object providing our testing data, this number is the $R^2$ value which indicates the coefficient of determination"
      ],
      "metadata": {
        "id": "IS4mPtTBN_g7"
      }
    },
    {
      "cell_type": "code",
      "source": [
        "regression_tree.score(X_test, Y_test)"
      ],
      "metadata": {
        "colab": {
          "base_uri": "https://localhost:8080/"
        },
        "id": "xIMaioJZN4Eo",
        "outputId": "d044f764-285f-4762-8555-95e15cbdff3f"
      },
      "execution_count": 12,
      "outputs": [
        {
          "output_type": "execute_result",
          "data": {
            "text/plain": [
              "0.7552212492532223"
            ]
          },
          "metadata": {},
          "execution_count": 12
        }
      ]
    },
    {
      "cell_type": "markdown",
      "source": [
        "We can also find the average error in our testing set which is the average error in median home value prediction"
      ],
      "metadata": {
        "id": "sIz09KTPOJRf"
      }
    },
    {
      "cell_type": "code",
      "source": [
        "prediction = regression_tree.predict(X_test)\n",
        "\n",
        "print(\"$\",(prediction - Y_test).abs().mean()*1000)"
      ],
      "metadata": {
        "colab": {
          "base_uri": "https://localhost:8080/"
        },
        "id": "SOe4DVkTOF8m",
        "outputId": "e43c45eb-b428-439f-924c-ef1c34327c9b"
      },
      "execution_count": 13,
      "outputs": [
        {
          "output_type": "stream",
          "name": "stdout",
          "text": [
            "$ 3020.253164556961\n"
          ]
        }
      ]
    },
    {
      "cell_type": "markdown",
      "source": [
        "Train a regression tree using the criterion mae then report its  \n",
        "R\n",
        "2\n",
        "  value and average error"
      ],
      "metadata": {
        "id": "rYypQveROf5a"
      }
    },
    {
      "cell_type": "code",
      "source": [
        "regression_tree = DecisionTreeRegressor(criterion = \"mae\")\n",
        "\n",
        "regression_tree.fit(X_train, Y_train)\n",
        "\n",
        "print(regression_tree.score(X_test, Y_test))\n",
        "\n",
        "prediction = regression_tree.predict(X_test)\n",
        "\n",
        "print(\"$\",(prediction - Y_test).abs().mean()*1000)"
      ],
      "metadata": {
        "colab": {
          "base_uri": "https://localhost:8080/"
        },
        "id": "St5FgMidOPdH",
        "outputId": "feeb1bb4-6c6c-4366-c637-e9b3d407482a"
      },
      "execution_count": 14,
      "outputs": [
        {
          "output_type": "stream",
          "name": "stdout",
          "text": [
            "0.8641924166782504\n",
            "$ 2754.430379746835\n"
          ]
        },
        {
          "output_type": "stream",
          "name": "stderr",
          "text": [
            "/usr/local/lib/python3.8/dist-packages/sklearn/tree/_classes.py:366: FutureWarning: Criterion 'mae' was deprecated in v1.0 and will be removed in version 1.2. Use `criterion='absolute_error'` which is equivalent.\n",
            "  warnings.warn(\n"
          ]
        }
      ]
    },
    {
      "cell_type": "markdown",
      "source": [
        "##### Taxi Tip Prediction using Scikit-Learn and Snap ML\n",
        "\n",
        "\n"
      ],
      "metadata": {
        "id": "vAk1MDAFPYHG"
      }
    },
    {
      "cell_type": "code",
      "source": [
        "!pip install snapml"
      ],
      "metadata": {
        "colab": {
          "base_uri": "https://localhost:8080/"
        },
        "id": "BT2aBWw6SPeK",
        "outputId": "6cb27cd2-9c3d-4e2a-8d96-1959b5c2d273"
      },
      "execution_count": 15,
      "outputs": [
        {
          "output_type": "stream",
          "name": "stdout",
          "text": [
            "Looking in indexes: https://pypi.org/simple, https://us-python.pkg.dev/colab-wheels/public/simple/\n",
            "Requirement already satisfied: snapml in /usr/local/lib/python3.8/dist-packages (1.11.1)\n",
            "Requirement already satisfied: numpy>=1.18.5 in /usr/local/lib/python3.8/dist-packages (from snapml) (1.21.6)\n",
            "Requirement already satisfied: scipy in /usr/local/lib/python3.8/dist-packages (from snapml) (1.7.3)\n",
            "Requirement already satisfied: scikit-learn in /usr/local/lib/python3.8/dist-packages (from snapml) (1.0.2)\n",
            "Requirement already satisfied: threadpoolctl>=2.0.0 in /usr/local/lib/python3.8/dist-packages (from scikit-learn->snapml) (3.1.0)\n",
            "Requirement already satisfied: joblib>=0.11 in /usr/local/lib/python3.8/dist-packages (from scikit-learn->snapml) (1.2.0)\n"
          ]
        }
      ]
    },
    {
      "cell_type": "code",
      "source": [
        "from __future__ import print_function\n",
        "import numpy as np\n",
        "import pandas as pd\n",
        "import matplotlib.pyplot as plt\n",
        "%matplotlib inline\n",
        "from sklearn.model_selection import train_test_split\n",
        "from sklearn.preprocessing import normalize, StandardScaler, MinMaxScaler\n",
        "from sklearn.utils.class_weight import compute_sample_weight\n",
        "from sklearn.metrics import mean_squared_error\n",
        "import time\n",
        "import warnings\n",
        "import gc, sys\n",
        "warnings.filterwarnings('ignore')"
      ],
      "metadata": {
        "id": "_Zoq_kPLSUZM"
      },
      "execution_count": 16,
      "outputs": []
    },
    {
      "cell_type": "markdown",
      "source": [
        "In this exercise session you will consolidate your machine learning (ML) modeling skills by using a popular regression model: Decision Tree. You will use a real dataset to train such a model. The dataset includes information about taxi tip and was collected and provided to the NYC Taxi and Limousine Commission (TLC) by technology providers authorized under the Taxicab & Livery Passenger Enhancement Programs (TPEP/LPEP). You will use the trained model to predict the amount of tip paid.\n",
        "\n",
        "In the current exercise session, you will practice not only the Scikit-Learn Python interface, but also the Python API offered by the Snap Machine Learning (Snap ML) library. Snap ML is a high-performance IBM library for ML modeling. It provides highly-efficient CPU/GPU implementations of linear models and tree-based models. Snap ML not only accelerates ML algorithms through system awareness, but it also offers novel ML algorithms with best-in-class accuracy"
      ],
      "metadata": {
        "id": "_9w7RGbLPhrT"
      }
    },
    {
      "cell_type": "code",
      "source": [
        "!wget https://cf-courses-data.s3.us.cloud-object-storage.appdomain.cloud/IBMDeveloperSkillsNetwork-ML0101EN-SkillsNetwork/labs/Module%203/data/yellow_tripdata_2019-06.csv"
      ],
      "metadata": {
        "colab": {
          "base_uri": "https://localhost:8080/"
        },
        "id": "IcNkmmvTOkNc",
        "outputId": "a6242599-1159-4677-bfec-d73912ec8896"
      },
      "execution_count": 17,
      "outputs": [
        {
          "output_type": "stream",
          "name": "stdout",
          "text": [
            "--2022-12-15 10:25:46--  https://cf-courses-data.s3.us.cloud-object-storage.appdomain.cloud/IBMDeveloperSkillsNetwork-ML0101EN-SkillsNetwork/labs/Module%203/data/yellow_tripdata_2019-06.csv\n",
            "Resolving cf-courses-data.s3.us.cloud-object-storage.appdomain.cloud (cf-courses-data.s3.us.cloud-object-storage.appdomain.cloud)... 169.63.118.104\n",
            "Connecting to cf-courses-data.s3.us.cloud-object-storage.appdomain.cloud (cf-courses-data.s3.us.cloud-object-storage.appdomain.cloud)|169.63.118.104|:443... connected.\n",
            "HTTP request sent, awaiting response... 200 OK\n",
            "Length: 364904448 (348M) [text/csv]\n",
            "Saving to: ‘yellow_tripdata_2019-06.csv.2’\n",
            "\n",
            "yellow_tripdata_201 100%[===================>] 348.00M  37.6MB/s    in 9.3s    \n",
            "\n",
            "2022-12-15 10:25:56 (37.3 MB/s) - ‘yellow_tripdata_2019-06.csv.2’ saved [364904448/364904448]\n",
            "\n"
          ]
        }
      ]
    },
    {
      "cell_type": "code",
      "source": [
        "df = pd.read_csv('yellow_tripdata_2019-06.csv')\n",
        "print(\"There are \" + str(df.shape) + \" rows and columns in the dataset.\")"
      ],
      "metadata": {
        "colab": {
          "base_uri": "https://localhost:8080/"
        },
        "id": "mRIgngX7PrOB",
        "outputId": "19daa7b1-af57-455b-a16f-76c1e22aed24"
      },
      "execution_count": 18,
      "outputs": [
        {
          "output_type": "stream",
          "name": "stdout",
          "text": [
            "There are (3936004, 18) rows and columns in the dataset.\n"
          ]
        }
      ]
    },
    {
      "cell_type": "code",
      "source": [
        "df.head()"
      ],
      "metadata": {
        "colab": {
          "base_uri": "https://localhost:8080/",
          "height": 270
        },
        "id": "X4-Ea_HFQSv1",
        "outputId": "9dbe34b8-dc3f-451e-c98d-01804f44dc5b"
      },
      "execution_count": 19,
      "outputs": [
        {
          "output_type": "execute_result",
          "data": {
            "text/plain": [
              "   VendorID tpep_pickup_datetime tpep_dropoff_datetime  passenger_count  \\\n",
              "0         1  2019-06-01 00:55:13   2019-06-01 00:56:17              1.0   \n",
              "1         1  2019-06-01 00:06:31   2019-06-01 00:06:52              1.0   \n",
              "2         1  2019-06-01 00:17:05   2019-06-01 00:36:38              1.0   \n",
              "3         1  2019-06-01 00:59:02   2019-06-01 00:59:12              0.0   \n",
              "4         1  2019-06-01 00:03:25   2019-06-01 00:15:42              1.0   \n",
              "\n",
              "   trip_distance  RatecodeID store_and_fwd_flag  PULocationID  DOLocationID  \\\n",
              "0            0.0         1.0                  N         145.0         145.0   \n",
              "1            0.0         1.0                  N         262.0         263.0   \n",
              "2            4.4         1.0                  N          74.0           7.0   \n",
              "3            0.8         1.0                  N         145.0         145.0   \n",
              "4            1.7         1.0                  N         113.0         148.0   \n",
              "\n",
              "   payment_type  fare_amount  extra  mta_tax  tip_amount  tolls_amount  \\\n",
              "0           2.0          3.0    0.5      0.5        0.00           0.0   \n",
              "1           2.0          2.5    3.0      0.5        0.00           0.0   \n",
              "2           2.0         17.5    0.5      0.5        0.00           0.0   \n",
              "3           2.0          2.5    1.0      0.5        0.00           0.0   \n",
              "4           1.0          9.5    3.0      0.5        2.65           0.0   \n",
              "\n",
              "   improvement_surcharge  total_amount  congestion_surcharge  \n",
              "0                    0.3          4.30                   0.0  \n",
              "1                    0.3          6.30                   2.5  \n",
              "2                    0.3         18.80                   0.0  \n",
              "3                    0.3          4.30                   0.0  \n",
              "4                    0.3         15.95                   2.5  "
            ],
            "text/html": [
              "\n",
              "  <div id=\"df-9571ae37-6a0c-4c00-b8a4-31b64eb49eee\">\n",
              "    <div class=\"colab-df-container\">\n",
              "      <div>\n",
              "<style scoped>\n",
              "    .dataframe tbody tr th:only-of-type {\n",
              "        vertical-align: middle;\n",
              "    }\n",
              "\n",
              "    .dataframe tbody tr th {\n",
              "        vertical-align: top;\n",
              "    }\n",
              "\n",
              "    .dataframe thead th {\n",
              "        text-align: right;\n",
              "    }\n",
              "</style>\n",
              "<table border=\"1\" class=\"dataframe\">\n",
              "  <thead>\n",
              "    <tr style=\"text-align: right;\">\n",
              "      <th></th>\n",
              "      <th>VendorID</th>\n",
              "      <th>tpep_pickup_datetime</th>\n",
              "      <th>tpep_dropoff_datetime</th>\n",
              "      <th>passenger_count</th>\n",
              "      <th>trip_distance</th>\n",
              "      <th>RatecodeID</th>\n",
              "      <th>store_and_fwd_flag</th>\n",
              "      <th>PULocationID</th>\n",
              "      <th>DOLocationID</th>\n",
              "      <th>payment_type</th>\n",
              "      <th>fare_amount</th>\n",
              "      <th>extra</th>\n",
              "      <th>mta_tax</th>\n",
              "      <th>tip_amount</th>\n",
              "      <th>tolls_amount</th>\n",
              "      <th>improvement_surcharge</th>\n",
              "      <th>total_amount</th>\n",
              "      <th>congestion_surcharge</th>\n",
              "    </tr>\n",
              "  </thead>\n",
              "  <tbody>\n",
              "    <tr>\n",
              "      <th>0</th>\n",
              "      <td>1</td>\n",
              "      <td>2019-06-01 00:55:13</td>\n",
              "      <td>2019-06-01 00:56:17</td>\n",
              "      <td>1.0</td>\n",
              "      <td>0.0</td>\n",
              "      <td>1.0</td>\n",
              "      <td>N</td>\n",
              "      <td>145.0</td>\n",
              "      <td>145.0</td>\n",
              "      <td>2.0</td>\n",
              "      <td>3.0</td>\n",
              "      <td>0.5</td>\n",
              "      <td>0.5</td>\n",
              "      <td>0.00</td>\n",
              "      <td>0.0</td>\n",
              "      <td>0.3</td>\n",
              "      <td>4.30</td>\n",
              "      <td>0.0</td>\n",
              "    </tr>\n",
              "    <tr>\n",
              "      <th>1</th>\n",
              "      <td>1</td>\n",
              "      <td>2019-06-01 00:06:31</td>\n",
              "      <td>2019-06-01 00:06:52</td>\n",
              "      <td>1.0</td>\n",
              "      <td>0.0</td>\n",
              "      <td>1.0</td>\n",
              "      <td>N</td>\n",
              "      <td>262.0</td>\n",
              "      <td>263.0</td>\n",
              "      <td>2.0</td>\n",
              "      <td>2.5</td>\n",
              "      <td>3.0</td>\n",
              "      <td>0.5</td>\n",
              "      <td>0.00</td>\n",
              "      <td>0.0</td>\n",
              "      <td>0.3</td>\n",
              "      <td>6.30</td>\n",
              "      <td>2.5</td>\n",
              "    </tr>\n",
              "    <tr>\n",
              "      <th>2</th>\n",
              "      <td>1</td>\n",
              "      <td>2019-06-01 00:17:05</td>\n",
              "      <td>2019-06-01 00:36:38</td>\n",
              "      <td>1.0</td>\n",
              "      <td>4.4</td>\n",
              "      <td>1.0</td>\n",
              "      <td>N</td>\n",
              "      <td>74.0</td>\n",
              "      <td>7.0</td>\n",
              "      <td>2.0</td>\n",
              "      <td>17.5</td>\n",
              "      <td>0.5</td>\n",
              "      <td>0.5</td>\n",
              "      <td>0.00</td>\n",
              "      <td>0.0</td>\n",
              "      <td>0.3</td>\n",
              "      <td>18.80</td>\n",
              "      <td>0.0</td>\n",
              "    </tr>\n",
              "    <tr>\n",
              "      <th>3</th>\n",
              "      <td>1</td>\n",
              "      <td>2019-06-01 00:59:02</td>\n",
              "      <td>2019-06-01 00:59:12</td>\n",
              "      <td>0.0</td>\n",
              "      <td>0.8</td>\n",
              "      <td>1.0</td>\n",
              "      <td>N</td>\n",
              "      <td>145.0</td>\n",
              "      <td>145.0</td>\n",
              "      <td>2.0</td>\n",
              "      <td>2.5</td>\n",
              "      <td>1.0</td>\n",
              "      <td>0.5</td>\n",
              "      <td>0.00</td>\n",
              "      <td>0.0</td>\n",
              "      <td>0.3</td>\n",
              "      <td>4.30</td>\n",
              "      <td>0.0</td>\n",
              "    </tr>\n",
              "    <tr>\n",
              "      <th>4</th>\n",
              "      <td>1</td>\n",
              "      <td>2019-06-01 00:03:25</td>\n",
              "      <td>2019-06-01 00:15:42</td>\n",
              "      <td>1.0</td>\n",
              "      <td>1.7</td>\n",
              "      <td>1.0</td>\n",
              "      <td>N</td>\n",
              "      <td>113.0</td>\n",
              "      <td>148.0</td>\n",
              "      <td>1.0</td>\n",
              "      <td>9.5</td>\n",
              "      <td>3.0</td>\n",
              "      <td>0.5</td>\n",
              "      <td>2.65</td>\n",
              "      <td>0.0</td>\n",
              "      <td>0.3</td>\n",
              "      <td>15.95</td>\n",
              "      <td>2.5</td>\n",
              "    </tr>\n",
              "  </tbody>\n",
              "</table>\n",
              "</div>\n",
              "      <button class=\"colab-df-convert\" onclick=\"convertToInteractive('df-9571ae37-6a0c-4c00-b8a4-31b64eb49eee')\"\n",
              "              title=\"Convert this dataframe to an interactive table.\"\n",
              "              style=\"display:none;\">\n",
              "        \n",
              "  <svg xmlns=\"http://www.w3.org/2000/svg\" height=\"24px\"viewBox=\"0 0 24 24\"\n",
              "       width=\"24px\">\n",
              "    <path d=\"M0 0h24v24H0V0z\" fill=\"none\"/>\n",
              "    <path d=\"M18.56 5.44l.94 2.06.94-2.06 2.06-.94-2.06-.94-.94-2.06-.94 2.06-2.06.94zm-11 1L8.5 8.5l.94-2.06 2.06-.94-2.06-.94L8.5 2.5l-.94 2.06-2.06.94zm10 10l.94 2.06.94-2.06 2.06-.94-2.06-.94-.94-2.06-.94 2.06-2.06.94z\"/><path d=\"M17.41 7.96l-1.37-1.37c-.4-.4-.92-.59-1.43-.59-.52 0-1.04.2-1.43.59L10.3 9.45l-7.72 7.72c-.78.78-.78 2.05 0 2.83L4 21.41c.39.39.9.59 1.41.59.51 0 1.02-.2 1.41-.59l7.78-7.78 2.81-2.81c.8-.78.8-2.07 0-2.86zM5.41 20L4 18.59l7.72-7.72 1.47 1.35L5.41 20z\"/>\n",
              "  </svg>\n",
              "      </button>\n",
              "      \n",
              "  <style>\n",
              "    .colab-df-container {\n",
              "      display:flex;\n",
              "      flex-wrap:wrap;\n",
              "      gap: 12px;\n",
              "    }\n",
              "\n",
              "    .colab-df-convert {\n",
              "      background-color: #E8F0FE;\n",
              "      border: none;\n",
              "      border-radius: 50%;\n",
              "      cursor: pointer;\n",
              "      display: none;\n",
              "      fill: #1967D2;\n",
              "      height: 32px;\n",
              "      padding: 0 0 0 0;\n",
              "      width: 32px;\n",
              "    }\n",
              "\n",
              "    .colab-df-convert:hover {\n",
              "      background-color: #E2EBFA;\n",
              "      box-shadow: 0px 1px 2px rgba(60, 64, 67, 0.3), 0px 1px 3px 1px rgba(60, 64, 67, 0.15);\n",
              "      fill: #174EA6;\n",
              "    }\n",
              "\n",
              "    [theme=dark] .colab-df-convert {\n",
              "      background-color: #3B4455;\n",
              "      fill: #D2E3FC;\n",
              "    }\n",
              "\n",
              "    [theme=dark] .colab-df-convert:hover {\n",
              "      background-color: #434B5C;\n",
              "      box-shadow: 0px 1px 3px 1px rgba(0, 0, 0, 0.15);\n",
              "      filter: drop-shadow(0px 1px 2px rgba(0, 0, 0, 0.3));\n",
              "      fill: #FFFFFF;\n",
              "    }\n",
              "  </style>\n",
              "\n",
              "      <script>\n",
              "        const buttonEl =\n",
              "          document.querySelector('#df-9571ae37-6a0c-4c00-b8a4-31b64eb49eee button.colab-df-convert');\n",
              "        buttonEl.style.display =\n",
              "          google.colab.kernel.accessAllowed ? 'block' : 'none';\n",
              "\n",
              "        async function convertToInteractive(key) {\n",
              "          const element = document.querySelector('#df-9571ae37-6a0c-4c00-b8a4-31b64eb49eee');\n",
              "          const dataTable =\n",
              "            await google.colab.kernel.invokeFunction('convertToInteractive',\n",
              "                                                     [key], {});\n",
              "          if (!dataTable) return;\n",
              "\n",
              "          const docLinkHtml = 'Like what you see? Visit the ' +\n",
              "            '<a target=\"_blank\" href=https://colab.research.google.com/notebooks/data_table.ipynb>data table notebook</a>'\n",
              "            + ' to learn more about interactive tables.';\n",
              "          element.innerHTML = '';\n",
              "          dataTable['output_type'] = 'display_data';\n",
              "          await google.colab.output.renderOutput(dataTable, element);\n",
              "          const docLink = document.createElement('div');\n",
              "          docLink.innerHTML = docLinkHtml;\n",
              "          element.appendChild(docLink);\n",
              "        }\n",
              "      </script>\n",
              "    </div>\n",
              "  </div>\n",
              "  "
            ]
          },
          "metadata": {},
          "execution_count": 19
        }
      ]
    },
    {
      "cell_type": "code",
      "source": [
        "# some trips report 0 tip. it is assumed that these tips were paid in cash.\n",
        "# for this study we drop all these rows\n",
        "df = df[df['tip_amount'] > 0]\n",
        "\n",
        "# we also remove some outliers, namely those where the tip was larger than the fare cost\n",
        "df = df[(df['tip_amount'] <= df['fare_amount'])]\n",
        "\n",
        "# we remove trips with very large fare cost\n",
        "df = df[((df['fare_amount'] >=2) & (df['fare_amount'] < 200))]\n",
        "\n",
        "# we drop variables that include the target variable in it, namely the total_amount\n",
        "clean_data = df.drop(['total_amount'], axis=1)\n",
        "\n",
        "# release memory occupied by raw_data as we do not need it anymore\n",
        "# we are dealing with a large dataset, thus we need to make sure we do not run out of memory\n",
        "del df\n",
        "gc.collect()\n",
        "\n",
        "# print the number of trips left in the dataset\n",
        "print(\"There are \" + str(len(clean_data)) + \" observations in the dataset.\")\n",
        "print(\"There are \" + str(len(clean_data.columns)) + \" variables in the dataset.\")\n",
        "\n",
        "plt.hist(clean_data.tip_amount.values, 16, histtype='bar', facecolor='g')\n",
        "plt.show()\n",
        "\n",
        "print(\"Minimum amount value is \", np.min(clean_data.tip_amount.values))\n",
        "print(\"Maximum amount value is \", np.max(clean_data.tip_amount.values))\n",
        "print(\"90% of the trips have a tip amount less or equal than \", np.percentile(clean_data.tip_amount.values, 90))"
      ],
      "metadata": {
        "colab": {
          "base_uri": "https://localhost:8080/",
          "height": 363
        },
        "id": "8Z3klLexQupY",
        "outputId": "16c1c8b6-d31a-4e44-cd69-259a9b22ae7a"
      },
      "execution_count": 20,
      "outputs": [
        {
          "output_type": "stream",
          "name": "stdout",
          "text": [
            "There are 2712719 observations in the dataset.\n",
            "There are 17 variables in the dataset.\n"
          ]
        },
        {
          "output_type": "display_data",
          "data": {
            "text/plain": [
              "<Figure size 432x288 with 1 Axes>"
            ],
            "image/png": "[encoded data removed]"
          },
          "metadata": {
            "needs_background": "light"
          }
        },
        {
          "output_type": "stream",
          "name": "stdout",
          "text": [
            "Minimum amount value is  0.01\n",
            "Maximum amount value is  130.0\n",
            "90% of the trips have a tip amount less or equal than  5.95\n"
          ]
        }
      ]
    },
    {
      "cell_type": "code",
      "source": [
        "clean_data.head()"
      ],
      "metadata": {
        "colab": {
          "base_uri": "https://localhost:8080/",
          "height": 270
        },
        "id": "-9aOaISWSnhf",
        "outputId": "1f4f9c4d-b512-4eba-ca2c-131331f899ca"
      },
      "execution_count": 21,
      "outputs": [
        {
          "output_type": "execute_result",
          "data": {
            "text/plain": [
              "    VendorID tpep_pickup_datetime tpep_dropoff_datetime  passenger_count  \\\n",
              "4          1  2019-06-01 00:03:25   2019-06-01 00:15:42              1.0   \n",
              "5          1  2019-06-01 00:28:31   2019-06-01 00:39:23              2.0   \n",
              "7          1  2019-06-01 00:54:49   2019-06-01 01:02:57              2.0   \n",
              "9          1  2019-06-01 00:29:12   2019-06-01 01:03:13              1.0   \n",
              "10         2  2019-06-01 00:01:48   2019-06-01 00:16:06              1.0   \n",
              "\n",
              "    trip_distance  RatecodeID store_and_fwd_flag  PULocationID  DOLocationID  \\\n",
              "4            1.70         1.0                  N         113.0         148.0   \n",
              "5            1.60         1.0                  N          79.0         125.0   \n",
              "7            1.20         1.0                  N          79.0         249.0   \n",
              "9            8.60         1.0                  N         186.0         243.0   \n",
              "10           1.74         1.0                  N         107.0         148.0   \n",
              "\n",
              "    payment_type  fare_amount  extra  mta_tax  tip_amount  tolls_amount  \\\n",
              "4            1.0          9.5    3.0      0.5        2.65           0.0   \n",
              "5            1.0          9.5    3.0      0.5        1.00           0.0   \n",
              "7            1.0          7.5    3.0      0.5        1.00           0.0   \n",
              "9            1.0         31.5    3.0      0.5        7.05           0.0   \n",
              "10           1.0         11.0    0.5      0.5        2.96           0.0   \n",
              "\n",
              "    improvement_surcharge  congestion_surcharge  \n",
              "4                     0.3                   2.5  \n",
              "5                     0.3                   2.5  \n",
              "7                     0.3                   2.5  \n",
              "9                     0.3                   2.5  \n",
              "10                    0.3                   2.5  "
            ],
            "text/html": [
              "\n",
              "  <div id=\"df-3868ff2d-5722-464c-91e7-bbccde1f1953\">\n",
              "    <div class=\"colab-df-container\">\n",
              "      <div>\n",
              "<style scoped>\n",
              "    .dataframe tbody tr th:only-of-type {\n",
              "        vertical-align: middle;\n",
              "    }\n",
              "\n",
              "    .dataframe tbody tr th {\n",
              "        vertical-align: top;\n",
              "    }\n",
              "\n",
              "    .dataframe thead th {\n",
              "        text-align: right;\n",
              "    }\n",
              "</style>\n",
              "<table border=\"1\" class=\"dataframe\">\n",
              "  <thead>\n",
              "    <tr style=\"text-align: right;\">\n",
              "      <th></th>\n",
              "      <th>VendorID</th>\n",
              "      <th>tpep_pickup_datetime</th>\n",
              "      <th>tpep_dropoff_datetime</th>\n",
              "      <th>passenger_count</th>\n",
              "      <th>trip_distance</th>\n",
              "      <th>RatecodeID</th>\n",
              "      <th>store_and_fwd_flag</th>\n",
              "      <th>PULocationID</th>\n",
              "      <th>DOLocationID</th>\n",
              "      <th>payment_type</th>\n",
              "      <th>fare_amount</th>\n",
              "      <th>extra</th>\n",
              "      <th>mta_tax</th>\n",
              "      <th>tip_amount</th>\n",
              "      <th>tolls_amount</th>\n",
              "      <th>improvement_surcharge</th>\n",
              "      <th>congestion_surcharge</th>\n",
              "    </tr>\n",
              "  </thead>\n",
              "  <tbody>\n",
              "    <tr>\n",
              "      <th>4</th>\n",
              "      <td>1</td>\n",
              "      <td>2019-06-01 00:03:25</td>\n",
              "      <td>2019-06-01 00:15:42</td>\n",
              "      <td>1.0</td>\n",
              "      <td>1.70</td>\n",
              "      <td>1.0</td>\n",
              "      <td>N</td>\n",
              "      <td>113.0</td>\n",
              "      <td>148.0</td>\n",
              "      <td>1.0</td>\n",
              "      <td>9.5</td>\n",
              "      <td>3.0</td>\n",
              "      <td>0.5</td>\n",
              "      <td>2.65</td>\n",
              "      <td>0.0</td>\n",
              "      <td>0.3</td>\n",
              "      <td>2.5</td>\n",
              "    </tr>\n",
              "    <tr>\n",
              "      <th>5</th>\n",
              "      <td>1</td>\n",
              "      <td>2019-06-01 00:28:31</td>\n",
              "      <td>2019-06-01 00:39:23</td>\n",
              "      <td>2.0</td>\n",
              "      <td>1.60</td>\n",
              "      <td>1.0</td>\n",
              "      <td>N</td>\n",
              "      <td>79.0</td>\n",
              "      <td>125.0</td>\n",
              "      <td>1.0</td>\n",
              "      <td>9.5</td>\n",
              "      <td>3.0</td>\n",
              "      <td>0.5</td>\n",
              "      <td>1.00</td>\n",
              "      <td>0.0</td>\n",
              "      <td>0.3</td>\n",
              "      <td>2.5</td>\n",
              "    </tr>\n",
              "    <tr>\n",
              "      <th>7</th>\n",
              "      <td>1</td>\n",
              "      <td>2019-06-01 00:54:49</td>\n",
              "      <td>2019-06-01 01:02:57</td>\n",
              "      <td>2.0</td>\n",
              "      <td>1.20</td>\n",
              "      <td>1.0</td>\n",
              "      <td>N</td>\n",
              "      <td>79.0</td>\n",
              "      <td>249.0</td>\n",
              "      <td>1.0</td>\n",
              "      <td>7.5</td>\n",
              "      <td>3.0</td>\n",
              "      <td>0.5</td>\n",
              "      <td>1.00</td>\n",
              "      <td>0.0</td>\n",
              "      <td>0.3</td>\n",
              "      <td>2.5</td>\n",
              "    </tr>\n",
              "    <tr>\n",
              "      <th>9</th>\n",
              "      <td>1</td>\n",
              "      <td>2019-06-01 00:29:12</td>\n",
              "      <td>2019-06-01 01:03:13</td>\n",
              "      <td>1.0</td>\n",
              "      <td>8.60</td>\n",
              "      <td>1.0</td>\n",
              "      <td>N</td>\n",
              "      <td>186.0</td>\n",
              "      <td>243.0</td>\n",
              "      <td>1.0</td>\n",
              "      <td>31.5</td>\n",
              "      <td>3.0</td>\n",
              "      <td>0.5</td>\n",
              "      <td>7.05</td>\n",
              "      <td>0.0</td>\n",
              "      <td>0.3</td>\n",
              "      <td>2.5</td>\n",
              "    </tr>\n",
              "    <tr>\n",
              "      <th>10</th>\n",
              "      <td>2</td>\n",
              "      <td>2019-06-01 00:01:48</td>\n",
              "      <td>2019-06-01 00:16:06</td>\n",
              "      <td>1.0</td>\n",
              "      <td>1.74</td>\n",
              "      <td>1.0</td>\n",
              "      <td>N</td>\n",
              "      <td>107.0</td>\n",
              "      <td>148.0</td>\n",
              "      <td>1.0</td>\n",
              "      <td>11.0</td>\n",
              "      <td>0.5</td>\n",
              "      <td>0.5</td>\n",
              "      <td>2.96</td>\n",
              "      <td>0.0</td>\n",
              "      <td>0.3</td>\n",
              "      <td>2.5</td>\n",
              "    </tr>\n",
              "  </tbody>\n",
              "</table>\n",
              "</div>\n",
              "      <button class=\"colab-df-convert\" onclick=\"convertToInteractive('df-3868ff2d-5722-464c-91e7-bbccde1f1953')\"\n",
              "              title=\"Convert this dataframe to an interactive table.\"\n",
              "              style=\"display:none;\">\n",
              "        \n",
              "  <svg xmlns=\"http://www.w3.org/2000/svg\" height=\"24px\"viewBox=\"0 0 24 24\"\n",
              "       width=\"24px\">\n",
              "    <path d=\"M0 0h24v24H0V0z\" fill=\"none\"/>\n",
              "    <path d=\"M18.56 5.44l.94 2.06.94-2.06 2.06-.94-2.06-.94-.94-2.06-.94 2.06-2.06.94zm-11 1L8.5 8.5l.94-2.06 2.06-.94-2.06-.94L8.5 2.5l-.94 2.06-2.06.94zm10 10l.94 2.06.94-2.06 2.06-.94-2.06-.94-.94-2.06-.94 2.06-2.06.94z\"/><path d=\"M17.41 7.96l-1.37-1.37c-.4-.4-.92-.59-1.43-.59-.52 0-1.04.2-1.43.59L10.3 9.45l-7.72 7.72c-.78.78-.78 2.05 0 2.83L4 21.41c.39.39.9.59 1.41.59.51 0 1.02-.2 1.41-.59l7.78-7.78 2.81-2.81c.8-.78.8-2.07 0-2.86zM5.41 20L4 18.59l7.72-7.72 1.47 1.35L5.41 20z\"/>\n",
              "  </svg>\n",
              "      </button>\n",
              "      \n",
              "  <style>\n",
              "    .colab-df-container {\n",
              "      display:flex;\n",
              "      flex-wrap:wrap;\n",
              "      gap: 12px;\n",
              "    }\n",
              "\n",
              "    .colab-df-convert {\n",
              "      background-color: #E8F0FE;\n",
              "      border: none;\n",
              "      border-radius: 50%;\n",
              "      cursor: pointer;\n",
              "      display: none;\n",
              "      fill: #1967D2;\n",
              "      height: 32px;\n",
              "      padding: 0 0 0 0;\n",
              "      width: 32px;\n",
              "    }\n",
              "\n",
              "    .colab-df-convert:hover {\n",
              "      background-color: #E2EBFA;\n",
              "      box-shadow: 0px 1px 2px rgba(60, 64, 67, 0.3), 0px 1px 3px 1px rgba(60, 64, 67, 0.15);\n",
              "      fill: #174EA6;\n",
              "    }\n",
              "\n",
              "    [theme=dark] .colab-df-convert {\n",
              "      background-color: #3B4455;\n",
              "      fill: #D2E3FC;\n",
              "    }\n",
              "\n",
              "    [theme=dark] .colab-df-convert:hover {\n",
              "      background-color: #434B5C;\n",
              "      box-shadow: 0px 1px 3px 1px rgba(0, 0, 0, 0.15);\n",
              "      filter: drop-shadow(0px 1px 2px rgba(0, 0, 0, 0.3));\n",
              "      fill: #FFFFFF;\n",
              "    }\n",
              "  </style>\n",
              "\n",
              "      <script>\n",
              "        const buttonEl =\n",
              "          document.querySelector('#df-3868ff2d-5722-464c-91e7-bbccde1f1953 button.colab-df-convert');\n",
              "        buttonEl.style.display =\n",
              "          google.colab.kernel.accessAllowed ? 'block' : 'none';\n",
              "\n",
              "        async function convertToInteractive(key) {\n",
              "          const element = document.querySelector('#df-3868ff2d-5722-464c-91e7-bbccde1f1953');\n",
              "          const dataTable =\n",
              "            await google.colab.kernel.invokeFunction('convertToInteractive',\n",
              "                                                     [key], {});\n",
              "          if (!dataTable) return;\n",
              "\n",
              "          const docLinkHtml = 'Like what you see? Visit the ' +\n",
              "            '<a target=\"_blank\" href=https://colab.research.google.com/notebooks/data_table.ipynb>data table notebook</a>'\n",
              "            + ' to learn more about interactive tables.';\n",
              "          element.innerHTML = '';\n",
              "          dataTable['output_type'] = 'display_data';\n",
              "          await google.colab.output.renderOutput(dataTable, element);\n",
              "          const docLink = document.createElement('div');\n",
              "          docLink.innerHTML = docLinkHtml;\n",
              "          element.appendChild(docLink);\n",
              "        }\n",
              "      </script>\n",
              "    </div>\n",
              "  </div>\n",
              "  "
            ]
          },
          "metadata": {},
          "execution_count": 21
        }
      ]
    },
    {
      "cell_type": "markdown",
      "source": [
        "By looking at the dataset in more detail, we see that it contains information such as pick-up and drop-off dates/times, pick-up and drop-off locations, payment types, driver-reported passenger counts etc. Before actually training a ML model, we will need to preprocess the data. We need to transform the data in a format that will be correctly handled by the models. For instance, we need to encode the categorical features.\n",
        "\n"
      ],
      "metadata": {
        "id": "8bGOuUb_Sk5O"
      }
    },
    {
      "cell_type": "markdown",
      "source": [
        "- **Dataset Preprocessing**\n",
        "\n",
        "In this subsection you will prepare the data for training"
      ],
      "metadata": {
        "id": "SksK8hyhS0Du"
      }
    },
    {
      "cell_type": "code",
      "source": [
        "clean_data['tpep_dropoff_datetime'] = pd.to_datetime(clean_data['tpep_dropoff_datetime'])\n",
        "clean_data['tpep_pickup_datetime'] = pd.to_datetime(clean_data['tpep_pickup_datetime'])\n",
        "\n",
        "# extract pickup and dropoff hour\n",
        "clean_data['pickup_hour'] = clean_data['tpep_pickup_datetime'].dt.hour\n",
        "clean_data['dropoff_hour'] = clean_data['tpep_dropoff_datetime'].dt.hour\n",
        "\n",
        "# extract pickup and dropoff day of week\n",
        "clean_data['pickup_day'] = clean_data['tpep_pickup_datetime'].dt.weekday\n",
        "clean_data['dropoff_day'] = clean_data['tpep_dropoff_datetime'].dt.weekday\n",
        "\n",
        "# compute trip time in minutes\n",
        "clean_data['trip_time'] = (clean_data['tpep_dropoff_datetime'] - clean_data['tpep_pickup_datetime']).astype('timedelta64[m]')\n",
        "\n",
        "# ideally use the full dataset for this exercise\n",
        "# however if you run into out of memory issues due to the data size, reduce it\n",
        "# for instance, in this example we use only the first 1M samples\n",
        "first_n_rows = 200000\n",
        "clean_data = clean_data.head(first_n_rows)"
      ],
      "metadata": {
        "id": "rW2wArmOSbhA"
      },
      "execution_count": 22,
      "outputs": []
    },
    {
      "cell_type": "code",
      "source": [
        "# drop the pickup and dropoff datetimes\n",
        "clean_data = clean_data.drop(['tpep_pickup_datetime', 'tpep_dropoff_datetime'], axis=1)\n",
        "\n",
        "# some features are categorical, we need to encode them\n",
        "# to encode them we use one-hot encoding from the Pandas package\n",
        "get_dummy_col = [\"VendorID\",\"RatecodeID\",\"store_and_fwd_flag\",\"PULocationID\", \"DOLocationID\",\"payment_type\", \"pickup_hour\", \"dropoff_hour\", \"pickup_day\", \"dropoff_day\"]\n",
        "proc_data = pd.get_dummies(clean_data, columns = get_dummy_col)\n",
        "\n",
        "# release memory occupied by clean_data as we do not need it anymore\n",
        "# we are dealing with a large dataset, thus we need to make sure we do not run out of memory\n",
        "del clean_data\n",
        "gc.collect()"
      ],
      "metadata": {
        "colab": {
          "base_uri": "https://localhost:8080/"
        },
        "id": "WD47HgakS_DQ",
        "outputId": "f1309721-05d6-483f-b880-b296a3ffbbe8"
      },
      "execution_count": 23,
      "outputs": [
        {
          "output_type": "execute_result",
          "data": {
            "text/plain": [
              "3410"
            ]
          },
          "metadata": {},
          "execution_count": 23
        }
      ]
    },
    {
      "cell_type": "code",
      "source": [
        "# extract the labels from the dataframe\n",
        "y = proc_data[['tip_amount']].values.astype('float32')\n",
        "\n",
        "# drop the target variable from the feature matrix\n",
        "proc_data = proc_data.drop(['tip_amount'], axis=1)\n",
        "\n",
        "# get the feature matrix used for training\n",
        "X = proc_data.values\n",
        "\n",
        "# normalize the feature matrix\n",
        "X = normalize(X, axis=1, norm='l1', copy=False)\n",
        "\n",
        "# print the shape of the features matrix and the labels vector\n",
        "print('X.shape=', X.shape, 'y.shape=', y.shape)"
      ],
      "metadata": {
        "colab": {
          "base_uri": "https://localhost:8080/"
        },
        "id": "ZMbqd_raTHuo",
        "outputId": "0a6af2c0-7acc-417d-a786-c331df97804d"
      },
      "execution_count": 24,
      "outputs": [
        {
          "output_type": "stream",
          "name": "stdout",
          "text": [
            "X.shape= (200000, 517) y.shape= (200000, 1)\n"
          ]
        }
      ]
    },
    {
      "cell_type": "markdown",
      "source": [
        "- **Dataset Train/Test Split**\n",
        "\n",
        "Now that the dataset is ready for building the classification models, you need to first divide the pre-processed dataset into a subset to be used for training the model (the train set) and a subset to be used for evaluating the quality of the model (the test set)."
      ],
      "metadata": {
        "id": "qLqLPpADTZir"
      }
    },
    {
      "cell_type": "code",
      "source": [
        "X_train, X_test, y_train, y_test = train_test_split(X, y, test_size=0.3, random_state=42)\n",
        "print('X_train.shape=', X_train.shape, 'Y_train.shape=', y_train.shape)\n",
        "print('X_test.shape=', X_test.shape, 'Y_test.shape=', y_test.shape)"
      ],
      "metadata": {
        "colab": {
          "base_uri": "https://localhost:8080/"
        },
        "id": "meQjxy-GTRmL",
        "outputId": "72e0fd35-4350-4bc9-e41c-b5292455e8c9"
      },
      "execution_count": 25,
      "outputs": [
        {
          "output_type": "stream",
          "name": "stdout",
          "text": [
            "X_train.shape= (140000, 517) Y_train.shape= (140000, 1)\n",
            "X_test.shape= (60000, 517) Y_test.shape= (60000, 1)\n"
          ]
        }
      ]
    },
    {
      "cell_type": "markdown",
      "source": [
        "- **Build a Decision Tree Regressor model with Scikit-Learn**"
      ],
      "metadata": {
        "id": "f2XeH40uToSZ"
      }
    },
    {
      "cell_type": "code",
      "source": [
        "# import the Decision Tree Regression Model from scikit-learn\n",
        "from sklearn.tree import DecisionTreeRegressor\n",
        "\n",
        "# for reproducible output across multiple function calls, set random_state to a given integer value\n",
        "sklearn_dt = DecisionTreeRegressor(max_depth=8, random_state=35)\n",
        "\n",
        "# train a Decision Tree Regressor using scikit-learn\n",
        "t0 = time.time()\n",
        "sklearn_dt.fit(X_train, y_train)\n",
        "sklearn_time = time.time()-t0\n",
        "print(\"[Scikit-Learn] Training time (s):  {0:.5f}\".format(sklearn_time))"
      ],
      "metadata": {
        "colab": {
          "base_uri": "https://localhost:8080/"
        },
        "id": "Fk3Dkc2yTgay",
        "outputId": "e83f995f-8d28-4b65-d703-c3f5a1912fa0"
      },
      "execution_count": 26,
      "outputs": [
        {
          "output_type": "stream",
          "name": "stdout",
          "text": [
            "[Scikit-Learn] Training time (s):  9.16730\n"
          ]
        }
      ]
    },
    {
      "cell_type": "markdown",
      "source": [
        "- **Build a Decision Tree Regressor model with Snap ML**"
      ],
      "metadata": {
        "id": "4qcLcZ1kUwLx"
      }
    },
    {
      "cell_type": "code",
      "source": [
        "# import the Decision Tree Regressor Model from Snap ML\n",
        "from snapml import DecisionTreeRegressor\n",
        "\n",
        "# in contrast to sklearn's Decision Tree, Snap ML offers multi-threaded CPU/GPU training \n",
        "# to use the GPU, one needs to set the use_gpu parameter to True\n",
        "# snapml_dt = DecisionTreeRegressor(max_depth=4, random_state=45, use_gpu=True)\n",
        "\n",
        "# to set the number of CPU threads used at training time, one needs to set the n_jobs parameter\n",
        "# for reproducible output across multiple function calls, set random_state to a given integer value\n",
        "snapml_dt = DecisionTreeRegressor(max_depth=8, random_state=45, n_jobs=4)\n",
        "\n",
        "# train a Decision Tree Regressor model using Snap ML\n",
        "t0 = time.time()\n",
        "snapml_dt.fit(X_train, y_train)\n",
        "snapml_time = time.time()-t0\n",
        "print(\"[Snap ML] Training time (s):  {0:.5f}\".format(snapml_time))"
      ],
      "metadata": {
        "colab": {
          "base_uri": "https://localhost:8080/"
        },
        "id": "bi_pWRBOTulX",
        "outputId": "24196a36-2b87-478a-a37d-e2125835e10c"
      },
      "execution_count": 27,
      "outputs": [
        {
          "output_type": "stream",
          "name": "stdout",
          "text": [
            "[Snap ML] Training time (s):  3.97576\n"
          ]
        }
      ]
    },
    {
      "cell_type": "markdown",
      "source": [
        "- **Evaluate the Scikit-Learn and Snap ML Decision Tree Regressor Models**"
      ],
      "metadata": {
        "id": "asfWCm06U_PW"
      }
    },
    {
      "cell_type": "code",
      "source": [
        "# Snap ML vs Scikit-Learn training speedup\n",
        "training_speedup = sklearn_time/snapml_time\n",
        "print('[Decision Tree Regressor] Snap ML vs. Scikit-Learn speedup : {0:.2f}x '.format(training_speedup))\n",
        "\n",
        "# run inference using the sklearn model\n",
        "sklearn_pred = sklearn_dt.predict(X_test)\n",
        "\n",
        "# evaluate mean squared error on the test dataset\n",
        "sklearn_mse = mean_squared_error(y_test, sklearn_pred)\n",
        "print('[Scikit-Learn] MSE score : {0:.3f}'.format(sklearn_mse))\n",
        "\n",
        "# run inference using the Snap ML model\n",
        "snapml_pred = snapml_dt.predict(X_test)\n",
        "\n",
        "# evaluate mean squared error on the test dataset\n",
        "snapml_mse = mean_squared_error(y_test, snapml_pred)\n",
        "print('[Snap ML] MSE score : {0:.3f}'.format(snapml_mse))"
      ],
      "metadata": {
        "colab": {
          "base_uri": "https://localhost:8080/"
        },
        "id": "8DokaUZgU4Fd",
        "outputId": "8cf27580-7945-4100-8bfe-77cd21326235"
      },
      "execution_count": 28,
      "outputs": [
        {
          "output_type": "stream",
          "name": "stdout",
          "text": [
            "[Decision Tree Regressor] Snap ML vs. Scikit-Learn speedup : 2.31x \n",
            "[Scikit-Learn] MSE score : 1.636\n",
            "[Snap ML] MSE score : 1.633\n"
          ]
        }
      ]
    },
    {
      "cell_type": "markdown",
      "source": [
        "As shown above both decision tree models provide the same score on the test dataset. However Snap ML runs the training routine faster than Scikit-Learn. This is one of the advantages of using Snap ML: acceleration of training of classical machine learning models, such as linear and tree-based models. For more Snap ML examples, please visit snapml-examples. Moreover, as shown above, not only is Snap ML seemlessly accelerating scikit-learn applications, but the library's Python API is also compatible with scikit-learn metrics and data preprocessors."
      ],
      "metadata": {
        "id": "FvsQlXw9VNMD"
      }
    },
    {
      "cell_type": "code",
      "source": [],
      "metadata": {
        "id": "jmX-VaGyVESr"
      },
      "execution_count": null,
      "outputs": []
    }
  ]
}